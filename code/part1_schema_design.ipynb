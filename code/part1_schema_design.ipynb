{
 "cells": [
  {
   "cell_type": "markdown",
   "metadata": {},
   "source": [
    "## Denormalized Data"
   ]
  },
  {
   "cell_type": "markdown",
   "metadata": {},
   "source": [
    "### Create the data schema"
   ]
  },
  {
   "cell_type": "code",
   "execution_count": 2,
   "metadata": {},
   "outputs": [
    {
     "name": "stdout",
     "output_type": "stream",
     "text": [
      "Tables created successfully.\n"
     ]
    }
   ],
   "source": [
    "import psycopg\n",
    "\n",
    "# Connect to the PostgreSQL database\n",
    "conn = psycopg.connect(\"postgresql://michellelin@localhost/yelp\")\n",
    "cursor = conn.cursor()\n",
    "\n",
    "# Full SQL schema definition\n",
    "schema_sql = \"\"\"\n",
    "CREATE TABLE IF NOT EXISTS business (\n",
    "    business_id VARCHAR(22) PRIMARY KEY,\n",
    "    name VARCHAR NOT NULL,\n",
    "    address VARCHAR,\n",
    "    city VARCHAR,\n",
    "    state VARCHAR(2),\n",
    "    postal_code VARCHAR(10),\n",
    "    latitude NUMERIC,\n",
    "    longitude NUMERIC,\n",
    "    stars NUMERIC CHECK (stars BETWEEN 0 AND 5),\n",
    "    review_count INTEGER,\n",
    "    is_open INTEGER CHECK (is_open IN (0, 1)),\n",
    "    attributes JSONB,\n",
    "    categories JSONB, \n",
    "    hours JSONB\n",
    ");\n",
    "\n",
    "CREATE TABLE IF NOT EXISTS yelp_user (\n",
    "    user_id VARCHAR(22) PRIMARY KEY,\n",
    "    name TEXT,\n",
    "    review_count INTEGER,\n",
    "    yelping_since DATE,\n",
    "    -- friends will be stored as a JSON array\n",
    "    friends JSONB, \n",
    "    useful INTEGER,\n",
    "    funny INTEGER,\n",
    "    cool INTEGER,\n",
    "    fans INTEGER,\n",
    "    elite JSONB, \n",
    "    average_stars NUMERIC CHECK (average_stars BETWEEN 0 AND 5),\n",
    "    compliment_hot INTEGER,\n",
    "    compliment_more INTEGER,\n",
    "    compliment_profile INTEGER,\n",
    "    compliment_cute INTEGER,\n",
    "    compliment_list INTEGER,\n",
    "    compliment_note INTEGER,\n",
    "    compliment_plain INTEGER,\n",
    "    compliment_cool INTEGER,\n",
    "    compliment_funny INTEGER,\n",
    "    compliment_writer INTEGER,\n",
    "    compliment_photos INTEGER\n",
    ");\n",
    "\n",
    "CREATE TABLE IF NOT EXISTS review (\n",
    "    review_id VARCHAR(22) PRIMARY KEY,\n",
    "    user_id VARCHAR(22) REFERENCES yelp_user (user_id) ON DELETE CASCADE,\n",
    "    business_id VARCHAR(22) REFERENCES business (business_id) ON DELETE CASCADE,\n",
    "    stars NUMERIC CHECK (stars BETWEEN 0 AND 5),\n",
    "    date DATE NOT NULL,\n",
    "    text TEXT,\n",
    "    useful INTEGER,\n",
    "    funny INTEGER,\n",
    "    cool INTEGER\n",
    ");\n",
    "\n",
    "CREATE TABLE checkin (\n",
    "    business_id VARCHAR(22) REFERENCES business (business_id) ON DELETE CASCADE,\n",
    "    date_time TIMESTAMP NOT NULL,\n",
    "    PRIMARY KEY (business_id, date_time)\n",
    ");\n",
    "\n",
    "CREATE TABLE IF NOT EXISTS tip (\n",
    "    user_id VARCHAR(22) REFERENCES yelp_user (user_id) ON DELETE CASCADE,\n",
    "    business_id VARCHAR(22) REFERENCES business (business_id) ON DELETE CASCADE,\n",
    "    text TEXT NOT NULL,\n",
    "    date DATE NOT NULL,\n",
    "    compliment_count INTEGER DEFAULT 0,\n",
    "    PRIMARY KEY (user_id, business_id, date)\n",
    ");\n",
    "\n",
    "CREATE TABLE photo (\n",
    "    photo_id VARCHAR(22) PRIMARY KEY,\n",
    "    business_id VARCHAR(22) REFERENCES business (business_id) ON DELETE CASCADE,\n",
    "    caption TEXT,\n",
    "    label TEXT\n",
    ");\n",
    "\n",
    "\"\"\"\n",
    "\n",
    "# Execute the schema to create the tables\n",
    "cursor.execute(schema_sql)\n",
    "\n",
    "# Commit and close\n",
    "conn.commit()\n",
    "cursor.close()\n",
    "conn.close()\n",
    "print(\"Tables created successfully.\")\n"
   ]
  },
  {
   "cell_type": "markdown",
   "metadata": {},
   "source": [
    "### Insert data"
   ]
  },
  {
   "cell_type": "code",
   "execution_count": null,
   "metadata": {},
   "outputs": [],
   "source": []
  },
  {
   "cell_type": "markdown",
   "metadata": {},
   "source": []
  },
  {
   "cell_type": "markdown",
   "metadata": {},
   "source": [
    "## Normalized Data"
   ]
  },
  {
   "cell_type": "markdown",
   "metadata": {},
   "source": []
  },
  {
   "cell_type": "markdown",
   "metadata": {},
   "source": []
  }
 ],
 "metadata": {
  "kernelspec": {
   "display_name": "base",
   "language": "python",
   "name": "python3"
  },
  "language_info": {
   "codemirror_mode": {
    "name": "ipython",
    "version": 3
   },
   "file_extension": ".py",
   "mimetype": "text/x-python",
   "name": "python",
   "nbconvert_exporter": "python",
   "pygments_lexer": "ipython3",
   "version": "3.9.12"
  }
 },
 "nbformat": 4,
 "nbformat_minor": 2
}
