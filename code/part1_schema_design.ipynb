{
 "cells": [
  {
   "cell_type": "code",
   "execution_count": 9,
   "metadata": {},
   "outputs": [],
   "source": [
    "import pandas as pd\n",
    "import psycopg\n",
    "import json"
   ]
  },
  {
   "cell_type": "code",
   "execution_count": 3,
   "metadata": {},
   "outputs": [],
   "source": [
    "def get_db_connection():\n",
    "    \"\"\"Establishes and returns a connection to the PostgreSQL database.\"\"\"\n",
    "    try:\n",
    "        conn = psycopg.connect(\"postgresql://michellelin@localhost/yelp\")\n",
    "        return conn\n",
    "    except Exception as e:\n",
    "        print(f\"Error connecting to the database: {e}\")\n",
    "        return None"
   ]
  },
  {
   "cell_type": "markdown",
   "metadata": {},
   "source": [
    "# Denormalized Data"
   ]
  },
  {
   "cell_type": "markdown",
   "metadata": {},
   "source": [
    "## Create the data schema"
   ]
  },
  {
   "cell_type": "code",
   "execution_count": 17,
   "metadata": {},
   "outputs": [
    {
     "name": "stdout",
     "output_type": "stream",
     "text": [
      "Tables created successfully.\n"
     ]
    }
   ],
   "source": [
    "# Connect to the PostgreSQL database\n",
    "conn = get_db_connection()\n",
    "cursor = conn.cursor()\n",
    "\n",
    "# Full SQL schema definition\n",
    "schema_sql = \"\"\"\n",
    "DROP TABLE IF EXISTS review CASCADE;\n",
    "DROP TABLE IF EXISTS checkin CASCADE;\n",
    "DROP TABLE IF EXISTS tip CASCADE;\n",
    "DROP TABLE IF EXISTS photo CASCADE;\n",
    "DROP TABLE IF EXISTS business CASCADE;\n",
    "DROP TABLE IF EXISTS yelp_user CASCADE;\n",
    "\n",
    "CREATE TABLE IF NOT EXISTS business (\n",
    "    business_id VARCHAR(22) PRIMARY KEY,\n",
    "    name VARCHAR NOT NULL,\n",
    "    address VARCHAR,\n",
    "    city VARCHAR,\n",
    "    state VARCHAR(2),\n",
    "    postal_code VARCHAR(10),\n",
    "    latitude NUMERIC,\n",
    "    longitude NUMERIC,\n",
    "    stars NUMERIC CHECK (stars BETWEEN 0 AND 5),\n",
    "    review_count INTEGER,\n",
    "    is_open INTEGER CHECK (is_open IN (0, 1)),\n",
    "    attributes TEXT,\n",
    "    categories TEXT, \n",
    "    hours TEXT\n",
    ");\n",
    "\n",
    "CREATE TABLE IF NOT EXISTS yelp_user (\n",
    "    user_id VARCHAR(22) PRIMARY KEY,\n",
    "    name TEXT,\n",
    "    review_count INTEGER,\n",
    "    yelping_since DATE,\n",
    "    friends TEXT, \n",
    "    useful INTEGER,\n",
    "    funny INTEGER,\n",
    "    cool INTEGER,\n",
    "    fans INTEGER,\n",
    "    elite TEXT, \n",
    "    average_stars NUMERIC CHECK (average_stars BETWEEN 0 AND 5),\n",
    "    compliment_hot INTEGER,\n",
    "    compliment_more INTEGER,\n",
    "    compliment_profile INTEGER,\n",
    "    compliment_cute INTEGER,\n",
    "    compliment_list INTEGER,\n",
    "    compliment_note INTEGER,\n",
    "    compliment_plain INTEGER,\n",
    "    compliment_cool INTEGER,\n",
    "    compliment_funny INTEGER,\n",
    "    compliment_writer INTEGER,\n",
    "    compliment_photos INTEGER\n",
    ");\n",
    "\n",
    "CREATE TABLE IF NOT EXISTS review (\n",
    "    review_id VARCHAR(22) PRIMARY KEY,\n",
    "    user_id VARCHAR(22) REFERENCES yelp_user (user_id) ON DELETE CASCADE,\n",
    "    business_id VARCHAR(22) REFERENCES business (business_id) ON DELETE CASCADE,\n",
    "    stars NUMERIC CHECK (stars BETWEEN 0 AND 5),\n",
    "    date DATE NOT NULL,\n",
    "    text TEXT,\n",
    "    useful INTEGER,\n",
    "    funny INTEGER,\n",
    "    cool INTEGER\n",
    ");\n",
    "\n",
    "CREATE TABLE IF NOT EXISTS checkin (\n",
    "    business_id VARCHAR(22) REFERENCES business (business_id) ON DELETE CASCADE,\n",
    "    date_time TIMESTAMP NOT NULL,\n",
    "    PRIMARY KEY (business_id, date_time)\n",
    ");\n",
    "\n",
    "CREATE TABLE IF NOT EXISTS tip (\n",
    "    user_id VARCHAR(22) REFERENCES yelp_user (user_id) ON DELETE CASCADE,\n",
    "    business_id VARCHAR(22) REFERENCES business (business_id) ON DELETE CASCADE,\n",
    "    text TEXT NOT NULL,\n",
    "    date DATE NOT NULL,\n",
    "    compliment_count INTEGER DEFAULT 0,\n",
    "    PRIMARY KEY (user_id, business_id, date)\n",
    ");\n",
    "\n",
    "CREATE TABLE IF NOT EXISTS photo (\n",
    "    photo_id VARCHAR(22) PRIMARY KEY,\n",
    "    business_id VARCHAR(22) REFERENCES business (business_id) ON DELETE CASCADE,\n",
    "    caption TEXT,\n",
    "    label TEXT\n",
    ");\n",
    "\"\"\"\n",
    "\n",
    "# Execute the schema to create the tables\n",
    "cursor.execute(schema_sql)\n",
    "\n",
    "# Commit and close\n",
    "conn.commit()\n",
    "cursor.close()\n",
    "conn.close()\n",
    "print(\"Tables created successfully.\")\n"
   ]
  },
  {
   "cell_type": "markdown",
   "metadata": {},
   "source": [
    "## Insert data"
   ]
  },
  {
   "cell_type": "markdown",
   "metadata": {},
   "source": [
    "### business"
   ]
  },
  {
   "cell_type": "code",
   "execution_count": 19,
   "metadata": {},
   "outputs": [
    {
     "name": "stdout",
     "output_type": "stream",
     "text": [
      "              business_id                  name                 address  \\\n",
      "0  UVfYRQIr6u_WrFSY5Cv7xw               InCycle          736 Hanover Pl   \n",
      "1  wH6QxQv31IJ-qQ-FKIc5TA        Roman Plumbing         6125 Grand Blvd   \n",
      "2  K1NdCTaJWK1ezkZpPyB7-A    Desert Rain Coffee     1551 E Tangerine Rd   \n",
      "3  juL8ovMlnjkXNACxZ8HLAQ  Sam Levitz Furniture  3750 W Orange Grove Rd   \n",
      "4  2eN2pfPCear_ofmgQ0peCw     David Caplan, CPA     301 Andorra Glen Ct   \n",
      "\n",
      "              city state postal_code   latitude   longitude  stars  \\\n",
      "0           Carmel    IN       46032  39.969726  -86.127815    5.0   \n",
      "1  New Port Richey    FL       34652  28.247926  -82.719939    4.5   \n",
      "2       Oro Valley    AZ       85755  32.429167 -110.948631    5.0   \n",
      "3           Tucson    AZ       85741  32.324899 -111.044485    2.0   \n",
      "4   Lafayette Hill    PA       19444  40.088457  -75.267412    4.5   \n",
      "\n",
      "   review_count  is_open                                         attributes  \\\n",
      "0            32        1  {'GoodForKids': 'False', 'BusinessAcceptsCredi...   \n",
      "1            29        1  {'BusinessAcceptsBitcoin': 'False', 'ByAppoint...   \n",
      "2            46        0  {'BusinessAcceptsCreditCards': 'True', 'Restau...   \n",
      "3           186        1  {'BusinessParking': \"{'garage': False, 'street...   \n",
      "4            13        1                                               None   \n",
      "\n",
      "                                          categories  \\\n",
      "0  Active Life, Cycling Classes, Gyms, Fitness & ...   \n",
      "1  Plumbing, Water Heater Installation/Repair, Co...   \n",
      "2                                 Coffee & Tea, Food   \n",
      "3  Shopping, Mattresses, Home & Garden, Furniture...   \n",
      "4                 Professional Services, Accountants   \n",
      "\n",
      "                                               hours  \n",
      "0  {'Monday': '16:0-20:0', 'Tuesday': '16:0-20:0'...  \n",
      "1  {'Monday': '8:0-17:0', 'Tuesday': '8:0-17:0', ...  \n",
      "2  {'Monday': '7:0-15:0', 'Tuesday': '7:0-15:0', ...  \n",
      "3  {'Monday': '11:0-20:0', 'Tuesday': '11:0-20:0'...  \n",
      "4                                               None  \n"
     ]
    }
   ],
   "source": [
    "# Step 1: Read the CSV file for 'business'\n",
    "df_business = pd.read_csv('../sampled_data/business_sample.csv')\n",
    "\n",
    "# Convert columns to plain text\n",
    "df_business['attributes'] = df_business['attributes'].astype(str)\n",
    "df_business['categories'] = df_business['categories'].astype(str)\n",
    "df_business['hours'] = df_business['hours'].astype(str)\n",
    "\n",
    "# Replace NaN or None with NULL in the DataFrame for columns that allow NULL\n",
    "df_business['attributes'] = df_business['attributes'].replace({pd.NA: None, 'nan': None})\n",
    "df_business['categories'] = df_business['categories'].replace({pd.NA: None, 'nan': None})\n",
    "df_business['hours'] = df_business['hours'].replace({pd.NA: None, 'nan': None})\n",
    "\n",
    "# View the first few rows to ensure everything looks correct\n",
    "print(df_business.head())\n"
   ]
  },
  {
   "cell_type": "code",
   "execution_count": 32,
   "metadata": {},
   "outputs": [
    {
     "name": "stdout",
     "output_type": "stream",
     "text": [
      "Error inserting data into business: duplicate key value violates unique constraint \"business_pkey\"\n",
      "DETAIL:  Key (business_id)=(UVfYRQIr6u_WrFSY5Cv7xw) already exists.\n"
     ]
    }
   ],
   "source": [
    "\n",
    "def bulk_insert(conn, table_name, dataframe, conflict_column=None):\n",
    "    \"\"\"\n",
    "    Inserts data from a Pandas DataFrame into a PostgreSQL table.\n",
    "\n",
    "    Args:\n",
    "        conn: PostgreSQL connection object.\n",
    "        table_name: The name of the PostgreSQL table to insert into.\n",
    "        dataframe: The Pandas DataFrame containing the data to be inserted.\n",
    "        conflict_column: The column name to use in the ON CONFLICT clause.\n",
    "    \"\"\"\n",
    "    try:\n",
    "        # Get column names from the DataFrame\n",
    "        columns = ', '.join(dataframe.columns)\n",
    "        \n",
    "        # Create a placeholder string for the VALUES portion of the SQL\n",
    "        placeholders = ', '.join(['%s'] * len(dataframe.columns))\n",
    "        \n",
    "        # Full SQL insert query with dynamic conflict column\n",
    "        if conflict_column:\n",
    "            query = f\"\"\"\n",
    "            INSERT INTO {table_name} ({columns}) \n",
    "            VALUES ({placeholders}) \n",
    "            ON CONFLICT ({conflict_column}) DO NOTHING;\n",
    "            \"\"\"\n",
    "        else:\n",
    "            query = f\"\"\"\n",
    "            INSERT INTO {table_name} ({columns}) \n",
    "            VALUES ({placeholders});\n",
    "            \"\"\"\n",
    "        \n",
    "        # Convert DataFrame to a list of tuples\n",
    "        data = [tuple(x) for x in dataframe.to_numpy()]\n",
    "        \n",
    "        with conn.cursor() as cursor:\n",
    "            cursor.executemany(query, data)\n",
    "        \n",
    "        # Commit the changes\n",
    "        conn.commit()\n",
    "        print(f\"Successfully inserted {len(data)} rows into {table_name}.\")\n",
    "        \n",
    "    except Exception as e:\n",
    "        print(f\"Error inserting data into {table_name}: {e}\")\n",
    "\n",
    "# Connect to the PostgreSQL database\n",
    "conn = get_db_connection()\n",
    "\n",
    "# Call the bulk_insert function to load the data\n",
    "bulk_insert(conn, 'business', df_business)\n",
    "\n",
    "# Close the connection\n",
    "conn.close()\n"
   ]
  },
  {
   "cell_type": "code",
   "execution_count": 33,
   "metadata": {},
   "outputs": [
    {
     "name": "stdout",
     "output_type": "stream",
     "text": [
      "The sql extension is already loaded. To reload it, use:\n",
      "  %reload_ext sql\n"
     ]
    }
   ],
   "source": [
    "%load_ext sql"
   ]
  },
  {
   "cell_type": "code",
   "execution_count": 34,
   "metadata": {},
   "outputs": [],
   "source": [
    "%sql postgresql://michellelin@localhost:5432/yelp"
   ]
  },
  {
   "cell_type": "code",
   "execution_count": 37,
   "metadata": {},
   "outputs": [
    {
     "data": {
      "text/html": [
       "<span style=\"None\">Running query in &#x27;postgresql://michellelin@localhost:5432/yelp&#x27;</span>"
      ],
      "text/plain": [
       "Running query in 'postgresql://michellelin@localhost:5432/yelp'"
      ]
     },
     "metadata": {},
     "output_type": "display_data"
    },
    {
     "data": {
      "text/html": [
       "<span style=\"color: green\">1 rows affected.</span>"
      ],
      "text/plain": [
       "1 rows affected."
      ]
     },
     "metadata": {},
     "output_type": "display_data"
    },
    {
     "data": {
      "text/html": [
       "<table>\n",
       "    <thead>\n",
       "        <tr>\n",
       "            <th>business_id</th>\n",
       "            <th>name</th>\n",
       "            <th>address</th>\n",
       "            <th>city</th>\n",
       "            <th>state</th>\n",
       "            <th>postal_code</th>\n",
       "            <th>latitude</th>\n",
       "            <th>longitude</th>\n",
       "            <th>stars</th>\n",
       "            <th>review_count</th>\n",
       "            <th>is_open</th>\n",
       "            <th>attributes</th>\n",
       "            <th>categories</th>\n",
       "            <th>hours</th>\n",
       "        </tr>\n",
       "    </thead>\n",
       "    <tbody>\n",
       "        <tr>\n",
       "            <td>UVfYRQIr6u_WrFSY5Cv7xw</td>\n",
       "            <td>InCycle</td>\n",
       "            <td>736 Hanover Pl</td>\n",
       "            <td>Carmel</td>\n",
       "            <td>IN</td>\n",
       "            <td>46032</td>\n",
       "            <td>39.9697264</td>\n",
       "            <td>-86.1278146</td>\n",
       "            <td>5</td>\n",
       "            <td>32</td>\n",
       "            <td>1</td>\n",
       "            <td>{'GoodForKids': 'False', 'BusinessAcceptsCreditCards': 'True', 'ByAppointmentOnly': 'False', 'BusinessParking': \"{'garage': True, 'street': True, 'validated': False, 'lot': True, 'valet': False}\", 'BikeParking': 'True', 'WheelchairAccessible': 'True'}</td>\n",
       "            <td>Active Life, Cycling Classes, Gyms, Fitness & Instruction, Barre Classes</td>\n",
       "            <td>{'Monday': '16:0-20:0', 'Tuesday': '16:0-20:0', 'Wednesday': '16:0-20:0', 'Thursday': '16:0-20:0', 'Friday': '16:0-20:0', 'Saturday': '7:30-12:0', 'Sunday': '8:0-14:0'}</td>\n",
       "        </tr>\n",
       "    </tbody>\n",
       "</table>"
      ],
      "text/plain": [
       "+------------------------+---------+----------------+--------+-------+-------------+------------+-------------+-------+--------------+---------+-------------------------------------------------------------------------------------------------------------------------------------------------------------------------------------------------------------------------------------------------------------+--------------------------------------------------------------------------+--------------------------------------------------------------------------------------------------------------------------------------------------------------------------+\n",
       "|      business_id       |   name  |    address     |  city  | state | postal_code |  latitude  |  longitude  | stars | review_count | is_open |                                                                                                                          attributes                                                                                                                         |                                categories                                |                                                                                  hours                                                                                   |\n",
       "+------------------------+---------+----------------+--------+-------+-------------+------------+-------------+-------+--------------+---------+-------------------------------------------------------------------------------------------------------------------------------------------------------------------------------------------------------------------------------------------------------------+--------------------------------------------------------------------------+--------------------------------------------------------------------------------------------------------------------------------------------------------------------------+\n",
       "| UVfYRQIr6u_WrFSY5Cv7xw | InCycle | 736 Hanover Pl | Carmel |   IN  |    46032    | 39.9697264 | -86.1278146 |   5   |      32      |    1    | {'GoodForKids': 'False', 'BusinessAcceptsCreditCards': 'True', 'ByAppointmentOnly': 'False', 'BusinessParking': \"{'garage': True, 'street': True, 'validated': False, 'lot': True, 'valet': False}\", 'BikeParking': 'True', 'WheelchairAccessible': 'True'} | Active Life, Cycling Classes, Gyms, Fitness & Instruction, Barre Classes | {'Monday': '16:0-20:0', 'Tuesday': '16:0-20:0', 'Wednesday': '16:0-20:0', 'Thursday': '16:0-20:0', 'Friday': '16:0-20:0', 'Saturday': '7:30-12:0', 'Sunday': '8:0-14:0'} |\n",
       "+------------------------+---------+----------------+--------+-------+-------------+------------+-------------+-------+--------------+---------+-------------------------------------------------------------------------------------------------------------------------------------------------------------------------------------------------------------------------------------------------------------+--------------------------------------------------------------------------+--------------------------------------------------------------------------------------------------------------------------------------------------------------------------+"
      ]
     },
     "execution_count": 37,
     "metadata": {},
     "output_type": "execute_result"
    }
   ],
   "source": [
    "%%sql\n",
    "SELECT * FROM business LIMIT 1;"
   ]
  },
  {
   "cell_type": "markdown",
   "metadata": {},
   "source": [
    "### yelp_user"
   ]
  },
  {
   "cell_type": "code",
   "execution_count": 35,
   "metadata": {},
   "outputs": [
    {
     "name": "stdout",
     "output_type": "stream",
     "text": [
      "Successfully inserted 42593 rows into yelp_user.\n"
     ]
    }
   ],
   "source": [
    "# Step 1: Read the CSV file for 'yelp_user'\n",
    "df_user = pd.read_csv('../sampled_data/users_sample.csv')\n",
    "\n",
    "# Step 2: Connect to the PostgreSQL database\n",
    "conn = get_db_connection()\n",
    "\n",
    "# Step 3: Insert data into the 'yelp_user' table\n",
    "bulk_insert(conn, 'yelp_user', df_user, conflict_column='user_id')\n"
   ]
  },
  {
   "cell_type": "code",
   "execution_count": 39,
   "metadata": {},
   "outputs": [
    {
     "data": {
      "text/html": [
       "<span style=\"None\">Running query in &#x27;postgresql://michellelin@localhost:5432/yelp&#x27;</span>"
      ],
      "text/plain": [
       "Running query in 'postgresql://michellelin@localhost:5432/yelp'"
      ]
     },
     "metadata": {},
     "output_type": "display_data"
    },
    {
     "data": {
      "text/html": [
       "<span style=\"color: green\">1 rows affected.</span>"
      ],
      "text/plain": [
       "1 rows affected."
      ]
     },
     "metadata": {},
     "output_type": "display_data"
    },
    {
     "data": {
      "text/html": [
       "<table>\n",
       "    <thead>\n",
       "        <tr>\n",
       "            <th>count</th>\n",
       "        </tr>\n",
       "    </thead>\n",
       "    <tbody>\n",
       "        <tr>\n",
       "            <td>42593</td>\n",
       "        </tr>\n",
       "    </tbody>\n",
       "</table>"
      ],
      "text/plain": [
       "+-------+\n",
       "| count |\n",
       "+-------+\n",
       "| 42593 |\n",
       "+-------+"
      ]
     },
     "execution_count": 39,
     "metadata": {},
     "output_type": "execute_result"
    }
   ],
   "source": [
    "%%sql\n",
    "SELECT COUNT(*) FROM yelp_user;"
   ]
  },
  {
   "cell_type": "markdown",
   "metadata": {},
   "source": [
    "### review"
   ]
  },
  {
   "cell_type": "code",
   "execution_count": 40,
   "metadata": {},
   "outputs": [
    {
     "name": "stdout",
     "output_type": "stream",
     "text": [
      "Successfully inserted 48743 rows into review.\n"
     ]
    }
   ],
   "source": [
    "# Step 1: Read the CSV file for 'reviews_sample'\n",
    "df_review = pd.read_csv('../sampled_data/reviews_sample.csv')\n",
    "\n",
    "# Step 2: Connect to the PostgreSQL database\n",
    "conn = get_db_connection()\n",
    "\n",
    "# Step 3: Insert data into the 'yelp_user' table\n",
    "bulk_insert(conn, 'review', df_review, conflict_column='review_id')"
   ]
  },
  {
   "cell_type": "code",
   "execution_count": 41,
   "metadata": {},
   "outputs": [
    {
     "data": {
      "text/html": [
       "<span style=\"None\">Running query in &#x27;postgresql://michellelin@localhost:5432/yelp&#x27;</span>"
      ],
      "text/plain": [
       "Running query in 'postgresql://michellelin@localhost:5432/yelp'"
      ]
     },
     "metadata": {},
     "output_type": "display_data"
    },
    {
     "data": {
      "text/html": [
       "<span style=\"color: green\">1 rows affected.</span>"
      ],
      "text/plain": [
       "1 rows affected."
      ]
     },
     "metadata": {},
     "output_type": "display_data"
    },
    {
     "data": {
      "text/html": [
       "<table>\n",
       "    <thead>\n",
       "        <tr>\n",
       "            <th>count</th>\n",
       "        </tr>\n",
       "    </thead>\n",
       "    <tbody>\n",
       "        <tr>\n",
       "            <td>48743</td>\n",
       "        </tr>\n",
       "    </tbody>\n",
       "</table>"
      ],
      "text/plain": [
       "+-------+\n",
       "| count |\n",
       "+-------+\n",
       "| 48743 |\n",
       "+-------+"
      ]
     },
     "execution_count": 41,
     "metadata": {},
     "output_type": "execute_result"
    }
   ],
   "source": [
    "%%sql\n",
    "SELECT COUNT(*) FROM review;"
   ]
  },
  {
   "cell_type": "code",
   "execution_count": 42,
   "metadata": {},
   "outputs": [
    {
     "data": {
      "text/html": [
       "<span style=\"None\">Running query in &#x27;postgresql://michellelin@localhost:5432/yelp&#x27;</span>"
      ],
      "text/plain": [
       "Running query in 'postgresql://michellelin@localhost:5432/yelp'"
      ]
     },
     "metadata": {},
     "output_type": "display_data"
    },
    {
     "data": {
      "text/html": [
       "<span style=\"color: green\">1 rows affected.</span>"
      ],
      "text/plain": [
       "1 rows affected."
      ]
     },
     "metadata": {},
     "output_type": "display_data"
    },
    {
     "data": {
      "text/html": [
       "<table>\n",
       "    <thead>\n",
       "        <tr>\n",
       "            <th>review_id</th>\n",
       "            <th>user_id</th>\n",
       "            <th>business_id</th>\n",
       "            <th>stars</th>\n",
       "            <th>date</th>\n",
       "            <th>text</th>\n",
       "            <th>useful</th>\n",
       "            <th>funny</th>\n",
       "            <th>cool</th>\n",
       "        </tr>\n",
       "    </thead>\n",
       "    <tbody>\n",
       "        <tr>\n",
       "            <td>5wPq_FqKNx4NSdjW4MDCRQ</td>\n",
       "            <td>jHcTMCmyetM7HSC7weQTlg</td>\n",
       "            <td>y44MbCvvtmg1FpkNGSWisw</td>\n",
       "            <td>2</td>\n",
       "            <td>2015-08-30</td>\n",
       "            <td>Hate to be harsh but dang! After having a limited selection at terminal F I finally decided to go with Tony Luke's. I was looking forward in trying there Philly Cheese Steak been in Philly and all. So I unraveled the sandwich and to no surprise the sandwich I got didn't look nothing like the picture on the overhead display of the sandwich. The part that got me even more was the meat. I don't know what it taste like to eat dog food, but I am sure I just paid $10 for it.</td>\n",
       "            <td>2</td>\n",
       "            <td>1</td>\n",
       "            <td>0</td>\n",
       "        </tr>\n",
       "    </tbody>\n",
       "</table>"
      ],
      "text/plain": [
       "+------------------------+------------------------+------------------------+-------+------------+-------------------------------------------------------------------------------------------------------------------------------------------------------------------------------------------------------------------------------------------------------------------------------------------------------------------------------------------------------------------------------------------------------------------------------------------------------------------------------------------+--------+-------+------+\n",
       "|       review_id        |        user_id         |      business_id       | stars |    date    |                                                                                                                                                                                                                                            text                                                                                                                                                                                                                                           | useful | funny | cool |\n",
       "+------------------------+------------------------+------------------------+-------+------------+-------------------------------------------------------------------------------------------------------------------------------------------------------------------------------------------------------------------------------------------------------------------------------------------------------------------------------------------------------------------------------------------------------------------------------------------------------------------------------------------+--------+-------+------+\n",
       "| 5wPq_FqKNx4NSdjW4MDCRQ | jHcTMCmyetM7HSC7weQTlg | y44MbCvvtmg1FpkNGSWisw |   2   | 2015-08-30 | Hate to be harsh but dang! After having a limited selection at terminal F I finally decided to go with Tony Luke's. I was looking forward in trying there Philly Cheese Steak been in Philly and all. So I unraveled the sandwich and to no surprise the sandwich I got didn't look nothing like the picture on the overhead display of the sandwich. The part that got me even more was the meat. I don't know what it taste like to eat dog food, but I am sure I just paid $10 for it. |   2    |   1   |  0   |\n",
       "+------------------------+------------------------+------------------------+-------+------------+-------------------------------------------------------------------------------------------------------------------------------------------------------------------------------------------------------------------------------------------------------------------------------------------------------------------------------------------------------------------------------------------------------------------------------------------------------------------------------------------+--------+-------+------+"
      ]
     },
     "execution_count": 42,
     "metadata": {},
     "output_type": "execute_result"
    }
   ],
   "source": [
    "%%sql\n",
    "SELECT * FROM review LIMIT 1;"
   ]
  },
  {
   "cell_type": "markdown",
   "metadata": {},
   "source": [
    "### checkin"
   ]
  },
  {
   "cell_type": "code",
   "execution_count": 58,
   "metadata": {},
   "outputs": [],
   "source": [
    "# def bulk_insert(conn, table_name, dataframe, conflict_column=None):\n",
    "#     \"\"\"\n",
    "#     Insert data from a DataFrame into a PostgreSQL table using psycopg2.\n",
    "    \n",
    "#     Args:\n",
    "#         conn: Connection object to the database.\n",
    "#         table_name: Name of the target table.\n",
    "#         dataframe: Pandas DataFrame containing the data to be inserted.\n",
    "#         conflict_column: Column(s) to handle ON CONFLICT clause (string or list of columns).\n",
    "#     \"\"\"\n",
    "#     cursor = conn.cursor()\n",
    "#     try:\n",
    "#         # Create a list of column names for the INSERT statement\n",
    "#         columns = ', '.join([f'\"{col}\"' for col in dataframe.columns])  # Quote column names to avoid reserved words\n",
    "#         placeholders = ', '.join(['%s'] * len(dataframe.columns))\n",
    "        \n",
    "#         # Create the SQL insert query\n",
    "#         insert_query = f\"\"\"\n",
    "#         INSERT INTO {table_name} ({columns}) \n",
    "#         VALUES ({placeholders})\n",
    "#         \"\"\"\n",
    "        \n",
    "#         # Add ON CONFLICT clause\n",
    "#         if conflict_column:\n",
    "#             if isinstance(conflict_column, list):  # If it's a list of columns, create composite key\n",
    "#                 conflict_column = ', '.join([f'\"{col}\"' for col in conflict_column])  # Add quotes\n",
    "#             else:\n",
    "#                 conflict_column = f'\"{conflict_column}\"'  # Handle single column key\n",
    "            \n",
    "#             insert_query += f\"\"\"\n",
    "#             ON CONFLICT ({conflict_column}) DO NOTHING\n",
    "#             \"\"\"\n",
    "        \n",
    "#         # Use executemany to insert all the rows\n",
    "#         cursor.executemany(insert_query, dataframe.values.tolist())\n",
    "        \n",
    "#         # Commit the changes\n",
    "#         conn.commit()\n",
    "        \n",
    "#         print(f\"Successfully inserted {len(dataframe)} rows into {table_name}.\")\n",
    "#     except Exception as e:\n",
    "#         conn.rollback()\n",
    "#         print(f\"Error inserting data into {table_name}: {e}\")\n",
    "#     finally:\n",
    "#         cursor.close()\n"
   ]
  },
  {
   "cell_type": "code",
   "execution_count": 47,
   "metadata": {},
   "outputs": [
    {
     "name": "stdout",
     "output_type": "stream",
     "text": [
      "Error inserting data into checkin: invalid input syntax for type timestamp: \"2012-07-19 22:37:27, 2012-07-21 00:43:42, 2012-07-24 21:27:12, 2012-07-26 00:44:05, 2012-07-29 00:15:31, 2012-07-31 00:46:10, 2012-07-31 22:26:25, 2012-08-01 15:49:05, 2012-08-02 22:50:16, 2012-08-04 22:37:24, 2012-08-05 03:51:12, 2012-08-05 16:40:28, 2012-08-05 16:40:58, 2012-08-05 20:37:22, 2012-08-05 22:38:09, 2012-08-07 22:13:46, 2012-08-07 22:15:08, 2012-08-08 23:46:11, 2012-08-08 23:47:24, 2012-08-08 23:49:35, 2012-08-08 23:49:58, 2012-08-08 23:50:28, 2012-08-08 23:50:32, 2012-08-08 23:59:43, 2012-08-09 00:10:51, 2012-08-10 16:43:47, 2012-08-10 23:24:04, 2012-08-11 14:13:07, 2012-08-12 01:07:18, 2012-08-12 01:52:45, 2012-08-12 01:59:58, 2012-08-12 02:39:32, 2012-08-12 21:20:16, 2012-08-12 22:15:36, 2012-08-12 22:22:08, 2012-08-14 00:01:14, 2012-08-14 22:10:57, 2012-08-15 00:34:05, 2012-08-15 01:20:52, 2012-08-15 01:34:17, 2012-08-15 13:56:58, 2012-08-15 23:23:22, 2012-08-16 00:44:43, 2012-08-16 22:07:21, 2012-08-17 00:30:53, 2012-08-17 00:33:22, 2012-08-17 00:37:43, 2012-08-17 21:05:37, 2012-08-18 16:53:56, 2012-08-18 17:44:10, 2012-08-18 20:11:29, 2012-08-18 21:44:33, 2012-08-18 22:56:02, 2012-08-19 01:42:37, 2012-08-19 22:35:18, 2012-08-20 22:19:42, 2012-08-20 23:30:17, 2012-08-21 23:39:04, 2012-08-22 01:04:46, 2012-08-23 12:49:34, 2012-08-23 15:13:36, 2012-08-23 21:45:37, 2012-08-23 22:11:16, 2012-08-24 01:35:07, 2012-08-24 23:20:15, 2012-08-25 02:40:42, 2012-08-25 19:11:11, 2012-08-25 19:11:36, 2012-08-25 22:46:51, 2012-08-26 01:08:29, 2012-08-26 23:15:00, 2012-08-27 02:38:54, 2012-08-28 01:17:09, 2012-08-28 16:07:36, 2012-08-28 23:15:15, 2012-08-28 23:37:09, 2012-08-29 22:15:01, 2012-08-29 23:30:19, 2012-08-30 00:37:53, 2012-08-30 00:38:16, 2012-08-30 00:39:27, 2012-08-30 00:39:28, 2012-08-30 00:53:48, 2012-08-30 23:30:09, 2012-09-01 16:48:46, 2012-09-01 17:04:52, 2012-09-02 00:31:59, 2012-09-02 16:39:07, 2012-09-02 18:15:11, 2012-09-02 20:13:12, 2012-09-02 21:58:13, 2012-09-02 22:10:36, 2012-09-03 00:49:55, 2012-09-03 18:24:06, 2012-09-03 18:24:55, 2012-09-03 23:43:13, 2012-09-04 21:47:01, 2012-09-05 22:24:49, 2012-09-06 00:12:22, 2012-09-07 16:37:00, 2012-09-07 23:44:47, 2012-09-08 01:12:12, 2012-09-08 17:30:41, 2012-09-08 17:48:28, 2012-09-08 18:04:16, 2012-09-08 20:32:43, 2012-09-08 23:57:17, 2012-09-09 01:08:10, 2012-09-09 01:35:06, 2012-09-09 02:38:40, 2012-09-10 14:46:38, 2012-09-10 17:56:59, 2012-09-11 00:09:37, 2012-09-12 23:39:05, 2012-09-12 23:51:26, 2012-09-13 00:27:06, 2012-09-13 01:54:05, 2012-09-13 16:41:45, 2012-09-14 01:27:46, 2012-09-14 01:36:48, 2012-09-14 15:51:21, 2012-09-14 18:06:36, 2012-09-14 21:26:37, 2012-09-14 21:31:28, 2012-09-15 00:40:34, 2012-09-15 12:40:45, 2012-09-15 23:14:12, 2012-09-16 00:18:54, 2012-09-18 20:26:03, 2012-09-18 22:36:03, 2012-09-18 23:57:14, 2012-09-19 23:30:32, 2012-09-20 00:44:22, 2012-09-21 21:21:02, 2012-09-22 01:28:56, 2012-09-22 02:28:39, 2012-09-22 02:34:12, 2012-09-22 15:50:39, 2012-09-22 21:57:20, 2012-09-23 00:09:11, 2012-09-23 01:21:01, 2012-09-24 00:12:43, 2012-09-25 00:27:19, 2012-09-26 22:44:15, 2012-09-26 23:03:14, 2012-09-28 01:01:16, 2012-09-28 15:07:14, 2012-09-28 21:49:37, 2012-09-29 00:53:49, 2012-09-29 17:03:30, 2012-09-29 21:40:21, 2012-09-29 22:36:24, 2012-09-30 20:51:02, 2012-09-30 23:20:02, 2012-10-01 21:02:23, 2012-10-01 23:42:48, 2012-10-02 00:22:30, 2012-10-04 21:28:18, 2012-10-05 23:21:09, 2012-10-07 00:41:37, 2012-10-07 21:44:26, 2012-10-08 00:16:36, 2012-10-08 17:29:17, 2012-10-08 23:47:42, 2012-10-09 01:00:23, 2012-10-10 00:01:07, 2012-10-10 01:06:18, 2012-10-10 23:04:01, 2012-10-11 17:59:38, 2012-10-12 01:59:33, 2012-10-12 19:41:47, 2012-10-12 23:51:35, 2012-10-12 23:58:00, 2012-10-13 00:29:30, 2012-10-13 01:36:57, 2012-10-13 23:32:03, 2012-10-14 22:33:03, 2012-10-14 23:22:33, 2012-10-14 23:26:38, 2012-10-14 23:26:53, 2012-10-15 23:43:53, 2012-10-16 17:15:23, 2012-10-16 21:51:10, 2012-10-16 23:07:02, 2012-10-17 01:57:43, 2012-10-17 22:37:55, 2012-10-18 22:04:57, 2012-10-19 00:05:24, 2012-10-19 16:20:27, 2012-10-19 21:55:51, 2012-10-20 23:34:09, 2012-10-21 16:47:57, 2012-10-21 23:29:49, 2012-10-22 23:32:54, 2012-10-23 21:16:04, 2012-10-23 22:46:59, 2012-10-24 16:40:53, 2012-10-25 01:06:47, 2012-10-25 16:39:05, 2012-10-25 19:09:38, 2012-10-25 22:57:12, 2012-10-26 00:15:13, 2012-10-26 17:05:25, 2012-10-26 22:28:28, 2012-10-26 23:16:10, 2012-10-26 23:19:53, 2012-10-27 01:20:11, 2012-10-27 23:18:17, 2012-10-28 18:18:24, 2012-10-29 00:02:22, 2012-11-01 17:15:25, 2012-11-01 23:30:20, 2012-11-01 23:59:43, 2012-11-02 21:54:43, 2012-11-03 18:44:51, 2012-11-03 21:29:46, 2012-11-04 00:18:55, 2012-11-04 00:36:32, 2012-11-04 01:52:02, 2012-11-04 03:12:10, 2012-11-04 18:56:08, 2012-11-04 23:44:17, 2012-11-06 00:07:52, 2012-11-06 17:38:38, 2012-11-06 21:06:01, 2012-11-08 03:14:37, 2012-11-09 04:35:53, 2012-11-09 23:27:53, 2012-11-10 01:12:03, 2012-11-10 02:00:47, 2012-11-10 02:23:44, 2012-11-10 16:50:47, 2012-11-11 01:51:19, 2012-11-11 19:11:18, 2012-11-12 00:26:05, 2012-11-12 19:11:27, 2012-11-15 02:16:59, 2012-11-16 17:06:17, 2012-11-16 22:05:15, 2012-11-17 23:05:37, 2012-11-17 23:34:12, 2012-11-18 22:43:30, 2012-11-18 22:45:18, 2012-11-19 16:29:25, 2012-11-19 18:27:53, 2012-11-19 19:29:35, 2012-11-20 23:48:00, 2012-11-20 23:49:41, 2012-11-20 23:58:28, 2012-11-22 00:27:11, 2012-11-22 01:00:52, 2012-11-24 00:04:43, 2012-11-24 01:17:01, 2012-11-24 01:18:02, 2012-11-24 20:32:54, 2012-11-24 21:58:11, 2012-11-24 23:26:07, 2012-11-25 01:36:23, 2012-11-25 23:03:47, 2012-11-25 23:22:27, 2012-11-26 00:10:06, 2012-11-27 17:43:22, 2012-11-27 22:15:33, 2012-11-28 18:45:39, 2012-11-30 18:30:26, 2012-12-01 01:15:46, 2012-12-01 21:17:07, 2012-12-01 23:50:54, 2012-12-02 22:24:06, 2012-12-03 00:46:17, 2012-12-03 01:30:24, 2012-12-03 02:14:41, 2012-12-03 19:14:30, 2012-12-03 23:14:10, 2012-12-04 00:14:38, 2012-12-04 16:43:40, 2012-12-05 03:13:58, 2012-12-07 00:19:21, 2012-12-07 15:49:42, 2012-12-07 22:28:31, 2012-12-08 01:43:36, 2012-12-08 01:49:46, 2012-12-08 01:58:45, 2012-12-08 02:22:32, 2012-12-09 01:22:04, 2012-12-11 02:43:31, 2012-12-11 17:27:02, 2012-12-12 17:24:37, 2012-12-12 17:58:25, 2012-12-13 17:05:09, 2012-12-15 22:09:24, 2012-12-16 00:09:21, 2012-12-16 17:52:53, 2012-12-18 02:06:11, 2012-12-18 18:20:54, 2012-12-19 22:27:53, 2012-12-20 00:44:23, 2012-12-21 22:32:18, 2012-12-21 22:59:39, 2012-12-21 23:15:54, 2012-12-21 23:38:24, 2012-12-22 01:28:36, 2012-12-22 18:50:01, 2012-12-22 22:40:49, 2012-12-24 01:55:03, 2012-12-27 14:26:51, 2012-12-29 19:11:10, 2012-12-29 23:00:15, 2012-12-30 01:21:58, 2012-12-30 20:23:37, 2012-12-31 01:37:26, 2013-01-01 00:48:57, 2013-01-01 01:37:40, 2013-01-01 17:39:09, 2013-01-02 22:49:11, 2013-01-03 18:36:26, 2013-01-04 01:36:00, 2013-01-05 17:35:20, 2013-01-06 01:14:37, 2013-01-07 00:45:36, 2013-01-08 22:59:50, 2013-01-11 23:52:06, 2013-01-12 00:37:23, 2013-01-12 00:37:39, 2013-01-12 01:13:53, 2013-01-12 01:23:51, 2013-01-12 22:42:50, 2013-01-13 01:51:47, 2013-01-13 20:21:26, 2013-01-15 22:53:49, 2013-01-17 00:22:03, 2013-01-17 02:18:59, 2013-01-17 23:58:08, 2013-01-18 16:35:43, 2013-01-18 18:04:59, 2013-01-19 00:33:41, 2013-01-19 18:55:53, 2013-01-19 23:13:11, 2013-01-20 01:59:06, 2013-01-20 02:00:07, 2013-01-20 19:06:25, 2013-01-20 21:44:43, 2013-01-23 18:38:14, 2013-01-24 00:25:19, 2013-01-24 00:36:41, 2013-01-25 01:29:13, 2013-01-26 03:13:41, 2013-01-27 01:31:19, 2013-01-27 17:08:01, 2013-01-27 17:15:21, 2013-01-27 22:55:32, 2013-01-27 23:26:37, 2013-01-29 22:15:38, 2013-01-31 00:20:53, 2013-01-31 02:33:49, 2013-01-31 02:34:40, 2013-02-01 01:28:04, 2013-02-01 01:50:00, 2013-02-01 18:57:42, 2013-02-02 23:47:33, 2013-02-02 23:54:41, 2013-02-03 00:09:00, 2013-02-03 00:22:48, 2013-02-03 01:03:27, 2013-02-04 18:20:07, 2013-02-05 22:42:40, 2013-02-06 22:19:47, 2013-02-07 00:22:01, 2013-02-08 21:47:00, 2013-02-08 21:49:13, 2013-02-08 21:49:22, 2013-02-08 23:53:08, 2013-02-09 00:38:00, 2013-02-09 23:28:19, 2013-02-10 00:50:33, 2013-02-10 01:11:40, 2013-02-10 01:41:56, 2013-02-10 02:20:25, 2013-02-10 02:39:51, 2013-02-10 03:12:08, 2013-02-11 00:29:15, 2013-02-14 01:03:36, 2013-02-14 16:27:57, 2013-02-14 23:41:26, 2013-02-16 01:23:03, 2013-02-16 01:35:10, 2013-02-16 01:35:32, 2013-02-16 03:23:32, 2013-02-17 01:01:01, 2013-02-17 01:01:11, 2013-02-17 01:04:47, 2013-02-17 01:04:54, 2013-02-17 17:19:08, 2013-02-17 18:32:17, 2013-02-17 21:42:06, 2013-02-18 00:24:23, 2013-02-18 17:33:08, 2013-02-18 18:54:57, 2013-02-18 19:49:06, 2013-02-18 22:50:02, 2013-02-20 02:20:33, 2013-02-21 00:01:02, 2013-02-21 01:47:01, 2013-02-22 17:50:46, 2013-02-22 22:43:50, 2013-02-23 03:39:49, 2013-02-23 23:23:05, 2013-02-24 00:55:55, 2013-02-24 02:01:31, 2013-02-24 22:35:39, 2013-02-25 18:55:09, 2013-02-25 18:58:26, 2013-02-25 21:57:38, 2013-02-25 22:52:20, 2013-02-27 17:46:31, 2013-02-28 18:03:09, 2013-02-28 23:08:01, 2013-03-01 00:40:02, 2013-03-02 20:03:29, 2013-03-03 07:28:51, 2013-03-04 00:02:28, 2013-03-04 00:02:42, 2013-03-04 01:55:55, 2013-03-04 18:46:25, 2013-03-06 00:02:49, 2013-03-06 23:02:43, 2013-03-07 18:09:48, 2013-03-07 22:29:54, 2013-03-07 22:41:48, 2013-03-07 22:42:27, 2013-03-09 01:12:43, 2013-03-09 17:47:34, 2013-03-09 20:24:01, 2013-03-10 22:41:09, 2013-03-10 23:17:38, 2013-03-13 17:16:09, 2013-03-14 01:58:46, 2013-03-14 16:26:35, 2013-03-15 16:02:04, 2013-03-15 16:51:59, 2013-03-15 19:57:27, 2013-03-15 21:57:52, 2013-03-15 22:02:17, 2013-03-15 22:04:15, 2013-03-16 21:33:07, 2013-03-17 23:01:16, 2013-03-17 23:04:56, 2013-03-18 05:32:55, 2013-03-19 23:26:02, 2013-03-20 16:54:16, 2013-03-20 18:56:25, 2013-03-20 22:14:56, 2013-03-21 00:14:43, 2013-03-22 23:38:51, 2013-03-23 00:27:38, 2013-03-23 22:01:29, 2013-03-23 22:13:30, 2013-03-23 23:18:35, 2013-03-23 23:29:19, 2013-03-23 23:30:53, 2013-03-24 00:27:41, 2013-03-24 22:46:47, 2013-03-28 00:46:15, 2013-03-29 00:11:43, 2013-03-29 01:04:16, 2013-03-29 21:12:36, 2013-03-30 16:44:18, 2013-03-30 23:41:51, 2013-03-30 23:44:41, 2013-03-31 00:30:34, 2013-03-31 02:08:05, 2013-03-31 20:15:55, 2013-03-31 21:12:13, 2013-03-31 21:59:33, 2013-04-02 21:12:31, 2013-04-02 21:44:06, 2013-04-04 22:28:24, 2013-04-04 22:58:14, 2013-04-04 23:29:49, 2013-04-05 21:53:15, 2013-04-06 00:37:10, 2013-04-06 00:52:21, 2013-04-06 21:55:39, 2013-04-07 17:53:44, 2013-04-07 21:39:24, 2013-04-07 21:58:41, 2013-04-08 00:46:26, 2013-04-09 21:26:37, 2013-04-09 22:19:59, 2013-04-09 23:44:06, 2013-04-10 01:16:33, 2013-04-10 17:06:28, 2013-04-12 16:26:09, 2013-04-13 03:19:38, 2013-04-13 23:25:42, 2013-04-13 23:35:40, 2013-04-14 17:21:17, 2013-04-14 23:13:57, 2013-04-17 23:41:24, 2013-04-18 11:40:19, 2013-04-19 17:51:46, 2013-04-20 22:27:02, 2013-04-21 00:01:03, 2013-04-21 00:01:30, 2013-04-22 22:36:23, 2013-04-23 22:09:45, 2013-04-23 22:11:44, 2013-04-23 23:36:21, 2013-04-24 01:20:36, 2013-04-24 16:27:33, 2013-04-24 22:05:14, 2013-04-26 22:04:23, 2013-04-26 22:08:11, 2013-04-27 21:35:56, 2013-04-27 23:37:01, 2013-04-28 16:51:35, 2013-04-28 20:18:24, 2013-04-28 21:31:02, 2013-04-28 23:19:52, 2013-04-29 00:51:25, 2013-04-30 00:00:39, 2013-04-30 00:10:49, 2013-04-30 18:39:38, 2013-05-01 00:35:46, 2013-05-03 01:52:21, 2013-05-03 21:17:43, 2013-05-03 23:56:04, 2013-05-04 21:13:47, 2013-05-05 00:03:59, 2013-05-05 18:24:20, 2013-05-05 23:16:20, 2013-05-05 23:34:00, 2013-05-06 00:09:58, 2013-05-06 00:21:55, 2013-05-06 16:26:06, 2013-05-06 19:13:48, 2013-05-07 00:59:29, 2013-05-07 22:54:26, 2013-05-08 22:54:13, 2013-05-10 01:05:44, 2013-05-10 22:29:20, 2013-05-11 02:19:49, 2013-05-11 17:16:41, 2013-05-12 00:56:20, 2013-05-12 00:59:30, 2013-05-12 01:14:51, 2013-05-12 16:36:29, 2013-05-12 17:54:18, 2013-05-12 22:16:36, 2013-05-12 22:38:47, 2013-05-13 22:27:33, 2013-05-13 22:35:04, 2013-05-14 14:38:23, 2013-05-14 15:30:00, 2013-05-15 00:46:23, 2013-05-15 02:22:08, 2013-05-15 19:16:17, 2013-05-17 01:56:23, 2013-05-18 03:02:11, 2013-05-18 22:12:48, 2013-05-18 22:13:11, 2013-05-20 01:13:11, 2013-05-20 23:47:36, 2013-05-21 20:01:58, 2013-05-22 15:22:52, 2013-05-24 21:12:15, 2013-05-24 23:34:11, 2013-05-25 00:50:02, 2013-05-26 21:41:30, 2013-05-26 23:10:20, 2013-05-27 21:49:31, 2013-05-27 23:56:37, 2013-05-28 00:02:57, 2013-05-28 00:08:42, 2013-05-28 01:54:35, 2013-05-28 18:51:04, 2013-05-31 00:53:32, 2013-06-01 23:46:13, 2013-06-02 17:16:09, 2013-06-02 21:37:11, 2013-06-06 22:28:27, 2013-06-07 21:29:25, 2013-06-07 21:59:10, 2013-06-08 00:37:24, 2013-06-09 00:00:02, 2013-06-09 22:59:59, 2013-06-11 16:16:51, 2013-06-13 00:43:15, 2013-06-13 02:00:50, 2013-06-13 22:32:22, 2013-06-14 18:07:03, 2013-06-14 19:46:53, 2013-06-14 22:08:04, 2013-06-14 23:42:59, 2013-06-15 00:05:50, 2013-06-15 00:07:44, 2013-06-15 00:08:37, 2013-06-15 18:20:41, 2013-06-15 23:04:34, 2013-06-15 23:06:03, 2013-06-16 02:32:59, 2013-06-17 20:43:30, 2013-06-18 16:17:08, 2013-06-19 00:16:34, 2013-06-19 00:21:40, 2013-06-19 18:04:03, 2013-06-19 22:48:40, 2013-06-21 23:33:26, 2013-06-22 00:20:31, 2013-06-22 00:54:22, 2013-06-22 17:38:42, 2013-06-23 00:15:32, 2013-06-23 00:31:44, 2013-06-23 00:52:54, 2013-06-24 01:36:37, 2013-06-25 22:07:35, 2013-06-27 00:01:57, 2013-06-27 00:11:27, 2013-06-27 00:30:09, 2013-06-27 00:36:58, 2013-06-27 17:05:40, 2013-06-27 23:05:10, 2013-06-28 17:58:58, 2013-06-28 18:00:37, 2013-06-29 00:35:09, 2013-06-29 16:57:56, 2013-06-29 23:50:58, 2013-07-04 00:12:00, 2013-07-05 06:57:31, 2013-07-06 01:18:55, 2013-07-06 02:02:28, 2013-07-06 15:45:02, 2013-07-06 20:50:42, 2013-07-06 23:44:16, 2013-07-06 23:44:36, 2013-07-07 01:29:29, 2013-07-07 21:24:54, 2013-07-07 22:06:31, 2013-07-07 23:58:35, 2013-07-10 23:49:52, 2013-07-11 16:54:44, 2013-07-11 16:58:35, 2013-07-12 17:06:53, 2013-07-12 17:08:15, 2013-07-12 23:48:04, 2013-07-14 00:50:41, 2013-07-14 22:04:32, 2013-07-14 22:38:20, 2013-07-14 22:57:45, 2013-07-14 23:23:41, 2013-07-15 01:21:43, 2013-07-15 16:41:31, 2013-07-16 23:40:43, 2013-07-19 00:10:20, 2013-07-19 00:25:16, 2013-07-19 23:39:31, 2013-07-19 23:54:16, 2013-07-20 01:07:38, 2013-07-20 01:44:37, 2013-07-20 15:39:41, 2013-07-20 16:49:56, 2013-07-20 16:52:16, 2013-07-21 01:02:49, 2013-07-21 23:11:18, 2013-07-21 23:17:48, 2013-07-21 23:28:15, 2013-07-22 02:06:44, 2013-07-22 02:59:40, 2013-07-24 21:56:54, 2013-07-24 23:32:44, 2013-07-25 01:53:27, 2013-07-26 22:24:21, 2013-07-27 19:20:26, 2013-07-27 21:22:43, 2013-07-28 18:55:19, 2013-07-28 21:00:23, 2013-07-28 22:07:22, 2013-07-29 21:00:53, 2013-07-29 22:46:58, 2013-07-30 22:10:38, 2013-07-30 22:35:18, 2013-07-31 16:33:32, 2013-08-02 23:21:27, 2013-08-02 23:39:06, 2013-08-03 00:27:14, 2013-08-03 00:29:24, 2013-08-03 01:20:28, 2013-08-03 01:32:10, 2013-08-03 03:11:05, 2013-08-04 00:41:52, 2013-08-06 22:35:39, 2013-08-07 01:20:32, 2013-08-07 21:54:31, 2013-08-07 22:59:05, 2013-08-07 22:59:30, 2013-08-09 21:43:37, 2013-08-10 00:43:46, 2013-08-10 19:31:19, 2013-08-10 21:19:12, 2013-08-10 22:17:36, 2013-08-11 01:45:17, 2013-08-11 18:23:55, 2013-08-12 00:39:37, 2013-08-12 00:51:13, 2013-08-12 01:27:03, 2013-08-12 18:17:38, 2013-08-13 22:35:13, 2013-08-13 23:26:03, 2013-08-14 22:44:05, 2013-08-14 22:50:29, 2013-08-14 22:59:02, 2013-08-16 01:29:21, 2013-08-16 21:11:19, 2013-08-18 01:14:29, 2013-08-19 00:01:37, 2013-08-19 00:19:03, 2013-08-19 23:29:52, 2013-08-21 00:44:41, 2013-08-22 02:08:44, 2013-08-22 22:33:27, 2013-08-23 00:31:02, 2013-08-23 22:41:55, 2013-08-23 23:46:35, 2013-08-23 23:48:35, 2013-08-24 01:07:08, 2013-08-24 01:29:29, 2013-08-24 02:11:26, 2013-08-24 03:12:02, 2013-08-25 02:11:45, 2013-08-25 03:19:00, 2013-08-25 20:18:08, 2013-08-25 21:04:41, 2013-08-25 21:40:00, 2013-08-25 22:53:45, 2013-08-26 00:19:05, 2013-08-26 21:23:27, 2013-08-26 22:30:13, 2013-08-27 01:35:10, 2013-08-28 22:07:12, 2013-08-28 22:30:50, 2013-08-28 22:32:54, 2013-08-28 22:50:58, 2013-08-29 01:45:54, 2013-08-30 00:13:30, 2013-08-30 02:09:22, 2013-08-30 02:17:45, 2013-08-30 17:21:44, 2013-08-30 22:49:43, 2013-08-30 23:40:52, 2013-08-31 00:18:54, 2013-09-01 00:13:08, 2013-09-01 17:32:09, 2013-09-02 01:24:44, 2013-09-02 02:27:25, 2013-09-02 18:42:44, 2013-09-03 22:34:33, 2013-09-05 00:44:30, 2013-09-05 22:29:05, 2013-09-07 23:56:43, 2013-09-08 22:26:19, 2013-09-08 22:28:33, 2013-09-11 00:14:45, 2013-09-11 00:56:21, 2013-09-13 00:06:40, 2013-09-13 00:12:18, 2013-09-14 00:43:08, 2013-09-14 00:43:47, 2013-09-14 22:02:35, 2013-09-14 23:43:38, 2013-09-15 00:52:52, 2013-09-18 22:47:09, 2013-09-20 00:05:00, 2013-09-20 19:02:38, 2013-09-20 23:05:41, 2013-09-22 01:04:44, 2013-09-23 01:06:22, 2013-09-23 22:59:34, 2013-09-23 23:22:53, 2013-09-23 23:23:00, 2013-09-23 23:23:02, 2013-09-24 02:28:21, 2013-09-24 22:36:33, 2013-09-25 18:20:43, 2013-09-25 23:07:20, 2013-09-27 22:42:52, 2013-09-29 17:42:58, 2013-09-29 21:42:51, 2013-09-29 22:09:49, 2013-09-29 23:32:27, 2013-09-30 23:51:48, 2013-10-01 21:51:07, 2013-10-02 08:18:43, 2013-10-03 00:17:42, 2013-10-05 00:45:38, 2013-10-05 03:32:00, 2013-10-05 04:12:57, 2013-10-05 23:31:05, 2013-10-05 23:34:03, 2013-10-06 00:04:12, 2013-10-06 00:12:27, 2013-10-06 00:25:26, 2013-10-06 19:29:59, 2013-10-08 00:00:36, 2013-10-08 23:06:06, 2013-10-08 23:17:48, 2013-10-11 20:22:37, 2013-10-12 01:09:54, 2013-10-12 01:15:41, 2013-10-12 16:33:50, 2013-10-12 21:47:25, 2013-10-12 23:13:07, 2013-10-12 23:19:35, 2013-10-13 16:35:12, 2013-10-13 18:42:05, 2013-10-13 20:29:03, 2013-10-14 21:24:11, 2013-10-16 22:44:22, 2013-10-17 00:18:40, 2013-10-17 22:58:10, 2013-10-18 18:32:20, 2013-10-19 00:21:41, 2013-10-19 03:23:18, 2013-10-19 19:07:11, 2013-10-19 19:45:03, 2013-10-20 00:33:01, 2013-10-20 16:33:55, 2013-10-22 22:29:30, 2013-10-22 23:13:32, 2013-10-25 00:10:25, 2013-10-25 21:33:20, 2013-10-25 23:47:42, 2013-10-26 22:40:06, 2013-10-27 17:23:27, 2013-10-29 23:14:08, 2013-10-30 21:33:42, 2013-10-31 22:14:42, 2013-11-01 21:58:20, 2013-11-01 23:31:38, 2013-11-02 00:01:24, 2013-11-02 23:50:49, 2013-11-04 00:27:36, 2013-11-04 00:29:00, 2013-11-04 23:53:26, 2013-11-05 01:53:13, 2013-11-05 22:47:00, 2013-11-06 00:45:41, 2013-11-07 01:42:57, 2013-11-09 01:05:07, 2013-11-09 21:31:43, 2013-11-09 23:37:05, 2013-11-12 17:15:14, 2013-11-12 22:21:04, 2013-11-12 22:56:43, 2013-11-13 03:12:17, 2013-11-13 17:31:11, 2013-11-15 00:32:27, 2013-11-16 00:41:27, 2013-11-16 03:00:40, 2013-11-16 22:47:47, 2013-11-17 00:03:37, 2013-11-17 00:19:09, 2013-11-17 00:39:30, 2013-11-17 01:31:51, 2013-11-17 21:20:07, 2013-11-18 00:16:18, 2013-11-18 23:17:15, 2013-11-19 17:13:35, 2013-11-20 01:17:35, 2013-11-20 18:00:57, 2013-11-20 18:18:16, 2013-11-21 00:43:54, 2013-11-22 22:18:02, 2013-11-22 22:23:08, 2013-11-22 23:08:58, 2013-11-23 03:10:26, 2013-11-23 03:59:06, 2013-11-23 23:21:49, 2013-11-24 00:44:57, 2013-11-24 01:20:00, 2013-11-26 16:39:58, 2013-11-26 22:54:11, 2013-11-27 23:24:29, 2013-11-28 00:41:56, 2013-11-30 02:50:35, 2013-11-30 18:13:17, 2013-11-30 21:17:06, 2013-12-01 02:05:26, 2013-12-01 19:04:28, 2013-12-06 18:06:18, 2013-12-07 00:22:39, 2013-12-07 00:35:53, 2013-12-07 00:36:42, 2013-12-07 00:54:47, 2013-12-07 00:55:10, 2013-12-07 01:54:07, 2013-12-07 18:42:33, 2013-12-07 21:59:02, 2013-12-07 22:36:36, 2013-12-07 23:54:13, 2013-12-08 00:00:08, 2013-12-10 00:54:40, 2013-12-10 23:56:34, 2013-12-11 01:05:23, 2013-12-11 22:31:31, 2013-12-12 00:20:07, 2013-12-13 01:36:28, 2013-12-13 01:54:24, 2013-12-13 23:28:01, 2013-12-14 00:37:12, 2013-12-15 23:18:00, 2013-12-16 17:30:42, 2013-12-17 22:34:49, 2013-12-18 20:16:47, 2013-12-18 23:46:52, 2013-12-19 00:03:46, 2013-12-19 23:33:46, 2013-12-20 23:47:47, 2013-12-22 02:26:42, 2013-12-22 02:27:08, 2013-12-22 03:05:36, 2013-12-22 20:33:19, 2013-12-22 22:55:22, 2013-12-22 23:00:24, 2013-12-22 23:45:19, 2013-12-24 00:19:01, 2013-12-25 21:33:12, 2013-12-25 23:45:55, 2013-12-26 00:19:45, 2013-12-26 02:27:39, 2013-12-26 18:19:20, 2013-12-26 21:03:10, 2013-12-26 21:17:03, 2013-12-26 22:30:45, 2013-12-26 23:08:28, 2013-12-26 23:45:26, 2013-12-27 17:26:12, 2013-12-28 20:19:25, 2013-12-28 20:20:06, 2013-12-28 21:09:58, 2013-12-28 22:08:30, 2013-12-29 00:38:05, 2013-12-29 01:21:45, 2013-12-29 05:19:10, 2013-12-30 00:33:58, 2013-12-30 14:29:46, 2013-12-30 15:58:51, 2013-12-30 18:41:14, 2013-12-31 00:42:56, 2013-12-31 00:51:53, 2013-12-31 00:53:28, 2013-12-31 00:56:25, 2013-12-31 01:43:16, 2013-12-31 22:04:14, 2013-12-31 23:28:42, 2014-01-01 01:57:33, 2014-01-01 22:18:34, 2014-01-02 17:03:14, 2014-01-02 22:17:34, 2014-01-02 22:51:22, 2014-01-02 22:52:34, 2014-01-02 23:13:39, 2014-01-02 23:50:30, 2014-01-03 23:38:58, 2014-01-04 01:31:21, 2014-01-04 15:28:41, 2014-01-04 22:35:51, 2014-01-05 00:49:42, 2014-01-05 01:34:34, 2014-01-05 17:10:49, 2014-01-05 17:55:32, 2014-01-05 21:38:00, 2014-01-05 22:10:43, 2014-01-07 00:52:08, 2014-01-08 01:27:52, 2014-01-10 16:28:55, 2014-01-11 00:47:18, 2014-01-11 01:56:33, 2014-01-13 17:58:38, 2014-01-14 00:42:47, 2014-01-14 01:46:07, 2014-01-14 18:05:45, 2014-01-15 00:52:24, 2014-01-15 18:28:58, 2014-01-17 01:11:15, 2014-01-17 18:45:37, 2014-01-17 23:21:54, 2014-01-18 20:49:11, 2014-01-18 21:36:33, 2014-01-18 23:30:53, 2014-01-19 00:45:50, 2014-01-19 01:18:54, 2014-01-19 02:23:03, 2014-01-19 02:28:32, 2014-01-19 02:39:34, 2014-01-19 20:11:09, 2014-01-21 23:26:54, 2014-01-23 23:10:03, 2014-01-24 01:04:17, 2014-01-24 19:42:14, 2014-01-24 23:39:56, 2014-01-26 22:30:33, 2014-01-27 02:28:11, 2014-01-29 22:46:06, 2014-01-30 18:45:50, 2014-02-01 01:05:50, 2014-02-01 03:35:37, 2014-02-02 01:22:37, 2014-02-05 15:48:42, 2014-02-05 15:50:45, 2014-02-07 23:08:07, 2014-02-08 01:47:19, 2014-02-09 00:47:01, 2014-02-10 18:35:31, 2014-02-11 01:16:51, 2014-02-13 20:50:00, 2014-02-14 01:38:46, 2014-02-14 19:13:25, 2014-02-14 21:52:32, 2014-02-14 23:54:51, 2014-02-15 00:23:10, 2014-02-15 01:58:56, 2014-02-15 03:33:25, 2014-02-15 22:34:09, 2014-02-16 00:44:12, 2014-02-16 00:46:42, 2014-02-16 01:25:50, 2014-02-16 17:12:36, 2014-02-16 20:34:12, 2014-02-16 20:57:20, 2014-02-16 21:03:41, 2014-02-18 04:37:25, 2014-02-18 23:12:43, 2014-02-19 23:25:43, 2014-02-20 16:32:59, 2014-02-22 01:37:50, 2014-02-22 23:25:53, 2014-02-23 02:50:54, 2014-02-23 02:51:01, 2014-02-23 22:06:29, 2014-02-24 22:44:12, 2014-02-25 02:12:06, 2014-02-25 02:14:20, 2014-02-27 00:41:55, 2014-02-27 18:15:59, 2014-02-27 21:43:11, 2014-02-28 01:37:23, 2014-02-28 01:58:31, 2014-03-01 00:27:45, 2014-03-01 00:29:04, 2014-03-02 00:48:25, 2014-03-02 01:38:23, 2014-03-02 02:35:12, 2014-03-02 21:20:40, 2014-03-02 22:01:59, 2014-03-02 22:08:39, 2014-03-04 17:25:05, 2014-03-06 17:35:12, 2014-03-06 18:41:17, 2014-03-08 21:08:51, 2014-03-08 23:59:11, 2014-03-09 01:22:55, 2014-03-09 01:39:22, 2014-03-09 02:03:46, 2014-03-09 02:22:48, 2014-03-10 23:39:43, 2014-03-12 00:30:57, 2014-03-12 22:31:41, 2014-03-13 20:54:11, 2014-03-14 00:35:26, 2014-03-14 04:27:29, 2014-03-14 16:32:38, 2014-03-14 22:40:30, 2014-03-14 22:54:03, 2014-03-14 23:36:33, 2014-03-15 00:06:39, 2014-03-15 00:12:18, 2014-03-15 00:55:04, 2014-03-15 23:12:18, 2014-03-16 00:35:15, 2014-03-16 00:39:20, 2014-03-16 00:40:25, 2014-03-16 01:12:25, 2014-03-16 19:47:48, 2014-03-16 19:48:05, 2014-03-16 20:56:11, 2014-03-17 01:11:57, 2014-03-18 21:16:13, 2014-03-19 00:30:34, 2014-03-19 02:25:23, 2014-03-19 23:55:22, 2014-03-22 00:37:43, 2014-03-22 00:40:46, 2014-03-22 00:53:03, 2014-03-23 02:52:46, 2014-03-23 19:15:41, 2014-03-24 14:07:53, 2014-03-24 15:34:38, 2014-03-24 23:18:51, 2014-03-25 19:03:14, 2014-03-27 02:53:06, 2014-03-27 15:11:22, 2014-03-27 17:15:40, 2014-03-27 23:07:31, 2014-03-27 23:15:26, 2014-03-28 22:56:33, 2014-03-29 00:19:11, 2014-03-29 02:09:04, 2014-03-29 17:34:01, 2014-03-30 00:58:57, 2014-03-30 01:22:57, 2014-03-31 00:01:40, 2014-04-02 01:13:56, 2014-04-03 00:26:23, 2014-04-03 00:38:03, 2014-04-04 17:16:46, 2014-04-04 19:11:39, 2014-04-04 23:50:56, 2014-04-05 02:09:30, 2014-04-05 16:03:41, 2014-04-05 22:27:47, 2014-04-06 18:26:45, 2014-04-06 22:38:32, 2014-04-07 22:58:44, 2014-04-09 01:06:12, 2014-04-09 15:25:41, 2014-04-09 22:06:01, 2014-04-10 23:29:27, 2014-04-11 00:24:24, 2014-04-12 19:00:37, 2014-04-12 20:09:49, 2014-04-12 20:37:07, 2014-04-12 20:53:55, 2014-04-15 00:21:55, 2014-04-15 21:59:30, 2014-04-17 22:52:10, 2014-04-18 00:24:43, 2014-04-18 00:28:34, 2014-04-18 22:44:53, 2014-04-19 00:20:40, 2014-04-19 17:47:46, 2014-04-20 04:07:09, 2014-04-21 22:27:12, 2014-04-22 00:06:26, 2014-04-23 22:04:15, 2014-04-24 00:13:47, 2014-04-25 00:11:37, 2014-04-25 01:37:43, 2014-04-26 17:38:20, 2014-04-27 00:41:56, 2014-04-27 01:00:37, 2014-04-29 23:48:56, 2014-04-30 01:56:47, 2014-04-30 23:34:43, 2014-05-03 22:25:03, 2014-05-06 00:34:46, 2014-05-06 00:56:48, 2014-05-06 22:22:43, 2014-05-07 00:08:55, 2014-05-07 01:27:57, 2014-05-09 01:15:07, 2014-05-09 22:37:38, 2014-05-10 22:50:01, 2014-05-13 03:40:07, 2014-05-14 16:46:36, 2014-05-15 01:50:49, 2014-05-15 20:55:23, 2014-05-16 00:29:47, 2014-05-16 00:29:58, 2014-05-17 23:17:42, 2014-05-17 23:35:06, 2014-05-17 23:57:31, 2014-05-18 01:41:07, 2014-05-18 01:43:04, 2014-05-18 16:11:32, 2014-05-18 19:16:17, 2014-05-18 21:13:03, 2014-05-18 22:20:06, 2014-05-19 16:50:26, 2014-05-20 00:15:47, 2014-05-20 23:06:17, 2014-05-20 23:09:23, 2014-05-21 00:26:42, 2014-05-21 01:02:45, 2014-05-21 22:42:05, 2014-05-21 23:43:16, 2014-05-23 23:32:52, 2014-05-23 23:42:59, 2014-05-24 02:23:53, 2014-05-24 16:20:49, 2014-05-24 22:25:35, 2014-05-24 22:40:12, 2014-05-25 00:29:36, 2014-05-25 01:06:29, 2014-05-25 01:34:57, 2014-05-25 21:50:58, 2014-05-26 00:36:46, 2014-05-27 00:13:18, 2014-05-27 21:26:12, 2014-05-28 23:31:33, 2014-05-28 23:34:31, 2014-05-29 21:34:05, 2014-06-01 00:18:16, 2014-06-01 22:47:53, 2014-06-02 01:24:02, 2014-06-02 23:40:20, 2014-06-03 16:48:07, 2014-06-05 05:01:23, 2014-06-05 23:21:55, 2014-06-09 18:08:54, 2014-06-11 21:53:41, 2014-06-11 22:32:26, 2014-06-13 00:35:09, 2014-06-13 18:39:18, 2014-06-15 00:30:36, 2014-06-15 23:10:35, 2014-06-16 23:36:48, 2014-06-16 23:48:15, 2014-06-17 03:37:57, 2014-06-18 22:12:00, 2014-06-18 23:42:53, 2014-06-19 01:15:01, 2014-06-20 00:30:29, 2014-06-21 01:00:46, 2014-06-21 23:52:23, 2014-06-22 01:00:26, 2014-06-22 21:20:41, 2014-06-24 00:53:33, 2014-06-24 17:04:50, 2014-06-25 00:38:10, 2014-06-25 22:17:13, 2014-06-26 21:30:48, 2014-06-27 01:10:18, 2014-06-27 22:39:00, 2014-06-27 22:50:33, 2014-06-28 03:11:13, 2014-06-28 16:39:21, 2014-06-28 22:06:47, 2014-06-28 23:18:47, 2014-06-29 00:55:41, 2014-06-29 01:04:11, 2014-06-29 01:31:40, 2014-06-29 01:36:36, 2014-06-29 02:07:26, 2014-06-29 03:39:52, 2014-06-29 18:06:19, 2014-06-29 23:21:53, 2014-06-29 23:52:22, 2014-06-30 16:07:12, 2014-07-01 17:37:43, 2014-07-02 23:59:02, 2014-07-03 01:04:40, 2014-07-04 19:48:54, 2014-07-04 20:43:31, 2014-07-04 23:57:17, 2014-07-05 20:47:24, 2014-07-06 00:16:14, 2014-07-06 00:33:57, 2014-07-06 00:38:05, 2014-07-06 15:15:24, 2014-07-07 01:15:09, 2014-07-07 22:36:24, 2014-07-08 19:55:36, 2014-07-09 00:34:51, 2014-07-09 23:47:42, 2014-07-11 16:52:35, 2014-07-12 22:24:55, 2014-07-13 01:09:43, 2014-07-13 01:25:34, 2014-07-13 16:57:07, 2014-07-13 19:02:03, 2014-07-13 19:29:49, 2014-07-14 15:22:25, 2014-07-14 21:09:49, 2014-07-14 21:33:41, 2014-07-16 17:05:59, 2014-07-17 22:20:07, 2014-07-20 02:29:53, 2014-07-20 22:26:37, 2014-07-20 23:41:53, 2014-07-20 23:42:58, 2014-07-20 23:47:22, 2014-07-21 17:06:27, 2014-07-21 23:22:13, 2014-07-22 01:32:50, 2014-07-22 21:46:10, 2014-07-24 23:10:15, 2014-07-24 23:28:10, 2014-07-26 01:29:55, 2014-07-26 02:30:59, 2014-07-27 19:00:55, 2014-07-27 19:47:01, 2014-07-27 23:10:59, 2014-07-28 00:08:41, 2014-07-28 15:50:20, 2014-07-28 23:50:47, 2014-07-29 01:48:39, 2014-07-29 16:19:49, 2014-07-31 22:17:40, 2014-07-31 23:23:53, 2014-08-01 01:42:36, 2014-08-01 20:41:59, 2014-08-01 21:16:40, 2014-08-02 00:09:29, 2014-08-02 01:22:45, 2014-08-02 02:11:03, 2014-08-02 22:01:36, 2014-08-02 23:06:56, 2014-08-03 00:21:24, 2014-08-03 02:01:31, 2014-08-03 17:40:26, 2014-08-03 22:18:07, 2014-08-03 23:07:26, 2014-08-05 17:30:57, 2014-08-06 00:24:13, 2014-08-06 01:47:04, 2014-08-06 17:15:07, 2014-08-06 23:47:59, 2014-08-07 00:07:14, 2014-08-08 02:08:34, 2014-08-09 00:02:07, 2014-08-09 01:00:46, 2014-08-09 22:16:17, 2014-08-10 00:14:30, 2014-08-10 17:24:21, 2014-08-10 18:53:39, 2014-08-11 00:52:30, 2014-08-11 14:42:14, 2014-08-11 21:12:27, 2014-08-12 02:00:50, 2014-08-12 22:11:05, 2014-08-12 22:28:33, 2014-08-13 17:12:23, 2014-08-13 17:43:41, 2014-08-13 21:03:16, 2014-08-14 20:29:52, 2014-08-15 21:23:15, 2014-08-15 21:55:42, 2014-08-16 18:04:07, 2014-08-16 22:18:34, 2014-08-17 00:02:22, 2014-08-17 01:01:45, 2014-08-17 19:23:08, 2014-08-17 23:54:37, 2014-08-18 00:32:31, 2014-08-18 16:58:27, 2014-08-18 23:30:02, 2014-08-20 01:32:01, 2014-08-22 01:59:15, 2014-08-22 03:46:30, 2014-08-22 23:10:56, 2014-08-23 01:23:56, 2014-08-23 23:55:52, 2014-08-24 02:05:39, 2014-08-24 16:04:51, 2014-08-24 18:48:01, 2014-08-25 23:08:22, 2014-08-26 20:27:02, 2014-08-26 23:18:05, 2014-08-26 23:54:37, 2014-08-26 23:54:58, 2014-08-28 16:40:43, 2014-08-28 20:30:18, 2014-08-30 00:19:38, 2014-08-30 17:54:36, 2014-08-31 20:11:51, 2014-08-31 23:30:46, 2014-09-02 23:38:37, 2014-09-03 17:16:39, 2014-09-04 16:29:23, 2014-09-05 02:15:06, 2014-09-06 01:24:12, 2014-09-06 02:26:39, 2014-09-06 02:30:03, 2014-09-06 15:56:43, 2014-09-06 22:40:59, 2014-09-07 00:38:01, 2014-09-07 00:40:06, 2014-09-07 01:07:18, 2014-09-07 23:41:50, 2014-09-09 23:16:20, 2014-09-10 00:00:43, 2014-09-10 00:34:44, 2014-09-10 03:19:03, 2014-09-10 18:00:02, 2014-09-12 16:12:14, 2014-09-13 01:16:22, 2014-09-13 02:06:10, 2014-09-13 20:01:59, 2014-09-14 19:25:53, 2014-09-14 22:32:36, 2014-09-14 23:45:03, 2014-09-15 23:06:09, 2014-09-16 01:06:30, 2014-09-17 01:38:22, 2014-09-19 01:03:06, 2014-09-19 01:03:26, 2014-09-19 22:09:22, 2014-09-20 16:08:53, 2014-09-20 23:20:47, 2014-09-21 01:07:59, 2014-09-24 20:27:10, 2014-09-24 23:33:54, 2014-09-25 00:02:18, 2014-09-25 20:39:00, 2014-09-26 23:43:56, 2014-09-27 01:12:23, 2014-09-27 02:13:16, 2014-09-27 16:14:49, 2014-09-27 21:00:56, 2014-09-28 00:48:59, 2014-09-29 00:39:14, 2014-09-29 00:49:04, 2014-09-30 15:57:33, 2014-10-01 01:57:20, 2014-10-03 01:14:50, 2014-10-03 03:22:10, 2014-10-03 23:36:14, 2014-10-04 00:05:31, 2014-10-04 00:17:29, 2014-10-04 00:19:49, 2014-10-04 01:42:37, 2014-10-04 15:37:03, 2014-10-04 19:56:56, 2014-10-04 20:00:43, 2014-10-04 22:59:25, 2014-10-05 00:29:51, 2014-10-05 00:34:27, 2014-10-05 00:52:33, 2014-10-05 01:57:36, 2014-10-05 02:26:27, 2014-10-06 00:22:21, 2014-10-06 20:13:57, 2014-10-07 21:30:17, 2014-10-09 22:44:59, 2014-10-09 22:48:33, 2014-10-11 01:20:28, 2014-10-11 02:02:02, 2014-10-11 22:07:27, 2014-10-11 22:19:52, 2014-10-12 00:02:50, 2014-10-12 19:40:10, 2014-10-12 21:12:12, 2014-10-13 16:15:19, 2014-10-13 17:11:58, 2014-10-13 21:01:02, 2014-10-14 22:20:46, 2014-10-17 00:11:48, 2014-10-17 22:54:38, 2014-10-19 01:12:27, 2014-10-19 22:35:30, 2014-10-20 16:43:25, 2014-10-20 22:18:40, 2014-10-20 22:56:44, 2014-10-21 00:26:11, 2014-10-21 00:26:34, 2014-10-21 00:58:37, 2014-10-22 16:00:38, 2014-10-23 01:32:35, 2014-10-23 21:04:23, 2014-10-24 01:52:22, 2014-10-24 17:22:29, 2014-10-25 00:13:14, 2014-10-25 16:28:16, 2014-10-25 23:14:28, 2014-10-26 22:14:53, 2014-10-28 00:54:11, 2014-10-28 20:13:05, 2014-10-31 22:44:11, 2014-11-01 00:18:47, 2014-11-01 23:44:50, 2014-11-02 00:25:46, 2014-11-02 22:08:43, 2014-11-03 23:32:55, 2014-11-04 02:56:06, 2014-11-04 14:06:24, 2014-11-05 23:34:29, 2014-11-06 01:40:05, 2014-11-07 01:42:52, 2014-11-08 03:23:56, 2014-11-08 22:31:55, 2014-11-09 02:44:13, 2014-11-09 21:45:09, 2014-11-09 22:39:44, 2014-11-11 01:12:52, 2014-11-11 17:53:18, 2014-11-11 23:54:41, 2014-11-12 00:45:32, 2014-11-12 18:45:42, 2014-11-13 16:52:31, 2014-11-14 16:52:05, 2014-11-16 01:14:35, 2014-11-16 01:28:31, 2014-11-16 01:33:03, 2014-11-16 18:43:11, 2014-11-18 01:55:43, 2014-11-18 02:12:10, 2014-11-21 22:29:58, 2014-11-21 23:36:44, 2014-11-22 00:47:20, 2014-11-22 21:00:16, 2014-11-22 23:24:00, 2014-11-22 23:43:57, 2014-11-23 03:50:09, 2014-11-23 23:36:56, 2014-11-24 00:36:58, 2014-11-26 01:37:12, 2014-11-27 00:02:31, 2014-11-27 23:57:56, 2014-11-29 03:53:19, 2014-12-03 00:06:26, 2014-12-03 19:30:15, 2014-12-03 21:18:46, 2014-12-04 00:57:55, 2014-12-05 18:42:41, 2014-12-06 00:43:18, 2014-12-06 01:49:15, 2014-12-06 22:29:26, 2014-12-07 21:06:45, 2014-12-07 23:07:21, 2014-12-08 00:54:18, 2014-12-08 17:57:46, 2014-12-09 00:42:13, 2014-12-09 01:30:43, 2014-12-10 02:01:06, 2014-12-11 02:23:42, 2014-12-11 17:21:59, 2014-12-11 18:17:32, 2014-12-12 23:12:56, 2014-12-12 23:45:46, 2014-12-13 02:00:51, 2014-12-13 02:03:35, 2014-12-13 02:04:12, 2014-12-13 02:57:08, 2014-12-13 02:57:23, 2014-12-13 17:43:02, 2014-12-14 21:33:51, 2014-12-16 02:44:37, 2014-12-17 01:13:36, 2014-12-17 01:13:54, 2014-12-17 06:38:53, 2014-12-17 23:27:48, 2014-12-19 01:00:40, 2014-12-19 05:21:26, 2014-12-19 17:53:53, 2014-12-19 23:59:46, 2014-12-20 00:02:54, 2014-12-20 01:43:02, 2014-12-20 23:47:35, 2014-12-21 00:31:49, 2014-12-21 02:48:31, 2014-12-21 23:42:55, 2014-12-22 17:06:55, 2014-12-22 22:49:09, 2014-12-24 02:25:34, 2014-12-24 22:13:23, 2014-12-24 23:42:36, 2014-12-24 23:53:22, 2014-12-25 00:26:29, 2014-12-25 16:29:13, 2014-12-26 23:37:55, 2014-12-27 01:11:24, 2014-12-27 23:19:18, 2014-12-28 00:13:08, 2014-12-28 00:47:19, 2014-12-28 03:25:38, 2014-12-28 20:00:04, 2014-12-28 21:21:50, 2014-12-29 00:10:05, 2014-12-29 00:34:04, 2014-12-29 18:21:54, 2014-12-29 22:11:49, 2014-12-29 22:54:54, 2014-12-31 17:48:48, 2014-12-31 23:34:24, 2015-01-01 00:37:26, 2015-01-02 00:17:44, 2015-01-02 01:50:04, 2015-01-02 02:06:57, 2015-01-03 01:29:10, 2015-01-03 22:58:15, 2015-01-03 23:39:37, 2015-01-05 04:15:38, 2015-01-05 14:56:41, 2015-01-06 17:47:08, 2015-01-07 02:17:15, 2015-01-09 00:35:12, 2015-01-09 01:28:43, 2015-01-09 01:35:30, 2015-01-10 19:34:28, 2015-01-12 00:29:47, 2015-01-12 23:24:08, 2015-01-14 23:54:40, 2015-01-16 02:26:07, 2015-01-16 23:00:35, 2015-01-18 02:02:56, 2015-01-18 23:38:45, 2015-01-19 20:01:29, 2015-01-19 23:47:38, 2015-01-19 23:58:27, 2015-01-20 01:31:00, 2015-01-22 19:07:28, 2015-01-23 02:27:07, 2015-01-23 03:04:21, 2015-01-24 00:18:53, 2015-01-24 00:34:00, 2015-01-24 00:54:49, 2015-01-24 02:22:14, 2015-01-24 03:15:51, 2015-01-24 03:24:43, 2015-01-25 00:20:04, 2015-01-25 00:53:00, 2015-01-25 01:32:06, 2015-01-25 22:59:34, 2015-01-25 23:13:36, 2015-01-26 23:17:17, 2015-01-28 17:39:26, 2015-01-31 00:15:36, 2015-01-31 01:45:48, 2015-01-31 01:52:05, 2015-01-31 23:30:57, 2015-02-01 23:11:13, 2015-02-05 22:41:06, 2015-02-08 00:11:38, 2015-02-08 00:33:44, 2015-02-08 01:18:50, 2015-02-08 23:39:44, 2015-02-09 23:30:06, 2015-02-11 18:27:16, 2015-02-11 19:01:49, 2015-02-12 01:43:00, 2015-02-13 22:40:47, 2015-02-13 22:57:20, 2015-02-13 23:57:49, 2015-02-14 00:38:30, 2015-02-14 15:28:03, 2015-02-14 23:54:34, 2015-02-15 00:29:58, 2015-02-15 00:44:48, 2015-02-15 01:32:42, 2015-02-15 01:42:40, 2015-02-16 02:45:29, 2015-02-16 16:56:37, 2015-02-16 23:52:08, 2015-02-17 00:27:52, 2015-02-17 18:37:40, 2015-02-17 23:55:34, 2015-02-18 21:22:07, 2015-02-18 22:11:59, 2015-02-20 01:38:05, 2015-02-21 00:08:26, 2015-02-21 01:22:34, 2015-02-21 01:52:44, 2015-02-21 02:10:50, 2015-02-21 23:34:05, 2015-02-22 23:53:16, 2015-02-23 18:37:20, 2015-02-23 23:33:45, 2015-02-24 01:38:16, 2015-02-24 21:48:52, 2015-02-25 17:33:22, 2015-02-27 00:18:51, 2015-02-27 03:15:37, 2015-02-27 22:55:03, 2015-02-28 00:17:08, 2015-02-28 20:38:32, 2015-02-28 22:37:05, 2015-03-01 00:04:39, 2015-03-01 00:39:26, 2015-03-01 01:35:01, 2015-03-01 02:01:30, 2015-03-01 02:17:19, 2015-03-02 00:32:01, 2015-03-02 23:27:15, 2015-03-03 00:35:01, 2015-03-04 01:50:31, 2015-03-05 06:05:22, 2015-03-06 17:08:41, 2015-03-06 22:54:05, 2015-03-06 23:02:50, 2015-03-07 00:32:41, 2015-03-07 22:36:11, 2015-03-07 23:45:19, 2015-03-08 23:17:23, 2015-03-08 23:45:42, 2015-03-09 20:05:37, 2015-03-10 22:56:32, 2015-03-11 23:09:36, 2015-03-11 23:47:36, 2015-03-12 00:58:21, 2015-03-13 23:18:33, 2015-03-13 23:18:37, 2015-03-14 21:07:11, 2015-03-15 01:26:25, 2015-03-16 22:23:17, 2015-03-18 00:44:49, 2015-03-18 00:56:53, 2015-03-18 16:16:48, 2015-03-18 23:43:57, 2015-03-19 15:36:46, 2015-03-20 00:16:10, 2015-03-20 01:04:13, 2015-03-20 18:26:42, 2015-03-21 01:34:02, 2015-03-21 20:00:26, 2015-03-23 01:11:22, 2015-03-23 23:06:30, 2015-03-25 01:57:19, 2015-03-25 18:23:49, 2015-03-26 00:23:38, 2015-03-27 17:54:25, 2015-03-28 00:37:02, 2015-03-28 22:11:16, 2015-03-29 00:55:20, 2015-03-29 01:54:49, 2015-03-29 01:56:03, 2015-03-30 00:11:57, 2015-03-30 21:51:16, 2015-03-30 21:51:52, 2015-03-31 01:22:34, 2015-04-05 01:59:42, 2015-04-07 23:10:16, 2015-04-09 00:00:06, 2015-04-10 16:30:52, 2015-04-10 22:10:27, 2015-04-11 22:34:10, 2015-04-12 19:56:31, 2015-04-12 23:05:58, 2015-04-14 18:50:12, 2015-04-14 21:16:22, 2015-04-14 22:06:25, 2015-04-15 23:02:28, 2015-04-17 00:21:22, 2015-04-17 22:35:42, 2015-04-17 22:49:25, 2015-04-17 23:41:34, 2015-04-18 16:24:52, 2015-04-18 22:28:33, 2015-04-18 23:37:46, 2015-04-19 02:59:58, 2015-04-19 21:06:20, 2015-04-19 22:19:22, 2015-04-20 00:52:38, 2015-04-21 21:42:43, 2015-04-21 22:26:35, 2015-04-22 02:07:02, 2015-04-22 20:32:22, 2015-04-22 23:52:32, 2015-04-23 18:45:19, 2015-04-24 16:59:46, 2015-04-24 22:18:54, 2015-04-24 22:18:54, 2015-04-25 00:10:25, 2015-04-25 22:17:31, 2015-04-25 22:32:27, 2015-04-25 23:40:23, 2015-04-26 01:17:05, 2015-04-26 17:29:30, 2015-04-26 19:37:18, 2015-04-26 20:46:29, 2015-04-27 00:30:52, 2015-04-30 01:32:01, 2015-05-02 21:47:43, 2015-05-03 01:34:15, 2015-05-04 17:14:43, 2015-05-04 23:37:45, 2015-05-06 22:12:23, 2015-05-07 18:41:51, 2015-05-07 21:56:38, 2015-05-07 22:31:49, 2015-05-08 00:56:50, 2015-05-08 01:17:42, 2015-05-09 00:16:45, 2015-05-09 00:32:10, 2015-05-09 01:02:03, 2015-05-09 17:10:05, 2015-05-09 20:57:58, 2015-05-09 23:17:32, 2015-05-10 01:14:04, 2015-05-10 22:36:45, 2015-05-12 00:56:33, 2015-05-13 16:06:49, 2015-05-13 21:56:28, 2015-05-14 21:51:28, 2015-05-14 22:01:36, 2015-05-15 21:42:25, 2015-05-16 00:29:46, 2015-05-16 20:10:26, 2015-05-16 20:48:26, 2015-05-16 23:35:46, 2015-05-17 00:32:49, 2015-05-17 17:42:48, 2015-05-17 23:31:07, 2015-05-18 23:12:49, 2015-05-19 00:30:53, 2015-05-19 22:08:26, 2015-05-19 22:50:29, 2015-05-19 22:51:11, 2015-05-20 22:32:38, 2015-05-21 01:56:25, 2015-05-21 16:42:21, 2015-05-21 23:26:38, 2015-05-22 22:31:06, 2015-05-23 22:28:46, 2015-05-23 22:37:51, 2015-05-24 01:21:10, 2015-05-24 23:50:24, 2015-05-25 01:27:06, 2015-05-26 18:22:20, 2015-05-26 23:45:17, 2015-05-27 17:13:44, 2015-05-27 17:16:14, 2015-05-28 00:06:45, 2015-05-28 15:16:01, 2015-05-28 20:25:45, 2015-05-28 20:26:43, 2015-05-29 22:36:40, 2015-05-30 00:46:11, 2015-05-30 03:22:29, 2015-05-30 03:29:55, 2015-05-30 21:59:05, 2015-05-30 22:01:34, 2015-05-30 22:34:03, 2015-05-31 00:56:38, 2015-05-31 02:17:22, 2015-05-31 22:52:55, 2015-06-02 22:56:37, 2015-06-03 22:00:38, 2015-06-04 23:57:58, 2015-06-05 23:34:38, 2015-06-06 00:40:57, 2015-06-06 00:51:50, 2015-06-06 20:48:49, 2015-06-06 23:06:17, 2015-06-06 23:15:39, 2015-06-07 01:17:50, 2015-06-07 20:39:15, 2015-06-09 00:00:04, 2015-06-11 18:19:24, 2015-06-11 23:23:12, 2015-06-12 23:33:36, 2015-06-14 00:19:11, 2015-06-14 01:49:53, 2015-06-15 22:56:40, 2015-06-16 22:19:02, 2015-06-17 15:15:27, 2015-06-17 21:11:34, 2015-06-17 21:46:33, 2015-06-17 22:16:58, 2015-06-17 22:24:50, 2015-06-17 23:08:56, 2015-06-17 23:44:32, 2015-06-18 23:28:39, 2015-06-19 14:47:53, 2015-06-20 20:28:05, 2015-06-20 20:53:57, 2015-06-20 23:35:11, 2015-06-21 00:29:00, 2015-06-21 01:55:43, 2015-06-21 03:17:00, 2015-06-21 22:50:58, 2015-06-22 00:31:51, 2015-06-23 00:33:48, 2015-06-25 16:11:20, 2015-06-25 16:39:45, 2015-06-25 22:20:50, 2015-06-27 00:22:15, 2015-06-27 01:57:35, 2015-06-27 21:31:31, 2015-06-27 22:08:50, 2015-06-27 22:39:13, 2015-06-28 01:01:27, 2015-06-28 01:15:44, 2015-06-28 23:39:40, 2015-06-29 00:06:03, 2015-06-30 17:49:13, 2015-07-01 00:48:25, 2015-07-01 23:56:26, 2015-07-02 00:02:41, 2015-07-03 20:43:26, 2015-07-04 01:55:17, 2015-07-05 17:47:17, 2015-07-07 20:12:21, 2015-07-08 16:19:02, 2015-07-08 23:00:04, 2015-07-08 23:18:09, 2015-07-10 21:48:59, 2015-07-10 21:49:32, 2015-07-10 22:29:28, 2015-07-11 01:18:45, 2015-07-11 15:27:43, 2015-07-11 18:36:36, 2015-07-11 20:42:38, 2015-07-13 01:15:29, 2015-07-14 18:22:19, 2015-07-15 21:18:48, 2015-07-16 02:19:25, 2015-07-16 17:51:02, 2015-07-16 22:05:39, 2015-07-17 22:16:28, 2015-07-17 22:37:44, 2015-07-18 01:29:58, 2015-07-18 21:39:25, 2015-07-19 00:30:48, 2015-07-19 16:21:58, 2015-07-20 15:58:16, 2015-07-22 17:07:01, 2015-07-22 20:15:36, 2015-07-22 22:53:30, 2015-07-23 00:21:03, 2015-07-24 00:29:36, 2015-07-25 18:35:36, 2015-07-25 22:56:01, 2015-07-26 01:46:26, 2015-07-27 22:42:02, 2015-07-27 22:45:45, 2015-07-28 00:04:04, 2015-07-28 02:13:47, 2015-07-28 21:59:44, 2015-07-28 22:10:14, 2015-07-28 22:11:19, 2015-07-28 22:59:58, 2015-07-29 00:11:48, 2015-07-29 00:49:00, 2015-07-29 20:25:03, 2015-07-29 21:08:16, 2015-07-29 23:03:51, 2015-07-30 14:45:55, 2015-07-31 00:17:04, 2015-07-31 23:02:01, 2015-08-01 00:33:12, 2015-08-01 21:47:04, 2015-08-02 16:03:59, 2015-08-02 21:23:04, 2015-08-02 23:08:10, 2015-08-03 01:15:35, 2015-08-04 00:04:30, 2015-08-04 22:07:14, 2015-08-05 00:10:22, 2015-08-05 20:17:06, 2015-08-05 20:18:20, 2015-08-05 20:18:23, 2015-08-05 23:55:01, 2015-08-06 21:50:22, 2015-08-08 00:25:33, 2015-08-08 16:58:13, 2015-08-08 20:53:54, 2015-08-08 22:54:02, 2015-08-09 02:39:13, 2015-08-09 19:16:50, 2015-08-10 23:41:17, 2015-08-11 23:21:45, 2015-08-12 01:05:26, 2015-08-12 01:28:38, 2015-08-12 17:35:37, 2015-08-13 16:30:31, 2015-08-13 17:42:31, 2015-08-14 15:59:09, 2015-08-14 21:17:10, 2015-08-15 00:28:57, 2015-08-17 01:27:39, 2015-08-17 22:33:12, 2015-08-18 22:22:41, 2015-08-19 21:38:38, 2015-08-19 22:24:19, 2015-08-19 22:52:01, 2015-08-20 00:13:38, 2015-08-20 01:42:53, 2015-08-20 16:07:22, 2015-08-20 22:05:10, 2015-08-20 23:49:20, 2015-08-21 17:37:38, 2015-08-21 17:57:44, 2015-08-22 01:05:52, 2015-08-22 21:14:50, 2015-08-22 21:20:30, 2015-08-23 02:09:06, 2015-08-23 23:19:51, 2015-08-24 00:09:55, 2015-08-24 23:02:46, 2015-08-26 23:06:13, 2015-08-27 22:07:45, 2015-08-27 22:47:00, 2015-08-27 23:06:07, 2015-08-27 23:57:04, 2015-08-28 21:56:28, 2015-08-29 00:28:56, 2015-08-29 00:32:08, 2015-08-29 01:02:39, 2015-08-29 01:46:06, 2015-08-29 17:28:52, 2015-08-29 21:30:56, 2015-08-30 00:40:03, 2015-08-30 00:51:58, 2015-08-30 19:13:44, 2015-09-01 00:18:07, 2015-09-01 02:41:16, 2015-09-01 21:33:09, 2015-09-02 01:03:56, 2015-09-02 19:48:27, 2015-09-02 21:38:14, 2015-09-02 21:58:41, 2015-09-03 16:44:32, 2015-09-04 04:52:20, 2015-09-04 16:50:54, 2015-09-05 03:38:52, 2015-09-05 03:49:53, 2015-09-05 16:23:26, 2015-09-05 23:24:05, 2015-09-06 00:26:31, 2015-09-06 17:11:55, 2015-09-06 21:21:47, 2015-09-07 00:07:33, 2015-09-07 17:23:08, 2015-09-07 21:57:38, 2015-09-07 22:50:10, 2015-09-08 00:16:06, 2015-09-08 17:16:40, 2015-09-08 18:50:22, 2015-09-08 23:19:47, 2015-09-11 00:03:24, 2015-09-11 22:17:02, 2015-09-11 23:30:54, 2015-09-12 21:15:15, 2015-09-13 00:41:41, 2015-09-13 20:49:10, 2015-09-13 23:48:16, 2015-09-14 23:01:44, 2015-09-15 20:42:03, 2015-09-17 22:33:23, 2015-09-19 22:51:36, 2015-09-20 00:16:19, 2015-09-21 15:15:29, 2015-09-21 16:42:08, 2015-09-22 00:48:07, 2015-09-23 15:45:14, 2015-09-25 21:04:53, 2015-09-25 21:08:12, 2015-09-26 17:13:42, 2015-09-27 16:47:23, 2015-09-27 23:26:54, 2015-09-28 00:13:41, 2015-09-28 23:04:10, 2015-09-29 03:16:17, 2015-09-30 01:08:34, 2015-09-30 22:03:58, 2015-09-30 22:39:21, 2015-09-30 23:10:29, 2015-10-01 00:28:59, 2015-10-01 01:00:24, 2015-10-02 00:00:21, 2015-10-02 22:14:13, 2015-10-03 01:19:00, 2015-10-03 02:44:29, 2015-10-03 18:57:34, 2015-10-03 23:00:17, 2015-10-03 23:04:28, 2015-10-04 19:07:45, 2015-10-04 21:33:15, 2015-10-06 16:21:21, 2015-10-07 01:05:06, 2015-10-07 15:33:45, 2015-10-08 00:58:02, 2015-10-08 22:29:40, 2015-10-08 23:07:43, 2015-10-09 23:34:27, 2015-10-12 23:04:34, 2015-10-12 23:22:15, 2015-10-13 15:36:42, 2015-10-13 15:53:12, 2015-10-13 22:42:07, 2015-10-14 15:06:26, 2015-10-16 00:20:54, 2015-10-16 20:51:03, 2015-10-17 00:17:26, 2015-10-17 17:19:01, 2015-10-17 17:25:42, 2015-10-17 21:05:11, 2015-10-17 23:06:12, 2015-10-18 17:37:15, 2015-10-18 22:17:00, 2015-10-18 22:35:55, 2015-10-19 00:31:28, 2015-10-19 00:39:37, 2015-10-19 00:55:13, 2015-10-21 18:18:53, 2015-10-21 23:44:34, 2015-10-23 01:09:31, 2015-10-23 19:46:43, 2015-10-23 22:33:24, 2015-10-24 00:23:20, 2015-10-25 22:23:57, 2015-10-26 00:57:40, 2015-10-26 20:45:32, 2015-10-26 23:54:43, 2015-10-27 17:02:01, 2015-10-28 22:33:21, 2015-10-29 00:21:26, 2015-10-29 17:03:56, 2015-10-29 23:12:02, 2015-10-31 00:59:33, 2015-10-31 22:36:09, 2015-10-31 23:51:53, 2015-11-01 16:51:19, 2015-11-02 00:34:38, 2015-11-02 16:20:18, 2015-11-02 22:26:25, 2015-11-03 17:37:36, 2015-11-04 18:00:40, 2015-11-05 00:58:00, 2015-11-05 01:06:46, 2015-11-07 23:27:07, 2015-11-08 01:45:36, 2015-11-08 02:54:23, 2015-11-08 22:02:08, 2015-11-08 22:28:06, 2015-11-10 00:29:34, 2015-11-10 17:00:09, 2015-11-10 18:31:52, 2015-11-11 23:13:39, 2015-11-12 01:11:29, 2015-11-12 23:17:21, 2015-11-14 01:30:47, 2015-11-16 00:46:25, 2015-11-16 22:49:49, 2015-11-16 23:17:16, 2015-11-16 23:58:35, 2015-11-16 23:58:40, 2015-11-17 00:04:14, 2015-11-17 16:49:28, 2015-11-18 20:32:45, 2015-11-19 18:04:38, 2015-11-20 18:30:06, 2015-11-21 13:42:43, 2015-11-21 19:48:10, 2015-11-21 23:12:17, 2015-11-22 00:57:58, 2015-11-22 23:41:35, 2015-11-23 00:39:05, 2015-11-24 21:41:49, 2015-11-25 23:50:43, 2015-11-28 22:08:21, 2015-11-28 22:11:47, 2015-11-29 00:54:49, 2015-11-29 22:09:39, 2015-11-29 23:01:19, 2015-11-30 00:32:42, 2015-12-01 00:43:55, 2015-12-01 22:48:03, 2015-12-02 19:40:16, 2015-12-03 00:17:34, 2015-12-03 14:36:19, 2015-12-04 14:24:26, 2015-12-05 02:21:38, 2015-12-05 14:16:26, 2015-12-06 00:02:53, 2015-12-06 00:14:28, 2015-12-06 00:16:44, 2015-12-06 01:14:52, 2015-12-06 23:44:32, 2015-12-07 01:07:40, 2015-12-08 02:00:14, 2015-12-08 22:46:18, 2015-12-09 02:21:32, 2015-12-09 03:01:24, 2015-12-09 23:43:01, 2015-12-10 22:09:52, 2015-12-10 22:56:15, 2015-12-11 03:18:09, 2015-12-12 00:29:16, 2015-12-12 02:31:13, 2015-12-12 22:04:57, 2015-12-14 01:01:58, 2015-12-15 19:21:09, 2015-12-17 22:23:32, 2015-12-17 22:25:04, 2015-12-18 00:13:50, 2015-12-18 23:56:40, 2015-12-19 17:53:22, 2015-12-20 03:24:19, 2015-12-21 01:26:27, 2015-12-21 22:28:52, 2015-12-21 22:44:31, 2015-12-22 00:49:05, 2015-12-22 18:35:27, 2015-12-23 20:29:21, 2015-12-24 02:18:09, 2015-12-25 01:02:16, 2015-12-25 02:08:18, 2015-12-25 21:24:10, 2015-12-25 23:06:26, 2015-12-26 21:34:29, 2015-12-26 23:18:49, 2015-12-27 00:14:30, 2015-12-27 02:31:16, 2015-12-27 19:15:54, 2015-12-27 20:39:48, 2015-12-27 21:21:23, 2015-12-28 00:47:07, 2015-12-28 00:59:49, 2015-12-28 22:38:47, 2015-12-29 01:41:09, 2015-12-29 01:48:36, 2015-12-31 02:24:09, 2015-12-31 23:30:14, 2016-01-01 00:16:46, 2016-01-01 23:37:06, 2016-01-01 23:56:11, 2016-01-02 00:09:15, 2016-01-02 00:31:22, 2016-01-02 00:31:41, 2016-01-02 01:35:24, 2016-01-02 01:45:48, 2016-01-02 03:25:50, 2016-01-02 19:06:29, 2016-01-02 20:18:17, 2016-01-05 01:42:55, 2016-01-08 00:28:52, 2016-01-08 21:57:44, 2016-01-10 00:24:19, 2016-01-10 00:46:58, 2016-01-12 17:45:25, 2016-01-14 00:53:36, 2016-01-16 00:40:14, 2016-01-16 02:48:20, 2016-01-17 20:28:13, 2016-01-18 19:25:13, 2016-01-20 18:20:56, 2016-01-20 23:19:36, 2016-01-21 18:45:25, 2016-01-21 20:00:02, 2016-01-22 03:01:01, 2016-01-22 18:23:26, 2016-01-23 23:02:31, 2016-01-26 18:53:55, 2016-01-28 00:31:53, 2016-01-29 02:12:17, 2016-01-29 02:46:38, 2016-01-29 22:56:19, 2016-01-29 22:58:59, 2016-01-30 19:09:30, 2016-01-30 23:38:40, 2016-01-31 03:14:48, 2016-01-31 22:34:21, 2016-02-04 16:35:17, 2016-02-04 21:53:55, 2016-02-05 22:25:14, 2016-02-06 03:36:46, 2016-02-06 21:43:50, 2016-02-06 23:54:31, 2016-02-07 01:35:50, 2016-02-07 18:07:23, 2016-02-08 22:13:42, 2016-02-09 00:38:46, 2016-02-09 23:44:28, 2016-02-11 00:40:56, 2016-02-12 22:40:56, 2016-02-14 15:52:46, 2016-02-14 19:43:39, 2016-02-17 00:08:42, 2016-02-19 00:02:40, 2016-02-19 00:49:11, 2016-02-19 00:49:11, 2016-02-21 01:40:58, 2016-02-21 02:29:07, 2016-02-21 23:52:46, 2016-02-24 00:51:31, 2016-02-26 01:06:43, 2016-02-26 01:07:59, 2016-02-26 01:35:06, 2016-02-26 17:23:09, 2016-02-26 23:26:47, 2016-02-26 23:47:43, 2016-02-27 23:22:59, 2016-02-29 01:13:38, 2016-03-01 00:14:33, 2016-03-01 23:05:13, 2016-03-02 17:48:43, 2016-03-02 23:53:27, 2016-03-07 00:49:41, 2016-03-07 22:56:41, 2016-03-08 01:01:44, 2016-03-09 22:16:44, 2016-03-10 17:27:41, 2016-03-10 20:28:21, 2016-03-11 23:06:02, 2016-03-12 19:02:39, 2016-03-12 22:58:40, 2016-03-12 23:30:32, 2016-03-13 00:08:00, 2016-03-14 01:06:32, 2016-03-15 22:36:59, 2016-03-16 22:53:13, 2016-03-17 23:05:45, 2016-03-22 14:47:29, 2016-03-22 15:40:33, 2016-03-24 21:08:22, 2016-03-25 01:18:00, 2016-03-25 23:20:52, 2016-03-26 21:43:04, 2016-03-28 23:15:32, 2016-03-29 00:02:33, 2016-03-29 16:06:13, 2016-03-31 17:07:48, 2016-03-31 23:43:00, 2016-03-31 23:58:50, 2016-04-01 00:01:22, 2016-04-01 22:13:13, 2016-04-02 01:47:13, 2016-04-02 22:03:19, 2016-04-04 15:24:06, 2016-04-06 00:46:24, 2016-04-08 00:15:17, 2016-04-08 00:27:24, 2016-04-08 23:05:58, 2016-04-09 11:48:22, 2016-04-09 21:30:38, 2016-04-09 22:42:20, 2016-04-10 02:26:02, 2016-04-10 23:03:14, 2016-04-11 21:48:00, 2016-04-12 23:46:17, 2016-04-14 00:07:26, 2016-04-14 00:13:03, 2016-04-14 21:53:03, 2016-04-16 00:05:24, 2016-04-16 01:13:52, 2016-04-16 02:52:38, 2016-04-16 23:58:58, 2016-04-17 00:46:30, 2016-04-17 19:03:10, 2016-04-18 20:55:55, 2016-04-20 22:00:54, 2016-04-21 23:08:27, 2016-04-22 00:03:59, 2016-04-25 17:22:16, 2016-04-29 23:18:22, 2016-04-30 22:37:35, 2016-04-30 22:55:44, 2016-05-01 21:42:05, 2016-05-02 22:50:43, 2016-05-03 02:29:48, 2016-05-05 00:17:14, 2016-05-06 22:18:24, 2016-05-06 23:36:46, 2016-05-06 23:38:13, 2016-05-07 23:44:45, 2016-05-08 01:02:41, 2016-05-08 01:45:31, 2016-05-08 15:35:50, 2016-05-09 22:40:51, 2016-05-10 23:12:56, 2016-05-12 01:18:27, 2016-05-12 16:51:40, 2016-05-13 21:44:42, 2016-05-13 23:37:59, 2016-05-14 01:39:02, 2016-05-14 21:25:52, 2016-05-15 00:07:11, 2016-05-16 00:51:07, 2016-05-19 17:56:31, 2016-05-20 21:09:19, 2016-05-20 22:33:07, 2016-05-20 22:58:38, 2016-05-20 23:43:12, 2016-05-20 23:53:36, 2016-05-21 01:56:35, 2016-05-21 02:52:39, 2016-05-21 21:06:03, 2016-05-22 21:11:38, 2016-05-23 21:30:11, 2016-05-23 21:51:50, 2016-05-25 00:13:47, 2016-05-25 22:15:06, 2016-05-25 23:11:08, 2016-05-27 16:29:20, 2016-05-28 18:08:28, 2016-05-29 19:29:53, 2016-05-31 22:51:20, 2016-06-03 17:56:15, 2016-06-04 01:16:10, 2016-06-04 14:52:48, 2016-06-05 23:58:12, 2016-06-08 17:19:10, 2016-06-08 21:40:41, 2016-06-08 21:42:04, 2016-06-09 01:54:37, 2016-06-11 22:17:47, 2016-06-12 01:10:10, 2016-06-13 15:39:59, 2016-06-15 16:39:41, 2016-06-16 00:02:29, 2016-06-17 01:59:59, 2016-06-17 02:01:55, 2016-06-20 23:19:28, 2016-06-21 00:10:25, 2016-06-22 23:06:35, 2016-06-23 16:44:45, 2016-06-24 00:17:06, 2016-06-24 19:09:16, 2016-06-24 23:46:02, 2016-06-25 03:02:32, 2016-06-25 22:13:12, 2016-06-26 20:44:26, 2016-06-27 22:44:33, 2016-06-28 01:59:32, 2016-06-28 21:28:50, 2016-06-28 22:19:37, 2016-06-29 16:49:09, 2016-06-29 22:26:21, 2016-06-30 16:53:11, 2016-06-30 22:24:14, 2016-07-01 01:47:57, 2016-07-01 18:36:38, 2016-07-02 00:10:53, 2016-07-02 18:49:45, 2016-07-04 00:05:52, 2016-07-04 22:42:31, 2016-07-04 23:15:57, 2016-07-06 21:27:05, 2016-07-06 23:49:15, 2016-07-07 00:16:32, 2016-07-07 15:47:20, 2016-07-07 18:18:35, 2016-07-07 19:47:06, 2016-07-08 01:51:04, 2016-07-08 02:10:42, 2016-07-08 17:18:46, 2016-07-09 19:10:19, 2016-07-09 23:49:13, 2016-07-10 01:02:40, 2016-07-10 02:02:21, 2016-07-10 02:02:49, 2016-07-10 02:03:11, 2016-07-10 03:11:36, 2016-07-11 16:13:26, 2016-07-11 18:01:45, 2016-07-14 01:21:54, 2016-07-14 21:24:26, 2016-07-14 21:25:17, 2016-07-17 21:42:04, 2016-07-17 22:22:32, 2016-07-18 20:47:22, 2016-07-18 20:57:06, 2016-07-19 00:40:34, 2016-07-20 01:10:58, 2016-07-20 22:29:57, 2016-07-22 01:24:01, 2016-07-22 20:15:41, 2016-07-23 01:22:04, 2016-07-23 21:56:48, 2016-07-24 02:07:40, 2016-07-24 19:07:21, 2016-07-26 15:56:48, 2016-07-29 15:31:11, 2016-07-29 21:18:30, 2016-07-29 23:44:15, 2016-07-30 00:18:47, 2016-07-30 16:04:17, 2016-07-30 23:16:43, 2016-08-01 22:33:43, 2016-08-02 20:01:40, 2016-08-03 17:06:32, 2016-08-03 21:42:09, 2016-08-06 23:19:26, 2016-08-07 02:04:39, 2016-08-08 23:46:32, 2016-08-08 23:53:43, 2016-08-09 00:15:26, 2016-08-10 00:54:17, 2016-08-10 15:46:33, 2016-08-12 21:23:37, 2016-08-12 22:35:16, 2016-08-14 00:09:53, 2016-08-14 00:13:10, 2016-08-14 21:04:31, 2016-08-16 00:05:06, 2016-08-19 23:23:48, 2016-08-20 23:29:20, 2016-08-24 14:38:32, 2016-08-27 22:24:46, 2016-09-01 00:41:59, 2016-09-01 00:43:49, 2016-09-02 00:20:08, 2016-09-02 00:28:22, 2016-09-02 16:48:07, 2016-09-03 16:15:03, 2016-09-03 23:11:23, 2016-09-04 20:51:47, 2016-09-07 16:15:38, 2016-09-07 23:18:54, 2016-09-08 00:12:57, 2016-09-10 13:48:56, 2016-09-11 00:26:59, 2016-09-11 01:38:26, 2016-09-11 16:44:55, 2016-09-15 17:48:31, 2016-09-15 20:23:42, 2016-09-18 00:21:02, 2016-09-18 01:13:45, 2016-09-18 23:00:10, 2016-09-19 23:14:29, 2016-09-20 23:46:23, 2016-09-21 01:47:31, 2016-09-21 21:37:54, 2016-09-21 22:09:23, 2016-09-21 23:44:44, 2016-09-22 23:00:04, 2016-09-23 00:07:06, 2016-09-23 16:29:35, 2016-09-23 21:26:47, 2016-09-25 00:49:17, 2016-09-25 23:35:58, 2016-09-26 01:26:12, 2016-09-27 01:45:57, 2016-09-28 02:02:26, 2016-09-29 21:47:31, 2016-09-30 21:29:57, 2016-09-30 23:19:40, 2016-10-01 23:40:11, 2016-10-02 01:24:29, 2016-10-03 01:49:12, 2016-10-03 16:39:52, 2016-10-03 21:46:30, 2016-10-04 01:07:02, 2016-10-06 23:22:22, 2016-10-07 17:04:25, 2016-10-08 00:00:26, 2016-10-08 01:23:05, 2016-10-08 14:36:25, 2016-10-08 16:33:42, 2016-10-08 17:24:40, 2016-10-08 17:54:36, 2016-10-10 00:09:09, 2016-10-10 20:03:13, 2016-10-11 00:41:19, 2016-10-11 22:57:24, 2016-10-12 22:11:14, 2016-10-14 00:56:51, 2016-10-14 23:03:02, 2016-10-14 23:51:51, 2016-10-15 01:35:57, 2016-10-15 21:39:39, 2016-10-16 03:23:55, 2016-10-16 19:05:14, 2016-10-16 20:01:52, 2016-10-18 01:24:18, 2016-10-19 23:32:59, 2016-10-21 21:45:48, 2016-10-21 21:46:16, 2016-10-22 22:00:39, 2016-10-22 22:08:13, 2016-10-23 22:13:58, 2016-10-23 23:13:07, 2016-10-25 22:49:14, 2016-10-25 22:50:09, 2016-10-25 23:20:55, 2016-10-25 23:21:38, 2016-10-26 22:45:07, 2016-10-28 02:25:24, 2016-10-28 16:48:45, 2016-10-29 00:26:40, 2016-10-29 23:58:34, 2016-10-30 00:08:43, 2016-10-30 00:16:56, 2016-10-30 01:57:23, 2016-10-30 01:57:27, 2016-10-30 17:20:45, 2016-10-31 22:28:31, 2016-11-02 00:23:17, 2016-11-03 19:17:26, 2016-11-04 17:08:52, 2016-11-04 21:10:34, 2016-11-05 01:08:39, 2016-11-05 22:04:45, 2016-11-09 17:10:10, 2016-11-11 00:23:45, 2016-11-11 23:31:44, 2016-11-12 00:43:42, 2016-11-12 17:50:29, 2016-11-12 19:31:54, 2016-11-12 19:42:05, 2016-11-13 01:08:49, 2016-11-13 16:57:56, 2016-11-14 22:49:27, 2016-11-15 00:34:25, 2016-11-15 01:26:02, 2016-11-16 23:35:31, 2016-11-18 20:53:48, 2016-11-19 00:20:29, 2016-11-19 00:46:16, 2016-11-19 23:13:03, 2016-11-20 22:15:09, 2016-11-21 00:18:21, 2016-11-21 01:02:36, 2016-11-21 20:14:49, 2016-11-21 23:37:19, 2016-11-25 03:04:17, 2016-11-25 21:57:06, 2016-11-26 03:17:30, 2016-11-26 21:47:28, 2016-11-28 21:33:03, 2016-11-29 01:56:21, 2016-11-29 02:40:05, 2016-11-29 05:00:28, 2016-11-30 03:35:37, 2016-11-30 23:09:52, 2016-12-02 02:42:38, 2016-12-04 00:11:13, 2016-12-04 01:35:08, 2016-12-04 01:37:05, 2016-12-04 01:40:03, 2016-12-04 03:36:37, 2016-12-04 03:37:45, 2016-12-05 17:26:06, 2016-12-05 22:21:19, 2016-12-06 01:21:03, 2016-12-06 04:57:06, 2016-12-06 17:09:22, 2016-12-07 00:00:22, 2016-12-07 02:07:22, 2016-12-07 23:38:22, 2016-12-09 18:20:33, 2016-12-09 23:44:26, 2016-12-10 00:06:04, 2016-12-10 03:10:07, 2016-12-10 21:04:32, 2016-12-11 03:25:15, 2016-12-11 17:30:43, 2016-12-13 20:23:50, 2016-12-13 22:50:46, 2016-12-14 00:58:42, 2016-12-15 02:19:37, 2016-12-16 00:27:20, 2016-12-16 18:45:55, 2016-12-16 20:21:39, 2016-12-18 23:44:53, 2016-12-23 00:01:17, 2016-12-23 21:45:29, 2016-12-23 21:57:57, 2016-12-24 01:08:07, 2016-12-24 19:51:28, 2016-12-27 21:18:17, 2016-12-27 22:20:50, 2016-12-28 03:38:56, 2016-12-28 22:02:14, 2016-12-29 22:10:53, 2016-12-30 02:02:37, 2016-12-30 19:55:31, 2016-12-31 00:33:35, 2017-01-01 01:44:01, 2017-01-01 03:16:31, 2017-01-01 15:25:21, 2017-01-01 15:41:43, 2017-01-01 22:43:25, 2017-01-02 00:24:06, 2017-01-02 22:31:23, 2017-01-04 17:31:12, 2017-01-05 01:18:57, 2017-01-05 21:39:25, 2017-01-05 23:38:43, 2017-01-05 23:39:38, 2017-01-06 01:33:40, 2017-01-06 23:09:28, 2017-01-07 00:48:24, 2017-01-07 22:34:56, 2017-01-08 23:51:29, 2017-01-09 16:46:33, 2017-01-09 17:45:14, 2017-01-11 00:18:31, 2017-01-12 19:53:15, 2017-01-14 16:52:36, 2017-01-15 00:23:04, 2017-01-15 02:56:35, 2017-01-15 17:52:53, 2017-01-15 21:24:57, 2017-01-19 00:27:33, 2017-01-19 17:04:55, 2017-01-20 01:25:03, 2017-01-20 19:48:47, 2017-01-22 01:10:32, 2017-01-22 01:11:37, 2017-01-22 01:35:05, 2017-01-22 03:10:06, 2017-01-23 18:53:55, 2017-01-25 15:23:28, 2017-01-25 18:00:34, 2017-01-26 01:04:31, 2017-01-26 18:13:18, 2017-01-26 22:51:41, 2017-01-29 00:21:57, 2017-01-29 03:22:10, 2017-02-02 23:50:12, 2017-02-03 20:40:27, 2017-02-04 01:36:13, 2017-02-04 03:29:04, 2017-02-04 03:29:06, 2017-02-04 03:55:48, 2017-02-09 00:27:22, 2017-02-09 22:46:30, 2017-02-09 23:36:53, 2017-02-10 03:57:44, 2017-02-11 23:08:52, 2017-02-12 00:34:23, 2017-02-13 18:16:14, 2017-02-14 06:07:13, 2017-02-17 17:51:22, 2017-02-18 03:07:18, 2017-02-18 23:49:16, 2017-02-19 00:22:36, 2017-02-19 20:09:30, 2017-02-19 23:31:35, 2017-02-20 17:33:28, 2017-02-23 18:52:29, 2017-02-25 01:34:41, 2017-02-25 22:08:30, 2017-03-02 17:41:28, 2017-03-02 20:38:32, 2017-03-03 01:42:14, 2017-03-05 01:18:02, 2017-03-05 18:57:30, 2017-03-05 20:40:13, 2017-03-06 23:14:30, 2017-03-07 20:56:01, 2017-03-10 17:24:06, 2017-03-12 01:34:03, 2017-03-12 22:33:32, 2017-03-12 23:45:47, 2017-03-14 22:46:06, 2017-03-18 01:03:09, 2017-03-18 23:34:49, 2017-03-21 19:24:50, 2017-03-24 21:06:11, 2017-03-25 19:49:12, 2017-03-25 22:35:17, 2017-03-26 00:02:39, 2017-03-30 18:30:40, 2017-03-31 00:06:15, 2017-03-31 00:07:17, 2017-03-31 14:51:39, 2017-04-01 00:12:26, 2017-04-02 02:30:36, 2017-04-03 00:38:57, 2017-04-03 01:06:43, 2017-04-03 15:49:09, 2017-04-06 21:00:25, 2017-04-08 20:48:10, 2017-04-08 23:44:25, 2017-04-09 02:58:08, 2017-04-11 23:33:32, 2017-04-13 17:49:38, 2017-04-14 23:35:48, 2017-04-15 02:51:23, 2017-04-15 20:35:08, 2017-04-15 23:31:49, 2017-04-15 23:41:50, 2017-04-15 23:42:10, 2017-04-16 18:35:59, 2017-04-16 18:40:45, 2017-04-16 20:01:07, 2017-04-18 19:06:25, 2017-04-18 22:19:06, 2017-04-21 01:11:27, 2017-04-22 00:19:15, 2017-04-22 02:01:47, 2017-04-23 01:22:40, 2017-04-23 16:57:04, 2017-04-23 22:44:55, 2017-04-24 00:24:49, 2017-04-29 02:42:23, 2017-04-29 22:40:02, 2017-04-30 01:52:11, 2017-04-30 02:51:25, 2017-05-01 22:32:33, 2017-05-03 02:30:14, 2017-05-05 23:04:47, 2017-05-06 18:43:07, 2017-05-07 02:28:14, 2017-05-11 15:55:18, 2017-05-11 20:40:15, 2017-05-11 22:52:20, 2017-05-14 00:52:56, 2017-05-14 04:15:52, 2017-05-15 22:22:39, 2017-05-16 23:57:47, 2017-05-17 18:07:33, 2017-05-21 03:05:39, 2017-05-22 00:44:39, 2017-05-26 23:28:24, 2017-05-28 01:38:25, 2017-05-28 23:39:42, 2017-05-29 17:24:13, 2017-05-30 20:53:30, 2017-05-30 23:24:51, 2017-05-31 16:20:37, 2017-05-31 23:27:17, 2017-06-01 02:23:43, 2017-06-04 01:44:28, 2017-06-04 02:46:48, 2017-06-04 22:28:41, 2017-06-05 23:52:58, 2017-06-09 16:27:33, 2017-06-09 19:38:28, 2017-06-09 22:14:55, 2017-06-09 23:31:31, 2017-06-10 23:41:59, 2017-06-11 02:16:32, 2017-06-11 02:17:53, 2017-06-11 19:07:29, 2017-06-11 19:16:03, 2017-06-12 17:17:46, 2017-06-12 20:42:46, 2017-06-15 17:45:11, 2017-06-16 01:30:50, 2017-06-16 18:57:21, 2017-06-18 18:03:30, 2017-06-18 23:20:19, 2017-06-20 00:05:48, 2017-06-20 00:09:46, 2017-06-20 15:54:08, 2017-06-20 22:28:47, 2017-06-21 22:52:06, 2017-06-21 22:54:22, 2017-06-22 16:47:08, 2017-06-24 22:53:34, 2017-06-25 00:02:32, 2017-06-26 16:28:00, 2017-06-27 02:19:17, 2017-06-27 23:34:52, 2017-06-28 15:59:41, 2017-06-28 23:15:59, 2017-07-02 00:11:17, 2017-07-02 01:28:37, 2017-07-02 23:29:27, 2017-07-03 18:44:25, 2017-07-04 02:41:13, 2017-07-05 00:33:37, 2017-07-06 22:11:01, 2017-07-08 01:04:47, 2017-07-08 01:52:38, 2017-07-08 23:05:27, 2017-07-09 00:41:24, 2017-07-09 23:11:15, 2017-07-10 16:45:47, 2017-07-12 16:41:45, 2017-07-12 21:28:41, 2017-07-12 21:41:04, 2017-07-12 22:11:51, 2017-07-13 01:10:30, 2017-07-13 23:00:32, 2017-07-14 16:44:00, 2017-07-15 00:23:09, 2017-07-15 00:37:58, 2017-07-15 20:54:59, 2017-07-16 21:47:11, 2017-07-17 20:48:46, 2017-07-19 21:07:11, 2017-07-19 22:01:53, 2017-07-20 21:17:41, 2017-07-21 16:26:50, 2017-07-21 16:51:19, 2017-07-21 22:32:57, 2017-07-22 00:18:51, 2017-07-22 22:57:29, 2017-07-22 23:30:53, 2017-07-23 15:31:07, 2017-07-23 17:15:53, 2017-07-23 17:36:32, 2017-07-23 21:44:28, 2017-07-24 15:59:43, 2017-07-24 23:09:14, 2017-07-25 19:23:24, 2017-07-27 22:09:24, 2017-07-28 18:52:30, 2017-07-28 22:06:25, 2017-07-29 20:21:39, 2017-07-29 20:22:21, 2017-07-29 23:40:13, 2017-07-30 18:09:09, 2017-07-30 23:55:38, 2017-08-01 23:06:05, 2017-08-02 21:35:38, 2017-08-02 22:30:12, 2017-08-02 22:51:36, 2017-08-02 23:09:38, 2017-08-03 00:11:51, 2017-08-03 16:40:41, 2017-08-03 23:22:23, 2017-08-04 17:24:09, 2017-08-05 01:10:35, 2017-08-05 19:19:46, 2017-08-07 23:20:34, 2017-08-08 00:36:38, 2017-08-09 22:24:43, 2017-08-10 21:57:44, 2017-08-10 23:16:14, 2017-08-11 23:51:45, 2017-08-12 01:25:19, 2017-08-12 01:40:05, 2017-08-14 15:38:27, 2017-08-14 20:51:09, 2017-08-14 23:16:07, 2017-08-21 22:05:39, 2017-08-22 01:04:32, 2017-08-22 22:12:37, 2017-08-24 23:30:28, 2017-08-25 01:37:38, 2017-08-25 02:28:08, 2017-08-25 21:18:39, 2017-08-28 16:14:44, 2017-08-28 17:55:59, 2017-08-29 23:59:43, 2017-08-30 00:00:41, 2017-08-30 18:11:39, 2017-08-30 21:26:53, 2017-09-03 19:17:07, 2017-09-04 20:33:38, 2017-09-04 21:24:28, 2017-09-05 23:28:43, 2017-09-06 23:49:47, 2017-09-08 22:00:14, 2017-09-10 23:01:52, 2017-09-11 01:19:44, 2017-09-14 18:42:35, 2017-09-15 21:50:41, 2017-09-16 02:12:51, 2017-09-18 21:16:06, 2017-09-18 21:27:28, 2017-09-19 21:50:11, 2017-09-20 22:31:20, 2017-09-20 22:41:49, 2017-09-21 16:37:02, 2017-09-22 01:22:13, 2017-09-22 22:48:01, 2017-09-24 22:55:02, 2017-09-25 17:32:51, 2017-09-29 18:41:55, 2017-09-30 22:50:23, 2017-10-03 16:13:52, 2017-10-04 02:35:23, 2017-10-06 23:59:52, 2017-10-07 00:34:31, 2017-10-08 18:56:18, 2017-10-08 23:03:31, 2017-10-08 23:45:19, 2017-10-09 23:55:39, 2017-10-11 16:55:33, 2017-10-11 23:18:29, 2017-10-13 21:50:10, 2017-10-13 23:42:00, 2017-10-13 23:43:25, 2017-10-13 23:51:41, 2017-10-14 01:15:10, 2017-10-15 01:54:58, 2017-10-15 16:46:17, 2017-10-17 15:34:59, 2017-10-17 21:28:10, 2017-10-17 22:30:45, 2017-10-18 16:29:30, 2017-10-20 00:17:41, 2017-10-20 17:48:05, 2017-10-21 00:43:49, 2017-10-22 03:23:45, 2017-10-23 17:06:06, 2017-10-25 16:43:43, 2017-10-25 23:13:58, 2017-10-26 23:15:11, 2017-10-30 00:16:59, 2017-10-30 00:21:52, 2017-10-30 16:33:30, 2017-10-31 16:37:47, 2017-10-31 22:32:24, 2017-10-31 23:27:32, 2017-11-02 15:27:08, 2017-11-02 21:59:24, 2017-11-02 22:02:35, 2017-11-03 19:30:07, 2017-11-05 23:00:54, 2017-11-07 18:43:29, 2017-11-09 16:54:58, 2017-11-10 19:06:50, 2017-11-11 00:16:05, 2017-11-12 03:24:45, 2017-11-12 04:37:47, 2017-11-14 23:55:47, 2017-11-16 23:29:16, 2017-11-18 00:48:35, 2017-11-18 22:10:05, 2017-11-18 22:23:08, 2017-11-19 19:57:02, 2017-11-22 01:44:19, 2017-11-23 22:23:57, 2017-11-24 23:28:35, 2017-11-26 18:38:40, 2017-11-27 00:45:55, 2017-11-27 01:43:39, 2017-11-27 19:55:55, 2017-11-27 21:22:46, 2017-11-28 03:36:41, 2017-11-30 17:19:59, 2017-12-02 01:06:42, 2017-12-02 18:22:50, 2017-12-03 02:45:47, 2017-12-03 18:54:53, 2017-12-03 19:11:27, 2017-12-04 23:28:54, 2017-12-05 00:30:08, 2017-12-06 21:44:17, 2017-12-07 16:50:55, 2017-12-08 01:01:09, 2017-12-09 00:42:31, 2017-12-10 00:43:44, 2017-12-10 00:45:21, 2017-12-10 01:58:07, 2017-12-14 19:15:45, 2017-12-15 18:10:13, 2017-12-21 02:02:13, 2017-12-22 17:45:49, 2017-12-22 20:19:14, 2017-12-25 18:50:19, 2017-12-25 23:17:54, 2017-12-25 23:19:54, 2017-12-26 23:05:07, 2017-12-27 17:29:59, 2017-12-28 02:25:07, 2017-12-31 01:15:20, 2017-12-31 02:48:03, 2018-01-01 16:14:38, 2018-01-01 22:07:56, 2018-01-03 02:49:49, 2018-01-03 23:48:42, 2018-01-04 22:43:47, 2018-01-05 18:30:21, 2018-01-06 17:09:51, 2018-01-06 23:02:37, 2018-01-07 00:30:49, 2018-01-08 02:05:33, 2018-01-09 17:08:16, 2018-01-09 23:13:35, 2018-01-11 16:46:44, 2018-01-11 23:21:33, 2018-01-12 17:39:08, 2018-01-15 00:40:22, 2018-01-17 18:43:03, 2018-01-18 15:14:01, 2018-01-18 18:41:42, 2018-01-19 17:37:32, 2018-01-19 18:13:47, 2018-01-19 19:37:52, 2018-01-19 21:54:34, 2018-01-24 02:17:20, 2018-01-24 17:18:40, 2018-01-26 18:21:41, 2018-01-26 18:47:07, 2018-01-27 19:49:13, 2018-01-27 20:10:49, 2018-01-29 00:31:14, 2018-01-29 19:00:22, 2018-01-29 23:03:17, 2018-02-02 18:33:34, 2018-02-02 18:40:30, 2018-02-02 21:37:02, 2018-02-03 02:17:27, 2018-02-04 23:54:16, 2018-02-05 23:37:12, 2018-02-06 22:38:55, 2018-02-07 23:01:52, 2018-02-07 23:03:06, 2018-02-08 22:58:48, 2018-02-09 22:32:16, 2018-02-11 02:21:50, 2018-02-11 17:37:55, 2018-02-11 18:32:10, 2018-02-15 02:44:43, 2018-02-16 02:04:37, 2018-02-16 21:21:22, 2018-02-17 03:08:55, 2018-02-17 03:09:46, 2018-02-17 22:38:00, 2018-02-17 23:10:54, 2018-02-20 18:28:52, 2018-02-21 18:17:17, 2018-02-21 18:27:54, 2018-02-21 20:34:42, 2018-02-22 17:17:25, 2018-02-22 23:44:23, 2018-02-24 02:44:54, 2018-02-24 03:19:28, 2018-02-24 23:57:28, 2018-02-25 02:40:09, 2018-02-27 18:20:46, 2018-03-01 00:56:23, 2018-03-01 01:15:18, 2018-03-01 23:28:13, 2018-03-03 00:15:43, 2018-03-03 01:09:23, 2018-03-03 01:11:54, 2018-03-03 01:12:57, 2018-03-03 01:22:13, 2018-03-03 01:56:16, 2018-03-03 02:12:01, 2018-03-04 00:29:17, 2018-03-04 01:04:06, 2018-03-04 01:16:24, 2018-03-04 20:24:14, 2018-03-05 16:34:26, 2018-03-05 22:24:26, 2018-03-06 00:19:52, 2018-03-06 17:41:27, 2018-03-07 17:42:21, 2018-03-08 22:14:06, 2018-03-09 17:25:10, 2018-03-09 22:40:22, 2018-03-10 02:36:28, 2018-03-11 23:39:03, 2018-03-12 22:15:03, 2018-03-13 15:03:11, 2018-03-13 22:45:28, 2018-03-16 21:40:01, 2018-03-17 22:49:44, 2018-03-17 23:03:31, 2018-03-18 20:35:47, 2018-03-22 00:56:16, 2018-03-23 17:42:34, 2018-03-23 17:48:03, 2018-03-23 21:12:27, 2018-03-24 11:20:25, 2018-03-24 23:45:15, 2018-03-25 01:23:12, 2018-03-26 00:03:07, 2018-03-26 21:27:29, 2018-03-27 23:52:47, 2018-03-28 20:12:08, 2018-03-28 23:09:45, 2018-03-31 22:12:12, 2018-04-01 16:29:37, 2018-04-02 22:22:32, 2018-04-06 01:11:35, 2018-04-09 16:45:48, 2018-04-10 23:15:16, 2018-04-12 19:43:31, 2018-04-12 22:59:36, 2018-04-15 00:01:03, 2018-04-15 00:06:18, 2018-04-15 18:45:46, 2018-04-21 21:55:26, 2018-04-22 03:02:09, 2018-04-22 21:50:27, 2018-04-24 16:17:13, 2018-04-24 16:31:39, 2018-04-27 21:26:49, 2018-04-28 23:32:18, 2018-04-29 23:58:53, 2018-05-05 00:57:41, 2018-05-07 15:39:11, 2018-05-10 23:18:14, 2018-05-11 15:02:31, 2018-05-12 21:46:23, 2018-05-12 22:18:12, 2018-05-13 17:14:56, 2018-05-13 22:45:52, 2018-05-16 17:27:25, 2018-05-16 23:47:50, 2018-05-17 01:13:52, 2018-05-20 19:13:39, 2018-05-22 17:05:53, 2018-05-23 22:48:12, 2018-05-26 23:40:25, 2018-05-27 23:08:38, 2018-05-29 23:04:17, 2018-05-30 21:19:43, 2018-05-31 22:21:38, 2018-06-02 22:23:32, 2018-06-04 18:20:37, 2018-06-04 23:38:23, 2018-06-05 02:00:48, 2018-06-05 21:18:33, 2018-06-06 19:53:47, 2018-06-10 00:29:57, 2018-06-10 22:52:42, 2018-06-11 22:11:03, 2018-06-13 18:23:03, 2018-06-14 22:19:54, 2018-06-19 23:23:03, 2018-06-21 02:00:08, 2018-06-24 01:45:01, 2018-06-24 17:42:39, 2018-06-26 00:12:26, 2018-06-26 22:33:57, 2018-06-29 22:03:26, 2018-07-02 17:35:01, 2018-07-08 22:17:47, 2018-07-09 16:15:20, 2018-07-10 15:47:26, 2018-07-10 16:28:13, 2018-07-11 18:35:19, 2018-07-14 23:25:32, 2018-07-15 01:36:49, 2018-07-16 22:53:51, 2018-07-18 16:01:01, 2018-07-21 21:04:07, 2018-07-22 22:01:37, 2018-07-23 21:00:02, 2018-07-23 23:44:11, 2018-07-24 22:18:02, 2018-07-25 22:48:12, 2018-07-25 23:53:32, 2018-07-25 23:54:37, 2018-07-28 03:04:17, 2018-07-28 22:56:12, 2018-07-30 17:48:08, 2018-07-30 21:50:20, 2018-08-02 17:30:11, 2018-08-05 22:56:54, 2018-08-06 16:02:58, 2018-08-12 03:07:37, 2018-08-12 16:29:54, 2018-08-17 19:28:40, 2018-08-17 23:46:10, 2018-08-20 00:36:46, 2018-08-21 22:11:50, 2018-08-23 00:21:02, 2018-08-23 17:16:04, 2018-08-24 21:49:51, 2018-08-26 00:38:54, 2018-08-27 23:10:00, 2018-08-28 21:15:37, 2018-08-29 15:01:09, 2018-08-31 00:24:26, 2018-09-01 00:19:23, 2018-09-01 22:26:55, 2018-09-03 21:56:07, 2018-09-05 17:36:02, 2018-09-05 18:17:02, 2018-09-05 21:16:16, 2018-09-10 16:39:58, 2018-09-10 22:21:47, 2018-09-12 23:38:33, 2018-09-16 00:42:21, 2018-09-20 01:12:49, 2018-09-21 21:25:11, 2018-09-24 23:01:47, 2018-09-24 23:28:38, 2018-09-27 19:02:22, 2018-09-30 00:29:17, 2018-09-30 01:35:00, 2018-09-30 21:24:38, 2018-09-30 21:26:07, 2018-10-01 23:12:30, 2018-10-02 23:36:57, 2018-10-02 23:37:58, 2018-10-02 23:42:12, 2018-10-02 23:47:33, 2018-10-04 16:11:01, 2018-10-04 18:17:12, 2018-10-07 01:31:59, 2018-10-10 23:11:06, 2018-10-12 16:00:40, 2018-10-19 16:30:49, 2018-10-20 00:13:49, 2018-10-20 23:30:01, 2018-10-22 22:55:03, 2018-10-26 18:23:47, 2018-10-26 21:21:18, 2018-10-27 00:50:34, 2018-10-27 21:59:13, 2018-10-29 23:33:54, 2018-10-30 23:58:35, 2018-10-31 23:11:30, 2018-11-01 01:21:38, 2018-11-03 02:58:50, 2018-11-05 16:44:11, 2018-11-05 23:32:18, 2018-11-07 17:10:49, 2018-11-10 00:12:13, 2018-11-12 00:50:00, 2018-11-14 00:20:20, 2018-11-19 17:18:56, 2018-11-19 23:18:17, 2018-11-24 03:09:56, 2018-11-26 01:24:04, 2018-11-26 16:44:51, 2018-11-26 21:57:53, 2018-11-26 22:41:10, 2018-11-27 01:42:33, 2018-11-28 23:01:23, 2018-12-05 00:35:25, 2018-12-06 00:16:36, 2018-12-06 23:00:03, 2018-12-12 01:21:08, 2018-12-14 01:16:58, 2018-12-15 22:40:33, 2018-12-16 02:25:03, 2018-12-20 00:59:32, 2018-12-25 18:57:05, 2018-12-25 22:34:08, 2018-12-28 02:32:49, 2018-12-28 22:34:43, 2019-01-04 18:32:22, 2019-01-05 22:48:40, 2019-01-09 16:54:51, 2019-01-10 17:11:38, 2019-01-14 17:17:21, 2019-01-17 02:12:18, 2019-01-17 02:45:51, 2019-01-20 20:42:58, 2019-01-21 00:17:28, 2019-01-23 20:18:09, 2019-01-24 00:54:41, 2019-01-25 02:34:37, 2019-02-06 01:36:00, 2019-02-06 18:26:26, 2019-02-10 00:45:54, 2019-02-12 01:25:52, 2019-02-15 02:08:47, 2019-02-15 18:36:30, 2019-02-16 21:40:33, 2019-02-18 22:05:51, 2019-02-21 18:01:11, 2019-02-21 22:23:23, 2019-02-23 01:06:53, 2019-02-23 17:37:42, 2019-02-24 23:55:45, 2019-02-25 00:01:13, 2019-02-26 19:26:16, 2019-03-02 22:11:18, 2019-03-02 22:24:46, 2019-03-04 20:59:05, 2019-03-05 01:38:16, 2019-03-07 17:43:31, 2019-03-07 23:39:58, 2019-03-08 02:26:09, 2019-03-08 18:32:20, 2019-03-08 23:53:43, 2019-03-09 00:17:12, 2019-03-09 21:04:14, 2019-03-09 23:52:41, 2019-03-11 19:41:42, 2019-03-12 00:03:18, 2019-03-16 00:12:10, 2019-03-18 00:25:13, 2019-03-23 22:21:10, 2019-03-24 01:10:51, 2019-03-24 01:55:34, 2019-03-25 20:58:06, 2019-03-25 21:03:53, 2019-03-26 22:18:14, 2019-03-31 00:48:56, 2019-04-01 19:03:51, 2019-04-05 17:20:28, 2019-04-12 21:14:29, 2019-04-14 01:27:06, 2019-04-15 23:02:07, 2019-04-16 22:54:35, 2019-04-20 01:27:04, 2019-04-21 23:54:03, 2019-04-29 21:06:54, 2019-04-30 20:57:58, 2019-05-03 14:38:42, 2019-05-03 22:31:49, 2019-05-05 01:44:44, 2019-05-06 16:49:08, 2019-05-10 19:19:55, 2019-05-11 22:33:19, 2019-05-12 22:56:59, 2019-05-13 00:55:04, 2019-05-17 23:12:19, 2019-05-18 00:34:08, 2019-05-18 23:42:32, 2019-05-19 18:57:35, 2019-05-21 23:17:44, 2019-05-22 01:01:37, 2019-05-24 16:47:02, 2019-05-26 01:52:36, 2019-05-26 01:54:05, 2019-05-26 22:25:48, 2019-05-27 01:48:56, 2019-05-28 01:19:53, 2019-06-01 23:00:17, 2019-06-02 01:37:39, 2019-06-02 01:38:51, 2019-06-02 01:38:53, 2019-06-06 00:59:57, 2019-06-06 21:37:12, 2019-06-11 17:58:10, 2019-06-12 22:50:03, 2019-06-12 23:22:16, 2019-06-13 00:19:42, 2019-06-14 00:58:27, 2019-06-14 19:15:13, 2019-06-20 16:58:25, 2019-06-20 22:21:29, 2019-06-22 22:04:32, 2019-06-24 23:52:05, 2019-06-25 17:32:13, 2019-06-26 00:28:46, 2019-06-28 00:21:55, 2019-06-30 00:22:41, 2019-06-30 01:30:10, 2019-06-30 01:30:18, 2019-07-03 17:24:45, 2019-07-03 22:08:44, 2019-07-03 22:09:12, 2019-07-11 22:45:34, 2019-07-18 17:21:32, 2019-07-21 22:17:29, 2019-07-27 00:38:30, 2019-07-27 00:50:53, 2019-07-27 23:53:54, 2019-07-28 16:02:37, 2019-07-28 19:56:33, 2019-07-28 22:19:35, 2019-08-02 23:57:08, 2019-08-05 00:32:32, 2019-08-07 23:02:39, 2019-08-13 22:35:49, 2019-08-16 15:51:26, 2019-08-17 21:43:38, 2019-08-19 21:24:13, 2019-08-20 02:01:55, 2019-08-20 02:17:47, 2019-08-24 16:59:06, 2019-09-06 16:13:32, 2019-09-06 22:25:48, 2019-09-07 23:07:40, 2019-09-07 23:10:49, 2019-09-09 15:58:44, 2019-09-09 20:58:35, 2019-09-10 16:09:59, 2019-09-12 16:39:44, 2019-09-15 17:45:26, 2019-09-18 01:08:14, 2019-09-20 22:05:00, 2019-09-22 00:04:47, 2019-09-23 00:18:12, 2019-09-23 16:57:44, 2019-09-25 01:25:30, 2019-10-01 22:12:04, 2019-10-08 23:05:58, 2019-10-13 01:32:05, 2019-10-14 04:54:41, 2019-10-18 20:41:07, 2019-10-22 14:38:36, 2019-10-22 23:33:41, 2019-10-24 00:11:59, 2019-10-24 01:20:56, 2019-10-26 22:35:53, 2019-10-27 20:13:58, 2019-10-30 15:46:05, 2019-11-03 22:14:40, 2019-11-04 01:10:56, 2019-11-04 18:26:23, 2019-11-09 00:41:57, 2019-11-09 21:18:59, 2019-11-09 23:09:24, 2019-11-10 01:12:24, 2019-11-10 19:06:17, 2019-11-15 23:54:56, 2019-11-19 23:07:09, 2019-11-24 18:44:38, 2019-11-29 23:18:58, 2019-11-30 03:46:08, 2019-12-01 00:33:11, 2019-12-01 01:55:35, 2019-12-08 02:59:29, 2019-12-12 22:30:03, 2019-12-15 01:58:41, 2019-12-15 01:59:55, 2019-12-15 02:00:28, 2019-12-21 01:51:32, 2019-12-22 02:38:40, 2019-12-23 19:16:24, 2019-12-24 23:54:14, 2019-12-25 00:45:32, 2019-12-25 18:03:38, 2019-12-27 21:53:28, 2019-12-28 01:04:05, 2019-12-30 22:12:54, 2020-01-01 22:43:03, 2020-01-01 23:07:04, 2020-01-04 00:03:24, 2020-01-14 02:47:12, 2020-01-18 00:49:49, 2020-01-22 20:38:24, 2020-01-25 23:16:59, 2020-01-29 17:25:26, 2020-01-31 23:03:12, 2020-02-02 02:05:58, 2020-02-07 17:35:13, 2020-02-07 18:52:52, 2020-02-08 01:22:39, 2020-02-08 02:23:15, 2020-02-08 23:19:27, 2020-02-09 02:04:30, 2020-02-09 02:06:09, 2020-02-09 02:07:22, 2020-02-15 00:40:24, 2020-02-15 23:21:14, 2020-02-16 00:30:05, 2020-02-18 01:31:00, 2020-02-22 01:01:27, 2020-02-22 23:03:59, 2020-02-25 19:05:07, 2020-02-25 19:05:20, 2020-02-28 01:36:22, 2020-03-03 17:23:47, 2020-03-03 20:26:57, 2020-03-05 22:23:38, 2020-03-05 22:23:43, 2020-03-06 21:12:33, 2020-04-14 21:42:37, 2020-05-24 23:27:41, 2020-06-20 21:07:40, 2020-08-09 01:04:24, 2020-08-17 14:25:38, 2020-09-18 01:48:35, 2020-11-11 21:40:46, 2020-12-02 22:35:34, 2020-12-03 00:31:19, 2021-02-22 13:24:50, 2021-03-13 02:23:51, 2021-03-15 20:57:20, 2021-03-26 21:18:27, 2021-04-02 21:13:26, 2021-04-18 00:07:41, 2021-04-20 22:25:03, 2021-04-24 23:08:35, 2021-05-01 20:14:40, 2021-05-17 20:52:45, 2021-05-29 23:19:05, 2021-05-31 17:48:26, 2021-06-05 21:17:19, 2021-06-10 17:20:18, 2021-06-20 00:10:18, 2021-06-22 17:20:20, 2021-07-16 18:48:42, 2021-07-20 21:53:59, 2021-07-22 20:07:05, 2021-08-26 16:49:55, 2021-08-28 19:04:08, 2021-09-09 22:01:13, 2021-10-01 16:28:33, 2021-10-07 15:44:30, 2021-10-13 21:59:12, 2021-10-14 16:35:27, 2021-10-30 17:15:33, 2021-11-08 22:16:05, 2021-11-13 01:32:33, 2021-11-20 22:47:03, 2021-11-22 18:25:58, 2021-11-29 17:43:07, 2021-12-17 22:49:10, 2022-01-12 21:44:16\"\n",
      "CONTEXT:  unnamed portal parameter $2 = '...'\n"
     ]
    }
   ],
   "source": [
    "# df_checkin = pd.read_csv('../sampled_data/checkins_sample.csv')\n",
    "# df_checkin.rename(columns={'date': 'date_time'}, inplace=True)\n",
    "# conn = get_db_connection()\n",
    "# bulk_insert(conn, 'checkin', df_checkin, conflict_column=['business_id', 'date_time'])"
   ]
  },
  {
   "cell_type": "code",
   "execution_count": null,
   "metadata": {},
   "outputs": [],
   "source": []
  },
  {
   "cell_type": "markdown",
   "metadata": {},
   "source": [
    "### tip"
   ]
  },
  {
   "cell_type": "code",
   "execution_count": 48,
   "metadata": {},
   "outputs": [
    {
     "name": "stdout",
     "output_type": "stream",
     "text": [
      "Successfully inserted 3171 rows into tip.\n"
     ]
    }
   ],
   "source": [
    "# Step 1: Read the CSV file\n",
    "df_tip = pd.read_csv('../sampled_data/tips_sample.csv')\n",
    "\n",
    "# Step 2: Connect to the PostgreSQL database\n",
    "conn = get_db_connection()\n",
    "\n",
    "# Step 3: Insert data into the table\n",
    "bulk_insert(conn, 'tip', df_tip, conflict_column=['user_id', 'business_id', 'date'])"
   ]
  },
  {
   "cell_type": "code",
   "execution_count": 49,
   "metadata": {},
   "outputs": [
    {
     "data": {
      "text/html": [
       "<span style=\"None\">Running query in &#x27;postgresql://michellelin@localhost:5432/yelp&#x27;</span>"
      ],
      "text/plain": [
       "Running query in 'postgresql://michellelin@localhost:5432/yelp'"
      ]
     },
     "metadata": {},
     "output_type": "display_data"
    },
    {
     "data": {
      "text/html": [
       "<span style=\"color: green\">1 rows affected.</span>"
      ],
      "text/plain": [
       "1 rows affected."
      ]
     },
     "metadata": {},
     "output_type": "display_data"
    },
    {
     "data": {
      "text/html": [
       "<table>\n",
       "    <thead>\n",
       "        <tr>\n",
       "            <th>user_id</th>\n",
       "            <th>business_id</th>\n",
       "            <th>text</th>\n",
       "            <th>date</th>\n",
       "            <th>compliment_count</th>\n",
       "        </tr>\n",
       "    </thead>\n",
       "    <tbody>\n",
       "        <tr>\n",
       "            <td>imhUgZdEXe-JLZT381S6-w</td>\n",
       "            <td>bp5Mk2d0qofUeF5uLauIbg</td>\n",
       "            <td>Everything on the menu is authentic!</td>\n",
       "            <td>2017-06-14</td>\n",
       "            <td>0</td>\n",
       "        </tr>\n",
       "    </tbody>\n",
       "</table>"
      ],
      "text/plain": [
       "+------------------------+------------------------+--------------------------------------+------------+------------------+\n",
       "|        user_id         |      business_id       |                 text                 |    date    | compliment_count |\n",
       "+------------------------+------------------------+--------------------------------------+------------+------------------+\n",
       "| imhUgZdEXe-JLZT381S6-w | bp5Mk2d0qofUeF5uLauIbg | Everything on the menu is authentic! | 2017-06-14 |        0         |\n",
       "+------------------------+------------------------+--------------------------------------+------------+------------------+"
      ]
     },
     "execution_count": 49,
     "metadata": {},
     "output_type": "execute_result"
    }
   ],
   "source": [
    "%%sql\n",
    "SELECT * FROM tip LIMIT 1;"
   ]
  },
  {
   "cell_type": "markdown",
   "metadata": {},
   "source": [
    "# Normalized Data"
   ]
  },
  {
   "cell_type": "markdown",
   "metadata": {},
   "source": [
    "## Create the data schema"
   ]
  },
  {
   "cell_type": "markdown",
   "metadata": {},
   "source": [
    "### normalized business data"
   ]
  },
  {
   "cell_type": "code",
   "execution_count": 73,
   "metadata": {},
   "outputs": [
    {
     "name": "stdout",
     "output_type": "stream",
     "text": [
      "Tables created successfully.\n"
     ]
    }
   ],
   "source": [
    "# Connect to the PostgreSQL database\n",
    "conn = get_db_connection()\n",
    "cursor = conn.cursor()\n",
    "\n",
    "# Full SQL schema definition\n",
    "schema_sql = \"\"\"\n",
    "DROP TABLE IF EXISTS location CASCADE;\n",
    "DROP TABLE IF EXISTS nor_business CASCADE;\n",
    "\n",
    "CREATE TABLE IF NOT EXISTS nor_business (\n",
    "    business_id VARCHAR(22) PRIMARY KEY,\n",
    "    name VARCHAR NOT NULL,\n",
    "    stars NUMERIC CHECK (stars BETWEEN 0 AND 5),\n",
    "    review_count INTEGER,\n",
    "    is_open INTEGER CHECK (is_open IN (0, 1)),\n",
    "    attributes TEXT,\n",
    "    categories TEXT, \n",
    "    hours TEXT\n",
    ");\n",
    "\n",
    "CREATE TABLE IF NOT EXISTS location (\n",
    "    business_id VARCHAR(22) REFERENCES nor_business (business_id) ON DELETE CASCADE,\n",
    "    address VARCHAR,\n",
    "    city VARCHAR,\n",
    "    state VARCHAR(2),\n",
    "    postal_code VARCHAR(10),\n",
    "    latitude NUMERIC,\n",
    "    longitude NUMERIC\n",
    ");\n",
    "\n",
    "\"\"\"\n",
    "\n",
    "# Execute the schema to create the tables\n",
    "cursor.execute(schema_sql)\n",
    "\n",
    "# Commit and close\n",
    "conn.commit()\n",
    "cursor.close()\n",
    "conn.close()\n",
    "print(\"Tables created successfully.\")\n"
   ]
  },
  {
   "cell_type": "code",
   "execution_count": 75,
   "metadata": {},
   "outputs": [
    {
     "name": "stdout",
     "output_type": "stream",
     "text": [
      "Successfully inserted 1000 rows into nor_business.\n"
     ]
    }
   ],
   "source": [
    "## normalized business\n",
    "# Step 1: Read the CSV file\n",
    "df_nor_business = df_business[['business_id', 'name', 'stars', 'review_count', 'is_open', 'attributes', 'categories', 'hours']]\n",
    "df_nor_business\n",
    "\n",
    "# Step 2: Connect to the PostgreSQL database\n",
    "conn = get_db_connection()\n",
    "\n",
    "# Step 3: Insert data into the table\n",
    "bulk_insert(conn, 'nor_business', df_nor_business, conflict_column=['business_id'])"
   ]
  },
  {
   "cell_type": "code",
   "execution_count": 76,
   "metadata": {},
   "outputs": [
    {
     "data": {
      "text/html": [
       "<span style=\"None\">Running query in &#x27;postgresql://michellelin@localhost:5432/yelp&#x27;</span>"
      ],
      "text/plain": [
       "Running query in 'postgresql://michellelin@localhost:5432/yelp'"
      ]
     },
     "metadata": {},
     "output_type": "display_data"
    },
    {
     "data": {
      "text/html": [
       "<span style=\"color: green\">5 rows affected.</span>"
      ],
      "text/plain": [
       "5 rows affected."
      ]
     },
     "metadata": {},
     "output_type": "display_data"
    },
    {
     "data": {
      "text/html": [
       "<table>\n",
       "    <thead>\n",
       "        <tr>\n",
       "            <th>business_id</th>\n",
       "            <th>name</th>\n",
       "            <th>stars</th>\n",
       "            <th>review_count</th>\n",
       "            <th>is_open</th>\n",
       "            <th>attributes</th>\n",
       "            <th>categories</th>\n",
       "            <th>hours</th>\n",
       "        </tr>\n",
       "    </thead>\n",
       "    <tbody>\n",
       "        <tr>\n",
       "            <td>UVfYRQIr6u_WrFSY5Cv7xw</td>\n",
       "            <td>InCycle</td>\n",
       "            <td>5</td>\n",
       "            <td>32</td>\n",
       "            <td>1</td>\n",
       "            <td>{'GoodForKids': 'False', 'BusinessAcceptsCreditCards': 'True', 'ByAppointmentOnly': 'False', 'BusinessParking': \"{'garage': True, 'street': True, 'validated': False, 'lot': True, 'valet': False}\", 'BikeParking': 'True', 'WheelchairAccessible': 'True'}</td>\n",
       "            <td>Active Life, Cycling Classes, Gyms, Fitness & Instruction, Barre Classes</td>\n",
       "            <td>{'Monday': '16:0-20:0', 'Tuesday': '16:0-20:0', 'Wednesday': '16:0-20:0', 'Thursday': '16:0-20:0', 'Friday': '16:0-20:0', 'Saturday': '7:30-12:0', 'Sunday': '8:0-14:0'}</td>\n",
       "        </tr>\n",
       "        <tr>\n",
       "            <td>wH6QxQv31IJ-qQ-FKIc5TA</td>\n",
       "            <td>Roman Plumbing</td>\n",
       "            <td>4.5</td>\n",
       "            <td>29</td>\n",
       "            <td>1</td>\n",
       "            <td>{'BusinessAcceptsBitcoin': 'False', 'ByAppointmentOnly': 'True', 'BusinessAcceptsCreditCards': 'True'}</td>\n",
       "            <td>Plumbing, Water Heater Installation/Repair, Contractors, Home Services, Water Purification Services</td>\n",
       "            <td>{'Monday': '8:0-17:0', 'Tuesday': '8:0-17:0', 'Wednesday': '8:0-17:0', 'Thursday': '8:0-17:0', 'Friday': '8:0-17:0', 'Saturday': '8:0-17:0'}</td>\n",
       "        </tr>\n",
       "        <tr>\n",
       "            <td>K1NdCTaJWK1ezkZpPyB7-A</td>\n",
       "            <td>Desert Rain Coffee</td>\n",
       "            <td>5</td>\n",
       "            <td>46</td>\n",
       "            <td>0</td>\n",
       "            <td>{'BusinessAcceptsCreditCards': 'True', 'RestaurantsTakeOut': 'True', 'RestaurantsPriceRange2': '2', 'OutdoorSeating': 'True', 'BikeParking': 'True', 'Caters': 'False', 'WiFi': \"u'free'\", 'BusinessParking': \"{u'valet': False, u'garage': None, u'street': False, u'lot': True, u'validated': None}\"}</td>\n",
       "            <td>Coffee & Tea, Food</td>\n",
       "            <td>{'Monday': '7:0-15:0', 'Tuesday': '7:0-15:0', 'Wednesday': '7:0-15:0', 'Thursday': '7:0-15:0', 'Friday': '7:0-15:0', 'Sunday': '8:0-12:0'}</td>\n",
       "        </tr>\n",
       "        <tr>\n",
       "            <td>juL8ovMlnjkXNACxZ8HLAQ</td>\n",
       "            <td>Sam Levitz Furniture</td>\n",
       "            <td>2</td>\n",
       "            <td>186</td>\n",
       "            <td>1</td>\n",
       "            <td>{'BusinessParking': \"{'garage': False, 'street': False, 'validated': False, 'lot': True, 'valet': False}\", 'RestaurantsPriceRange2': '2', 'BusinessAcceptsCreditCards': 'True', 'BikeParking': 'False', 'RestaurantsTakeOut': 'None', 'RestaurantsDelivery': 'None'}</td>\n",
       "            <td>Shopping, Mattresses, Home & Garden, Furniture Stores</td>\n",
       "            <td>{'Monday': '11:0-20:0', 'Tuesday': '11:0-20:0', 'Wednesday': '11:0-20:0', 'Thursday': '11:0-20:0', 'Friday': '11:0-20:0', 'Saturday': '11:0-20:0', 'Sunday': '11:0-18:0'}</td>\n",
       "        </tr>\n",
       "        <tr>\n",
       "            <td>2eN2pfPCear_ofmgQ0peCw</td>\n",
       "            <td>David Caplan, CPA</td>\n",
       "            <td>4.5</td>\n",
       "            <td>13</td>\n",
       "            <td>1</td>\n",
       "            <td>None</td>\n",
       "            <td>Professional Services, Accountants</td>\n",
       "            <td>None</td>\n",
       "        </tr>\n",
       "    </tbody>\n",
       "</table>"
      ],
      "text/plain": [
       "+------------------------+----------------------+-------+--------------+---------+---------------------------------------------------------------------------------------------------------------------------------------------------------------------------------------------------------------------------------------------------------------------------------------------------------+-----------------------------------------------------------------------------------------------------+---------------------------------------------------------------------------------------------------------------------------------------------------------------------------+\n",
       "|      business_id       |         name         | stars | review_count | is_open |                                                                                                                                                attributes                                                                                                                                               |                                              categories                                             |                                                                                   hours                                                                                   |\n",
       "+------------------------+----------------------+-------+--------------+---------+---------------------------------------------------------------------------------------------------------------------------------------------------------------------------------------------------------------------------------------------------------------------------------------------------------+-----------------------------------------------------------------------------------------------------+---------------------------------------------------------------------------------------------------------------------------------------------------------------------------+\n",
       "| UVfYRQIr6u_WrFSY5Cv7xw |       InCycle        |   5   |      32      |    1    |                       {'GoodForKids': 'False', 'BusinessAcceptsCreditCards': 'True', 'ByAppointmentOnly': 'False', 'BusinessParking': \"{'garage': True, 'street': True, 'validated': False, 'lot': True, 'valet': False}\", 'BikeParking': 'True', 'WheelchairAccessible': 'True'}                       |               Active Life, Cycling Classes, Gyms, Fitness & Instruction, Barre Classes              |  {'Monday': '16:0-20:0', 'Tuesday': '16:0-20:0', 'Wednesday': '16:0-20:0', 'Thursday': '16:0-20:0', 'Friday': '16:0-20:0', 'Saturday': '7:30-12:0', 'Sunday': '8:0-14:0'} |\n",
       "| wH6QxQv31IJ-qQ-FKIc5TA |    Roman Plumbing    |  4.5  |      29      |    1    |                                                                                                  {'BusinessAcceptsBitcoin': 'False', 'ByAppointmentOnly': 'True', 'BusinessAcceptsCreditCards': 'True'}                                                                                                 | Plumbing, Water Heater Installation/Repair, Contractors, Home Services, Water Purification Services |                {'Monday': '8:0-17:0', 'Tuesday': '8:0-17:0', 'Wednesday': '8:0-17:0', 'Thursday': '8:0-17:0', 'Friday': '8:0-17:0', 'Saturday': '8:0-17:0'}               |\n",
       "| K1NdCTaJWK1ezkZpPyB7-A |  Desert Rain Coffee  |   5   |      46      |    0    | {'BusinessAcceptsCreditCards': 'True', 'RestaurantsTakeOut': 'True', 'RestaurantsPriceRange2': '2', 'OutdoorSeating': 'True', 'BikeParking': 'True', 'Caters': 'False', 'WiFi': \"u'free'\", 'BusinessParking': \"{u'valet': False, u'garage': None, u'street': False, u'lot': True, u'validated': None}\"} |                                          Coffee & Tea, Food                                         |                 {'Monday': '7:0-15:0', 'Tuesday': '7:0-15:0', 'Wednesday': '7:0-15:0', 'Thursday': '7:0-15:0', 'Friday': '7:0-15:0', 'Sunday': '8:0-12:0'}                |\n",
       "| juL8ovMlnjkXNACxZ8HLAQ | Sam Levitz Furniture |   2   |     186      |    1    |                   {'BusinessParking': \"{'garage': False, 'street': False, 'validated': False, 'lot': True, 'valet': False}\", 'RestaurantsPriceRange2': '2', 'BusinessAcceptsCreditCards': 'True', 'BikeParking': 'False', 'RestaurantsTakeOut': 'None', 'RestaurantsDelivery': 'None'}                  |                        Shopping, Mattresses, Home & Garden, Furniture Stores                        | {'Monday': '11:0-20:0', 'Tuesday': '11:0-20:0', 'Wednesday': '11:0-20:0', 'Thursday': '11:0-20:0', 'Friday': '11:0-20:0', 'Saturday': '11:0-20:0', 'Sunday': '11:0-18:0'} |\n",
       "| 2eN2pfPCear_ofmgQ0peCw |  David Caplan, CPA   |  4.5  |      13      |    1    |                                                                                                                                                   None                                                                                                                                                  |                                  Professional Services, Accountants                                 |                                                                                    None                                                                                   |\n",
       "+------------------------+----------------------+-------+--------------+---------+---------------------------------------------------------------------------------------------------------------------------------------------------------------------------------------------------------------------------------------------------------------------------------------------------------+-----------------------------------------------------------------------------------------------------+---------------------------------------------------------------------------------------------------------------------------------------------------------------------------+"
      ]
     },
     "execution_count": 76,
     "metadata": {},
     "output_type": "execute_result"
    }
   ],
   "source": [
    "%%sql\n",
    "SELECT * FROM nor_business LIMIT 5;"
   ]
  },
  {
   "cell_type": "code",
   "execution_count": 77,
   "metadata": {},
   "outputs": [
    {
     "data": {
      "text/html": [
       "<span style=\"None\">Running query in &#x27;postgresql://michellelin@localhost:5432/yelp&#x27;</span>"
      ],
      "text/plain": [
       "Running query in 'postgresql://michellelin@localhost:5432/yelp'"
      ]
     },
     "metadata": {},
     "output_type": "display_data"
    },
    {
     "data": {
      "text/html": [
       "<span style=\"color: green\">4 rows affected.</span>"
      ],
      "text/plain": [
       "4 rows affected."
      ]
     },
     "metadata": {},
     "output_type": "display_data"
    },
    {
     "data": {
      "text/html": [
       "<table>\n",
       "    <thead>\n",
       "        <tr>\n",
       "            <th>QUERY PLAN</th>\n",
       "        </tr>\n",
       "    </thead>\n",
       "    <tbody>\n",
       "        <tr>\n",
       "            <td>Limit  (cost=0.00..0.21 rows=5 width=230) (actual time=0.009..0.011 rows=5 loops=1)</td>\n",
       "        </tr>\n",
       "        <tr>\n",
       "            <td>&nbsp;&nbsp;->  Seq Scan on nor_business  (cost=0.00..104.80 rows=2480 width=230) (actual time=0.009..0.009 rows=5 loops=1)</td>\n",
       "        </tr>\n",
       "        <tr>\n",
       "            <td>Planning Time: 0.069 ms</td>\n",
       "        </tr>\n",
       "        <tr>\n",
       "            <td>Execution Time: 0.026 ms</td>\n",
       "        </tr>\n",
       "    </tbody>\n",
       "</table>"
      ],
      "text/plain": [
       "+-------------------------------------------------------------------------------------------------------------------+\n",
       "|                                                     QUERY PLAN                                                    |\n",
       "+-------------------------------------------------------------------------------------------------------------------+\n",
       "|                Limit  (cost=0.00..0.21 rows=5 width=230) (actual time=0.009..0.011 rows=5 loops=1)                |\n",
       "|   ->  Seq Scan on nor_business  (cost=0.00..104.80 rows=2480 width=230) (actual time=0.009..0.009 rows=5 loops=1) |\n",
       "|                                              Planning Time: 0.069 ms                                              |\n",
       "|                                              Execution Time: 0.026 ms                                             |\n",
       "+-------------------------------------------------------------------------------------------------------------------+"
      ]
     },
     "execution_count": 77,
     "metadata": {},
     "output_type": "execute_result"
    }
   ],
   "source": [
    "%%sql\n",
    "EXPLAIN ANALYZE SELECT * FROM nor_business LIMIT 5;"
   ]
  },
  {
   "cell_type": "code",
   "execution_count": 78,
   "metadata": {},
   "outputs": [
    {
     "data": {
      "text/plain": [
       "Index(['business_id', 'name', 'address', 'city', 'state', 'postal_code',\n",
       "       'latitude', 'longitude', 'stars', 'review_count', 'is_open',\n",
       "       'attributes', 'categories', 'hours'],\n",
       "      dtype='object')"
      ]
     },
     "execution_count": 78,
     "metadata": {},
     "output_type": "execute_result"
    }
   ],
   "source": [
    "df_business.columns"
   ]
  },
  {
   "cell_type": "code",
   "execution_count": 79,
   "metadata": {},
   "outputs": [
    {
     "name": "stdout",
     "output_type": "stream",
     "text": [
      "Successfully inserted 1000 rows into location.\n"
     ]
    }
   ],
   "source": [
    "## location\n",
    "df_location = df_business[['business_id', 'address', 'city', 'state', 'postal_code', 'latitude', 'longitude']]\n",
    "df_location\n",
    "\n",
    "# Step 2: Connect to the PostgreSQL database\n",
    "conn = get_db_connection()\n",
    "\n",
    "# Step 3: Insert data into the table\n",
    "bulk_insert(conn, 'location', df_location)"
   ]
  },
  {
   "cell_type": "code",
   "execution_count": 83,
   "metadata": {},
   "outputs": [
    {
     "data": {
      "text/html": [
       "<span style=\"None\">Running query in &#x27;postgresql://michellelin@localhost:5432/yelp&#x27;</span>"
      ],
      "text/plain": [
       "Running query in 'postgresql://michellelin@localhost:5432/yelp'"
      ]
     },
     "metadata": {},
     "output_type": "display_data"
    },
    {
     "data": {
      "text/html": [
       "<span style=\"color: green\">10 rows affected.</span>"
      ],
      "text/plain": [
       "10 rows affected."
      ]
     },
     "metadata": {},
     "output_type": "display_data"
    },
    {
     "data": {
      "text/html": [
       "<table>\n",
       "    <thead>\n",
       "        <tr>\n",
       "            <th>business_id</th>\n",
       "            <th>address</th>\n",
       "            <th>city</th>\n",
       "            <th>state</th>\n",
       "            <th>postal_code</th>\n",
       "            <th>latitude</th>\n",
       "            <th>longitude</th>\n",
       "        </tr>\n",
       "    </thead>\n",
       "    <tbody>\n",
       "        <tr>\n",
       "            <td>UVfYRQIr6u_WrFSY5Cv7xw</td>\n",
       "            <td>736 Hanover Pl</td>\n",
       "            <td>Carmel</td>\n",
       "            <td>IN</td>\n",
       "            <td>46032</td>\n",
       "            <td>39.9697264</td>\n",
       "            <td>-86.1278146</td>\n",
       "        </tr>\n",
       "        <tr>\n",
       "            <td>wH6QxQv31IJ-qQ-FKIc5TA</td>\n",
       "            <td>6125 Grand Blvd</td>\n",
       "            <td>New Port Richey</td>\n",
       "            <td>FL</td>\n",
       "            <td>34652</td>\n",
       "            <td>28.247926</td>\n",
       "            <td>-82.719939</td>\n",
       "        </tr>\n",
       "        <tr>\n",
       "            <td>K1NdCTaJWK1ezkZpPyB7-A</td>\n",
       "            <td>1551 E Tangerine Rd</td>\n",
       "            <td>Oro Valley</td>\n",
       "            <td>AZ</td>\n",
       "            <td>85755</td>\n",
       "            <td>32.429167</td>\n",
       "            <td>-110.948631</td>\n",
       "        </tr>\n",
       "        <tr>\n",
       "            <td>juL8ovMlnjkXNACxZ8HLAQ</td>\n",
       "            <td>3750 W Orange Grove Rd</td>\n",
       "            <td>Tucson</td>\n",
       "            <td>AZ</td>\n",
       "            <td>85741</td>\n",
       "            <td>32.3248992</td>\n",
       "            <td>-111.0444852</td>\n",
       "        </tr>\n",
       "        <tr>\n",
       "            <td>2eN2pfPCear_ofmgQ0peCw</td>\n",
       "            <td>301 Andorra Glen Ct</td>\n",
       "            <td>Lafayette Hill</td>\n",
       "            <td>PA</td>\n",
       "            <td>19444</td>\n",
       "            <td>40.0884567</td>\n",
       "            <td>-75.2674119</td>\n",
       "        </tr>\n",
       "        <tr>\n",
       "            <td>oUnC0Mcl_nozqkOXejTQXQ</td>\n",
       "            <td>1875 S Alvernon Way</td>\n",
       "            <td>Tucson</td>\n",
       "            <td>AZ</td>\n",
       "            <td>85711</td>\n",
       "            <td>32.20042127</td>\n",
       "            <td>-110.9089026</td>\n",
       "        </tr>\n",
       "        <tr>\n",
       "            <td>sfOczyUZLffzSOVeVBbJrw</td>\n",
       "            <td>108 N Wayne Ave</td>\n",
       "            <td>Wayne</td>\n",
       "            <td>PA</td>\n",
       "            <td>19087</td>\n",
       "            <td>40.0444568</td>\n",
       "            <td>-75.3881712</td>\n",
       "        </tr>\n",
       "        <tr>\n",
       "            <td>toMVWIsPJmS7-LiLAf2AfA</td>\n",
       "            <td>3400 S Lawrence St</td>\n",
       "            <td>Philadelphia</td>\n",
       "            <td>PA</td>\n",
       "            <td>19148</td>\n",
       "            <td>39.9049727</td>\n",
       "            <td>-75.1588247</td>\n",
       "        </tr>\n",
       "        <tr>\n",
       "            <td>UcQUBTXcEke44ymSpX3qKw</td>\n",
       "            <td>NaN</td>\n",
       "            <td>Boise</td>\n",
       "            <td>ID</td>\n",
       "            <td>83709</td>\n",
       "            <td>43.5516566</td>\n",
       "            <td>-116.2987901</td>\n",
       "        </tr>\n",
       "        <tr>\n",
       "            <td>pJTtJv3pNQxFr1CLRXj7xQ</td>\n",
       "            <td>2441 Rte 206</td>\n",
       "            <td>Eastampton</td>\n",
       "            <td>NJ</td>\n",
       "            <td>08060</td>\n",
       "            <td>39.9869773</td>\n",
       "            <td>-74.7354294</td>\n",
       "        </tr>\n",
       "    </tbody>\n",
       "</table>\n",
       "<span style=\"font-style:italic;text-align:center;\">Truncated to <a href=\"https://jupysql.ploomber.io/en/latest/api/configuration.html#displaylimit\">displaylimit</a> of 10.</span>"
      ],
      "text/plain": [
       "+------------------------+------------------------+-----------------+-------+-------------+-------------+--------------+\n",
       "|      business_id       |        address         |       city      | state | postal_code |   latitude  |  longitude   |\n",
       "+------------------------+------------------------+-----------------+-------+-------------+-------------+--------------+\n",
       "| UVfYRQIr6u_WrFSY5Cv7xw |     736 Hanover Pl     |      Carmel     |   IN  |    46032    |  39.9697264 | -86.1278146  |\n",
       "| wH6QxQv31IJ-qQ-FKIc5TA |    6125 Grand Blvd     | New Port Richey |   FL  |    34652    |  28.247926  |  -82.719939  |\n",
       "| K1NdCTaJWK1ezkZpPyB7-A |  1551 E Tangerine Rd   |    Oro Valley   |   AZ  |    85755    |  32.429167  | -110.948631  |\n",
       "| juL8ovMlnjkXNACxZ8HLAQ | 3750 W Orange Grove Rd |      Tucson     |   AZ  |    85741    |  32.3248992 | -111.0444852 |\n",
       "| 2eN2pfPCear_ofmgQ0peCw |  301 Andorra Glen Ct   |  Lafayette Hill |   PA  |    19444    |  40.0884567 | -75.2674119  |\n",
       "| oUnC0Mcl_nozqkOXejTQXQ |  1875 S Alvernon Way   |      Tucson     |   AZ  |    85711    | 32.20042127 | -110.9089026 |\n",
       "| sfOczyUZLffzSOVeVBbJrw |    108 N Wayne Ave     |      Wayne      |   PA  |    19087    |  40.0444568 | -75.3881712  |\n",
       "| toMVWIsPJmS7-LiLAf2AfA |   3400 S Lawrence St   |   Philadelphia  |   PA  |    19148    |  39.9049727 | -75.1588247  |\n",
       "| UcQUBTXcEke44ymSpX3qKw |          NaN           |      Boise      |   ID  |    83709    |  43.5516566 | -116.2987901 |\n",
       "| pJTtJv3pNQxFr1CLRXj7xQ |      2441 Rte 206      |    Eastampton   |   NJ  |    08060    |  39.9869773 | -74.7354294  |\n",
       "+------------------------+------------------------+-----------------+-------+-------------+-------------+--------------+\n",
       "Truncated to displaylimit of 10."
      ]
     },
     "execution_count": 83,
     "metadata": {},
     "output_type": "execute_result"
    }
   ],
   "source": [
    "%%sql\n",
    "SELECT * FROM location LIMIT 10;"
   ]
  },
  {
   "cell_type": "code",
   "execution_count": null,
   "metadata": {},
   "outputs": [],
   "source": []
  },
  {
   "cell_type": "markdown",
   "metadata": {},
   "source": [
    "### Explore yelp_user"
   ]
  },
  {
   "cell_type": "code",
   "execution_count": 89,
   "metadata": {},
   "outputs": [
    {
     "data": {
      "text/plain": [
       "user_id                   0\n",
       "name                      0\n",
       "review_count              0\n",
       "yelping_since             0\n",
       "useful                    0\n",
       "funny                     0\n",
       "cool                      0\n",
       "elite                 34553\n",
       "friends                   0\n",
       "fans                      0\n",
       "average_stars             0\n",
       "compliment_hot            0\n",
       "compliment_more           0\n",
       "compliment_profile        0\n",
       "compliment_cute           0\n",
       "compliment_list           0\n",
       "compliment_note           0\n",
       "compliment_plain          0\n",
       "compliment_cool           0\n",
       "compliment_funny          0\n",
       "compliment_writer         0\n",
       "compliment_photos         0\n",
       "dtype: int64"
      ]
     },
     "execution_count": 89,
     "metadata": {},
     "output_type": "execute_result"
    }
   ],
   "source": [
    "df_user.isnull().sum()\n",
    "# from the result we can see there are a lot of null values for elite, so we can normalize that as well"
   ]
  },
  {
   "cell_type": "code",
   "execution_count": 96,
   "metadata": {},
   "outputs": [
    {
     "name": "stdout",
     "output_type": "stream",
     "text": [
      "                      user_id elite_year\n",
      "0      j14WgRoU_-2ZE1aw1dXrJg       2009\n",
      "0      j14WgRoU_-2ZE1aw1dXrJg       2010\n",
      "0      j14WgRoU_-2ZE1aw1dXrJg       2011\n",
      "0      j14WgRoU_-2ZE1aw1dXrJg       2012\n",
      "0      j14WgRoU_-2ZE1aw1dXrJg       2013\n",
      "...                       ...        ...\n",
      "41681  W1xuqnkt5o82LJ9w4bnAlw         20\n",
      "41681  W1xuqnkt5o82LJ9w4bnAlw       2021\n",
      "41873  O-iXRW6_2el1G-AwE5t1FA       2021\n",
      "41886  Y0TYtVCQ3P7ZV50mZiBJkA         20\n",
      "41886  Y0TYtVCQ3P7ZV50mZiBJkA       2021\n",
      "\n",
      "[34199 rows x 2 columns]\n"
     ]
    }
   ],
   "source": [
    "# Step 1: Split the 'elite' column into multiple rows\n",
    "df_elite = df_user.assign(elite=df_user['elite'].str.split(',')).explode('elite')\n",
    "\n",
    "# Step 2: Remove any extra spaces and drop NaN years\n",
    "df_elite['elite'] = df_elite['elite'].str.strip()\n",
    "df_elite = df_elite.dropna(subset=['elite'])\n",
    "\n",
    "# Step 3: Drop duplicates in case of redundancy\n",
    "df_elite = df_elite[['user_id', 'elite']].drop_duplicates()\n",
    "\n",
    "# Step 4: Rename 'elite' to 'elite_year' \n",
    "df_elite.rename(columns={'elite': 'elite_year'}, inplace=True)\n",
    "\n",
    "print(df_elite)\n"
   ]
  },
  {
   "cell_type": "code",
   "execution_count": 99,
   "metadata": {},
   "outputs": [
    {
     "name": "stdout",
     "output_type": "stream",
     "text": [
      "                      user_id               friend_id\n",
      "0      j14WgRoU_-2ZE1aw1dXrJg  ueRPE0CX75ePGMqOFVj6IQ\n",
      "0      j14WgRoU_-2ZE1aw1dXrJg  52oH4DrRvzzl8wh5UXyU0A\n",
      "0      j14WgRoU_-2ZE1aw1dXrJg  E_GAXhVA1_lVC2aFpMQElA\n",
      "0      j14WgRoU_-2ZE1aw1dXrJg  HwlpkOpidkZWvyjrxFk6Ag\n",
      "0      j14WgRoU_-2ZE1aw1dXrJg  kuDmRGcvJhFCHEXTNH1d4Q\n",
      "...                       ...                     ...\n",
      "41975  kWGuleSbqm7DYJ4x43iH7Q  5X1-nf3_moBHqfhQd-5D0A\n",
      "41996  btQA-pLfeZqFF74xmc935Q  -pkh2f3NLZFgTxeQMvcMPA\n",
      "42018  Thy26dloVdr1f2a93gZiRw  3ifGF5eKfDsvpqPl_igwPQ\n",
      "42125  NWf_iRg33goMvr_QsmAkdw  424nulIpc-FTeH6kfTIABg\n",
      "42333  rj1ugAxFKI--fCMjekwZow  Ygc0mm-LHseMX_TGKElx8Q\n",
      "\n",
      "[3761912 rows x 2 columns]\n"
     ]
    }
   ],
   "source": [
    "### friends\n",
    "# Normalize 'friends' column\n",
    "df_friends = df_user[['user_id', 'friends']].copy()\n",
    "\n",
    "# Split the 'friends' column by comma and explode into multiple rows\n",
    "df_friends = df_friends.assign(friends=df_friends['friends'].str.split(',')).explode('friends')\n",
    "\n",
    "# Clean: Remove extra spaces, NaN, and empty strings\n",
    "df_friends['friends'] = df_friends['friends'].str.strip()  # Strip spaces\n",
    "df_friends = df_friends.dropna(subset=['friends'])  # Drop NaN\n",
    "df_friends = df_friends[df_friends['friends'] != '']  # Drop empty strings\n",
    "df_friends = df_friends[df_friends['friends'] != 'None']\n",
    "\n",
    "# Rename for clarity\n",
    "df_friends.rename(columns={'friends': 'friend_id'}, inplace=True)\n",
    "\n",
    "print(df_friends)\n"
   ]
  },
  {
   "cell_type": "markdown",
   "metadata": {},
   "source": [
    "### Normalized yelp_user"
   ]
  },
  {
   "cell_type": "code",
   "execution_count": 109,
   "metadata": {},
   "outputs": [
    {
     "name": "stdout",
     "output_type": "stream",
     "text": [
      "Tables created successfully.\n"
     ]
    }
   ],
   "source": [
    "# Connect to the PostgreSQL database\n",
    "conn = get_db_connection()\n",
    "cursor = conn.cursor()\n",
    "\n",
    "# Full SQL schema definition\n",
    "schema_sql = \"\"\"\n",
    "DROP TABLE IF EXISTS friends CASCADE;\n",
    "DROP TABLE IF EXISTS elite CASCADE;\n",
    "DROP TABLE IF EXISTS nor_user CASCADE;\n",
    "\n",
    "CREATE TABLE IF NOT EXISTS nor_user (\n",
    "    user_id VARCHAR(22) PRIMARY KEY,\n",
    "    name TEXT,\n",
    "    review_count INTEGER,\n",
    "    yelping_since DATE,\n",
    "    useful INTEGER,\n",
    "    funny INTEGER,\n",
    "    cool INTEGER,\n",
    "    fans INTEGER,\n",
    "    average_stars NUMERIC CHECK (average_stars BETWEEN 0 AND 5),\n",
    "    compliment_hot INTEGER,\n",
    "    compliment_more INTEGER,\n",
    "    compliment_profile INTEGER,\n",
    "    compliment_cute INTEGER,\n",
    "    compliment_list INTEGER,\n",
    "    compliment_note INTEGER,\n",
    "    compliment_plain INTEGER,\n",
    "    compliment_cool INTEGER,\n",
    "    compliment_funny INTEGER,\n",
    "    compliment_writer INTEGER,\n",
    "    compliment_photos INTEGER\n",
    ");\n",
    "\n",
    "CREATE TABLE IF NOT EXISTS friends (\n",
    "    user_id VARCHAR(22) REFERENCES nor_user(user_id) ON DELETE CASCADE,\n",
    "    friend_id VARCHAR(22)\n",
    ");\n",
    "\n",
    "CREATE TABLE IF NOT EXISTS elite (\n",
    "    user_id VARCHAR(22) REFERENCES nor_user(user_id) ON DELETE CASCADE,\n",
    "    elite_year INTEGER\n",
    ");\n",
    "\n",
    "\n",
    "\"\"\"\n",
    "\n",
    "# Execute the schema to create the tables\n",
    "cursor.execute(schema_sql)\n",
    "\n",
    "# Commit and close\n",
    "conn.commit()\n",
    "cursor.close()\n",
    "conn.close()\n",
    "print(\"Tables created successfully.\")"
   ]
  },
  {
   "cell_type": "code",
   "execution_count": 110,
   "metadata": {},
   "outputs": [
    {
     "name": "stdout",
     "output_type": "stream",
     "text": [
      "Successfully inserted 42593 rows into nor_user.\n"
     ]
    }
   ],
   "source": [
    "## insert nor_user\n",
    "df_user_nor = df_user[['user_id', 'name', 'review_count', 'yelping_since', 'useful', 'funny',\n",
    "       'cool', 'fans', 'average_stars', 'compliment_hot',\n",
    "       'compliment_more', 'compliment_profile', 'compliment_cute',\n",
    "       'compliment_list', 'compliment_note', 'compliment_plain',\n",
    "       'compliment_cool', 'compliment_funny', 'compliment_writer',\n",
    "       'compliment_photos']]\n",
    "\n",
    "# Step 2: Connect to the PostgreSQL database\n",
    "conn = get_db_connection()\n",
    "\n",
    "# Step 3: Insert data into the table\n",
    "bulk_insert(conn, 'nor_user', df_user_nor, conflict_column='user_id')"
   ]
  },
  {
   "cell_type": "code",
   "execution_count": 111,
   "metadata": {},
   "outputs": [
    {
     "data": {
      "text/plain": [
       "Index(['user_id', 'elite_year'], dtype='object')"
      ]
     },
     "execution_count": 111,
     "metadata": {},
     "output_type": "execute_result"
    }
   ],
   "source": [
    "df_elite.columns"
   ]
  },
  {
   "cell_type": "code",
   "execution_count": 112,
   "metadata": {},
   "outputs": [
    {
     "name": "stdout",
     "output_type": "stream",
     "text": [
      "Successfully inserted 34199 rows into elite.\n"
     ]
    }
   ],
   "source": [
    "## insert elite\n",
    "conn = get_db_connection()\n",
    "bulk_insert(conn, 'elite', df_elite)"
   ]
  },
  {
   "cell_type": "code",
   "execution_count": 114,
   "metadata": {},
   "outputs": [
    {
     "name": "stdout",
     "output_type": "stream",
     "text": [
      "Successfully inserted 3761912 rows into friends.\n"
     ]
    }
   ],
   "source": [
    "## insert friends\n",
    "conn = get_db_connection()\n",
    "bulk_insert(conn, 'friends', df_friends)"
   ]
  },
  {
   "cell_type": "markdown",
   "metadata": {},
   "source": [
    "# Query Performance Comparison"
   ]
  },
  {
   "cell_type": "markdown",
   "metadata": {},
   "source": []
  }
 ],
 "metadata": {
  "kernelspec": {
   "display_name": "base",
   "language": "python",
   "name": "python3"
  },
  "language_info": {
   "codemirror_mode": {
    "name": "ipython",
    "version": 3
   },
   "file_extension": ".py",
   "mimetype": "text/x-python",
   "name": "python",
   "nbconvert_exporter": "python",
   "pygments_lexer": "ipython3",
   "version": "3.9.12"
  }
 },
 "nbformat": 4,
 "nbformat_minor": 2
}
