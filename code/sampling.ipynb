{
 "cells": [
  {
   "cell_type": "code",
   "execution_count": 1,
   "metadata": {},
   "outputs": [],
   "source": [
    "import random \n",
    "import json\n",
    "import pandas as pd\n",
    "import psycopg"
   ]
  },
  {
   "cell_type": "code",
   "execution_count": 2,
   "metadata": {},
   "outputs": [],
   "source": [
    "%load_ext sql"
   ]
  },
  {
   "cell_type": "code",
   "execution_count": 3,
   "metadata": {},
   "outputs": [],
   "source": [
    "%sql postgresql://michellelin@localhost/yelp"
   ]
  },
  {
   "cell_type": "markdown",
   "metadata": {},
   "source": [
    "# Sample data from JSON file"
   ]
  },
  {
   "cell_type": "code",
   "execution_count": 4,
   "metadata": {},
   "outputs": [
    {
     "name": "stdout",
     "output_type": "stream",
     "text": [
      "Sampling and filtering complete.\n"
     ]
    }
   ],
   "source": [
    "def reservoir_sampling(filename, k=1000):\n",
    "    \"\"\"\n",
    "    Perform reservoir sampling from a large JSON file (line-by-line streaming)\n",
    "    \"\"\"\n",
    "    reservoir = []\n",
    "    with open(filename, 'r') as f:\n",
    "        for i, line in enumerate(f):\n",
    "            record = json.loads(line)\n",
    "            if i < k:\n",
    "                reservoir.append(record)\n",
    "            else:\n",
    "                j = random.randint(0, i)\n",
    "                if j < k:\n",
    "                    reservoir[j] = record\n",
    "    return reservoir\n",
    "\n",
    "\n",
    "# Step 1: Sample `business.json`\n",
    "sampled_business = reservoir_sampling('../data/yelp_dataset/yelp_academic_dataset_business.json')\n",
    "df_business = pd.DataFrame(sampled_business)\n",
    "sampled_business_ids = set(df_business['business_id'])\n",
    "df_business.to_csv('../sampled_data/business_sample.csv', index=False)\n",
    "\n",
    "# Step 2: Filter `reviews.json` by `business_id`\n",
    "filtered_reviews = []\n",
    "user_ids = set()\n",
    "\n",
    "with open('../data/yelp_dataset/yelp_academic_dataset_review.json', 'r') as f:\n",
    "    for line in f:\n",
    "        review = json.loads(line)\n",
    "        if review['business_id'] in sampled_business_ids:\n",
    "            filtered_reviews.append(review)\n",
    "            user_ids.add(review['user_id'])\n",
    "\n",
    "df_reviews = pd.DataFrame(filtered_reviews)\n",
    "df_reviews.to_csv('../sampled_data/reviews_sample.csv', index=False)\n",
    "\n",
    "# Step 3: Filter `user.json` by `user_id`\n",
    "filtered_users = []\n",
    "\n",
    "with open('../data/yelp_dataset/yelp_academic_dataset_user.json', 'r') as f:\n",
    "    for line in f:\n",
    "        user = json.loads(line)\n",
    "        if user['user_id'] in user_ids:\n",
    "            filtered_users.append(user)\n",
    "\n",
    "df_users = pd.DataFrame(filtered_users)\n",
    "df_users.to_csv('../sampled_data/users_sample.csv', index=False)\n",
    "\n",
    "# Step 4: Filter `tips.json` by `business_id` and `user_id`\n",
    "filtered_tips = []\n",
    "\n",
    "with open('../data/yelp_dataset/yelp_academic_dataset_tip.json', 'r') as f:\n",
    "    for line in f:\n",
    "        tip = json.loads(line)\n",
    "        if tip['business_id'] in sampled_business_ids and tip['user_id'] in user_ids:\n",
    "            filtered_tips.append(tip)\n",
    "\n",
    "df_tips = pd.DataFrame(filtered_tips)\n",
    "df_tips.to_csv('../sampled_data/tips_sample.csv', index=False)\n",
    "\n",
    "print(\"Sampling and filtering complete.\")\n"
   ]
  },
  {
   "cell_type": "markdown",
   "metadata": {},
   "source": [
    "## EDA"
   ]
  },
  {
   "cell_type": "code",
   "execution_count": 5,
   "metadata": {},
   "outputs": [
    {
     "name": "stdout",
     "output_type": "stream",
     "text": [
      "df_business schema: business_id      object\n",
      "name             object\n",
      "address          object\n",
      "city             object\n",
      "state            object\n",
      "postal_code      object\n",
      "latitude        float64\n",
      "longitude       float64\n",
      "stars           float64\n",
      "review_count      int64\n",
      "is_open           int64\n",
      "attributes       object\n",
      "categories       object\n",
      "hours            object\n",
      "dtype: object\n"
     ]
    },
    {
     "data": {
      "text/plain": [
       "(1000, 14)"
      ]
     },
     "execution_count": 5,
     "metadata": {},
     "output_type": "execute_result"
    }
   ],
   "source": [
    "print(f'df_business schema: {df_business.dtypes}')\n",
    "df_business.shape"
   ]
  },
  {
   "cell_type": "code",
   "execution_count": 6,
   "metadata": {},
   "outputs": [
    {
     "data": {
      "text/html": [
       "<div>\n",
       "<style scoped>\n",
       "    .dataframe tbody tr th:only-of-type {\n",
       "        vertical-align: middle;\n",
       "    }\n",
       "\n",
       "    .dataframe tbody tr th {\n",
       "        vertical-align: top;\n",
       "    }\n",
       "\n",
       "    .dataframe thead th {\n",
       "        text-align: right;\n",
       "    }\n",
       "</style>\n",
       "<table border=\"1\" class=\"dataframe\">\n",
       "  <thead>\n",
       "    <tr style=\"text-align: right;\">\n",
       "      <th></th>\n",
       "      <th>business_id</th>\n",
       "      <th>name</th>\n",
       "      <th>address</th>\n",
       "      <th>city</th>\n",
       "      <th>state</th>\n",
       "      <th>postal_code</th>\n",
       "      <th>latitude</th>\n",
       "      <th>longitude</th>\n",
       "      <th>stars</th>\n",
       "      <th>review_count</th>\n",
       "      <th>is_open</th>\n",
       "      <th>attributes</th>\n",
       "      <th>categories</th>\n",
       "      <th>hours</th>\n",
       "    </tr>\n",
       "  </thead>\n",
       "  <tbody>\n",
       "    <tr>\n",
       "      <th>0</th>\n",
       "      <td>yFrOuce72KhvW0LpU5FY6A</td>\n",
       "      <td>Earnest Bar &amp; Hideaway</td>\n",
       "      <td>438 Houston St, Ste 160</td>\n",
       "      <td>Nashville</td>\n",
       "      <td>TN</td>\n",
       "      <td>37203</td>\n",
       "      <td>36.143036</td>\n",
       "      <td>-86.767485</td>\n",
       "      <td>4.0</td>\n",
       "      <td>265</td>\n",
       "      <td>1</td>\n",
       "      <td>{'WheelchairAccessible': 'True', 'HasTV': 'Tru...</td>\n",
       "      <td>American (New), American (Traditional), Nightl...</td>\n",
       "      <td>{'Monday': '0:0-0:0', 'Tuesday': '17:0-22:0', ...</td>\n",
       "    </tr>\n",
       "    <tr>\n",
       "      <th>1</th>\n",
       "      <td>WfGXVT-WOgDymYv_kL28GQ</td>\n",
       "      <td>Vanessa Cafe Restaraunt Pizzeria</td>\n",
       "      <td>3815 Church Rd</td>\n",
       "      <td>Mount Laurel Township</td>\n",
       "      <td>NJ</td>\n",
       "      <td>08054</td>\n",
       "      <td>39.928964</td>\n",
       "      <td>-74.970330</td>\n",
       "      <td>5.0</td>\n",
       "      <td>15</td>\n",
       "      <td>1</td>\n",
       "      <td>{'RestaurantsReservations': 'True', 'BusinessA...</td>\n",
       "      <td>Pizza, Italian, Restaurants, Sicilian</td>\n",
       "      <td>{'Monday': '11:0-22:0', 'Tuesday': '11:0-22:0'...</td>\n",
       "    </tr>\n",
       "    <tr>\n",
       "      <th>2</th>\n",
       "      <td>otm8R7rkCtCNM0g0TC55-Q</td>\n",
       "      <td>The Gables Cafe</td>\n",
       "      <td>4600 Woodland Ave</td>\n",
       "      <td>Philadelphia</td>\n",
       "      <td>PA</td>\n",
       "      <td>19143</td>\n",
       "      <td>39.944194</td>\n",
       "      <td>-75.209709</td>\n",
       "      <td>5.0</td>\n",
       "      <td>14</td>\n",
       "      <td>1</td>\n",
       "      <td>{'RestaurantsTableService': 'True', 'WiFi': 'u...</td>\n",
       "      <td>Food, Coffee &amp; Tea, Restaurants, Italian, Dess...</td>\n",
       "      <td>None</td>\n",
       "    </tr>\n",
       "    <tr>\n",
       "      <th>3</th>\n",
       "      <td>3xMtsSQ42lBpkP-R3726lw</td>\n",
       "      <td>Pinky's Nails</td>\n",
       "      <td>63 Boone Vlg</td>\n",
       "      <td>Zionsville</td>\n",
       "      <td>IN</td>\n",
       "      <td>46077</td>\n",
       "      <td>39.951867</td>\n",
       "      <td>-86.278108</td>\n",
       "      <td>3.5</td>\n",
       "      <td>26</td>\n",
       "      <td>1</td>\n",
       "      <td>{'BusinessAcceptsCreditCards': 'True', 'ByAppo...</td>\n",
       "      <td>Nail Salons, Beauty &amp; Spas</td>\n",
       "      <td>{'Monday': '9:30-19:30', 'Tuesday': '9:30-19:3...</td>\n",
       "    </tr>\n",
       "    <tr>\n",
       "      <th>4</th>\n",
       "      <td>ne1EabaPSD9WjIpWZ26JMQ</td>\n",
       "      <td>Reno Tahoe Window Cleaning</td>\n",
       "      <td>59 Damonte Ranch Pkwy, Ste B-187</td>\n",
       "      <td>Reno</td>\n",
       "      <td>NV</td>\n",
       "      <td>89521</td>\n",
       "      <td>39.420298</td>\n",
       "      <td>-119.756945</td>\n",
       "      <td>4.5</td>\n",
       "      <td>94</td>\n",
       "      <td>1</td>\n",
       "      <td>{'BusinessAcceptsCreditCards': 'True', 'BikePa...</td>\n",
       "      <td>Pest Control, Local Services, Home Services, W...</td>\n",
       "      <td>{'Monday': '0:0-0:0', 'Tuesday': '8:0-17:0', '...</td>\n",
       "    </tr>\n",
       "  </tbody>\n",
       "</table>\n",
       "</div>"
      ],
      "text/plain": [
       "              business_id                              name  \\\n",
       "0  yFrOuce72KhvW0LpU5FY6A            Earnest Bar & Hideaway   \n",
       "1  WfGXVT-WOgDymYv_kL28GQ  Vanessa Cafe Restaraunt Pizzeria   \n",
       "2  otm8R7rkCtCNM0g0TC55-Q                   The Gables Cafe   \n",
       "3  3xMtsSQ42lBpkP-R3726lw                     Pinky's Nails   \n",
       "4  ne1EabaPSD9WjIpWZ26JMQ        Reno Tahoe Window Cleaning   \n",
       "\n",
       "                            address                   city state postal_code  \\\n",
       "0           438 Houston St, Ste 160              Nashville    TN       37203   \n",
       "1                    3815 Church Rd  Mount Laurel Township    NJ       08054   \n",
       "2                 4600 Woodland Ave           Philadelphia    PA       19143   \n",
       "3                      63 Boone Vlg             Zionsville    IN       46077   \n",
       "4  59 Damonte Ranch Pkwy, Ste B-187                   Reno    NV       89521   \n",
       "\n",
       "    latitude   longitude  stars  review_count  is_open  \\\n",
       "0  36.143036  -86.767485    4.0           265        1   \n",
       "1  39.928964  -74.970330    5.0            15        1   \n",
       "2  39.944194  -75.209709    5.0            14        1   \n",
       "3  39.951867  -86.278108    3.5            26        1   \n",
       "4  39.420298 -119.756945    4.5            94        1   \n",
       "\n",
       "                                          attributes  \\\n",
       "0  {'WheelchairAccessible': 'True', 'HasTV': 'Tru...   \n",
       "1  {'RestaurantsReservations': 'True', 'BusinessA...   \n",
       "2  {'RestaurantsTableService': 'True', 'WiFi': 'u...   \n",
       "3  {'BusinessAcceptsCreditCards': 'True', 'ByAppo...   \n",
       "4  {'BusinessAcceptsCreditCards': 'True', 'BikePa...   \n",
       "\n",
       "                                          categories  \\\n",
       "0  American (New), American (Traditional), Nightl...   \n",
       "1              Pizza, Italian, Restaurants, Sicilian   \n",
       "2  Food, Coffee & Tea, Restaurants, Italian, Dess...   \n",
       "3                         Nail Salons, Beauty & Spas   \n",
       "4  Pest Control, Local Services, Home Services, W...   \n",
       "\n",
       "                                               hours  \n",
       "0  {'Monday': '0:0-0:0', 'Tuesday': '17:0-22:0', ...  \n",
       "1  {'Monday': '11:0-22:0', 'Tuesday': '11:0-22:0'...  \n",
       "2                                               None  \n",
       "3  {'Monday': '9:30-19:30', 'Tuesday': '9:30-19:3...  \n",
       "4  {'Monday': '0:0-0:0', 'Tuesday': '8:0-17:0', '...  "
      ]
     },
     "execution_count": 6,
     "metadata": {},
     "output_type": "execute_result"
    }
   ],
   "source": [
    "df_business.head()"
   ]
  },
  {
   "cell_type": "code",
   "execution_count": 7,
   "metadata": {},
   "outputs": [
    {
     "name": "stdout",
     "output_type": "stream",
     "text": [
      "df_reviews schema: review_id       object\n",
      "user_id         object\n",
      "business_id     object\n",
      "stars          float64\n",
      "useful           int64\n",
      "funny            int64\n",
      "cool             int64\n",
      "text            object\n",
      "date            object\n",
      "dtype: object\n"
     ]
    },
    {
     "data": {
      "text/plain": [
       "(44650, 9)"
      ]
     },
     "execution_count": 7,
     "metadata": {},
     "output_type": "execute_result"
    }
   ],
   "source": [
    "print(f'df_reviews schema: {df_reviews.dtypes}')\n",
    "df_reviews.shape"
   ]
  },
  {
   "cell_type": "code",
   "execution_count": 8,
   "metadata": {},
   "outputs": [
    {
     "name": "stdout",
     "output_type": "stream",
     "text": [
      "df_users schema: user_id                object\n",
      "name                   object\n",
      "review_count            int64\n",
      "yelping_since          object\n",
      "useful                  int64\n",
      "funny                   int64\n",
      "cool                    int64\n",
      "elite                  object\n",
      "friends                object\n",
      "fans                    int64\n",
      "average_stars         float64\n",
      "compliment_hot          int64\n",
      "compliment_more         int64\n",
      "compliment_profile      int64\n",
      "compliment_cute         int64\n",
      "compliment_list         int64\n",
      "compliment_note         int64\n",
      "compliment_plain        int64\n",
      "compliment_cool         int64\n",
      "compliment_funny        int64\n",
      "compliment_writer       int64\n",
      "compliment_photos       int64\n",
      "dtype: object\n"
     ]
    },
    {
     "data": {
      "text/plain": [
       "(38921, 22)"
      ]
     },
     "execution_count": 8,
     "metadata": {},
     "output_type": "execute_result"
    }
   ],
   "source": [
    "print(f'df_users schema: {df_users.dtypes}')\n",
    "df_users.shape"
   ]
  },
  {
   "cell_type": "code",
   "execution_count": 9,
   "metadata": {},
   "outputs": [
    {
     "name": "stdout",
     "output_type": "stream",
     "text": [
      "df_tips schema: user_id             object\n",
      "business_id         object\n",
      "text                object\n",
      "date                object\n",
      "compliment_count     int64\n",
      "dtype: object\n"
     ]
    },
    {
     "data": {
      "text/plain": [
       "(3042, 5)"
      ]
     },
     "execution_count": 9,
     "metadata": {},
     "output_type": "execute_result"
    }
   ],
   "source": [
    "print(f'df_tips schema: {df_tips.dtypes}')\n",
    "df_tips.shape"
   ]
  }
 ],
 "metadata": {
  "kernelspec": {
   "display_name": "base",
   "language": "python",
   "name": "python3"
  },
  "language_info": {
   "codemirror_mode": {
    "name": "ipython",
    "version": 3
   },
   "file_extension": ".py",
   "mimetype": "text/x-python",
   "name": "python",
   "nbconvert_exporter": "python",
   "pygments_lexer": "ipython3",
   "version": "3.9.12"
  }
 },
 "nbformat": 4,
 "nbformat_minor": 2
}
