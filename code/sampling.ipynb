{
 "cells": [
  {
   "cell_type": "code",
   "execution_count": 32,
   "metadata": {},
   "outputs": [],
   "source": [
    "import random \n",
    "import json\n",
    "import pandas as pd"
   ]
  },
  {
   "cell_type": "code",
   "execution_count": 33,
   "metadata": {},
   "outputs": [
    {
     "name": "stdout",
     "output_type": "stream",
     "text": [
      "The sql extension is already loaded. To reload it, use:\n",
      "  %reload_ext sql\n"
     ]
    }
   ],
   "source": [
    "%load_ext sql"
   ]
  },
  {
   "cell_type": "markdown",
   "metadata": {},
   "source": [
    "## Sample business data from JSON file"
   ]
  },
  {
   "cell_type": "code",
   "execution_count": 18,
   "metadata": {},
   "outputs": [
    {
     "name": "stdout",
     "output_type": "stream",
     "text": [
      "Sample saved as business_sample.csv\n"
     ]
    }
   ],
   "source": [
    "def reservoir_sampling(filename, k=1000):\n",
    "    \"\"\"\n",
    "    Perform reservoir sampling from a large JSON file (line-by-line streaming)\n",
    "    Args:\n",
    "    - filename (str): Path to the JSON file\n",
    "    - k (int): The size of the sample (number of rows to sample)\n",
    "    \n",
    "    Returns:\n",
    "    - List of k sampled rows\n",
    "    \"\"\"\n",
    "    reservoir = []  # The reservoir will store k items\n",
    "    with open(filename, 'r') as f:\n",
    "        for i, line in enumerate(f):\n",
    "            record = json.loads(line)  # Parse JSON line\n",
    "            if i < k:\n",
    "                reservoir.append(record)  # Fill the reservoir initially\n",
    "            else:\n",
    "                j = random.randint(0, i)  # Randomly select an index from 0 to i\n",
    "                if j < k:\n",
    "                    reservoir[j] = record  # Replace one of the items in the reservoir\n",
    "    \n",
    "    return reservoir\n",
    "\n",
    "\n",
    "# Step 1: Sample 100000 of the data from business.json\n",
    "sampled_data = reservoir_sampling('../data/yelp_dataset/yelp_academic_dataset_business.json', k=100000) \n",
    "\n",
    "# Step 2: Convert the sample to a DataFrame\n",
    "df_sample = pd.DataFrame(sampled_data)\n",
    "\n",
    "# Step 3: Save the sampled data as CSV\n",
    "df_sample.to_csv('../data/business_sample.csv', index=False)\n",
    "\n",
    "print(\"Sample saved as business_sample.csv\")"
   ]
  },
  {
   "cell_type": "code",
   "execution_count": 20,
   "metadata": {},
   "outputs": [
    {
     "name": "stdout",
     "output_type": "stream",
     "text": [
      "Table created successfully.\n"
     ]
    }
   ],
   "source": [
    "import psycopg\n",
    "\n",
    "conn = psycopg.connect(\"postgresql://localhost/yelp\")\n",
    "cursor = conn.cursor()\n",
    "\n",
    "create_table_query = \"\"\"\n",
    "CREATE TABLE IF NOT EXISTS business (\n",
    "    business_id VARCHAR PRIMARY KEY,\n",
    "    name VARCHAR,\n",
    "    address VARCHAR,\n",
    "    city VARCHAR,\n",
    "    state VARCHAR(2),\n",
    "    postal_code VARCHAR(10),\n",
    "    latitude NUMERIC,\n",
    "    longitude NUMERIC,\n",
    "    stars NUMERIC,\n",
    "    review_count INTEGER\n",
    ");\n",
    "\"\"\"\n",
    "\n",
    "cursor.execute(create_table_query)\n",
    "conn.commit()\n",
    "print(\"Table created successfully.\")\n",
    "\n",
    "cursor.close()\n",
    "conn.close()\n"
   ]
  },
  {
   "cell_type": "code",
   "execution_count": 21,
   "metadata": {},
   "outputs": [],
   "source": [
    "%sql postgresql://michellelin@localhost/yelp"
   ]
  },
  {
   "cell_type": "code",
   "execution_count": 23,
   "metadata": {},
   "outputs": [
    {
     "name": "stdout",
     "output_type": "stream",
     "text": [
      "Data inserted successfully.\n"
     ]
    }
   ],
   "source": [
    "import psycopg\n",
    "import pandas as pd\n",
    "\n",
    "# Step 1: Read the sampled CSV file\n",
    "df_sample = pd.read_csv('../data/business_sample.csv')\n",
    "\n",
    "# Step 2: Connect to the PostgreSQL database\n",
    "conn = psycopg.connect(\"postgresql://michellelin@localhost/yelp\")\n",
    "cursor = conn.cursor()\n",
    "\n",
    "# Step 3: Insert each row of the DataFrame into the 'business' table\n",
    "for index, row in df_sample.iterrows():\n",
    "    business_id = row['business_id']\n",
    "    name = row['name']\n",
    "    address = row['address']\n",
    "    city = row['city']\n",
    "    state = row['state']\n",
    "    postal_code = row['postal_code']\n",
    "    latitude = row['latitude']\n",
    "    longitude = row['longitude']\n",
    "    stars = row['stars']\n",
    "    review_count = row['review_count']\n",
    "    \n",
    "    # SQL Insert Query with ON CONFLICT to avoid duplicate errors\n",
    "    insert_query = \"\"\"\n",
    "    INSERT INTO business (business_id, name, address, city, state, postal_code, latitude, longitude, stars, review_count) \n",
    "    VALUES (%s, %s, %s, %s, %s, %s, %s, %s, %s, %s)\n",
    "    ON CONFLICT (business_id) DO NOTHING;\n",
    "    \"\"\"\n",
    "    \n",
    "    try:\n",
    "        cursor.execute(insert_query, (business_id, name, address, city, state, postal_code, latitude, longitude, stars, review_count))\n",
    "    except Exception as e:\n",
    "        print(f\"Error inserting row {index}: {e}\")\n",
    "\n",
    "# Step 4: Commit the transaction to make the changes permanent\n",
    "conn.commit()\n",
    "print(\"Data inserted successfully.\")\n",
    "\n",
    "# Step 5: Close the cursor and connection\n",
    "cursor.close()\n",
    "conn.close()\n"
   ]
  },
  {
   "cell_type": "code",
   "execution_count": 24,
   "metadata": {},
   "outputs": [
    {
     "data": {
      "text/html": [
       "<span style=\"None\">Running query in &#x27;postgresql://michellelin@localhost/yelp&#x27;</span>"
      ],
      "text/plain": [
       "Running query in 'postgresql://michellelin@localhost/yelp'"
      ]
     },
     "metadata": {},
     "output_type": "display_data"
    },
    {
     "data": {
      "text/html": [
       "<span style=\"color: green\">1 rows affected.</span>"
      ],
      "text/plain": [
       "1 rows affected."
      ]
     },
     "metadata": {},
     "output_type": "display_data"
    },
    {
     "data": {
      "text/html": [
       "<table>\n",
       "    <thead>\n",
       "        <tr>\n",
       "            <th>count</th>\n",
       "        </tr>\n",
       "    </thead>\n",
       "    <tbody>\n",
       "        <tr>\n",
       "            <td>100635</td>\n",
       "        </tr>\n",
       "    </tbody>\n",
       "</table>"
      ],
      "text/plain": [
       "+--------+\n",
       "| count  |\n",
       "+--------+\n",
       "| 100635 |\n",
       "+--------+"
      ]
     },
     "execution_count": 24,
     "metadata": {},
     "output_type": "execute_result"
    }
   ],
   "source": [
    "%%sql\n",
    "SELECT COUNT(*) FROM business;"
   ]
  },
  {
   "cell_type": "code",
   "execution_count": 27,
   "metadata": {},
   "outputs": [
    {
     "data": {
      "text/html": [
       "<span style=\"None\">Running query in &#x27;postgresql://michellelin@localhost/yelp&#x27;</span>"
      ],
      "text/plain": [
       "Running query in 'postgresql://michellelin@localhost/yelp'"
      ]
     },
     "metadata": {},
     "output_type": "display_data"
    },
    {
     "data": {
      "text/html": [
       "<span style=\"color: green\">5 rows affected.</span>"
      ],
      "text/plain": [
       "5 rows affected."
      ]
     },
     "metadata": {},
     "output_type": "display_data"
    },
    {
     "data": {
      "text/html": [
       "<table>\n",
       "    <thead>\n",
       "        <tr>\n",
       "            <th>business_id</th>\n",
       "            <th>name</th>\n",
       "            <th>address</th>\n",
       "            <th>city</th>\n",
       "            <th>state</th>\n",
       "            <th>postal_code</th>\n",
       "            <th>latitude</th>\n",
       "            <th>longitude</th>\n",
       "            <th>stars</th>\n",
       "            <th>review_count</th>\n",
       "        </tr>\n",
       "    </thead>\n",
       "    <tbody>\n",
       "        <tr>\n",
       "            <td>ij01QEUh2uK3W27dN4knwQ</td>\n",
       "            <td>Dutch Hollow Medical Day Spa</td>\n",
       "            <td>3042 Godfrey Rd</td>\n",
       "            <td>Godfrey</td>\n",
       "            <td>IL</td>\n",
       "            <td>62035</td>\n",
       "            <td>38.930379</td>\n",
       "            <td>-90.19284</td>\n",
       "            <td>4</td>\n",
       "            <td>15</td>\n",
       "        </tr>\n",
       "        <tr>\n",
       "            <td>OXZU-xctypqqAaCQQ9Eiqg</td>\n",
       "            <td>Great Clips</td>\n",
       "            <td>3188 Telegraph Rd</td>\n",
       "            <td>Saint Louis</td>\n",
       "            <td>MO</td>\n",
       "            <td>63125</td>\n",
       "            <td>38.4973695</td>\n",
       "            <td>-90.2984265</td>\n",
       "            <td>2</td>\n",
       "            <td>5</td>\n",
       "        </tr>\n",
       "        <tr>\n",
       "            <td>D9sMUiSSzR0Q1WrXvlZ20Q</td>\n",
       "            <td>The Gravity Forge</td>\n",
       "            <td>2920 Turnpike Dr</td>\n",
       "            <td>Hatboro</td>\n",
       "            <td>PA</td>\n",
       "            <td>19040</td>\n",
       "            <td>40.1624444027</td>\n",
       "            <td>-75.1068388</td>\n",
       "            <td>2.5</td>\n",
       "            <td>9</td>\n",
       "        </tr>\n",
       "        <tr>\n",
       "            <td>RsGp61dhtKNonHqaUQQniw</td>\n",
       "            <td>Somerdale Cold Cuts</td>\n",
       "            <td>501 Warwick Rd</td>\n",
       "            <td>Somerdale</td>\n",
       "            <td>NJ</td>\n",
       "            <td>08083</td>\n",
       "            <td>39.850103</td>\n",
       "            <td>-75.032732</td>\n",
       "            <td>4.5</td>\n",
       "            <td>26</td>\n",
       "        </tr>\n",
       "        <tr>\n",
       "            <td>5eHsFwEG9UkVNaMpcbZjEg</td>\n",
       "            <td>Ms. Nancy's Place</td>\n",
       "            <td>177 S Ctr St</td>\n",
       "            <td>Merchantville</td>\n",
       "            <td>NJ</td>\n",
       "            <td>08109</td>\n",
       "            <td>39.9476273</td>\n",
       "            <td>-75.0480838</td>\n",
       "            <td>4</td>\n",
       "            <td>44</td>\n",
       "        </tr>\n",
       "    </tbody>\n",
       "</table>"
      ],
      "text/plain": [
       "+------------------------+------------------------------+-------------------+---------------+-------+-------------+---------------+-------------+-------+--------------+\n",
       "|      business_id       |             name             |      address      |      city     | state | postal_code |    latitude   |  longitude  | stars | review_count |\n",
       "+------------------------+------------------------------+-------------------+---------------+-------+-------------+---------------+-------------+-------+--------------+\n",
       "| ij01QEUh2uK3W27dN4knwQ | Dutch Hollow Medical Day Spa |  3042 Godfrey Rd  |    Godfrey    |   IL  |    62035    |   38.930379   |  -90.19284  |   4   |      15      |\n",
       "| OXZU-xctypqqAaCQQ9Eiqg |         Great Clips          | 3188 Telegraph Rd |  Saint Louis  |   MO  |    63125    |   38.4973695  | -90.2984265 |   2   |      5       |\n",
       "| D9sMUiSSzR0Q1WrXvlZ20Q |      The Gravity Forge       |  2920 Turnpike Dr |    Hatboro    |   PA  |    19040    | 40.1624444027 | -75.1068388 |  2.5  |      9       |\n",
       "| RsGp61dhtKNonHqaUQQniw |     Somerdale Cold Cuts      |   501 Warwick Rd  |   Somerdale   |   NJ  |    08083    |   39.850103   |  -75.032732 |  4.5  |      26      |\n",
       "| 5eHsFwEG9UkVNaMpcbZjEg |      Ms. Nancy's Place       |    177 S Ctr St   | Merchantville |   NJ  |    08109    |   39.9476273  | -75.0480838 |   4   |      44      |\n",
       "+------------------------+------------------------------+-------------------+---------------+-------+-------------+---------------+-------------+-------+--------------+"
      ]
     },
     "execution_count": 27,
     "metadata": {},
     "output_type": "execute_result"
    }
   ],
   "source": [
    "%%sql\n",
    "SELECT * FROM business LIMIT 5;"
   ]
  },
  {
   "cell_type": "markdown",
   "metadata": {},
   "source": [
    "### Filter reviews.json by business_id"
   ]
  },
  {
   "cell_type": "code",
   "execution_count": 30,
   "metadata": {},
   "outputs": [
    {
     "name": "stdout",
     "output_type": "stream",
     "text": [
      "Sampling and filtering complete.\n"
     ]
    }
   ],
   "source": [
    "def reservoir_sampling(filename, k=10000):\n",
    "    \"\"\"\n",
    "    Perform reservoir sampling from a large JSON file (line-by-line streaming)\n",
    "    \"\"\"\n",
    "    reservoir = []\n",
    "    with open(filename, 'r') as f:\n",
    "        for i, line in enumerate(f):\n",
    "            record = json.loads(line)\n",
    "            if i < k:\n",
    "                reservoir.append(record)\n",
    "            else:\n",
    "                j = random.randint(0, i)\n",
    "                if j < k:\n",
    "                    reservoir[j] = record\n",
    "    return reservoir\n",
    "\n",
    "\n",
    "# Step 1: Sample `business.json`\n",
    "sampled_business = reservoir_sampling('../data/yelp_dataset/yelp_academic_dataset_business.json', k=1000)\n",
    "df_business = pd.DataFrame(sampled_business)\n",
    "sampled_business_ids = set(df_business['business_id'])\n",
    "df_business.to_csv('../sampled_data/business_sample.csv', index=False)\n",
    "\n",
    "# Step 2: Filter `reviews.json` by `business_id`\n",
    "filtered_reviews = []\n",
    "user_ids = set()\n",
    "\n",
    "with open('../data/yelp_dataset/yelp_academic_dataset_review.json', 'r') as f:\n",
    "    for line in f:\n",
    "        review = json.loads(line)\n",
    "        if review['business_id'] in sampled_business_ids:\n",
    "            filtered_reviews.append(review)\n",
    "            user_ids.add(review['user_id'])\n",
    "\n",
    "df_reviews = pd.DataFrame(filtered_reviews)\n",
    "df_reviews.to_csv('../sampled_data/reviews_sample.csv', index=False)\n",
    "\n",
    "# Step 3: Filter `user.json` by `user_id`\n",
    "filtered_users = []\n",
    "\n",
    "with open('../data/yelp_dataset/yelp_academic_dataset_user.json', 'r') as f:\n",
    "    for line in f:\n",
    "        user = json.loads(line)\n",
    "        if user['user_id'] in user_ids:\n",
    "            filtered_users.append(user)\n",
    "\n",
    "df_users = pd.DataFrame(filtered_users)\n",
    "df_users.to_csv('../sampled_data/users_sample.csv', index=False)\n",
    "\n",
    "# Step 4: Filter `tips.json` by `business_id` and `user_id`\n",
    "filtered_tips = []\n",
    "\n",
    "with open('../data/yelp_dataset/yelp_academic_dataset_tip.json', 'r') as f:\n",
    "    for line in f:\n",
    "        tip = json.loads(line)\n",
    "        if tip['business_id'] in sampled_business_ids and tip['user_id'] in user_ids:\n",
    "            filtered_tips.append(tip)\n",
    "\n",
    "df_tips = pd.DataFrame(filtered_tips)\n",
    "df_tips.to_csv('../sampled_data/tips_sample.csv', index=False)\n",
    "\n",
    "# Step 5: Filter `checkin.json` by `business_id`\n",
    "filtered_checkins = []\n",
    "\n",
    "with open('../data/yelp_dataset/yelp_academic_dataset_checkin.json', 'r') as f:\n",
    "    for line in f:\n",
    "        checkin = json.loads(line)\n",
    "        if checkin['business_id'] in sampled_business_ids:\n",
    "            filtered_checkins.append(checkin)\n",
    "\n",
    "df_checkins = pd.DataFrame(filtered_checkins)\n",
    "df_checkins.to_csv('../sampled_data/checkins_sample.csv', index=False)\n",
    "\n",
    "print(\"Sampling and filtering complete.\")\n"
   ]
  },
  {
   "cell_type": "markdown",
   "metadata": {},
   "source": [
    "## EDA"
   ]
  },
  {
   "cell_type": "code",
   "execution_count": 40,
   "metadata": {},
   "outputs": [
    {
     "name": "stdout",
     "output_type": "stream",
     "text": [
      "df_business schema: business_id      object\n",
      "name             object\n",
      "address          object\n",
      "city             object\n",
      "state            object\n",
      "postal_code      object\n",
      "latitude        float64\n",
      "longitude       float64\n",
      "stars           float64\n",
      "review_count      int64\n",
      "is_open           int64\n",
      "attributes       object\n",
      "categories       object\n",
      "hours            object\n",
      "dtype: object\n"
     ]
    },
    {
     "data": {
      "text/plain": [
       "(1000, 14)"
      ]
     },
     "execution_count": 40,
     "metadata": {},
     "output_type": "execute_result"
    }
   ],
   "source": [
    "print(f'df_business schema: {df_business.dtypes}')\n",
    "df_business.shape"
   ]
  },
  {
   "cell_type": "code",
   "execution_count": 45,
   "metadata": {},
   "outputs": [
    {
     "data": {
      "text/html": [
       "<div>\n",
       "<style scoped>\n",
       "    .dataframe tbody tr th:only-of-type {\n",
       "        vertical-align: middle;\n",
       "    }\n",
       "\n",
       "    .dataframe tbody tr th {\n",
       "        vertical-align: top;\n",
       "    }\n",
       "\n",
       "    .dataframe thead th {\n",
       "        text-align: right;\n",
       "    }\n",
       "</style>\n",
       "<table border=\"1\" class=\"dataframe\">\n",
       "  <thead>\n",
       "    <tr style=\"text-align: right;\">\n",
       "      <th></th>\n",
       "      <th>business_id</th>\n",
       "      <th>name</th>\n",
       "      <th>address</th>\n",
       "      <th>city</th>\n",
       "      <th>state</th>\n",
       "      <th>postal_code</th>\n",
       "      <th>latitude</th>\n",
       "      <th>longitude</th>\n",
       "      <th>stars</th>\n",
       "      <th>review_count</th>\n",
       "      <th>is_open</th>\n",
       "      <th>attributes</th>\n",
       "      <th>categories</th>\n",
       "      <th>hours</th>\n",
       "    </tr>\n",
       "  </thead>\n",
       "  <tbody>\n",
       "    <tr>\n",
       "      <th>0</th>\n",
       "      <td>UVfYRQIr6u_WrFSY5Cv7xw</td>\n",
       "      <td>InCycle</td>\n",
       "      <td>736 Hanover Pl</td>\n",
       "      <td>Carmel</td>\n",
       "      <td>IN</td>\n",
       "      <td>46032</td>\n",
       "      <td>39.969726</td>\n",
       "      <td>-86.127815</td>\n",
       "      <td>5.0</td>\n",
       "      <td>32</td>\n",
       "      <td>1</td>\n",
       "      <td>{'GoodForKids': 'False', 'BusinessAcceptsCredi...</td>\n",
       "      <td>Active Life, Cycling Classes, Gyms, Fitness &amp; ...</td>\n",
       "      <td>{'Monday': '16:0-20:0', 'Tuesday': '16:0-20:0'...</td>\n",
       "    </tr>\n",
       "    <tr>\n",
       "      <th>1</th>\n",
       "      <td>wH6QxQv31IJ-qQ-FKIc5TA</td>\n",
       "      <td>Roman Plumbing</td>\n",
       "      <td>6125 Grand Blvd</td>\n",
       "      <td>New Port Richey</td>\n",
       "      <td>FL</td>\n",
       "      <td>34652</td>\n",
       "      <td>28.247926</td>\n",
       "      <td>-82.719939</td>\n",
       "      <td>4.5</td>\n",
       "      <td>29</td>\n",
       "      <td>1</td>\n",
       "      <td>{'BusinessAcceptsBitcoin': 'False', 'ByAppoint...</td>\n",
       "      <td>Plumbing, Water Heater Installation/Repair, Co...</td>\n",
       "      <td>{'Monday': '8:0-17:0', 'Tuesday': '8:0-17:0', ...</td>\n",
       "    </tr>\n",
       "    <tr>\n",
       "      <th>2</th>\n",
       "      <td>K1NdCTaJWK1ezkZpPyB7-A</td>\n",
       "      <td>Desert Rain Coffee</td>\n",
       "      <td>1551 E Tangerine Rd</td>\n",
       "      <td>Oro Valley</td>\n",
       "      <td>AZ</td>\n",
       "      <td>85755</td>\n",
       "      <td>32.429167</td>\n",
       "      <td>-110.948631</td>\n",
       "      <td>5.0</td>\n",
       "      <td>46</td>\n",
       "      <td>0</td>\n",
       "      <td>{'BusinessAcceptsCreditCards': 'True', 'Restau...</td>\n",
       "      <td>Coffee &amp; Tea, Food</td>\n",
       "      <td>{'Monday': '7:0-15:0', 'Tuesday': '7:0-15:0', ...</td>\n",
       "    </tr>\n",
       "    <tr>\n",
       "      <th>3</th>\n",
       "      <td>juL8ovMlnjkXNACxZ8HLAQ</td>\n",
       "      <td>Sam Levitz Furniture</td>\n",
       "      <td>3750 W Orange Grove Rd</td>\n",
       "      <td>Tucson</td>\n",
       "      <td>AZ</td>\n",
       "      <td>85741</td>\n",
       "      <td>32.324899</td>\n",
       "      <td>-111.044485</td>\n",
       "      <td>2.0</td>\n",
       "      <td>186</td>\n",
       "      <td>1</td>\n",
       "      <td>{'BusinessParking': '{'garage': False, 'street...</td>\n",
       "      <td>Shopping, Mattresses, Home &amp; Garden, Furniture...</td>\n",
       "      <td>{'Monday': '11:0-20:0', 'Tuesday': '11:0-20:0'...</td>\n",
       "    </tr>\n",
       "    <tr>\n",
       "      <th>4</th>\n",
       "      <td>2eN2pfPCear_ofmgQ0peCw</td>\n",
       "      <td>David Caplan, CPA</td>\n",
       "      <td>301 Andorra Glen Ct</td>\n",
       "      <td>Lafayette Hill</td>\n",
       "      <td>PA</td>\n",
       "      <td>19444</td>\n",
       "      <td>40.088457</td>\n",
       "      <td>-75.267412</td>\n",
       "      <td>4.5</td>\n",
       "      <td>13</td>\n",
       "      <td>1</td>\n",
       "      <td>None</td>\n",
       "      <td>Professional Services, Accountants</td>\n",
       "      <td>None</td>\n",
       "    </tr>\n",
       "  </tbody>\n",
       "</table>\n",
       "</div>"
      ],
      "text/plain": [
       "              business_id                  name                 address  \\\n",
       "0  UVfYRQIr6u_WrFSY5Cv7xw               InCycle          736 Hanover Pl   \n",
       "1  wH6QxQv31IJ-qQ-FKIc5TA        Roman Plumbing         6125 Grand Blvd   \n",
       "2  K1NdCTaJWK1ezkZpPyB7-A    Desert Rain Coffee     1551 E Tangerine Rd   \n",
       "3  juL8ovMlnjkXNACxZ8HLAQ  Sam Levitz Furniture  3750 W Orange Grove Rd   \n",
       "4  2eN2pfPCear_ofmgQ0peCw     David Caplan, CPA     301 Andorra Glen Ct   \n",
       "\n",
       "              city state postal_code   latitude   longitude  stars  \\\n",
       "0           Carmel    IN       46032  39.969726  -86.127815    5.0   \n",
       "1  New Port Richey    FL       34652  28.247926  -82.719939    4.5   \n",
       "2       Oro Valley    AZ       85755  32.429167 -110.948631    5.0   \n",
       "3           Tucson    AZ       85741  32.324899 -111.044485    2.0   \n",
       "4   Lafayette Hill    PA       19444  40.088457  -75.267412    4.5   \n",
       "\n",
       "   review_count  is_open                                         attributes  \\\n",
       "0            32        1  {'GoodForKids': 'False', 'BusinessAcceptsCredi...   \n",
       "1            29        1  {'BusinessAcceptsBitcoin': 'False', 'ByAppoint...   \n",
       "2            46        0  {'BusinessAcceptsCreditCards': 'True', 'Restau...   \n",
       "3           186        1  {'BusinessParking': '{'garage': False, 'street...   \n",
       "4            13        1                                               None   \n",
       "\n",
       "                                          categories  \\\n",
       "0  Active Life, Cycling Classes, Gyms, Fitness & ...   \n",
       "1  Plumbing, Water Heater Installation/Repair, Co...   \n",
       "2                                 Coffee & Tea, Food   \n",
       "3  Shopping, Mattresses, Home & Garden, Furniture...   \n",
       "4                 Professional Services, Accountants   \n",
       "\n",
       "                                               hours  \n",
       "0  {'Monday': '16:0-20:0', 'Tuesday': '16:0-20:0'...  \n",
       "1  {'Monday': '8:0-17:0', 'Tuesday': '8:0-17:0', ...  \n",
       "2  {'Monday': '7:0-15:0', 'Tuesday': '7:0-15:0', ...  \n",
       "3  {'Monday': '11:0-20:0', 'Tuesday': '11:0-20:0'...  \n",
       "4                                               None  "
      ]
     },
     "execution_count": 45,
     "metadata": {},
     "output_type": "execute_result"
    }
   ],
   "source": [
    "df_business.head()"
   ]
  },
  {
   "cell_type": "code",
   "execution_count": 41,
   "metadata": {},
   "outputs": [
    {
     "name": "stdout",
     "output_type": "stream",
     "text": [
      "df_reviews schema: review_id       object\n",
      "user_id         object\n",
      "business_id     object\n",
      "stars          float64\n",
      "useful           int64\n",
      "funny            int64\n",
      "cool             int64\n",
      "text            object\n",
      "date            object\n",
      "dtype: object\n"
     ]
    },
    {
     "data": {
      "text/plain": [
       "(48743, 9)"
      ]
     },
     "execution_count": 41,
     "metadata": {},
     "output_type": "execute_result"
    }
   ],
   "source": [
    "print(f'df_reviews schema: {df_reviews.dtypes}')\n",
    "df_reviews.shape"
   ]
  },
  {
   "cell_type": "code",
   "execution_count": 42,
   "metadata": {},
   "outputs": [
    {
     "name": "stdout",
     "output_type": "stream",
     "text": [
      "df_users schema: user_id                object\n",
      "name                   object\n",
      "review_count            int64\n",
      "yelping_since          object\n",
      "useful                  int64\n",
      "funny                   int64\n",
      "cool                    int64\n",
      "elite                  object\n",
      "friends                object\n",
      "fans                    int64\n",
      "average_stars         float64\n",
      "compliment_hot          int64\n",
      "compliment_more         int64\n",
      "compliment_profile      int64\n",
      "compliment_cute         int64\n",
      "compliment_list         int64\n",
      "compliment_note         int64\n",
      "compliment_plain        int64\n",
      "compliment_cool         int64\n",
      "compliment_funny        int64\n",
      "compliment_writer       int64\n",
      "compliment_photos       int64\n",
      "dtype: object\n"
     ]
    },
    {
     "data": {
      "text/plain": [
       "(42593, 22)"
      ]
     },
     "execution_count": 42,
     "metadata": {},
     "output_type": "execute_result"
    }
   ],
   "source": [
    "print(f'df_users schema: {df_users.dtypes}')\n",
    "df_users.shape"
   ]
  },
  {
   "cell_type": "code",
   "execution_count": 43,
   "metadata": {},
   "outputs": [
    {
     "name": "stdout",
     "output_type": "stream",
     "text": [
      "df_tips schema: user_id             object\n",
      "business_id         object\n",
      "text                object\n",
      "date                object\n",
      "compliment_count     int64\n",
      "dtype: object\n"
     ]
    },
    {
     "data": {
      "text/plain": [
       "(3171, 5)"
      ]
     },
     "execution_count": 43,
     "metadata": {},
     "output_type": "execute_result"
    }
   ],
   "source": [
    "print(f'df_tips schema: {df_tips.dtypes}')\n",
    "df_tips.shape"
   ]
  },
  {
   "cell_type": "code",
   "execution_count": 44,
   "metadata": {},
   "outputs": [
    {
     "name": "stdout",
     "output_type": "stream",
     "text": [
      "df_checkins schema: business_id    object\n",
      "date           object\n",
      "dtype: object\n"
     ]
    },
    {
     "data": {
      "text/plain": [
       "(883, 2)"
      ]
     },
     "execution_count": 44,
     "metadata": {},
     "output_type": "execute_result"
    }
   ],
   "source": [
    "print(f'df_checkins schema: {df_checkins.dtypes}')\n",
    "df_checkins.shape"
   ]
  },
  {
   "cell_type": "code",
   "execution_count": null,
   "metadata": {},
   "outputs": [],
   "source": []
  }
 ],
 "metadata": {
  "kernelspec": {
   "display_name": "base",
   "language": "python",
   "name": "python3"
  },
  "language_info": {
   "codemirror_mode": {
    "name": "ipython",
    "version": 3
   },
   "file_extension": ".py",
   "mimetype": "text/x-python",
   "name": "python",
   "nbconvert_exporter": "python",
   "pygments_lexer": "ipython3",
   "version": "3.9.12"
  }
 },
 "nbformat": 4,
 "nbformat_minor": 2
}
