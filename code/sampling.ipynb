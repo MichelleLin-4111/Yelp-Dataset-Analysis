{
 "cells": [
  {
   "cell_type": "code",
   "execution_count": 2,
   "metadata": {},
   "outputs": [],
   "source": [
    "import random \n",
    "import json\n",
    "import pandas as pd"
   ]
  },
  {
   "cell_type": "code",
   "execution_count": 3,
   "metadata": {},
   "outputs": [],
   "source": [
    "%load_ext sql"
   ]
  },
  {
   "cell_type": "markdown",
   "metadata": {},
   "source": [
    "### Sample business data from JSON file"
   ]
  },
  {
   "cell_type": "code",
   "execution_count": 7,
   "metadata": {},
   "outputs": [
    {
     "name": "stdout",
     "output_type": "stream",
     "text": [
      "Sample saved as business_sample.csv\n"
     ]
    }
   ],
   "source": [
    "def reservoir_sampling(filename, k=1000):\n",
    "    \"\"\"\n",
    "    Perform reservoir sampling from a large JSON file (line-by-line streaming)\n",
    "    Args:\n",
    "    - filename (str): Path to the JSON file\n",
    "    - k (int): The size of the sample (number of rows to sample)\n",
    "    \n",
    "    Returns:\n",
    "    - List of k sampled rows\n",
    "    \"\"\"\n",
    "    reservoir = []  # The reservoir will store k items\n",
    "    with open(filename, 'r') as f:\n",
    "        for i, line in enumerate(f):\n",
    "            record = json.loads(line)  # Parse JSON line\n",
    "            if i < k:\n",
    "                reservoir.append(record)  # Fill the reservoir initially\n",
    "            else:\n",
    "                j = random.randint(0, i)  # Randomly select an index from 0 to i\n",
    "                if j < k:\n",
    "                    reservoir[j] = record  # Replace one of the items in the reservoir\n",
    "    \n",
    "    return reservoir\n",
    "\n",
    "\n",
    "# Step 1: Sample 1/1000 of the data from business.json\n",
    "sampled_data = reservoir_sampling('../data/yelp_dataset/yelp_academic_dataset_business.json', k=1000)  # Take 1000 samples\n",
    "\n",
    "# Step 2: Convert the sample to a DataFrame\n",
    "df_sample = pd.DataFrame(sampled_data)\n",
    "\n",
    "# Step 3: Save the sampled data as CSV\n",
    "df_sample.to_csv('business_sample.csv', index=False)\n",
    "\n",
    "print(\"Sample saved as business_sample.csv\")"
   ]
  },
  {
   "cell_type": "code",
   "execution_count": 8,
   "metadata": {},
   "outputs": [
    {
     "data": {
      "text/plain": [
       "Index(['business_id', 'name', 'address', 'city', 'state', 'postal_code',\n",
       "       'latitude', 'longitude', 'stars', 'review_count', 'is_open',\n",
       "       'attributes', 'categories', 'hours'],\n",
       "      dtype='object')"
      ]
     },
     "execution_count": 8,
     "metadata": {},
     "output_type": "execute_result"
    }
   ],
   "source": [
    "business = pd.read_csv('business_sample.csv')\n",
    "business.columns\n"
   ]
  },
  {
   "cell_type": "code",
   "execution_count": 9,
   "metadata": {},
   "outputs": [
    {
     "name": "stdout",
     "output_type": "stream",
     "text": [
      "Table created successfully.\n"
     ]
    }
   ],
   "source": [
    "import psycopg\n",
    "\n",
    "conn = psycopg.connect(\"postgresql://localhost/yelp\")\n",
    "cursor = conn.cursor()\n",
    "\n",
    "create_table_query = \"\"\"\n",
    "CREATE TABLE IF NOT EXISTS business (\n",
    "    business_id VARCHAR PRIMARY KEY,\n",
    "    name VARCHAR,\n",
    "    address VARCHAR,\n",
    "    city VARCHAR,\n",
    "    state VARCHAR(2),\n",
    "    postal_code VARCHAR(10),\n",
    "    latitude NUMERIC,\n",
    "    longitude NUMERIC,\n",
    "    stars NUMERIC,\n",
    "    review_count INTEGER\n",
    ");\n",
    "\"\"\"\n",
    "\n",
    "cursor.execute(create_table_query)\n",
    "conn.commit()\n",
    "print(\"Table created successfully.\")\n",
    "\n",
    "cursor.close()\n",
    "conn.close()\n"
   ]
  },
  {
   "cell_type": "code",
   "execution_count": null,
   "metadata": {},
   "outputs": [],
   "source": [
    "%sql postgresql://michellelin@localhost/yelp"
   ]
  },
  {
   "cell_type": "code",
   "execution_count": 13,
   "metadata": {},
   "outputs": [
    {
     "name": "stdout",
     "output_type": "stream",
     "text": [
      "Data inserted successfully.\n"
     ]
    }
   ],
   "source": [
    "import psycopg\n",
    "import pandas as pd\n",
    "\n",
    "# Step 1: Read the sampled CSV file\n",
    "df_sample = pd.read_csv('business_sample.csv')\n",
    "\n",
    "# Step 2: Connect to the PostgreSQL database\n",
    "conn = psycopg.connect(\"postgresql://michellelin@localhost/yelp\")\n",
    "cursor = conn.cursor()\n",
    "\n",
    "# Step 3: Insert each row of the DataFrame into the 'business' table\n",
    "for index, row in df_sample.iterrows():\n",
    "    business_id = row['business_id']\n",
    "    name = row['name']\n",
    "    address = row['address']\n",
    "    city = row['city']\n",
    "    state = row['state']\n",
    "    postal_code = row['postal_code']\n",
    "    latitude = row['latitude']\n",
    "    longitude = row['longitude']\n",
    "    stars = row['stars']\n",
    "    review_count = row['review_count']\n",
    "    \n",
    "    # SQL Insert Query with ON CONFLICT to avoid duplicate errors\n",
    "    insert_query = \"\"\"\n",
    "    INSERT INTO business (business_id, name, address, city, state, postal_code, latitude, longitude, stars, review_count) \n",
    "    VALUES (%s, %s, %s, %s, %s, %s, %s, %s, %s, %s)\n",
    "    ON CONFLICT (business_id) DO NOTHING;\n",
    "    \"\"\"\n",
    "    \n",
    "    try:\n",
    "        cursor.execute(insert_query, (business_id, name, address, city, state, postal_code, latitude, longitude, stars, review_count))\n",
    "    except Exception as e:\n",
    "        print(f\"Error inserting row {index}: {e}\")\n",
    "\n",
    "# Step 4: Commit the transaction to make the changes permanent\n",
    "conn.commit()\n",
    "print(\"Data inserted successfully.\")\n",
    "\n",
    "# Step 5: Close the cursor and connection\n",
    "cursor.close()\n",
    "conn.close()\n"
   ]
  },
  {
   "cell_type": "code",
   "execution_count": 14,
   "metadata": {},
   "outputs": [
    {
     "data": {
      "text/html": [
       "<span style=\"None\">Running query in &#x27;postgresql://michellelin@localhost/yelp&#x27;</span>"
      ],
      "text/plain": [
       "Running query in 'postgresql://michellelin@localhost/yelp'"
      ]
     },
     "metadata": {},
     "output_type": "display_data"
    },
    {
     "data": {
      "text/html": [
       "<span style=\"color: green\">5 rows affected.</span>"
      ],
      "text/plain": [
       "5 rows affected."
      ]
     },
     "metadata": {},
     "output_type": "display_data"
    },
    {
     "data": {
      "text/html": [
       "<table>\n",
       "    <thead>\n",
       "        <tr>\n",
       "            <th>business_id</th>\n",
       "            <th>name</th>\n",
       "            <th>address</th>\n",
       "            <th>city</th>\n",
       "            <th>state</th>\n",
       "            <th>postal_code</th>\n",
       "            <th>latitude</th>\n",
       "            <th>longitude</th>\n",
       "            <th>stars</th>\n",
       "            <th>review_count</th>\n",
       "        </tr>\n",
       "    </thead>\n",
       "    <tbody>\n",
       "        <tr>\n",
       "            <td>ij01QEUh2uK3W27dN4knwQ</td>\n",
       "            <td>Dutch Hollow Medical Day Spa</td>\n",
       "            <td>3042 Godfrey Rd</td>\n",
       "            <td>Godfrey</td>\n",
       "            <td>IL</td>\n",
       "            <td>62035</td>\n",
       "            <td>38.930379</td>\n",
       "            <td>-90.19284</td>\n",
       "            <td>4</td>\n",
       "            <td>15</td>\n",
       "        </tr>\n",
       "        <tr>\n",
       "            <td>OXZU-xctypqqAaCQQ9Eiqg</td>\n",
       "            <td>Great Clips</td>\n",
       "            <td>3188 Telegraph Rd</td>\n",
       "            <td>Saint Louis</td>\n",
       "            <td>MO</td>\n",
       "            <td>63125</td>\n",
       "            <td>38.4973695</td>\n",
       "            <td>-90.2984265</td>\n",
       "            <td>2</td>\n",
       "            <td>5</td>\n",
       "        </tr>\n",
       "        <tr>\n",
       "            <td>D9sMUiSSzR0Q1WrXvlZ20Q</td>\n",
       "            <td>The Gravity Forge</td>\n",
       "            <td>2920 Turnpike Dr</td>\n",
       "            <td>Hatboro</td>\n",
       "            <td>PA</td>\n",
       "            <td>19040</td>\n",
       "            <td>40.1624444027</td>\n",
       "            <td>-75.1068388</td>\n",
       "            <td>2.5</td>\n",
       "            <td>9</td>\n",
       "        </tr>\n",
       "        <tr>\n",
       "            <td>RsGp61dhtKNonHqaUQQniw</td>\n",
       "            <td>Somerdale Cold Cuts</td>\n",
       "            <td>501 Warwick Rd</td>\n",
       "            <td>Somerdale</td>\n",
       "            <td>NJ</td>\n",
       "            <td>08083</td>\n",
       "            <td>39.850103</td>\n",
       "            <td>-75.032732</td>\n",
       "            <td>4.5</td>\n",
       "            <td>26</td>\n",
       "        </tr>\n",
       "        <tr>\n",
       "            <td>5eHsFwEG9UkVNaMpcbZjEg</td>\n",
       "            <td>Ms. Nancy's Place</td>\n",
       "            <td>177 S Ctr St</td>\n",
       "            <td>Merchantville</td>\n",
       "            <td>NJ</td>\n",
       "            <td>08109</td>\n",
       "            <td>39.9476273</td>\n",
       "            <td>-75.0480838</td>\n",
       "            <td>4</td>\n",
       "            <td>44</td>\n",
       "        </tr>\n",
       "    </tbody>\n",
       "</table>"
      ],
      "text/plain": [
       "+------------------------+------------------------------+-------------------+---------------+-------+-------------+---------------+-------------+-------+--------------+\n",
       "|      business_id       |             name             |      address      |      city     | state | postal_code |    latitude   |  longitude  | stars | review_count |\n",
       "+------------------------+------------------------------+-------------------+---------------+-------+-------------+---------------+-------------+-------+--------------+\n",
       "| ij01QEUh2uK3W27dN4knwQ | Dutch Hollow Medical Day Spa |  3042 Godfrey Rd  |    Godfrey    |   IL  |    62035    |   38.930379   |  -90.19284  |   4   |      15      |\n",
       "| OXZU-xctypqqAaCQQ9Eiqg |         Great Clips          | 3188 Telegraph Rd |  Saint Louis  |   MO  |    63125    |   38.4973695  | -90.2984265 |   2   |      5       |\n",
       "| D9sMUiSSzR0Q1WrXvlZ20Q |      The Gravity Forge       |  2920 Turnpike Dr |    Hatboro    |   PA  |    19040    | 40.1624444027 | -75.1068388 |  2.5  |      9       |\n",
       "| RsGp61dhtKNonHqaUQQniw |     Somerdale Cold Cuts      |   501 Warwick Rd  |   Somerdale   |   NJ  |    08083    |   39.850103   |  -75.032732 |  4.5  |      26      |\n",
       "| 5eHsFwEG9UkVNaMpcbZjEg |      Ms. Nancy's Place       |    177 S Ctr St   | Merchantville |   NJ  |    08109    |   39.9476273  | -75.0480838 |   4   |      44      |\n",
       "+------------------------+------------------------------+-------------------+---------------+-------+-------------+---------------+-------------+-------+--------------+"
      ]
     },
     "execution_count": 14,
     "metadata": {},
     "output_type": "execute_result"
    }
   ],
   "source": [
    "%%sql\n",
    "SELECT * FROM business LIMIT 5;"
   ]
  },
  {
   "cell_type": "code",
   "execution_count": null,
   "metadata": {},
   "outputs": [],
   "source": []
  }
 ],
 "metadata": {
  "kernelspec": {
   "display_name": "base",
   "language": "python",
   "name": "python3"
  },
  "language_info": {
   "codemirror_mode": {
    "name": "ipython",
    "version": 3
   },
   "file_extension": ".py",
   "mimetype": "text/x-python",
   "name": "python",
   "nbconvert_exporter": "python",
   "pygments_lexer": "ipython3",
   "version": "3.9.12"
  }
 },
 "nbformat": 4,
 "nbformat_minor": 2
}
