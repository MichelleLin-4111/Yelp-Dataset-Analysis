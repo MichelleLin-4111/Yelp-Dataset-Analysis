{
 "cells": [
  {
   "cell_type": "code",
   "execution_count": 1,
   "metadata": {},
   "outputs": [],
   "source": [
    "import pandas as pd\n",
    "import psycopg"
   ]
  },
  {
   "cell_type": "code",
   "execution_count": 2,
   "metadata": {},
   "outputs": [],
   "source": [
    "%load_ext sql"
   ]
  },
  {
   "cell_type": "code",
   "execution_count": 3,
   "metadata": {},
   "outputs": [],
   "source": [
    "%sql postgresql://michellelin@localhost:5432/yelp"
   ]
  },
  {
   "cell_type": "code",
   "execution_count": 4,
   "metadata": {},
   "outputs": [],
   "source": [
    "def get_db_connection():\n",
    "    \"\"\"Establishes and returns a connection to the PostgreSQL database.\"\"\"\n",
    "    try:\n",
    "        conn = psycopg.connect(\"postgresql://michellelin@localhost/yelp\")\n",
    "        return conn\n",
    "    except Exception as e:\n",
    "        print(f\"Error connecting to the database: {e}\")\n",
    "        return None"
   ]
  },
  {
   "cell_type": "markdown",
   "metadata": {},
   "source": [
    "# Denormalized Data"
   ]
  },
  {
   "cell_type": "markdown",
   "metadata": {},
   "source": [
    "## Create the data schema"
   ]
  },
  {
   "cell_type": "code",
   "execution_count": 5,
   "metadata": {},
   "outputs": [
    {
     "name": "stdout",
     "output_type": "stream",
     "text": [
      "Tables created successfully.\n"
     ]
    }
   ],
   "source": [
    "# Connect to the PostgreSQL database\n",
    "conn = get_db_connection()\n",
    "cursor = conn.cursor()\n",
    "\n",
    "# Full SQL schema definition\n",
    "schema_sql = \"\"\"\n",
    "DROP TABLE IF EXISTS review CASCADE;\n",
    "DROP TABLE IF EXISTS checkin CASCADE;\n",
    "DROP TABLE IF EXISTS tip CASCADE;\n",
    "DROP TABLE IF EXISTS photo CASCADE;\n",
    "DROP TABLE IF EXISTS business CASCADE;\n",
    "DROP TABLE IF EXISTS yelp_user CASCADE;\n",
    "\n",
    "CREATE TABLE IF NOT EXISTS business (\n",
    "    business_id VARCHAR(22) PRIMARY KEY,\n",
    "    name VARCHAR NOT NULL,\n",
    "    address VARCHAR,\n",
    "    city VARCHAR,\n",
    "    state VARCHAR(2),\n",
    "    postal_code VARCHAR(10),\n",
    "    latitude NUMERIC,\n",
    "    longitude NUMERIC,\n",
    "    stars NUMERIC CHECK (stars BETWEEN 0 AND 5),\n",
    "    review_count INTEGER,\n",
    "    is_open INTEGER CHECK (is_open IN (0, 1)),\n",
    "    attributes TEXT,\n",
    "    categories TEXT, \n",
    "    hours TEXT\n",
    ");\n",
    "\n",
    "CREATE TABLE IF NOT EXISTS yelp_user (\n",
    "    user_id VARCHAR(22) PRIMARY KEY,\n",
    "    name TEXT,\n",
    "    review_count INTEGER,\n",
    "    yelping_since DATE,\n",
    "    friends TEXT, \n",
    "    useful INTEGER,\n",
    "    funny INTEGER,\n",
    "    cool INTEGER,\n",
    "    fans INTEGER,\n",
    "    elite TEXT, \n",
    "    average_stars NUMERIC CHECK (average_stars BETWEEN 0 AND 5),\n",
    "    compliment_hot INTEGER,\n",
    "    compliment_more INTEGER,\n",
    "    compliment_profile INTEGER,\n",
    "    compliment_cute INTEGER,\n",
    "    compliment_list INTEGER,\n",
    "    compliment_note INTEGER,\n",
    "    compliment_plain INTEGER,\n",
    "    compliment_cool INTEGER,\n",
    "    compliment_funny INTEGER,\n",
    "    compliment_writer INTEGER,\n",
    "    compliment_photos INTEGER\n",
    ");\n",
    "\n",
    "CREATE TABLE IF NOT EXISTS review (\n",
    "    review_id VARCHAR(22) PRIMARY KEY,\n",
    "    user_id VARCHAR(22) REFERENCES yelp_user (user_id) ON DELETE CASCADE,\n",
    "    business_id VARCHAR(22) REFERENCES business (business_id) ON DELETE CASCADE,\n",
    "    stars NUMERIC CHECK (stars BETWEEN 0 AND 5),\n",
    "    date DATE NOT NULL,\n",
    "    text TEXT,\n",
    "    useful INTEGER,\n",
    "    funny INTEGER,\n",
    "    cool INTEGER\n",
    ");\n",
    "\n",
    "CREATE TABLE IF NOT EXISTS tip (\n",
    "    user_id VARCHAR(22) REFERENCES yelp_user (user_id) ON DELETE CASCADE,\n",
    "    business_id VARCHAR(22) REFERENCES business (business_id) ON DELETE CASCADE,\n",
    "    text TEXT NOT NULL,\n",
    "    date DATE NOT NULL,\n",
    "    compliment_count INTEGER DEFAULT 0,\n",
    "    PRIMARY KEY (user_id, business_id, date)\n",
    ");\n",
    "\"\"\"\n",
    "\n",
    "# Execute the schema to create the tables\n",
    "cursor.execute(schema_sql)\n",
    "\n",
    "# Commit and close\n",
    "conn.commit()\n",
    "cursor.close()\n",
    "conn.close()\n",
    "print(\"Tables created successfully.\")\n"
   ]
  },
  {
   "cell_type": "markdown",
   "metadata": {},
   "source": [
    "## Insert data"
   ]
  },
  {
   "cell_type": "code",
   "execution_count": 6,
   "metadata": {},
   "outputs": [],
   "source": [
    "def bulk_insert(conn, table_name, dataframe, conflict_column=None):\n",
    "    \"\"\"\n",
    "    Insert data from a DataFrame into a PostgreSQL table using psycopg2.\n",
    "    \n",
    "    Args:\n",
    "        conn: Connection object to the database.\n",
    "        table_name: Name of the target table.\n",
    "        dataframe: Pandas DataFrame containing the data to be inserted.\n",
    "        conflict_column: Column(s) to handle ON CONFLICT clause (string or list of columns).\n",
    "    \"\"\"\n",
    "    cursor = conn.cursor()\n",
    "    try:\n",
    "        # Create a list of column names for the INSERT statement\n",
    "        columns = ', '.join([f'\"{col}\"' for col in dataframe.columns])  # Quote column names to avoid reserved words\n",
    "        placeholders = ', '.join(['%s'] * len(dataframe.columns))\n",
    "        \n",
    "        # Create the SQL insert query\n",
    "        insert_query = f\"\"\"\n",
    "        INSERT INTO {table_name} ({columns}) \n",
    "        VALUES ({placeholders})\n",
    "        \"\"\"\n",
    "        \n",
    "        # Add ON CONFLICT clause\n",
    "        if conflict_column:\n",
    "            if isinstance(conflict_column, list):  # If it's a list of columns, create composite key\n",
    "                conflict_column = ', '.join([f'\"{col}\"' for col in conflict_column])  # Add quotes\n",
    "            else:\n",
    "                conflict_column = f'\"{conflict_column}\"'  # Handle single column key\n",
    "            \n",
    "            insert_query += f\"\"\"\n",
    "            ON CONFLICT ({conflict_column}) DO NOTHING\n",
    "            \"\"\"\n",
    "        \n",
    "        # Use executemany to insert all the rows\n",
    "        cursor.executemany(insert_query, dataframe.values.tolist())\n",
    "        \n",
    "        # Commit the changes\n",
    "        conn.commit()\n",
    "        \n",
    "        print(f\"Successfully inserted {len(dataframe)} rows into {table_name}.\")\n",
    "    except Exception as e:\n",
    "        conn.rollback()\n",
    "        print(f\"Error inserting data into {table_name}: {e}\")\n",
    "    finally:\n",
    "        cursor.close()\n"
   ]
  },
  {
   "cell_type": "code",
   "execution_count": 7,
   "metadata": {},
   "outputs": [],
   "source": [
    "\n",
    "# def bulk_insert(conn, table_name, dataframe, conflict_column=None):\n",
    "#     \"\"\"\n",
    "#     Inserts data from a Pandas DataFrame into a PostgreSQL table.\n",
    "\n",
    "#     Args:\n",
    "#         conn: PostgreSQL connection object.\n",
    "#         table_name: The name of the PostgreSQL table to insert into.\n",
    "#         dataframe: The Pandas DataFrame containing the data to be inserted.\n",
    "#         conflict_column: The column name to use in the ON CONFLICT clause.\n",
    "#     \"\"\"\n",
    "#     try:\n",
    "#         # Get column names from the DataFrame\n",
    "#         columns = ', '.join(dataframe.columns)\n",
    "        \n",
    "#         # Create a placeholder string for the VALUES portion of the SQL\n",
    "#         placeholders = ', '.join(['%s'] * len(dataframe.columns))\n",
    "        \n",
    "#         # Full SQL insert query with dynamic conflict column\n",
    "#         if conflict_column:\n",
    "#             query = f\"\"\"\n",
    "#             INSERT INTO {table_name} ({columns}) \n",
    "#             VALUES ({placeholders}) \n",
    "#             ON CONFLICT ({conflict_column}) DO NOTHING;\n",
    "#             \"\"\"\n",
    "#         else:\n",
    "#             query = f\"\"\"\n",
    "#             INSERT INTO {table_name} ({columns}) \n",
    "#             VALUES ({placeholders});\n",
    "#             \"\"\"\n",
    "        \n",
    "#         # Convert DataFrame to a list of tuples\n",
    "#         data = [tuple(x) for x in dataframe.to_numpy()]\n",
    "        \n",
    "#         with conn.cursor() as cursor:\n",
    "#             cursor.executemany(query, data)\n",
    "        \n",
    "#         # Commit the changes\n",
    "#         conn.commit()\n",
    "#         print(f\"Successfully inserted {len(data)} rows into {table_name}.\")\n",
    "        \n",
    "#     except Exception as e:\n",
    "#         print(f\"Error inserting data into {table_name}: {e}\")"
   ]
  },
  {
   "cell_type": "markdown",
   "metadata": {},
   "source": [
    "### business"
   ]
  },
  {
   "cell_type": "code",
   "execution_count": 8,
   "metadata": {},
   "outputs": [
    {
     "name": "stdout",
     "output_type": "stream",
     "text": [
      "              business_id                              name  \\\n",
      "0  yFrOuce72KhvW0LpU5FY6A            Earnest Bar & Hideaway   \n",
      "1  WfGXVT-WOgDymYv_kL28GQ  Vanessa Cafe Restaraunt Pizzeria   \n",
      "2  otm8R7rkCtCNM0g0TC55-Q                   The Gables Cafe   \n",
      "3  3xMtsSQ42lBpkP-R3726lw                     Pinky's Nails   \n",
      "4  ne1EabaPSD9WjIpWZ26JMQ        Reno Tahoe Window Cleaning   \n",
      "\n",
      "                            address                   city state postal_code  \\\n",
      "0           438 Houston St, Ste 160              Nashville    TN       37203   \n",
      "1                    3815 Church Rd  Mount Laurel Township    NJ       08054   \n",
      "2                 4600 Woodland Ave           Philadelphia    PA       19143   \n",
      "3                      63 Boone Vlg             Zionsville    IN       46077   \n",
      "4  59 Damonte Ranch Pkwy, Ste B-187                   Reno    NV       89521   \n",
      "\n",
      "    latitude   longitude  stars  review_count  is_open  \\\n",
      "0  36.143036  -86.767485    4.0           265        1   \n",
      "1  39.928964  -74.970330    5.0            15        1   \n",
      "2  39.944194  -75.209709    5.0            14        1   \n",
      "3  39.951867  -86.278108    3.5            26        1   \n",
      "4  39.420298 -119.756945    4.5            94        1   \n",
      "\n",
      "                                          attributes  \\\n",
      "0  {'WheelchairAccessible': 'True', 'HasTV': 'Tru...   \n",
      "1  {'RestaurantsReservations': 'True', 'BusinessA...   \n",
      "2  {'RestaurantsTableService': 'True', 'WiFi': \"u...   \n",
      "3  {'BusinessAcceptsCreditCards': 'True', 'ByAppo...   \n",
      "4  {'BusinessAcceptsCreditCards': 'True', 'BikePa...   \n",
      "\n",
      "                                          categories  \\\n",
      "0  American (New), American (Traditional), Nightl...   \n",
      "1              Pizza, Italian, Restaurants, Sicilian   \n",
      "2  Food, Coffee & Tea, Restaurants, Italian, Dess...   \n",
      "3                         Nail Salons, Beauty & Spas   \n",
      "4  Pest Control, Local Services, Home Services, W...   \n",
      "\n",
      "                                               hours  \n",
      "0  {'Monday': '0:0-0:0', 'Tuesday': '17:0-22:0', ...  \n",
      "1  {'Monday': '11:0-22:0', 'Tuesday': '11:0-22:0'...  \n",
      "2                                               None  \n",
      "3  {'Monday': '9:30-19:30', 'Tuesday': '9:30-19:3...  \n",
      "4  {'Monday': '0:0-0:0', 'Tuesday': '8:0-17:0', '...  \n"
     ]
    }
   ],
   "source": [
    "# Step 1: Read the CSV file for 'business'\n",
    "df_business = pd.read_csv('../sampled_data/business_sample.csv')\n",
    "\n",
    "# Convert columns to plain text\n",
    "df_business['attributes'] = df_business['attributes'].astype(str)\n",
    "df_business['categories'] = df_business['categories'].astype(str)\n",
    "df_business['hours'] = df_business['hours'].astype(str)\n",
    "\n",
    "# Replace NaN or None with NULL in the DataFrame for columns that allow NULL\n",
    "df_business['attributes'] = df_business['attributes'].replace({pd.NA: None, 'nan': None})\n",
    "df_business['categories'] = df_business['categories'].replace({pd.NA: None, 'nan': None})\n",
    "df_business['hours'] = df_business['hours'].replace({pd.NA: None, 'nan': None})\n",
    "\n",
    "print(df_business.head())\n"
   ]
  },
  {
   "cell_type": "code",
   "execution_count": 9,
   "metadata": {},
   "outputs": [
    {
     "name": "stdout",
     "output_type": "stream",
     "text": [
      "Successfully inserted 1000 rows into business.\n"
     ]
    }
   ],
   "source": [
    "# Connect to the PostgreSQL database\n",
    "conn = get_db_connection()\n",
    "\n",
    "# Call the bulk_insert function to load the data\n",
    "bulk_insert(conn, 'business', df_business)\n",
    "\n",
    "# Close the connection\n",
    "conn.close()"
   ]
  },
  {
   "cell_type": "code",
   "execution_count": 10,
   "metadata": {},
   "outputs": [
    {
     "data": {
      "text/html": [
       "<span style=\"None\">Running query in &#x27;postgresql://michellelin@localhost:5432/yelp&#x27;</span>"
      ],
      "text/plain": [
       "Running query in 'postgresql://michellelin@localhost:5432/yelp'"
      ]
     },
     "metadata": {},
     "output_type": "display_data"
    },
    {
     "data": {
      "text/html": [
       "<span style=\"color: green\">1 rows affected.</span>"
      ],
      "text/plain": [
       "1 rows affected."
      ]
     },
     "metadata": {},
     "output_type": "display_data"
    },
    {
     "data": {
      "text/html": [
       "<table>\n",
       "    <thead>\n",
       "        <tr>\n",
       "            <th>business_id</th>\n",
       "            <th>name</th>\n",
       "            <th>address</th>\n",
       "            <th>city</th>\n",
       "            <th>state</th>\n",
       "            <th>postal_code</th>\n",
       "            <th>latitude</th>\n",
       "            <th>longitude</th>\n",
       "            <th>stars</th>\n",
       "            <th>review_count</th>\n",
       "            <th>is_open</th>\n",
       "            <th>attributes</th>\n",
       "            <th>categories</th>\n",
       "            <th>hours</th>\n",
       "        </tr>\n",
       "    </thead>\n",
       "    <tbody>\n",
       "        <tr>\n",
       "            <td>yFrOuce72KhvW0LpU5FY6A</td>\n",
       "            <td>Earnest Bar & Hideaway</td>\n",
       "            <td>438 Houston St, Ste 160</td>\n",
       "            <td>Nashville</td>\n",
       "            <td>TN</td>\n",
       "            <td>37203</td>\n",
       "            <td>36.143036</td>\n",
       "            <td>-86.767485</td>\n",
       "            <td>4</td>\n",
       "            <td>265</td>\n",
       "            <td>1</td>\n",
       "            <td>{'WheelchairAccessible': 'True', 'HasTV': 'True', 'BikeParking': 'True', 'Music': \"{'dj': False, 'background_music': False, 'no_music': False, 'jukebox': False, 'live': False, 'video': False, 'karaoke': False}\", 'RestaurantsReservations': 'True', 'NoiseLevel': \"u'average'\", 'Corkage': 'True', 'CoatCheck': 'False', 'Caters': 'True', 'RestaurantsAttire': \"'casual'\", 'BusinessParking': \"{'garage': False, 'street': True, 'validated': False, 'lot': True, 'valet': False}\", 'DogsAllowed': 'False', 'GoodForDancing': 'False', 'Ambience': \"{'touristy': False, 'hipster': True, 'romantic': True, 'divey': False, 'intimate': True, 'trendy': True, 'upscale': False, 'classy': True, 'casual': False}\", 'RestaurantsTakeOut': 'True', 'HappyHour': 'True', 'RestaurantsTableService': 'True', 'RestaurantsPriceRange2': '2', 'Alcohol': \"u'full_bar'\", 'OutdoorSeating': 'True', 'BusinessAcceptsCreditCards': 'True', 'GoodForKids': 'False', 'BusinessAcceptsBitcoin': 'False', 'BestNights': \"{'monday': False, 'tuesday': True, 'friday': True, 'wednesday': False, 'thursday': False, 'sunday': False, 'saturday': True}\", 'RestaurantsDelivery': 'True', 'RestaurantsGoodForGroups': 'True', 'WiFi': \"u'free'\", 'Smoking': \"u'no'\", 'GoodForMeal': \"{u'breakfast': False, u'brunch': True, u'lunch': True, u'dinner': True, u'latenight': None, u'dessert': None}\"}</td>\n",
       "            <td>American (New), American (Traditional), Nightlife, Restaurants, Bars, Sandwiches, Cocktail Bars</td>\n",
       "            <td>{'Monday': '0:0-0:0', 'Tuesday': '17:0-22:0', 'Wednesday': '17:0-22:0', 'Thursday': '17:0-22:0', 'Friday': '17:0-23:0', 'Saturday': '17:0-22:0', 'Sunday': '10:0-15:0'}</td>\n",
       "        </tr>\n",
       "    </tbody>\n",
       "</table>"
      ],
      "text/plain": [
       "+------------------------+------------------------+-------------------------+-----------+-------+-------------+-----------+------------+-------+--------------+---------+-----------------------------------------------------------------------------------------------------------------------------------------------------------------------------------------------------------------------------------------------------------------------------------------------------------------------------------------------------------------------------------------------------------------------------------------------------------------------------------------------------------------------------------------------------------------------------------------------------------------------------------------------------------------------------------------------------------------------------------------------------------------------------------------------------------------------------------------------------------------------------------------------------------------------------------------------------------------------------------------------------------------------------------------------------------------------------------------------------------------------------------------------------------------------------------------------------------------------------------------------------------------------------------------------------------------------------------------------------------------------------------------+-------------------------------------------------------------------------------------------------+-------------------------------------------------------------------------------------------------------------------------------------------------------------------------+\n",
       "|      business_id       |          name          |         address         |    city   | state | postal_code |  latitude | longitude  | stars | review_count | is_open |                                                                                                                                                                                                                                                                                                                                                                                                                                                                                                                                                                                                                                                                                        attributes                                                                                                                                                                                                                                                                                                                                                                                                                                                                                                                                                                                                                                                                                       |                                            categories                                           |                                                                                  hours                                                                                  |\n",
       "+------------------------+------------------------+-------------------------+-----------+-------+-------------+-----------+------------+-------+--------------+---------+-----------------------------------------------------------------------------------------------------------------------------------------------------------------------------------------------------------------------------------------------------------------------------------------------------------------------------------------------------------------------------------------------------------------------------------------------------------------------------------------------------------------------------------------------------------------------------------------------------------------------------------------------------------------------------------------------------------------------------------------------------------------------------------------------------------------------------------------------------------------------------------------------------------------------------------------------------------------------------------------------------------------------------------------------------------------------------------------------------------------------------------------------------------------------------------------------------------------------------------------------------------------------------------------------------------------------------------------------------------------------------------------+-------------------------------------------------------------------------------------------------+-------------------------------------------------------------------------------------------------------------------------------------------------------------------------+\n",
       "| yFrOuce72KhvW0LpU5FY6A | Earnest Bar & Hideaway | 438 Houston St, Ste 160 | Nashville |   TN  |    37203    | 36.143036 | -86.767485 |   4   |     265      |    1    | {'WheelchairAccessible': 'True', 'HasTV': 'True', 'BikeParking': 'True', 'Music': \"{'dj': False, 'background_music': False, 'no_music': False, 'jukebox': False, 'live': False, 'video': False, 'karaoke': False}\", 'RestaurantsReservations': 'True', 'NoiseLevel': \"u'average'\", 'Corkage': 'True', 'CoatCheck': 'False', 'Caters': 'True', 'RestaurantsAttire': \"'casual'\", 'BusinessParking': \"{'garage': False, 'street': True, 'validated': False, 'lot': True, 'valet': False}\", 'DogsAllowed': 'False', 'GoodForDancing': 'False', 'Ambience': \"{'touristy': False, 'hipster': True, 'romantic': True, 'divey': False, 'intimate': True, 'trendy': True, 'upscale': False, 'classy': True, 'casual': False}\", 'RestaurantsTakeOut': 'True', 'HappyHour': 'True', 'RestaurantsTableService': 'True', 'RestaurantsPriceRange2': '2', 'Alcohol': \"u'full_bar'\", 'OutdoorSeating': 'True', 'BusinessAcceptsCreditCards': 'True', 'GoodForKids': 'False', 'BusinessAcceptsBitcoin': 'False', 'BestNights': \"{'monday': False, 'tuesday': True, 'friday': True, 'wednesday': False, 'thursday': False, 'sunday': False, 'saturday': True}\", 'RestaurantsDelivery': 'True', 'RestaurantsGoodForGroups': 'True', 'WiFi': \"u'free'\", 'Smoking': \"u'no'\", 'GoodForMeal': \"{u'breakfast': False, u'brunch': True, u'lunch': True, u'dinner': True, u'latenight': None, u'dessert': None}\"} | American (New), American (Traditional), Nightlife, Restaurants, Bars, Sandwiches, Cocktail Bars | {'Monday': '0:0-0:0', 'Tuesday': '17:0-22:0', 'Wednesday': '17:0-22:0', 'Thursday': '17:0-22:0', 'Friday': '17:0-23:0', 'Saturday': '17:0-22:0', 'Sunday': '10:0-15:0'} |\n",
       "+------------------------+------------------------+-------------------------+-----------+-------+-------------+-----------+------------+-------+--------------+---------+-----------------------------------------------------------------------------------------------------------------------------------------------------------------------------------------------------------------------------------------------------------------------------------------------------------------------------------------------------------------------------------------------------------------------------------------------------------------------------------------------------------------------------------------------------------------------------------------------------------------------------------------------------------------------------------------------------------------------------------------------------------------------------------------------------------------------------------------------------------------------------------------------------------------------------------------------------------------------------------------------------------------------------------------------------------------------------------------------------------------------------------------------------------------------------------------------------------------------------------------------------------------------------------------------------------------------------------------------------------------------------------------+-------------------------------------------------------------------------------------------------+-------------------------------------------------------------------------------------------------------------------------------------------------------------------------+"
      ]
     },
     "execution_count": 10,
     "metadata": {},
     "output_type": "execute_result"
    }
   ],
   "source": [
    "%%sql\n",
    "SELECT * FROM business LIMIT 1;"
   ]
  },
  {
   "cell_type": "markdown",
   "metadata": {},
   "source": [
    "### yelp_user"
   ]
  },
  {
   "cell_type": "code",
   "execution_count": 11,
   "metadata": {},
   "outputs": [
    {
     "name": "stdout",
     "output_type": "stream",
     "text": [
      "Successfully inserted 38921 rows into yelp_user.\n"
     ]
    }
   ],
   "source": [
    "# Step 1: Read the CSV file for 'yelp_user'\n",
    "df_user = pd.read_csv('../sampled_data/users_sample.csv')\n",
    "\n",
    "# Step 2: Connect to the PostgreSQL database\n",
    "conn = get_db_connection()\n",
    "\n",
    "# Step 3: Insert data into the 'yelp_user' table\n",
    "bulk_insert(conn, 'yelp_user', df_user, conflict_column='user_id')\n"
   ]
  },
  {
   "cell_type": "code",
   "execution_count": 12,
   "metadata": {},
   "outputs": [
    {
     "data": {
      "text/html": [
       "<span style=\"None\">Running query in &#x27;postgresql://michellelin@localhost:5432/yelp&#x27;</span>"
      ],
      "text/plain": [
       "Running query in 'postgresql://michellelin@localhost:5432/yelp'"
      ]
     },
     "metadata": {},
     "output_type": "display_data"
    },
    {
     "data": {
      "text/html": [
       "<span style=\"color: green\">1 rows affected.</span>"
      ],
      "text/plain": [
       "1 rows affected."
      ]
     },
     "metadata": {},
     "output_type": "display_data"
    },
    {
     "data": {
      "text/html": [
       "<table>\n",
       "    <thead>\n",
       "        <tr>\n",
       "            <th>count</th>\n",
       "        </tr>\n",
       "    </thead>\n",
       "    <tbody>\n",
       "        <tr>\n",
       "            <td>38921</td>\n",
       "        </tr>\n",
       "    </tbody>\n",
       "</table>"
      ],
      "text/plain": [
       "+-------+\n",
       "| count |\n",
       "+-------+\n",
       "| 38921 |\n",
       "+-------+"
      ]
     },
     "execution_count": 12,
     "metadata": {},
     "output_type": "execute_result"
    }
   ],
   "source": [
    "%%sql\n",
    "SELECT COUNT(*) FROM yelp_user;"
   ]
  },
  {
   "cell_type": "markdown",
   "metadata": {},
   "source": [
    "### review"
   ]
  },
  {
   "cell_type": "code",
   "execution_count": 13,
   "metadata": {},
   "outputs": [
    {
     "name": "stdout",
     "output_type": "stream",
     "text": [
      "Successfully inserted 44650 rows into review.\n"
     ]
    }
   ],
   "source": [
    "# Step 1: Read the CSV file for 'reviews_sample'\n",
    "df_review = pd.read_csv('../sampled_data/reviews_sample.csv')\n",
    "\n",
    "# Step 2: Connect to the PostgreSQL database\n",
    "conn = get_db_connection()\n",
    "\n",
    "# Step 3: Insert data into the 'yelp_user' table\n",
    "bulk_insert(conn, 'review', df_review, conflict_column='review_id')"
   ]
  },
  {
   "cell_type": "code",
   "execution_count": 14,
   "metadata": {},
   "outputs": [
    {
     "data": {
      "text/html": [
       "<span style=\"None\">Running query in &#x27;postgresql://michellelin@localhost:5432/yelp&#x27;</span>"
      ],
      "text/plain": [
       "Running query in 'postgresql://michellelin@localhost:5432/yelp'"
      ]
     },
     "metadata": {},
     "output_type": "display_data"
    },
    {
     "data": {
      "text/html": [
       "<span style=\"color: green\">1 rows affected.</span>"
      ],
      "text/plain": [
       "1 rows affected."
      ]
     },
     "metadata": {},
     "output_type": "display_data"
    },
    {
     "data": {
      "text/html": [
       "<table>\n",
       "    <thead>\n",
       "        <tr>\n",
       "            <th>count</th>\n",
       "        </tr>\n",
       "    </thead>\n",
       "    <tbody>\n",
       "        <tr>\n",
       "            <td>44650</td>\n",
       "        </tr>\n",
       "    </tbody>\n",
       "</table>"
      ],
      "text/plain": [
       "+-------+\n",
       "| count |\n",
       "+-------+\n",
       "| 44650 |\n",
       "+-------+"
      ]
     },
     "execution_count": 14,
     "metadata": {},
     "output_type": "execute_result"
    }
   ],
   "source": [
    "%%sql\n",
    "SELECT COUNT(*) FROM review;"
   ]
  },
  {
   "cell_type": "code",
   "execution_count": 15,
   "metadata": {},
   "outputs": [
    {
     "data": {
      "text/html": [
       "<span style=\"None\">Running query in &#x27;postgresql://michellelin@localhost:5432/yelp&#x27;</span>"
      ],
      "text/plain": [
       "Running query in 'postgresql://michellelin@localhost:5432/yelp'"
      ]
     },
     "metadata": {},
     "output_type": "display_data"
    },
    {
     "data": {
      "text/html": [
       "<span style=\"color: green\">1 rows affected.</span>"
      ],
      "text/plain": [
       "1 rows affected."
      ]
     },
     "metadata": {},
     "output_type": "display_data"
    },
    {
     "data": {
      "text/html": [
       "<table>\n",
       "    <thead>\n",
       "        <tr>\n",
       "            <th>review_id</th>\n",
       "            <th>user_id</th>\n",
       "            <th>business_id</th>\n",
       "            <th>stars</th>\n",
       "            <th>date</th>\n",
       "            <th>text</th>\n",
       "            <th>useful</th>\n",
       "            <th>funny</th>\n",
       "            <th>cool</th>\n",
       "        </tr>\n",
       "    </thead>\n",
       "    <tbody>\n",
       "        <tr>\n",
       "            <td>hOwlMPilziEHtyuKpf4Rlg</td>\n",
       "            <td>ubOMW9s0Bhi_GGPeG8Uq7g</td>\n",
       "            <td>hy5GpGXAna-5qrb3zNub6g</td>\n",
       "            <td>5</td>\n",
       "            <td>2017-03-27</td>\n",
       "            <td>Eat here at least 2 times a week. Servers are always friendly and the food is amazing. I never leave disappointed & always leave with a full stomach</td>\n",
       "            <td>0</td>\n",
       "            <td>1</td>\n",
       "            <td>0</td>\n",
       "        </tr>\n",
       "    </tbody>\n",
       "</table>"
      ],
      "text/plain": [
       "+------------------------+------------------------+------------------------+-------+------------+------------------------------------------------------------------------------------------------------------------------------------------------------+--------+-------+------+\n",
       "|       review_id        |        user_id         |      business_id       | stars |    date    |                                                                         text                                                                         | useful | funny | cool |\n",
       "+------------------------+------------------------+------------------------+-------+------------+------------------------------------------------------------------------------------------------------------------------------------------------------+--------+-------+------+\n",
       "| hOwlMPilziEHtyuKpf4Rlg | ubOMW9s0Bhi_GGPeG8Uq7g | hy5GpGXAna-5qrb3zNub6g |   5   | 2017-03-27 | Eat here at least 2 times a week. Servers are always friendly and the food is amazing. I never leave disappointed & always leave with a full stomach |   0    |   1   |  0   |\n",
       "+------------------------+------------------------+------------------------+-------+------------+------------------------------------------------------------------------------------------------------------------------------------------------------+--------+-------+------+"
      ]
     },
     "execution_count": 15,
     "metadata": {},
     "output_type": "execute_result"
    }
   ],
   "source": [
    "%%sql\n",
    "SELECT * FROM review LIMIT 1;"
   ]
  },
  {
   "cell_type": "code",
   "execution_count": 16,
   "metadata": {},
   "outputs": [],
   "source": [
    "# def bulk_insert(conn, table_name, dataframe, conflict_column=None):\n",
    "#     \"\"\"\n",
    "#     Insert data from a DataFrame into a PostgreSQL table using psycopg2.\n",
    "    \n",
    "#     Args:\n",
    "#         conn: Connection object to the database.\n",
    "#         table_name: Name of the target table.\n",
    "#         dataframe: Pandas DataFrame containing the data to be inserted.\n",
    "#         conflict_column: Column(s) to handle ON CONFLICT clause (string or list of columns).\n",
    "#     \"\"\"\n",
    "#     cursor = conn.cursor()\n",
    "#     try:\n",
    "#         # Create a list of column names for the INSERT statement\n",
    "#         columns = ', '.join([f'\"{col}\"' for col in dataframe.columns])  # Quote column names to avoid reserved words\n",
    "#         placeholders = ', '.join(['%s'] * len(dataframe.columns))\n",
    "        \n",
    "#         # Create the SQL insert query\n",
    "#         insert_query = f\"\"\"\n",
    "#         INSERT INTO {table_name} ({columns}) \n",
    "#         VALUES ({placeholders})\n",
    "#         \"\"\"\n",
    "        \n",
    "#         # Add ON CONFLICT clause\n",
    "#         if conflict_column:\n",
    "#             if isinstance(conflict_column, list):  # If it's a list of columns, create composite key\n",
    "#                 conflict_column = ', '.join([f'\"{col}\"' for col in conflict_column])  # Add quotes\n",
    "#             else:\n",
    "#                 conflict_column = f'\"{conflict_column}\"'  # Handle single column key\n",
    "            \n",
    "#             insert_query += f\"\"\"\n",
    "#             ON CONFLICT ({conflict_column}) DO NOTHING\n",
    "#             \"\"\"\n",
    "        \n",
    "#         # Use executemany to insert all the rows\n",
    "#         cursor.executemany(insert_query, dataframe.values.tolist())\n",
    "        \n",
    "#         # Commit the changes\n",
    "#         conn.commit()\n",
    "        \n",
    "#         print(f\"Successfully inserted {len(dataframe)} rows into {table_name}.\")\n",
    "#     except Exception as e:\n",
    "#         conn.rollback()\n",
    "#         print(f\"Error inserting data into {table_name}: {e}\")\n",
    "#     finally:\n",
    "#         cursor.close()\n"
   ]
  },
  {
   "cell_type": "code",
   "execution_count": 17,
   "metadata": {},
   "outputs": [],
   "source": [
    "# df_checkin = pd.read_csv('../sampled_data/checkins_sample.csv')\n",
    "# df_checkin.rename(columns={'date': 'date_time'}, inplace=True)\n",
    "# conn = get_db_connection()\n",
    "# bulk_insert(conn, 'checkin', df_checkin, conflict_column=['business_id', 'date_time'])"
   ]
  },
  {
   "cell_type": "code",
   "execution_count": null,
   "metadata": {},
   "outputs": [],
   "source": []
  },
  {
   "cell_type": "markdown",
   "metadata": {},
   "source": [
    "### tip"
   ]
  },
  {
   "cell_type": "code",
   "execution_count": 18,
   "metadata": {},
   "outputs": [
    {
     "name": "stdout",
     "output_type": "stream",
     "text": [
      "Successfully inserted 3042 rows into tip.\n"
     ]
    }
   ],
   "source": [
    "# Step 1: Read the CSV file\n",
    "df_tip = pd.read_csv('../sampled_data/tips_sample.csv')\n",
    "\n",
    "# Step 2: Connect to the PostgreSQL database\n",
    "conn = get_db_connection()\n",
    "\n",
    "# Step 3: Insert data into the table\n",
    "bulk_insert(conn, 'tip', df_tip, conflict_column=['user_id', 'business_id', 'date'])"
   ]
  },
  {
   "cell_type": "code",
   "execution_count": 19,
   "metadata": {},
   "outputs": [
    {
     "data": {
      "text/html": [
       "<span style=\"None\">Running query in &#x27;postgresql://michellelin@localhost:5432/yelp&#x27;</span>"
      ],
      "text/plain": [
       "Running query in 'postgresql://michellelin@localhost:5432/yelp'"
      ]
     },
     "metadata": {},
     "output_type": "display_data"
    },
    {
     "data": {
      "text/html": [
       "<span style=\"color: green\">1 rows affected.</span>"
      ],
      "text/plain": [
       "1 rows affected."
      ]
     },
     "metadata": {},
     "output_type": "display_data"
    },
    {
     "data": {
      "text/html": [
       "<table>\n",
       "    <thead>\n",
       "        <tr>\n",
       "            <th>user_id</th>\n",
       "            <th>business_id</th>\n",
       "            <th>text</th>\n",
       "            <th>date</th>\n",
       "            <th>compliment_count</th>\n",
       "        </tr>\n",
       "    </thead>\n",
       "    <tbody>\n",
       "        <tr>\n",
       "            <td>LkXNQQaIc5yrKu9Ap87RrA</td>\n",
       "            <td>SekWxm92phAL_P_KySUnxA</td>\n",
       "            <td>Fried Pickles are good.</td>\n",
       "            <td>2011-10-12</td>\n",
       "            <td>0</td>\n",
       "        </tr>\n",
       "    </tbody>\n",
       "</table>"
      ],
      "text/plain": [
       "+------------------------+------------------------+-------------------------+------------+------------------+\n",
       "|        user_id         |      business_id       |           text          |    date    | compliment_count |\n",
       "+------------------------+------------------------+-------------------------+------------+------------------+\n",
       "| LkXNQQaIc5yrKu9Ap87RrA | SekWxm92phAL_P_KySUnxA | Fried Pickles are good. | 2011-10-12 |        0         |\n",
       "+------------------------+------------------------+-------------------------+------------+------------------+"
      ]
     },
     "execution_count": 19,
     "metadata": {},
     "output_type": "execute_result"
    }
   ],
   "source": [
    "%%sql\n",
    "SELECT * FROM tip LIMIT 1;"
   ]
  },
  {
   "cell_type": "markdown",
   "metadata": {},
   "source": [
    "# Normalized Data"
   ]
  },
  {
   "cell_type": "markdown",
   "metadata": {},
   "source": [
    "## Explore business data"
   ]
  },
  {
   "cell_type": "code",
   "execution_count": 20,
   "metadata": {},
   "outputs": [
    {
     "name": "stdout",
     "output_type": "stream",
     "text": [
      "Tables created successfully.\n"
     ]
    }
   ],
   "source": [
    "# Connect to the PostgreSQL database\n",
    "conn = get_db_connection()\n",
    "cursor = conn.cursor()\n",
    "\n",
    "# Full SQL schema definition\n",
    "schema_sql = \"\"\"\n",
    "DROP TABLE IF EXISTS location CASCADE;\n",
    "DROP TABLE IF EXISTS nor_business CASCADE;\n",
    "\n",
    "CREATE TABLE IF NOT EXISTS nor_business (\n",
    "    business_id VARCHAR(22) PRIMARY KEY,\n",
    "    name VARCHAR NOT NULL,\n",
    "    stars NUMERIC CHECK (stars BETWEEN 0 AND 5),\n",
    "    review_count INTEGER,\n",
    "    is_open INTEGER CHECK (is_open IN (0, 1)),\n",
    "    attributes TEXT,\n",
    "    categories TEXT, \n",
    "    hours TEXT\n",
    ");\n",
    "\n",
    "CREATE TABLE IF NOT EXISTS location (\n",
    "    business_id VARCHAR(22) REFERENCES nor_business (business_id) ON DELETE CASCADE,\n",
    "    address VARCHAR,\n",
    "    city VARCHAR,\n",
    "    state VARCHAR(2),\n",
    "    postal_code VARCHAR(10),\n",
    "    latitude NUMERIC,\n",
    "    longitude NUMERIC\n",
    ");\n",
    "\n",
    "\"\"\"\n",
    "\n",
    "# Execute the schema to create the tables\n",
    "cursor.execute(schema_sql)\n",
    "\n",
    "# Commit and close\n",
    "conn.commit()\n",
    "cursor.close()\n",
    "conn.close()\n",
    "print(\"Tables created successfully.\")\n"
   ]
  },
  {
   "cell_type": "code",
   "execution_count": 21,
   "metadata": {},
   "outputs": [
    {
     "name": "stdout",
     "output_type": "stream",
     "text": [
      "Successfully inserted 1000 rows into nor_business.\n"
     ]
    }
   ],
   "source": [
    "## normalized business\n",
    "# Step 1: Read the CSV file\n",
    "df_nor_business = df_business[['business_id', 'name', 'stars', 'review_count', 'is_open', 'attributes', 'categories', 'hours']]\n",
    "df_nor_business\n",
    "\n",
    "# Step 2: Connect to the PostgreSQL database\n",
    "conn = get_db_connection()\n",
    "\n",
    "# Step 3: Insert data into the table\n",
    "bulk_insert(conn, 'nor_business', df_nor_business, conflict_column=['business_id'])"
   ]
  },
  {
   "cell_type": "code",
   "execution_count": 22,
   "metadata": {},
   "outputs": [
    {
     "data": {
      "text/html": [
       "<span style=\"None\">Running query in &#x27;postgresql://michellelin@localhost:5432/yelp&#x27;</span>"
      ],
      "text/plain": [
       "Running query in 'postgresql://michellelin@localhost:5432/yelp'"
      ]
     },
     "metadata": {},
     "output_type": "display_data"
    },
    {
     "data": {
      "text/html": [
       "<span style=\"color: green\">5 rows affected.</span>"
      ],
      "text/plain": [
       "5 rows affected."
      ]
     },
     "metadata": {},
     "output_type": "display_data"
    },
    {
     "data": {
      "text/html": [
       "<table>\n",
       "    <thead>\n",
       "        <tr>\n",
       "            <th>business_id</th>\n",
       "            <th>name</th>\n",
       "            <th>stars</th>\n",
       "            <th>review_count</th>\n",
       "            <th>is_open</th>\n",
       "            <th>attributes</th>\n",
       "            <th>categories</th>\n",
       "            <th>hours</th>\n",
       "        </tr>\n",
       "    </thead>\n",
       "    <tbody>\n",
       "        <tr>\n",
       "            <td>yFrOuce72KhvW0LpU5FY6A</td>\n",
       "            <td>Earnest Bar & Hideaway</td>\n",
       "            <td>4</td>\n",
       "            <td>265</td>\n",
       "            <td>1</td>\n",
       "            <td>{'WheelchairAccessible': 'True', 'HasTV': 'True', 'BikeParking': 'True', 'Music': \"{'dj': False, 'background_music': False, 'no_music': False, 'jukebox': False, 'live': False, 'video': False, 'karaoke': False}\", 'RestaurantsReservations': 'True', 'NoiseLevel': \"u'average'\", 'Corkage': 'True', 'CoatCheck': 'False', 'Caters': 'True', 'RestaurantsAttire': \"'casual'\", 'BusinessParking': \"{'garage': False, 'street': True, 'validated': False, 'lot': True, 'valet': False}\", 'DogsAllowed': 'False', 'GoodForDancing': 'False', 'Ambience': \"{'touristy': False, 'hipster': True, 'romantic': True, 'divey': False, 'intimate': True, 'trendy': True, 'upscale': False, 'classy': True, 'casual': False}\", 'RestaurantsTakeOut': 'True', 'HappyHour': 'True', 'RestaurantsTableService': 'True', 'RestaurantsPriceRange2': '2', 'Alcohol': \"u'full_bar'\", 'OutdoorSeating': 'True', 'BusinessAcceptsCreditCards': 'True', 'GoodForKids': 'False', 'BusinessAcceptsBitcoin': 'False', 'BestNights': \"{'monday': False, 'tuesday': True, 'friday': True, 'wednesday': False, 'thursday': False, 'sunday': False, 'saturday': True}\", 'RestaurantsDelivery': 'True', 'RestaurantsGoodForGroups': 'True', 'WiFi': \"u'free'\", 'Smoking': \"u'no'\", 'GoodForMeal': \"{u'breakfast': False, u'brunch': True, u'lunch': True, u'dinner': True, u'latenight': None, u'dessert': None}\"}</td>\n",
       "            <td>American (New), American (Traditional), Nightlife, Restaurants, Bars, Sandwiches, Cocktail Bars</td>\n",
       "            <td>{'Monday': '0:0-0:0', 'Tuesday': '17:0-22:0', 'Wednesday': '17:0-22:0', 'Thursday': '17:0-22:0', 'Friday': '17:0-23:0', 'Saturday': '17:0-22:0', 'Sunday': '10:0-15:0'}</td>\n",
       "        </tr>\n",
       "        <tr>\n",
       "            <td>WfGXVT-WOgDymYv_kL28GQ</td>\n",
       "            <td>Vanessa Cafe Restaraunt Pizzeria</td>\n",
       "            <td>5</td>\n",
       "            <td>15</td>\n",
       "            <td>1</td>\n",
       "            <td>{'RestaurantsReservations': 'True', 'BusinessAcceptsCreditCards': 'True', 'RestaurantsTakeOut': 'True', 'RestaurantsTableService': 'True', 'BusinessParking': \"{'garage': False, 'street': False, 'validated': False, 'lot': True, 'valet': False}\", 'RestaurantsDelivery': 'True', 'Caters': 'True'}</td>\n",
       "            <td>Pizza, Italian, Restaurants, Sicilian</td>\n",
       "            <td>{'Monday': '11:0-22:0', 'Tuesday': '11:0-22:0', 'Wednesday': '11:0-22:0', 'Thursday': '11:0-22:0', 'Friday': '11:0-22:0', 'Saturday': '11:0-22:0', 'Sunday': '11:0-22:0'}</td>\n",
       "        </tr>\n",
       "        <tr>\n",
       "            <td>otm8R7rkCtCNM0g0TC55-Q</td>\n",
       "            <td>The Gables Cafe</td>\n",
       "            <td>5</td>\n",
       "            <td>14</td>\n",
       "            <td>1</td>\n",
       "            <td>{'RestaurantsTableService': 'True', 'WiFi': \"u'free'\", 'RestaurantsDelivery': 'None', 'BusinessAcceptsCreditCards': 'True', 'RestaurantsTakeOut': 'True', 'BYOB': 'False', 'OutdoorSeating': 'True', 'Caters': 'True', 'WheelchairAccessible': 'True', 'Alcohol': \"u'none'\", 'BikeParking': 'True', 'Corkage': 'False', 'HasTV': 'False'}</td>\n",
       "            <td>Food, Coffee & Tea, Restaurants, Italian, Desserts, Breakfast & Brunch, Sandwiches, Bakeries</td>\n",
       "            <td>None</td>\n",
       "        </tr>\n",
       "        <tr>\n",
       "            <td>3xMtsSQ42lBpkP-R3726lw</td>\n",
       "            <td>Pinky's Nails</td>\n",
       "            <td>3.5</td>\n",
       "            <td>26</td>\n",
       "            <td>1</td>\n",
       "            <td>{'BusinessAcceptsCreditCards': 'True', 'ByAppointmentOnly': 'False', 'RestaurantsPriceRange2': '2', 'BikeParking': 'True', 'BusinessParking': \"{'garage': False, 'street': False, 'validated': False, 'lot': False, 'valet': False}\"}</td>\n",
       "            <td>Nail Salons, Beauty & Spas</td>\n",
       "            <td>{'Monday': '9:30-19:30', 'Tuesday': '9:30-19:30', 'Wednesday': '9:30-19:30', 'Thursday': '9:30-19:30', 'Friday': '9:30-19:30', 'Saturday': '9:0-19:0', 'Sunday': '11:30-17:0'}</td>\n",
       "        </tr>\n",
       "        <tr>\n",
       "            <td>ne1EabaPSD9WjIpWZ26JMQ</td>\n",
       "            <td>Reno Tahoe Window Cleaning</td>\n",
       "            <td>4.5</td>\n",
       "            <td>94</td>\n",
       "            <td>1</td>\n",
       "            <td>{'BusinessAcceptsCreditCards': 'True', 'BikeParking': 'True', 'WheelchairAccessible': 'True', 'ByAppointmentOnly': 'True'}</td>\n",
       "            <td>Pest Control, Local Services, Home Services, Window Washing, Pressure Washers, Damage Restoration, Home Cleaning, Gutter Services, Shopping, Electricians, Holiday Decorations, Holiday Decorating Services, Home & Garden</td>\n",
       "            <td>{'Monday': '0:0-0:0', 'Tuesday': '8:0-17:0', 'Wednesday': '8:0-17:0', 'Thursday': '8:0-17:0', 'Friday': '8:0-17:0', 'Saturday': '8:0-17:0', 'Sunday': '8:0-17:0'}</td>\n",
       "        </tr>\n",
       "    </tbody>\n",
       "</table>"
      ],
      "text/plain": [
       "+------------------------+----------------------------------+-------+--------------+---------+-----------------------------------------------------------------------------------------------------------------------------------------------------------------------------------------------------------------------------------------------------------------------------------------------------------------------------------------------------------------------------------------------------------------------------------------------------------------------------------------------------------------------------------------------------------------------------------------------------------------------------------------------------------------------------------------------------------------------------------------------------------------------------------------------------------------------------------------------------------------------------------------------------------------------------------------------------------------------------------------------------------------------------------------------------------------------------------------------------------------------------------------------------------------------------------------------------------------------------------------------------------------------------------------------------------------------------------------------------------------------------------------+----------------------------------------------------------------------------------------------------------------------------------------------------------------------------------------------------------------------------+--------------------------------------------------------------------------------------------------------------------------------------------------------------------------------+\n",
       "|      business_id       |               name               | stars | review_count | is_open |                                                                                                                                                                                                                                                                                                                                                                                                                                                                                                                                                                                                                                                                                        attributes                                                                                                                                                                                                                                                                                                                                                                                                                                                                                                                                                                                                                                                                                       |                                                                                                         categories                                                                                                         |                                                                                     hours                                                                                      |\n",
       "+------------------------+----------------------------------+-------+--------------+---------+-----------------------------------------------------------------------------------------------------------------------------------------------------------------------------------------------------------------------------------------------------------------------------------------------------------------------------------------------------------------------------------------------------------------------------------------------------------------------------------------------------------------------------------------------------------------------------------------------------------------------------------------------------------------------------------------------------------------------------------------------------------------------------------------------------------------------------------------------------------------------------------------------------------------------------------------------------------------------------------------------------------------------------------------------------------------------------------------------------------------------------------------------------------------------------------------------------------------------------------------------------------------------------------------------------------------------------------------------------------------------------------------+----------------------------------------------------------------------------------------------------------------------------------------------------------------------------------------------------------------------------+--------------------------------------------------------------------------------------------------------------------------------------------------------------------------------+\n",
       "| yFrOuce72KhvW0LpU5FY6A |      Earnest Bar & Hideaway      |   4   |     265      |    1    | {'WheelchairAccessible': 'True', 'HasTV': 'True', 'BikeParking': 'True', 'Music': \"{'dj': False, 'background_music': False, 'no_music': False, 'jukebox': False, 'live': False, 'video': False, 'karaoke': False}\", 'RestaurantsReservations': 'True', 'NoiseLevel': \"u'average'\", 'Corkage': 'True', 'CoatCheck': 'False', 'Caters': 'True', 'RestaurantsAttire': \"'casual'\", 'BusinessParking': \"{'garage': False, 'street': True, 'validated': False, 'lot': True, 'valet': False}\", 'DogsAllowed': 'False', 'GoodForDancing': 'False', 'Ambience': \"{'touristy': False, 'hipster': True, 'romantic': True, 'divey': False, 'intimate': True, 'trendy': True, 'upscale': False, 'classy': True, 'casual': False}\", 'RestaurantsTakeOut': 'True', 'HappyHour': 'True', 'RestaurantsTableService': 'True', 'RestaurantsPriceRange2': '2', 'Alcohol': \"u'full_bar'\", 'OutdoorSeating': 'True', 'BusinessAcceptsCreditCards': 'True', 'GoodForKids': 'False', 'BusinessAcceptsBitcoin': 'False', 'BestNights': \"{'monday': False, 'tuesday': True, 'friday': True, 'wednesday': False, 'thursday': False, 'sunday': False, 'saturday': True}\", 'RestaurantsDelivery': 'True', 'RestaurantsGoodForGroups': 'True', 'WiFi': \"u'free'\", 'Smoking': \"u'no'\", 'GoodForMeal': \"{u'breakfast': False, u'brunch': True, u'lunch': True, u'dinner': True, u'latenight': None, u'dessert': None}\"} |                                                              American (New), American (Traditional), Nightlife, Restaurants, Bars, Sandwiches, Cocktail Bars                                                               |    {'Monday': '0:0-0:0', 'Tuesday': '17:0-22:0', 'Wednesday': '17:0-22:0', 'Thursday': '17:0-22:0', 'Friday': '17:0-23:0', 'Saturday': '17:0-22:0', 'Sunday': '10:0-15:0'}     |\n",
       "| WfGXVT-WOgDymYv_kL28GQ | Vanessa Cafe Restaraunt Pizzeria |   5   |      15      |    1    |                                                                                                                                                                                                                                                                                                                                                                                                                                                                                                                                          {'RestaurantsReservations': 'True', 'BusinessAcceptsCreditCards': 'True', 'RestaurantsTakeOut': 'True', 'RestaurantsTableService': 'True', 'BusinessParking': \"{'garage': False, 'street': False, 'validated': False, 'lot': True, 'valet': False}\", 'RestaurantsDelivery': 'True', 'Caters': 'True'}                                                                                                                                                                                                                                                                                                                                                                                                                                                                                                                                          |                                                                                           Pizza, Italian, Restaurants, Sicilian                                                                                            |   {'Monday': '11:0-22:0', 'Tuesday': '11:0-22:0', 'Wednesday': '11:0-22:0', 'Thursday': '11:0-22:0', 'Friday': '11:0-22:0', 'Saturday': '11:0-22:0', 'Sunday': '11:0-22:0'}    |\n",
       "| otm8R7rkCtCNM0g0TC55-Q |         The Gables Cafe          |   5   |      14      |    1    |                                                                                                                                                                                                                                                                                                                                                                                                                                                                                                                        {'RestaurantsTableService': 'True', 'WiFi': \"u'free'\", 'RestaurantsDelivery': 'None', 'BusinessAcceptsCreditCards': 'True', 'RestaurantsTakeOut': 'True', 'BYOB': 'False', 'OutdoorSeating': 'True', 'Caters': 'True', 'WheelchairAccessible': 'True', 'Alcohol': \"u'none'\", 'BikeParking': 'True', 'Corkage': 'False', 'HasTV': 'False'}                                                                                                                                                                                                                                                                                                                                                                                                                                                                                                                        |                                                                Food, Coffee & Tea, Restaurants, Italian, Desserts, Breakfast & Brunch, Sandwiches, Bakeries                                                                |                                                                                      None                                                                                      |\n",
       "| 3xMtsSQ42lBpkP-R3726lw |          Pinky's Nails           |  3.5  |      26      |    1    |                                                                                                                                                                                                                                                                                                                                                                                                                                                                                                                                                                          {'BusinessAcceptsCreditCards': 'True', 'ByAppointmentOnly': 'False', 'RestaurantsPriceRange2': '2', 'BikeParking': 'True', 'BusinessParking': \"{'garage': False, 'street': False, 'validated': False, 'lot': False, 'valet': False}\"}                                                                                                                                                                                                                                                                                                                                                                                                                                                                                                                                                                          |                                                                                                 Nail Salons, Beauty & Spas                                                                                                 | {'Monday': '9:30-19:30', 'Tuesday': '9:30-19:30', 'Wednesday': '9:30-19:30', 'Thursday': '9:30-19:30', 'Friday': '9:30-19:30', 'Saturday': '9:0-19:0', 'Sunday': '11:30-17:0'} |\n",
       "| ne1EabaPSD9WjIpWZ26JMQ |    Reno Tahoe Window Cleaning    |  4.5  |      94      |    1    |                                                                                                                                                                                                                                                                                                                                                                                                                                                                                                                                                                                                                                {'BusinessAcceptsCreditCards': 'True', 'BikeParking': 'True', 'WheelchairAccessible': 'True', 'ByAppointmentOnly': 'True'}                                                                                                                                                                                                                                                                                                                                                                                                                                                                                                                                                                                                                               | Pest Control, Local Services, Home Services, Window Washing, Pressure Washers, Damage Restoration, Home Cleaning, Gutter Services, Shopping, Electricians, Holiday Decorations, Holiday Decorating Services, Home & Garden |       {'Monday': '0:0-0:0', 'Tuesday': '8:0-17:0', 'Wednesday': '8:0-17:0', 'Thursday': '8:0-17:0', 'Friday': '8:0-17:0', 'Saturday': '8:0-17:0', 'Sunday': '8:0-17:0'}        |\n",
       "+------------------------+----------------------------------+-------+--------------+---------+-----------------------------------------------------------------------------------------------------------------------------------------------------------------------------------------------------------------------------------------------------------------------------------------------------------------------------------------------------------------------------------------------------------------------------------------------------------------------------------------------------------------------------------------------------------------------------------------------------------------------------------------------------------------------------------------------------------------------------------------------------------------------------------------------------------------------------------------------------------------------------------------------------------------------------------------------------------------------------------------------------------------------------------------------------------------------------------------------------------------------------------------------------------------------------------------------------------------------------------------------------------------------------------------------------------------------------------------------------------------------------------------+----------------------------------------------------------------------------------------------------------------------------------------------------------------------------------------------------------------------------+--------------------------------------------------------------------------------------------------------------------------------------------------------------------------------+"
      ]
     },
     "execution_count": 22,
     "metadata": {},
     "output_type": "execute_result"
    }
   ],
   "source": [
    "%%sql\n",
    "SELECT * FROM nor_business LIMIT 5;"
   ]
  },
  {
   "cell_type": "code",
   "execution_count": 23,
   "metadata": {},
   "outputs": [
    {
     "data": {
      "text/html": [
       "<span style=\"None\">Running query in &#x27;postgresql://michellelin@localhost:5432/yelp&#x27;</span>"
      ],
      "text/plain": [
       "Running query in 'postgresql://michellelin@localhost:5432/yelp'"
      ]
     },
     "metadata": {},
     "output_type": "display_data"
    },
    {
     "data": {
      "text/html": [
       "<span style=\"color: green\">4 rows affected.</span>"
      ],
      "text/plain": [
       "4 rows affected."
      ]
     },
     "metadata": {},
     "output_type": "display_data"
    },
    {
     "data": {
      "text/html": [
       "<table>\n",
       "    <thead>\n",
       "        <tr>\n",
       "            <th>QUERY PLAN</th>\n",
       "        </tr>\n",
       "    </thead>\n",
       "    <tbody>\n",
       "        <tr>\n",
       "            <td>Limit  (cost=0.00..0.21 rows=5 width=230) (actual time=0.014..0.015 rows=5 loops=1)</td>\n",
       "        </tr>\n",
       "        <tr>\n",
       "            <td>&nbsp;&nbsp;->  Seq Scan on nor_business  (cost=0.00..104.80 rows=2480 width=230) (actual time=0.013..0.013 rows=5 loops=1)</td>\n",
       "        </tr>\n",
       "        <tr>\n",
       "            <td>Planning Time: 0.065 ms</td>\n",
       "        </tr>\n",
       "        <tr>\n",
       "            <td>Execution Time: 0.029 ms</td>\n",
       "        </tr>\n",
       "    </tbody>\n",
       "</table>"
      ],
      "text/plain": [
       "+-------------------------------------------------------------------------------------------------------------------+\n",
       "|                                                     QUERY PLAN                                                    |\n",
       "+-------------------------------------------------------------------------------------------------------------------+\n",
       "|                Limit  (cost=0.00..0.21 rows=5 width=230) (actual time=0.014..0.015 rows=5 loops=1)                |\n",
       "|   ->  Seq Scan on nor_business  (cost=0.00..104.80 rows=2480 width=230) (actual time=0.013..0.013 rows=5 loops=1) |\n",
       "|                                              Planning Time: 0.065 ms                                              |\n",
       "|                                              Execution Time: 0.029 ms                                             |\n",
       "+-------------------------------------------------------------------------------------------------------------------+"
      ]
     },
     "execution_count": 23,
     "metadata": {},
     "output_type": "execute_result"
    }
   ],
   "source": [
    "%%sql\n",
    "EXPLAIN ANALYZE SELECT * FROM nor_business LIMIT 5;"
   ]
  },
  {
   "cell_type": "code",
   "execution_count": 24,
   "metadata": {},
   "outputs": [
    {
     "data": {
      "text/plain": [
       "Index(['business_id', 'name', 'address', 'city', 'state', 'postal_code',\n",
       "       'latitude', 'longitude', 'stars', 'review_count', 'is_open',\n",
       "       'attributes', 'categories', 'hours'],\n",
       "      dtype='object')"
      ]
     },
     "execution_count": 24,
     "metadata": {},
     "output_type": "execute_result"
    }
   ],
   "source": [
    "df_business.columns"
   ]
  },
  {
   "cell_type": "code",
   "execution_count": 25,
   "metadata": {},
   "outputs": [
    {
     "name": "stdout",
     "output_type": "stream",
     "text": [
      "Successfully inserted 1000 rows into location.\n"
     ]
    }
   ],
   "source": [
    "## location\n",
    "df_location = df_business[['business_id', 'address', 'city', 'state', 'postal_code', 'latitude', 'longitude']]\n",
    "df_location\n",
    "\n",
    "# Step 2: Connect to the PostgreSQL database\n",
    "conn = get_db_connection()\n",
    "\n",
    "# Step 3: Insert data into the table\n",
    "bulk_insert(conn, 'location', df_location)"
   ]
  },
  {
   "cell_type": "code",
   "execution_count": 26,
   "metadata": {},
   "outputs": [
    {
     "data": {
      "text/html": [
       "<span style=\"None\">Running query in &#x27;postgresql://michellelin@localhost:5432/yelp&#x27;</span>"
      ],
      "text/plain": [
       "Running query in 'postgresql://michellelin@localhost:5432/yelp'"
      ]
     },
     "metadata": {},
     "output_type": "display_data"
    },
    {
     "data": {
      "text/html": [
       "<span style=\"color: green\">10 rows affected.</span>"
      ],
      "text/plain": [
       "10 rows affected."
      ]
     },
     "metadata": {},
     "output_type": "display_data"
    },
    {
     "data": {
      "text/html": [
       "<table>\n",
       "    <thead>\n",
       "        <tr>\n",
       "            <th>business_id</th>\n",
       "            <th>address</th>\n",
       "            <th>city</th>\n",
       "            <th>state</th>\n",
       "            <th>postal_code</th>\n",
       "            <th>latitude</th>\n",
       "            <th>longitude</th>\n",
       "        </tr>\n",
       "    </thead>\n",
       "    <tbody>\n",
       "        <tr>\n",
       "            <td>yFrOuce72KhvW0LpU5FY6A</td>\n",
       "            <td>438 Houston St, Ste 160</td>\n",
       "            <td>Nashville</td>\n",
       "            <td>TN</td>\n",
       "            <td>37203</td>\n",
       "            <td>36.143036</td>\n",
       "            <td>-86.767485</td>\n",
       "        </tr>\n",
       "        <tr>\n",
       "            <td>WfGXVT-WOgDymYv_kL28GQ</td>\n",
       "            <td>3815 Church Rd</td>\n",
       "            <td>Mount Laurel Township</td>\n",
       "            <td>NJ</td>\n",
       "            <td>08054</td>\n",
       "            <td>39.9289637</td>\n",
       "            <td>-74.9703303</td>\n",
       "        </tr>\n",
       "        <tr>\n",
       "            <td>otm8R7rkCtCNM0g0TC55-Q</td>\n",
       "            <td>4600 Woodland Ave</td>\n",
       "            <td>Philadelphia</td>\n",
       "            <td>PA</td>\n",
       "            <td>19143</td>\n",
       "            <td>39.9441938</td>\n",
       "            <td>-75.2097087</td>\n",
       "        </tr>\n",
       "        <tr>\n",
       "            <td>3xMtsSQ42lBpkP-R3726lw</td>\n",
       "            <td>63 Boone Vlg</td>\n",
       "            <td>Zionsville</td>\n",
       "            <td>IN</td>\n",
       "            <td>46077</td>\n",
       "            <td>39.951867</td>\n",
       "            <td>-86.278108</td>\n",
       "        </tr>\n",
       "        <tr>\n",
       "            <td>ne1EabaPSD9WjIpWZ26JMQ</td>\n",
       "            <td>59 Damonte Ranch Pkwy, Ste B-187</td>\n",
       "            <td>Reno</td>\n",
       "            <td>NV</td>\n",
       "            <td>89521</td>\n",
       "            <td>39.4202983</td>\n",
       "            <td>-119.7569454</td>\n",
       "        </tr>\n",
       "        <tr>\n",
       "            <td>u8wxP8s-jr0KCZTfGMl1UQ</td>\n",
       "            <td>212 Brown St</td>\n",
       "            <td>Philadelphia</td>\n",
       "            <td>PA</td>\n",
       "            <td>19123</td>\n",
       "            <td>39.9630155</td>\n",
       "            <td>-75.1417047</td>\n",
       "        </tr>\n",
       "        <tr>\n",
       "            <td>WOY6dk3JeyP-bYoELP_MIQ</td>\n",
       "            <td>5110 Meadowood Mall Cir</td>\n",
       "            <td>Reno</td>\n",
       "            <td>NV</td>\n",
       "            <td>89502</td>\n",
       "            <td>39.4739038</td>\n",
       "            <td>-119.7828905</td>\n",
       "        </tr>\n",
       "        <tr>\n",
       "            <td>zXgksmhdzgL4Xx5FylbP3w</td>\n",
       "            <td>300 W Mt Pleasant Ave</td>\n",
       "            <td>Philadelphia</td>\n",
       "            <td>PA</td>\n",
       "            <td>19119</td>\n",
       "            <td>40.0539069</td>\n",
       "            <td>-75.1942308</td>\n",
       "        </tr>\n",
       "        <tr>\n",
       "            <td>8-j10_I745ITrczbkfD-Pw</td>\n",
       "            <td>145 S Gulph Rd</td>\n",
       "            <td>King Of Prussia</td>\n",
       "            <td>PA</td>\n",
       "            <td>19406</td>\n",
       "            <td>40.0841953351</td>\n",
       "            <td>-75.3873682022</td>\n",
       "        </tr>\n",
       "        <tr>\n",
       "            <td>rDg7qsQwE55xxJiU65_N7A</td>\n",
       "            <td>1808 W End Ave</td>\n",
       "            <td>Nashville</td>\n",
       "            <td>TN</td>\n",
       "            <td>37203</td>\n",
       "            <td>36.15287</td>\n",
       "            <td>-86.797082</td>\n",
       "        </tr>\n",
       "    </tbody>\n",
       "</table>\n",
       "<span style=\"font-style:italic;text-align:center;\">Truncated to <a href=\"https://jupysql.ploomber.io/en/latest/api/configuration.html#displaylimit\">displaylimit</a> of 10.</span>"
      ],
      "text/plain": [
       "+------------------------+----------------------------------+-----------------------+-------+-------------+---------------+----------------+\n",
       "|      business_id       |             address              |          city         | state | postal_code |    latitude   |   longitude    |\n",
       "+------------------------+----------------------------------+-----------------------+-------+-------------+---------------+----------------+\n",
       "| yFrOuce72KhvW0LpU5FY6A |     438 Houston St, Ste 160      |       Nashville       |   TN  |    37203    |   36.143036   |   -86.767485   |\n",
       "| WfGXVT-WOgDymYv_kL28GQ |          3815 Church Rd          | Mount Laurel Township |   NJ  |    08054    |   39.9289637  |  -74.9703303   |\n",
       "| otm8R7rkCtCNM0g0TC55-Q |        4600 Woodland Ave         |      Philadelphia     |   PA  |    19143    |   39.9441938  |  -75.2097087   |\n",
       "| 3xMtsSQ42lBpkP-R3726lw |           63 Boone Vlg           |       Zionsville      |   IN  |    46077    |   39.951867   |   -86.278108   |\n",
       "| ne1EabaPSD9WjIpWZ26JMQ | 59 Damonte Ranch Pkwy, Ste B-187 |          Reno         |   NV  |    89521    |   39.4202983  |  -119.7569454  |\n",
       "| u8wxP8s-jr0KCZTfGMl1UQ |           212 Brown St           |      Philadelphia     |   PA  |    19123    |   39.9630155  |  -75.1417047   |\n",
       "| WOY6dk3JeyP-bYoELP_MIQ |     5110 Meadowood Mall Cir      |          Reno         |   NV  |    89502    |   39.4739038  |  -119.7828905  |\n",
       "| zXgksmhdzgL4Xx5FylbP3w |      300 W Mt Pleasant Ave       |      Philadelphia     |   PA  |    19119    |   40.0539069  |  -75.1942308   |\n",
       "| 8-j10_I745ITrczbkfD-Pw |          145 S Gulph Rd          |    King Of Prussia    |   PA  |    19406    | 40.0841953351 | -75.3873682022 |\n",
       "| rDg7qsQwE55xxJiU65_N7A |          1808 W End Ave          |       Nashville       |   TN  |    37203    |    36.15287   |   -86.797082   |\n",
       "+------------------------+----------------------------------+-----------------------+-------+-------------+---------------+----------------+\n",
       "Truncated to displaylimit of 10."
      ]
     },
     "execution_count": 26,
     "metadata": {},
     "output_type": "execute_result"
    }
   ],
   "source": [
    "%%sql\n",
    "SELECT * FROM location LIMIT 10;"
   ]
  },
  {
   "cell_type": "markdown",
   "metadata": {},
   "source": [
    "## Explore yelp users data"
   ]
  },
  {
   "cell_type": "code",
   "execution_count": 27,
   "metadata": {},
   "outputs": [
    {
     "data": {
      "text/plain": [
       "user_id                   0\n",
       "name                      0\n",
       "review_count              0\n",
       "yelping_since             0\n",
       "useful                    0\n",
       "funny                     0\n",
       "cool                      0\n",
       "elite                 31343\n",
       "friends                   0\n",
       "fans                      0\n",
       "average_stars             0\n",
       "compliment_hot            0\n",
       "compliment_more           0\n",
       "compliment_profile        0\n",
       "compliment_cute           0\n",
       "compliment_list           0\n",
       "compliment_note           0\n",
       "compliment_plain          0\n",
       "compliment_cool           0\n",
       "compliment_funny          0\n",
       "compliment_writer         0\n",
       "compliment_photos         0\n",
       "dtype: int64"
      ]
     },
     "execution_count": 27,
     "metadata": {},
     "output_type": "execute_result"
    }
   ],
   "source": [
    "df_user.isnull().sum()\n",
    "# from the result we can see there are a lot of null values for elite, so we can normalize that as well"
   ]
  },
  {
   "cell_type": "code",
   "execution_count": 28,
   "metadata": {},
   "outputs": [
    {
     "name": "stdout",
     "output_type": "stream",
     "text": [
      "                      user_id elite_year\n",
      "0      j14WgRoU_-2ZE1aw1dXrJg       2009\n",
      "0      j14WgRoU_-2ZE1aw1dXrJg       2010\n",
      "0      j14WgRoU_-2ZE1aw1dXrJg       2011\n",
      "0      j14WgRoU_-2ZE1aw1dXrJg       2012\n",
      "0      j14WgRoU_-2ZE1aw1dXrJg       2013\n",
      "...                       ...        ...\n",
      "38072  6kHOI15vOLMgL4wkBo8Jsg       2018\n",
      "38118  5EbR_Htqm1iy34mRUThvPg       2015\n",
      "38138  pZBydccLh3R0LVAycZiE3Q       2019\n",
      "38138  pZBydccLh3R0LVAycZiE3Q         20\n",
      "38138  pZBydccLh3R0LVAycZiE3Q       2021\n",
      "\n",
      "[32493 rows x 2 columns]\n"
     ]
    }
   ],
   "source": [
    "# Step 1: Split the 'elite' column into multiple rows\n",
    "df_elite = df_user.assign(elite=df_user['elite'].str.split(',')).explode('elite')\n",
    "\n",
    "# Step 2: Remove any extra spaces and drop NaN years\n",
    "df_elite['elite'] = df_elite['elite'].str.strip()\n",
    "df_elite = df_elite.dropna(subset=['elite'])\n",
    "\n",
    "# Step 3: Drop duplicates in case of redundancy\n",
    "df_elite = df_elite[['user_id', 'elite']].drop_duplicates()\n",
    "\n",
    "# Step 4: Rename 'elite' to 'elite_year' \n",
    "df_elite.rename(columns={'elite': 'elite_year'}, inplace=True)\n",
    "\n",
    "print(df_elite)\n"
   ]
  },
  {
   "cell_type": "code",
   "execution_count": 29,
   "metadata": {},
   "outputs": [
    {
     "name": "stdout",
     "output_type": "stream",
     "text": [
      "                      user_id               friend_id\n",
      "0      j14WgRoU_-2ZE1aw1dXrJg  ueRPE0CX75ePGMqOFVj6IQ\n",
      "0      j14WgRoU_-2ZE1aw1dXrJg  52oH4DrRvzzl8wh5UXyU0A\n",
      "0      j14WgRoU_-2ZE1aw1dXrJg  E_GAXhVA1_lVC2aFpMQElA\n",
      "0      j14WgRoU_-2ZE1aw1dXrJg  HwlpkOpidkZWvyjrxFk6Ag\n",
      "0      j14WgRoU_-2ZE1aw1dXrJg  kuDmRGcvJhFCHEXTNH1d4Q\n",
      "...                       ...                     ...\n",
      "38353  SvVxrFoegERNTxtRdbkHLg  uiNDEOR0I-ElPzEAqxKa2A\n",
      "38362  ara-bY68Rqk8er4zM2v3GA  05OIkALsFYK34rVCB-uwzw\n",
      "38441  4Ilu9urihE_Q0sDfQIkZAQ  lOroVqramCWeA91J11w1DA\n",
      "38466  a9RPyOIgkv_MSLT9KHIeyQ  xMhG6bdjxVAuMqQ7g3Fm7w\n",
      "38616  QpUNYE8fD07YFvcP-HLn7g  VwZ8aCKA51kELLmseFL54g\n",
      "\n",
      "[3545950 rows x 2 columns]\n"
     ]
    }
   ],
   "source": [
    "### friends\n",
    "# Normalize 'friends' column\n",
    "df_friends = df_user[['user_id', 'friends']].copy()\n",
    "\n",
    "# Split the 'friends' column by comma and explode into multiple rows\n",
    "df_friends = df_friends.assign(friends=df_friends['friends'].str.split(',')).explode('friends')\n",
    "\n",
    "# Clean: Remove extra spaces, NaN, and empty strings\n",
    "df_friends['friends'] = df_friends['friends'].str.strip()  # Strip spaces\n",
    "df_friends = df_friends.dropna(subset=['friends'])  # Drop NaN\n",
    "df_friends = df_friends[df_friends['friends'] != '']  # Drop empty strings\n",
    "df_friends = df_friends[df_friends['friends'] != 'None']\n",
    "\n",
    "df_friends.rename(columns={'friends': 'friend_id'}, inplace=True)\n",
    "\n",
    "print(df_friends)"
   ]
  },
  {
   "cell_type": "code",
   "execution_count": 30,
   "metadata": {},
   "outputs": [
    {
     "name": "stdout",
     "output_type": "stream",
     "text": [
      "Tables created successfully.\n"
     ]
    }
   ],
   "source": [
    "# Connect to the PostgreSQL database\n",
    "conn = get_db_connection()\n",
    "cursor = conn.cursor()\n",
    "\n",
    "# Full SQL schema definition\n",
    "schema_sql = \"\"\"\n",
    "DROP TABLE IF EXISTS friends CASCADE;\n",
    "DROP TABLE IF EXISTS elite CASCADE;\n",
    "DROP TABLE IF EXISTS elite_year CASCADE;\n",
    "DROP TABLE IF EXISTS nor_user CASCADE;\n",
    "\n",
    "CREATE TABLE IF NOT EXISTS nor_user (\n",
    "    user_id VARCHAR(22) PRIMARY KEY,\n",
    "    name TEXT,\n",
    "    review_count INTEGER,\n",
    "    yelping_since DATE,\n",
    "    useful INTEGER,\n",
    "    funny INTEGER,\n",
    "    cool INTEGER,\n",
    "    fans INTEGER,\n",
    "    average_stars NUMERIC CHECK (average_stars BETWEEN 0 AND 5),\n",
    "    compliment_hot INTEGER,\n",
    "    compliment_more INTEGER,\n",
    "    compliment_profile INTEGER,\n",
    "    compliment_cute INTEGER,\n",
    "    compliment_list INTEGER,\n",
    "    compliment_note INTEGER,\n",
    "    compliment_plain INTEGER,\n",
    "    compliment_cool INTEGER,\n",
    "    compliment_funny INTEGER,\n",
    "    compliment_writer INTEGER,\n",
    "    compliment_photos INTEGER\n",
    ");\n",
    "\n",
    "CREATE TABLE IF NOT EXISTS friends (\n",
    "    user_id VARCHAR(22) REFERENCES nor_user(user_id) ON DELETE CASCADE,\n",
    "    friend_id VARCHAR(22)\n",
    ");\n",
    "\n",
    "CREATE TABLE IF NOT EXISTS elite (\n",
    "    user_id VARCHAR(22) REFERENCES nor_user(user_id) ON DELETE CASCADE,\n",
    "    elite_year INTEGER\n",
    ");\n",
    "\n",
    "\n",
    "\"\"\"\n",
    "\n",
    "# Execute the schema to create the tables\n",
    "cursor.execute(schema_sql)\n",
    "\n",
    "# Commit and close\n",
    "conn.commit()\n",
    "cursor.close()\n",
    "conn.close()\n",
    "print(\"Tables created successfully.\")"
   ]
  },
  {
   "cell_type": "markdown",
   "metadata": {},
   "source": [
    "### Insert into normalized users data"
   ]
  },
  {
   "cell_type": "code",
   "execution_count": 31,
   "metadata": {},
   "outputs": [
    {
     "name": "stdout",
     "output_type": "stream",
     "text": [
      "Successfully inserted 38921 rows into nor_user.\n"
     ]
    }
   ],
   "source": [
    "## insert nor_user\n",
    "df_user_nor = df_user[['user_id', 'name', 'review_count', 'yelping_since', 'useful', 'funny',\n",
    "       'cool', 'fans', 'average_stars', 'compliment_hot',\n",
    "       'compliment_more', 'compliment_profile', 'compliment_cute',\n",
    "       'compliment_list', 'compliment_note', 'compliment_plain',\n",
    "       'compliment_cool', 'compliment_funny', 'compliment_writer',\n",
    "       'compliment_photos']]\n",
    "\n",
    "# Step 2: Connect to the PostgreSQL database\n",
    "conn = get_db_connection()\n",
    "\n",
    "# Step 3: Insert data into the table\n",
    "bulk_insert(conn, 'nor_user', df_user_nor, conflict_column='user_id')"
   ]
  },
  {
   "cell_type": "code",
   "execution_count": 32,
   "metadata": {},
   "outputs": [
    {
     "data": {
      "text/plain": [
       "Index(['user_id', 'elite_year'], dtype='object')"
      ]
     },
     "execution_count": 32,
     "metadata": {},
     "output_type": "execute_result"
    }
   ],
   "source": [
    "df_elite.columns"
   ]
  },
  {
   "cell_type": "code",
   "execution_count": 33,
   "metadata": {},
   "outputs": [
    {
     "name": "stdout",
     "output_type": "stream",
     "text": [
      "Successfully inserted 32493 rows into elite.\n"
     ]
    }
   ],
   "source": [
    "## insert elite\n",
    "conn = get_db_connection()\n",
    "bulk_insert(conn, 'elite', df_elite)"
   ]
  },
  {
   "cell_type": "code",
   "execution_count": 34,
   "metadata": {},
   "outputs": [
    {
     "name": "stdout",
     "output_type": "stream",
     "text": [
      "Successfully inserted 3545950 rows into friends.\n"
     ]
    }
   ],
   "source": [
    "## insert friends\n",
    "conn = get_db_connection()\n",
    "bulk_insert(conn, 'friends', df_friends)"
   ]
  },
  {
   "cell_type": "code",
   "execution_count": 35,
   "metadata": {},
   "outputs": [],
   "source": [
    "cursor.close()\n",
    "conn.close()"
   ]
  }
 ],
 "metadata": {
  "kernelspec": {
   "display_name": "base",
   "language": "python",
   "name": "python3"
  },
  "language_info": {
   "codemirror_mode": {
    "name": "ipython",
    "version": 3
   },
   "file_extension": ".py",
   "mimetype": "text/x-python",
   "name": "python",
   "nbconvert_exporter": "python",
   "pygments_lexer": "ipython3",
   "version": "3.9.12"
  }
 },
 "nbformat": 4,
 "nbformat_minor": 2
}
