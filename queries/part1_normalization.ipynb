{
 "cells": [
  {
   "cell_type": "code",
   "execution_count": 1,
   "metadata": {},
   "outputs": [],
   "source": [
    "import psycopg"
   ]
  },
  {
   "cell_type": "code",
   "execution_count": 2,
   "metadata": {},
   "outputs": [],
   "source": [
    "%reload_ext sql"
   ]
  },
  {
   "cell_type": "code",
   "execution_count": 3,
   "metadata": {},
   "outputs": [],
   "source": [
    "%sql postgresql://michellelin@localhost:5432/yelp"
   ]
  },
  {
   "cell_type": "code",
   "execution_count": 4,
   "metadata": {},
   "outputs": [],
   "source": [
    "%config SqlMagic.displaylimit = 30"
   ]
  },
  {
   "cell_type": "markdown",
   "metadata": {},
   "source": [
    "# Query 1\n",
    "#### What are the top 5 cities with the most 5-star business?"
   ]
  },
  {
   "cell_type": "markdown",
   "metadata": {},
   "source": [
    "## Denormalized Data"
   ]
  },
  {
   "cell_type": "code",
   "execution_count": 5,
   "metadata": {},
   "outputs": [
    {
     "data": {
      "text/html": [
       "<span style=\"None\">Running query in &#x27;postgresql://michellelin@localhost:5432/yelp&#x27;</span>"
      ],
      "text/plain": [
       "Running query in 'postgresql://michellelin@localhost:5432/yelp'"
      ]
     },
     "metadata": {},
     "output_type": "display_data"
    },
    {
     "data": {
      "text/html": [
       "<span style=\"color: green\">5 rows affected.</span>"
      ],
      "text/plain": [
       "5 rows affected."
      ]
     },
     "metadata": {},
     "output_type": "display_data"
    },
    {
     "data": {
      "text/html": [
       "<table>\n",
       "    <thead>\n",
       "        <tr>\n",
       "            <th>city</th>\n",
       "            <th>state</th>\n",
       "            <th>five_star_count</th>\n",
       "        </tr>\n",
       "    </thead>\n",
       "    <tbody>\n",
       "        <tr>\n",
       "            <td>Philadelphia</td>\n",
       "            <td>PA</td>\n",
       "            <td>12</td>\n",
       "        </tr>\n",
       "        <tr>\n",
       "            <td>Reno</td>\n",
       "            <td>NV</td>\n",
       "            <td>9</td>\n",
       "        </tr>\n",
       "        <tr>\n",
       "            <td>New Orleans</td>\n",
       "            <td>LA</td>\n",
       "            <td>9</td>\n",
       "        </tr>\n",
       "        <tr>\n",
       "            <td>Tampa</td>\n",
       "            <td>FL</td>\n",
       "            <td>9</td>\n",
       "        </tr>\n",
       "        <tr>\n",
       "            <td>Nashville</td>\n",
       "            <td>TN</td>\n",
       "            <td>8</td>\n",
       "        </tr>\n",
       "    </tbody>\n",
       "</table>"
      ],
      "text/plain": [
       "+--------------+-------+-----------------+\n",
       "|     city     | state | five_star_count |\n",
       "+--------------+-------+-----------------+\n",
       "| Philadelphia |   PA  |        12       |\n",
       "|     Reno     |   NV  |        9        |\n",
       "| New Orleans  |   LA  |        9        |\n",
       "|    Tampa     |   FL  |        9        |\n",
       "|  Nashville   |   TN  |        8        |\n",
       "+--------------+-------+-----------------+"
      ]
     },
     "execution_count": 5,
     "metadata": {},
     "output_type": "execute_result"
    }
   ],
   "source": [
    "%%sql\n",
    "SELECT city, state, COUNT(*) five_star_count\n",
    "FROM business \n",
    "WHERE stars = 5\n",
    "GROUP BY city, state\n",
    "ORDER BY five_star_count DESC\n",
    "LIMIT 5;"
   ]
  },
  {
   "cell_type": "code",
   "execution_count": 6,
   "metadata": {},
   "outputs": [
    {
     "data": {
      "text/html": [
       "<span style=\"None\">Running query in &#x27;postgresql://michellelin@localhost:5432/yelp&#x27;</span>"
      ],
      "text/plain": [
       "Running query in 'postgresql://michellelin@localhost:5432/yelp'"
      ]
     },
     "metadata": {},
     "output_type": "display_data"
    },
    {
     "data": {
      "text/html": [
       "<span style=\"color: green\">12 rows affected.</span>"
      ],
      "text/plain": [
       "12 rows affected."
      ]
     },
     "metadata": {},
     "output_type": "display_data"
    },
    {
     "data": {
      "text/html": [
       "<table>\n",
       "    <thead>\n",
       "        <tr>\n",
       "            <th>QUERY PLAN</th>\n",
       "        </tr>\n",
       "    </thead>\n",
       "    <tbody>\n",
       "        <tr>\n",
       "            <td>Limit  (cost=103.53..103.54 rows=5 width=21) (actual time=0.624..0.625 rows=5 loops=1)</td>\n",
       "        </tr>\n",
       "        <tr>\n",
       "            <td>&nbsp;&nbsp;->  Sort  (cost=103.53..103.74 rows=85 width=21) (actual time=0.622..0.623 rows=5 loops=1)</td>\n",
       "        </tr>\n",
       "        <tr>\n",
       "            <td>&nbsp;&nbsp;&nbsp;&nbsp;&nbsp;&nbsp;&nbsp;&nbsp;Sort Key: (count(*)) DESC</td>\n",
       "        </tr>\n",
       "        <tr>\n",
       "            <td>&nbsp;&nbsp;&nbsp;&nbsp;&nbsp;&nbsp;&nbsp;&nbsp;Sort Method: top-N heapsort  Memory: 25kB</td>\n",
       "        </tr>\n",
       "        <tr>\n",
       "            <td>&nbsp;&nbsp;&nbsp;&nbsp;&nbsp;&nbsp;&nbsp;&nbsp;->  HashAggregate  (cost=101.27..102.11 rows=85 width=21) (actual time=0.589..0.597 rows=44 loops=1)</td>\n",
       "        </tr>\n",
       "        <tr>\n",
       "            <td>&nbsp;&nbsp;&nbsp;&nbsp;&nbsp;&nbsp;&nbsp;&nbsp;&nbsp;&nbsp;&nbsp;&nbsp;&nbsp;&nbsp;Group Key: city, state</td>\n",
       "        </tr>\n",
       "        <tr>\n",
       "            <td>&nbsp;&nbsp;&nbsp;&nbsp;&nbsp;&nbsp;&nbsp;&nbsp;&nbsp;&nbsp;&nbsp;&nbsp;&nbsp;&nbsp;Batches: 1  Memory Usage: 24kB</td>\n",
       "        </tr>\n",
       "        <tr>\n",
       "            <td>&nbsp;&nbsp;&nbsp;&nbsp;&nbsp;&nbsp;&nbsp;&nbsp;&nbsp;&nbsp;&nbsp;&nbsp;&nbsp;&nbsp;->  Seq Scan on business  (cost=0.00..100.50 rows=102 width=13) (actual time=0.018..0.542 rows=102 loops=1)</td>\n",
       "        </tr>\n",
       "        <tr>\n",
       "            <td>&nbsp;&nbsp;&nbsp;&nbsp;&nbsp;&nbsp;&nbsp;&nbsp;&nbsp;&nbsp;&nbsp;&nbsp;&nbsp;&nbsp;&nbsp;&nbsp;&nbsp;&nbsp;&nbsp;&nbsp;Filter: (stars = '5'::numeric)</td>\n",
       "        </tr>\n",
       "        <tr>\n",
       "            <td>&nbsp;&nbsp;&nbsp;&nbsp;&nbsp;&nbsp;&nbsp;&nbsp;&nbsp;&nbsp;&nbsp;&nbsp;&nbsp;&nbsp;&nbsp;&nbsp;&nbsp;&nbsp;&nbsp;&nbsp;Rows Removed by Filter: 898</td>\n",
       "        </tr>\n",
       "        <tr>\n",
       "            <td>Planning Time: 1.425 ms</td>\n",
       "        </tr>\n",
       "        <tr>\n",
       "            <td>Execution Time: 0.676 ms</td>\n",
       "        </tr>\n",
       "    </tbody>\n",
       "</table>"
      ],
      "text/plain": [
       "+---------------------------------------------------------------------------------------------------------------------------+\n",
       "|                                                         QUERY PLAN                                                        |\n",
       "+---------------------------------------------------------------------------------------------------------------------------+\n",
       "|                   Limit  (cost=103.53..103.54 rows=5 width=21) (actual time=0.624..0.625 rows=5 loops=1)                  |\n",
       "|                  ->  Sort  (cost=103.53..103.74 rows=85 width=21) (actual time=0.622..0.623 rows=5 loops=1)               |\n",
       "|                                                     Sort Key: (count(*)) DESC                                             |\n",
       "|                                             Sort Method: top-N heapsort  Memory: 25kB                                     |\n",
       "|                ->  HashAggregate  (cost=101.27..102.11 rows=85 width=21) (actual time=0.589..0.597 rows=44 loops=1)       |\n",
       "|                                                          Group Key: city, state                                           |\n",
       "|                                                      Batches: 1  Memory Usage: 24kB                                       |\n",
       "|               ->  Seq Scan on business  (cost=0.00..100.50 rows=102 width=13) (actual time=0.018..0.542 rows=102 loops=1) |\n",
       "|                                                         Filter: (stars = '5'::numeric)                                    |\n",
       "|                                                          Rows Removed by Filter: 898                                      |\n",
       "|                                                  Planning Time: 1.425 ms                                                  |\n",
       "|                                                  Execution Time: 0.676 ms                                                 |\n",
       "+---------------------------------------------------------------------------------------------------------------------------+"
      ]
     },
     "execution_count": 6,
     "metadata": {},
     "output_type": "execute_result"
    }
   ],
   "source": [
    "%%sql \n",
    "EXPLAIN ANALYZE \n",
    "SELECT city, state, COUNT(*) five_star_count\n",
    "FROM business \n",
    "WHERE stars = 5\n",
    "GROUP BY city, state\n",
    "ORDER BY five_star_count DESC\n",
    "LIMIT 5;"
   ]
  },
  {
   "cell_type": "markdown",
   "metadata": {},
   "source": [
    "## Normalized Data"
   ]
  },
  {
   "cell_type": "code",
   "execution_count": 7,
   "metadata": {},
   "outputs": [
    {
     "data": {
      "text/html": [
       "<span style=\"None\">Running query in &#x27;postgresql://michellelin@localhost:5432/yelp&#x27;</span>"
      ],
      "text/plain": [
       "Running query in 'postgresql://michellelin@localhost:5432/yelp'"
      ]
     },
     "metadata": {},
     "output_type": "display_data"
    },
    {
     "data": {
      "text/html": [
       "<span style=\"color: green\">5 rows affected.</span>"
      ],
      "text/plain": [
       "5 rows affected."
      ]
     },
     "metadata": {},
     "output_type": "display_data"
    },
    {
     "data": {
      "text/html": [
       "<table>\n",
       "    <thead>\n",
       "        <tr>\n",
       "            <th>city</th>\n",
       "            <th>state</th>\n",
       "            <th>five_star_count</th>\n",
       "        </tr>\n",
       "    </thead>\n",
       "    <tbody>\n",
       "        <tr>\n",
       "            <td>Philadelphia</td>\n",
       "            <td>PA</td>\n",
       "            <td>12</td>\n",
       "        </tr>\n",
       "        <tr>\n",
       "            <td>Reno</td>\n",
       "            <td>NV</td>\n",
       "            <td>9</td>\n",
       "        </tr>\n",
       "        <tr>\n",
       "            <td>New Orleans</td>\n",
       "            <td>LA</td>\n",
       "            <td>9</td>\n",
       "        </tr>\n",
       "        <tr>\n",
       "            <td>Tampa</td>\n",
       "            <td>FL</td>\n",
       "            <td>9</td>\n",
       "        </tr>\n",
       "        <tr>\n",
       "            <td>Nashville</td>\n",
       "            <td>TN</td>\n",
       "            <td>8</td>\n",
       "        </tr>\n",
       "    </tbody>\n",
       "</table>"
      ],
      "text/plain": [
       "+--------------+-------+-----------------+\n",
       "|     city     | state | five_star_count |\n",
       "+--------------+-------+-----------------+\n",
       "| Philadelphia |   PA  |        12       |\n",
       "|     Reno     |   NV  |        9        |\n",
       "| New Orleans  |   LA  |        9        |\n",
       "|    Tampa     |   FL  |        9        |\n",
       "|  Nashville   |   TN  |        8        |\n",
       "+--------------+-------+-----------------+"
      ]
     },
     "execution_count": 7,
     "metadata": {},
     "output_type": "execute_result"
    }
   ],
   "source": [
    "%%sql\n",
    "SELECT city, state, COUNT(*) five_star_count\n",
    "FROM nor_business b\n",
    "JOIN location l\n",
    "ON b.business_id = l.business_id\n",
    "WHERE stars = 5 \n",
    "GROUP BY city, state\n",
    "ORDER BY five_star_count DESC\n",
    "LIMIT 5;"
   ]
  },
  {
   "cell_type": "code",
   "execution_count": 8,
   "metadata": {},
   "outputs": [
    {
     "data": {
      "text/html": [
       "<span style=\"None\">Running query in &#x27;postgresql://michellelin@localhost:5432/yelp&#x27;</span>"
      ],
      "text/plain": [
       "Running query in 'postgresql://michellelin@localhost:5432/yelp'"
      ]
     },
     "metadata": {},
     "output_type": "display_data"
    },
    {
     "data": {
      "text/html": [
       "<span style=\"color: green\">17 rows affected.</span>"
      ],
      "text/plain": [
       "17 rows affected."
      ]
     },
     "metadata": {},
     "output_type": "display_data"
    },
    {
     "data": {
      "text/html": [
       "<table>\n",
       "    <thead>\n",
       "        <tr>\n",
       "            <th>QUERY PLAN</th>\n",
       "        </tr>\n",
       "    </thead>\n",
       "    <tbody>\n",
       "        <tr>\n",
       "            <td>Limit  (cost=123.89..123.90 rows=5 width=21) (actual time=4.779..4.782 rows=5 loops=1)</td>\n",
       "        </tr>\n",
       "        <tr>\n",
       "            <td>&nbsp;&nbsp;->  Sort  (cost=123.89..124.15 rows=102 width=21) (actual time=4.778..4.780 rows=5 loops=1)</td>\n",
       "        </tr>\n",
       "        <tr>\n",
       "            <td>&nbsp;&nbsp;&nbsp;&nbsp;&nbsp;&nbsp;&nbsp;&nbsp;Sort Key: (count(*)) DESC</td>\n",
       "        </tr>\n",
       "        <tr>\n",
       "            <td>&nbsp;&nbsp;&nbsp;&nbsp;&nbsp;&nbsp;&nbsp;&nbsp;Sort Method: top-N heapsort  Memory: 25kB</td>\n",
       "        </tr>\n",
       "        <tr>\n",
       "            <td>&nbsp;&nbsp;&nbsp;&nbsp;&nbsp;&nbsp;&nbsp;&nbsp;->  HashAggregate  (cost=121.18..122.20 rows=102 width=21) (actual time=4.733..4.761 rows=44 loops=1)</td>\n",
       "        </tr>\n",
       "        <tr>\n",
       "            <td>&nbsp;&nbsp;&nbsp;&nbsp;&nbsp;&nbsp;&nbsp;&nbsp;&nbsp;&nbsp;&nbsp;&nbsp;&nbsp;&nbsp;Group Key: l.city, l.state</td>\n",
       "        </tr>\n",
       "        <tr>\n",
       "            <td>&nbsp;&nbsp;&nbsp;&nbsp;&nbsp;&nbsp;&nbsp;&nbsp;&nbsp;&nbsp;&nbsp;&nbsp;&nbsp;&nbsp;Batches: 1  Memory Usage: 24kB</td>\n",
       "        </tr>\n",
       "        <tr>\n",
       "            <td>&nbsp;&nbsp;&nbsp;&nbsp;&nbsp;&nbsp;&nbsp;&nbsp;&nbsp;&nbsp;&nbsp;&nbsp;&nbsp;&nbsp;->  Hash Join  (cost=93.78..120.41 rows=102 width=13) (actual time=4.316..4.663 rows=102 loops=1)</td>\n",
       "        </tr>\n",
       "        <tr>\n",
       "            <td>&nbsp;&nbsp;&nbsp;&nbsp;&nbsp;&nbsp;&nbsp;&nbsp;&nbsp;&nbsp;&nbsp;&nbsp;&nbsp;&nbsp;&nbsp;&nbsp;&nbsp;&nbsp;&nbsp;&nbsp;Hash Cond: ((l.business_id)::text = (b.business_id)::text)</td>\n",
       "        </tr>\n",
       "        <tr>\n",
       "            <td>&nbsp;&nbsp;&nbsp;&nbsp;&nbsp;&nbsp;&nbsp;&nbsp;&nbsp;&nbsp;&nbsp;&nbsp;&nbsp;&nbsp;&nbsp;&nbsp;&nbsp;&nbsp;&nbsp;&nbsp;->  Seq Scan on location l  (cost=0.00..24.00 rows=1000 width=36) (actual time=0.291..0.406 rows=1000 loops=1)</td>\n",
       "        </tr>\n",
       "        <tr>\n",
       "            <td>&nbsp;&nbsp;&nbsp;&nbsp;&nbsp;&nbsp;&nbsp;&nbsp;&nbsp;&nbsp;&nbsp;&nbsp;&nbsp;&nbsp;&nbsp;&nbsp;&nbsp;&nbsp;&nbsp;&nbsp;->  Hash  (cost=92.50..92.50 rows=102 width=23) (actual time=3.999..3.999 rows=102 loops=1)</td>\n",
       "        </tr>\n",
       "        <tr>\n",
       "            <td>&nbsp;&nbsp;&nbsp;&nbsp;&nbsp;&nbsp;&nbsp;&nbsp;&nbsp;&nbsp;&nbsp;&nbsp;&nbsp;&nbsp;&nbsp;&nbsp;&nbsp;&nbsp;&nbsp;&nbsp;&nbsp;&nbsp;&nbsp;&nbsp;&nbsp;&nbsp;Buckets: 1024  Batches: 1  Memory Usage: 14kB</td>\n",
       "        </tr>\n",
       "        <tr>\n",
       "            <td>&nbsp;&nbsp;&nbsp;&nbsp;&nbsp;&nbsp;&nbsp;&nbsp;&nbsp;&nbsp;&nbsp;&nbsp;&nbsp;&nbsp;&nbsp;&nbsp;&nbsp;&nbsp;&nbsp;&nbsp;&nbsp;&nbsp;&nbsp;&nbsp;&nbsp;&nbsp;->  Seq Scan on nor_business b  (cost=0.00..92.50 rows=102 width=23) (actual time=0.015..2.674 rows=102 loops=1)</td>\n",
       "        </tr>\n",
       "        <tr>\n",
       "            <td>&nbsp;&nbsp;&nbsp;&nbsp;&nbsp;&nbsp;&nbsp;&nbsp;&nbsp;&nbsp;&nbsp;&nbsp;&nbsp;&nbsp;&nbsp;&nbsp;&nbsp;&nbsp;&nbsp;&nbsp;&nbsp;&nbsp;&nbsp;&nbsp;&nbsp;&nbsp;&nbsp;&nbsp;&nbsp;&nbsp;&nbsp;&nbsp;Filter: (stars = '5'::numeric)</td>\n",
       "        </tr>\n",
       "        <tr>\n",
       "            <td>&nbsp;&nbsp;&nbsp;&nbsp;&nbsp;&nbsp;&nbsp;&nbsp;&nbsp;&nbsp;&nbsp;&nbsp;&nbsp;&nbsp;&nbsp;&nbsp;&nbsp;&nbsp;&nbsp;&nbsp;&nbsp;&nbsp;&nbsp;&nbsp;&nbsp;&nbsp;&nbsp;&nbsp;&nbsp;&nbsp;&nbsp;&nbsp;Rows Removed by Filter: 898</td>\n",
       "        </tr>\n",
       "        <tr>\n",
       "            <td>Planning Time: 0.768 ms</td>\n",
       "        </tr>\n",
       "        <tr>\n",
       "            <td>Execution Time: 5.113 ms</td>\n",
       "        </tr>\n",
       "    </tbody>\n",
       "</table>"
      ],
      "text/plain": [
       "+--------------------------------------------------------------------------------------------------------------------------------------------+\n",
       "|                                                                 QUERY PLAN                                                                 |\n",
       "+--------------------------------------------------------------------------------------------------------------------------------------------+\n",
       "|                           Limit  (cost=123.89..123.90 rows=5 width=21) (actual time=4.779..4.782 rows=5 loops=1)                           |\n",
       "|                         ->  Sort  (cost=123.89..124.15 rows=102 width=21) (actual time=4.778..4.780 rows=5 loops=1)                        |\n",
       "|                                                             Sort Key: (count(*)) DESC                                                      |\n",
       "|                                                     Sort Method: top-N heapsort  Memory: 25kB                                              |\n",
       "|                       ->  HashAggregate  (cost=121.18..122.20 rows=102 width=21) (actual time=4.733..4.761 rows=44 loops=1)                |\n",
       "|                                                                Group Key: l.city, l.state                                                  |\n",
       "|                                                              Batches: 1  Memory Usage: 24kB                                                |\n",
       "|                            ->  Hash Join  (cost=93.78..120.41 rows=102 width=13) (actual time=4.316..4.663 rows=102 loops=1)               |\n",
       "|                                                   Hash Cond: ((l.business_id)::text = (b.business_id)::text)                               |\n",
       "|                         ->  Seq Scan on location l  (cost=0.00..24.00 rows=1000 width=36) (actual time=0.291..0.406 rows=1000 loops=1)     |\n",
       "|                                  ->  Hash  (cost=92.50..92.50 rows=102 width=23) (actual time=3.999..3.999 rows=102 loops=1)               |\n",
       "|                                                            Buckets: 1024  Batches: 1  Memory Usage: 14kB                                   |\n",
       "|                           ->  Seq Scan on nor_business b  (cost=0.00..92.50 rows=102 width=23) (actual time=0.015..2.674 rows=102 loops=1) |\n",
       "|                                                                       Filter: (stars = '5'::numeric)                                       |\n",
       "|                                                                        Rows Removed by Filter: 898                                         |\n",
       "|                                                          Planning Time: 0.768 ms                                                           |\n",
       "|                                                          Execution Time: 5.113 ms                                                          |\n",
       "+--------------------------------------------------------------------------------------------------------------------------------------------+"
      ]
     },
     "execution_count": 8,
     "metadata": {},
     "output_type": "execute_result"
    }
   ],
   "source": [
    "%%sql \n",
    "EXPLAIN ANALYZE \n",
    "SELECT city, state, COUNT(*) five_star_count\n",
    "FROM nor_business b\n",
    "JOIN location l\n",
    "ON b.business_id = l.business_id\n",
    "WHERE stars = 5 \n",
    "GROUP BY city, state\n",
    "ORDER BY five_star_count DESC\n",
    "LIMIT 5;"
   ]
  },
  {
   "cell_type": "markdown",
   "metadata": {},
   "source": [
    "# Query 2\n",
    "### Which years had the most elite users?"
   ]
  },
  {
   "cell_type": "markdown",
   "metadata": {},
   "source": [
    "## Denormalized Data"
   ]
  },
  {
   "cell_type": "code",
   "execution_count": 9,
   "metadata": {},
   "outputs": [
    {
     "data": {
      "text/html": [
       "<span style=\"None\">Running query in &#x27;postgresql://michellelin@localhost:5432/yelp&#x27;</span>"
      ],
      "text/plain": [
       "Running query in 'postgresql://michellelin@localhost:5432/yelp'"
      ]
     },
     "metadata": {},
     "output_type": "display_data"
    },
    {
     "data": {
      "text/html": [
       "<span style=\"color: green\">5 rows affected.</span>"
      ],
      "text/plain": [
       "5 rows affected."
      ]
     },
     "metadata": {},
     "output_type": "display_data"
    },
    {
     "data": {
      "text/html": [
       "<table>\n",
       "    <thead>\n",
       "        <tr>\n",
       "            <th>elite_year</th>\n",
       "            <th>user_count</th>\n",
       "        </tr>\n",
       "    </thead>\n",
       "    <tbody>\n",
       "        <tr>\n",
       "            <td>20</td>\n",
       "            <td>7202</td>\n",
       "        </tr>\n",
       "        <tr>\n",
       "            <td>2019</td>\n",
       "            <td>3954</td>\n",
       "        </tr>\n",
       "        <tr>\n",
       "            <td>2021</td>\n",
       "            <td>3822</td>\n",
       "        </tr>\n",
       "        <tr>\n",
       "            <td>2018</td>\n",
       "            <td>3777</td>\n",
       "        </tr>\n",
       "        <tr>\n",
       "            <td>2017</td>\n",
       "            <td>3416</td>\n",
       "        </tr>\n",
       "    </tbody>\n",
       "</table>"
      ],
      "text/plain": [
       "+------------+------------+\n",
       "| elite_year | user_count |\n",
       "+------------+------------+\n",
       "|     20     |    7202    |\n",
       "|    2019    |    3954    |\n",
       "|    2021    |    3822    |\n",
       "|    2018    |    3777    |\n",
       "|    2017    |    3416    |\n",
       "+------------+------------+"
      ]
     },
     "execution_count": 9,
     "metadata": {},
     "output_type": "execute_result"
    }
   ],
   "source": [
    "%%sql\n",
    "WITH exploded_elite AS (\n",
    "    SELECT \n",
    "        UNNEST(STRING_TO_ARRAY(elite, ','))::INTEGER AS elite_year \n",
    "    FROM \n",
    "        yelp_user \n",
    "    WHERE \n",
    "        elite IS NOT NULL \n",
    "        AND elite != '' \n",
    "        AND elite NOT LIKE '%NaN%' \n",
    ")\n",
    "\n",
    "SELECT \n",
    "    elite_year, \n",
    "    COUNT(*) AS user_count \n",
    "FROM \n",
    "    exploded_elite \n",
    "GROUP BY \n",
    "    elite_year \n",
    "ORDER BY \n",
    "    user_count DESC \n",
    "LIMIT 5;\n"
   ]
  },
  {
   "cell_type": "code",
   "execution_count": 10,
   "metadata": {},
   "outputs": [
    {
     "data": {
      "text/html": [
       "<span style=\"None\">Running query in &#x27;postgresql://michellelin@localhost:5432/yelp&#x27;</span>"
      ],
      "text/plain": [
       "Running query in 'postgresql://michellelin@localhost:5432/yelp'"
      ]
     },
     "metadata": {},
     "output_type": "display_data"
    },
    {
     "data": {
      "text/html": [
       "<span style=\"color: green\">24 rows affected.</span>"
      ],
      "text/plain": [
       "24 rows affected."
      ]
     },
     "metadata": {},
     "output_type": "display_data"
    },
    {
     "data": {
      "text/html": [
       "<table>\n",
       "    <thead>\n",
       "        <tr>\n",
       "            <th>QUERY PLAN</th>\n",
       "        </tr>\n",
       "    </thead>\n",
       "    <tbody>\n",
       "        <tr>\n",
       "            <td>Limit  (cost=5555.51..5555.52 rows=5 width=12) (actual time=24.424..26.343 rows=5 loops=1)</td>\n",
       "        </tr>\n",
       "        <tr>\n",
       "            <td>&nbsp;&nbsp;->  Sort  (cost=5555.51..5556.01 rows=200 width=12) (actual time=24.423..26.341 rows=5 loops=1)</td>\n",
       "        </tr>\n",
       "        <tr>\n",
       "            <td>&nbsp;&nbsp;&nbsp;&nbsp;&nbsp;&nbsp;&nbsp;&nbsp;Sort Key: (count(*)) DESC</td>\n",
       "        </tr>\n",
       "        <tr>\n",
       "            <td>&nbsp;&nbsp;&nbsp;&nbsp;&nbsp;&nbsp;&nbsp;&nbsp;Sort Method: top-N heapsort  Memory: 25kB</td>\n",
       "        </tr>\n",
       "        <tr>\n",
       "            <td>&nbsp;&nbsp;&nbsp;&nbsp;&nbsp;&nbsp;&nbsp;&nbsp;->  Finalize GroupAggregate  (cost=5526.18..5552.18 rows=200 width=12) (actual time=24.403..26.333 rows=16 loops=1)</td>\n",
       "        </tr>\n",
       "        <tr>\n",
       "            <td>&nbsp;&nbsp;&nbsp;&nbsp;&nbsp;&nbsp;&nbsp;&nbsp;&nbsp;&nbsp;&nbsp;&nbsp;&nbsp;&nbsp;Group Key: (((unnest(string_to_array(yelp_user.elite, ','::text))))::integer)</td>\n",
       "        </tr>\n",
       "        <tr>\n",
       "            <td>&nbsp;&nbsp;&nbsp;&nbsp;&nbsp;&nbsp;&nbsp;&nbsp;&nbsp;&nbsp;&nbsp;&nbsp;&nbsp;&nbsp;->  Gather Merge  (cost=5526.18..5549.18 rows=200 width=12) (actual time=24.395..26.321 rows=32 loops=1)</td>\n",
       "        </tr>\n",
       "        <tr>\n",
       "            <td>&nbsp;&nbsp;&nbsp;&nbsp;&nbsp;&nbsp;&nbsp;&nbsp;&nbsp;&nbsp;&nbsp;&nbsp;&nbsp;&nbsp;&nbsp;&nbsp;&nbsp;&nbsp;&nbsp;&nbsp;Workers Planned: 1</td>\n",
       "        </tr>\n",
       "        <tr>\n",
       "            <td>&nbsp;&nbsp;&nbsp;&nbsp;&nbsp;&nbsp;&nbsp;&nbsp;&nbsp;&nbsp;&nbsp;&nbsp;&nbsp;&nbsp;&nbsp;&nbsp;&nbsp;&nbsp;&nbsp;&nbsp;Workers Launched: 1</td>\n",
       "        </tr>\n",
       "        <tr>\n",
       "            <td>&nbsp;&nbsp;&nbsp;&nbsp;&nbsp;&nbsp;&nbsp;&nbsp;&nbsp;&nbsp;&nbsp;&nbsp;&nbsp;&nbsp;&nbsp;&nbsp;&nbsp;&nbsp;&nbsp;&nbsp;->  Sort  (cost=4526.17..4526.67 rows=200 width=12) (actual time=21.531..21.533 rows=16 loops=2)</td>\n",
       "        </tr>\n",
       "        <tr>\n",
       "            <td>&nbsp;&nbsp;&nbsp;&nbsp;&nbsp;&nbsp;&nbsp;&nbsp;&nbsp;&nbsp;&nbsp;&nbsp;&nbsp;&nbsp;&nbsp;&nbsp;&nbsp;&nbsp;&nbsp;&nbsp;&nbsp;&nbsp;&nbsp;&nbsp;&nbsp;&nbsp;Sort Key: (((unnest(string_to_array(yelp_user.elite, ','::text))))::integer)</td>\n",
       "        </tr>\n",
       "        <tr>\n",
       "            <td>&nbsp;&nbsp;&nbsp;&nbsp;&nbsp;&nbsp;&nbsp;&nbsp;&nbsp;&nbsp;&nbsp;&nbsp;&nbsp;&nbsp;&nbsp;&nbsp;&nbsp;&nbsp;&nbsp;&nbsp;&nbsp;&nbsp;&nbsp;&nbsp;&nbsp;&nbsp;Sort Method: quicksort  Memory: 25kB</td>\n",
       "        </tr>\n",
       "        <tr>\n",
       "            <td>&nbsp;&nbsp;&nbsp;&nbsp;&nbsp;&nbsp;&nbsp;&nbsp;&nbsp;&nbsp;&nbsp;&nbsp;&nbsp;&nbsp;&nbsp;&nbsp;&nbsp;&nbsp;&nbsp;&nbsp;&nbsp;&nbsp;&nbsp;&nbsp;&nbsp;&nbsp;Worker 0:  Sort Method: quicksort  Memory: 25kB</td>\n",
       "        </tr>\n",
       "        <tr>\n",
       "            <td>&nbsp;&nbsp;&nbsp;&nbsp;&nbsp;&nbsp;&nbsp;&nbsp;&nbsp;&nbsp;&nbsp;&nbsp;&nbsp;&nbsp;&nbsp;&nbsp;&nbsp;&nbsp;&nbsp;&nbsp;&nbsp;&nbsp;&nbsp;&nbsp;&nbsp;&nbsp;->  Partial HashAggregate  (cost=4516.53..4518.53 rows=200 width=12) (actual time=21.505..21.509 rows=16 loops=2)</td>\n",
       "        </tr>\n",
       "        <tr>\n",
       "            <td>&nbsp;&nbsp;&nbsp;&nbsp;&nbsp;&nbsp;&nbsp;&nbsp;&nbsp;&nbsp;&nbsp;&nbsp;&nbsp;&nbsp;&nbsp;&nbsp;&nbsp;&nbsp;&nbsp;&nbsp;&nbsp;&nbsp;&nbsp;&nbsp;&nbsp;&nbsp;&nbsp;&nbsp;&nbsp;&nbsp;&nbsp;&nbsp;Group Key: ((unnest(string_to_array(yelp_user.elite, ','::text))))::integer</td>\n",
       "        </tr>\n",
       "        <tr>\n",
       "            <td>&nbsp;&nbsp;&nbsp;&nbsp;&nbsp;&nbsp;&nbsp;&nbsp;&nbsp;&nbsp;&nbsp;&nbsp;&nbsp;&nbsp;&nbsp;&nbsp;&nbsp;&nbsp;&nbsp;&nbsp;&nbsp;&nbsp;&nbsp;&nbsp;&nbsp;&nbsp;&nbsp;&nbsp;&nbsp;&nbsp;&nbsp;&nbsp;Batches: 1  Memory Usage: 40kB</td>\n",
       "        </tr>\n",
       "        <tr>\n",
       "            <td>&nbsp;&nbsp;&nbsp;&nbsp;&nbsp;&nbsp;&nbsp;&nbsp;&nbsp;&nbsp;&nbsp;&nbsp;&nbsp;&nbsp;&nbsp;&nbsp;&nbsp;&nbsp;&nbsp;&nbsp;&nbsp;&nbsp;&nbsp;&nbsp;&nbsp;&nbsp;&nbsp;&nbsp;&nbsp;&nbsp;&nbsp;&nbsp;Worker 0:  Batches: 1  Memory Usage: 40kB</td>\n",
       "        </tr>\n",
       "        <tr>\n",
       "            <td>&nbsp;&nbsp;&nbsp;&nbsp;&nbsp;&nbsp;&nbsp;&nbsp;&nbsp;&nbsp;&nbsp;&nbsp;&nbsp;&nbsp;&nbsp;&nbsp;&nbsp;&nbsp;&nbsp;&nbsp;&nbsp;&nbsp;&nbsp;&nbsp;&nbsp;&nbsp;&nbsp;&nbsp;&nbsp;&nbsp;&nbsp;&nbsp;->  Result  (cost=0.00..3377.58 rows=44660 width=4) (actual time=0.023..17.528 rows=18047 loops=2)</td>\n",
       "        </tr>\n",
       "        <tr>\n",
       "            <td>&nbsp;&nbsp;&nbsp;&nbsp;&nbsp;&nbsp;&nbsp;&nbsp;&nbsp;&nbsp;&nbsp;&nbsp;&nbsp;&nbsp;&nbsp;&nbsp;&nbsp;&nbsp;&nbsp;&nbsp;&nbsp;&nbsp;&nbsp;&nbsp;&nbsp;&nbsp;&nbsp;&nbsp;&nbsp;&nbsp;&nbsp;&nbsp;&nbsp;&nbsp;&nbsp;&nbsp;&nbsp;&nbsp;->  ProjectSet  (cost=0.00..2484.38 rows=44660 width=32) (actual time=0.022..14.122 rows=18047 loops=2)</td>\n",
       "        </tr>\n",
       "        <tr>\n",
       "            <td>&nbsp;&nbsp;&nbsp;&nbsp;&nbsp;&nbsp;&nbsp;&nbsp;&nbsp;&nbsp;&nbsp;&nbsp;&nbsp;&nbsp;&nbsp;&nbsp;&nbsp;&nbsp;&nbsp;&nbsp;&nbsp;&nbsp;&nbsp;&nbsp;&nbsp;&nbsp;&nbsp;&nbsp;&nbsp;&nbsp;&nbsp;&nbsp;&nbsp;&nbsp;&nbsp;&nbsp;&nbsp;&nbsp;&nbsp;&nbsp;&nbsp;&nbsp;&nbsp;&nbsp;->  Parallel Seq Scan on yelp_user  (cost=0.00..2216.42 rows=4466 width=7) (actual time=0.012..8.363 rows=3789 loops=2)</td>\n",
       "        </tr>\n",
       "        <tr>\n",
       "            <td>&nbsp;&nbsp;&nbsp;&nbsp;&nbsp;&nbsp;&nbsp;&nbsp;&nbsp;&nbsp;&nbsp;&nbsp;&nbsp;&nbsp;&nbsp;&nbsp;&nbsp;&nbsp;&nbsp;&nbsp;&nbsp;&nbsp;&nbsp;&nbsp;&nbsp;&nbsp;&nbsp;&nbsp;&nbsp;&nbsp;&nbsp;&nbsp;&nbsp;&nbsp;&nbsp;&nbsp;&nbsp;&nbsp;&nbsp;&nbsp;&nbsp;&nbsp;&nbsp;&nbsp;&nbsp;&nbsp;&nbsp;&nbsp;&nbsp;&nbsp;Filter: ((elite IS NOT NULL) AND (elite <> ''::text) AND (elite !~~ '%NaN%'::text))</td>\n",
       "        </tr>\n",
       "        <tr>\n",
       "            <td>&nbsp;&nbsp;&nbsp;&nbsp;&nbsp;&nbsp;&nbsp;&nbsp;&nbsp;&nbsp;&nbsp;&nbsp;&nbsp;&nbsp;&nbsp;&nbsp;&nbsp;&nbsp;&nbsp;&nbsp;&nbsp;&nbsp;&nbsp;&nbsp;&nbsp;&nbsp;&nbsp;&nbsp;&nbsp;&nbsp;&nbsp;&nbsp;&nbsp;&nbsp;&nbsp;&nbsp;&nbsp;&nbsp;&nbsp;&nbsp;&nbsp;&nbsp;&nbsp;&nbsp;&nbsp;&nbsp;&nbsp;&nbsp;&nbsp;&nbsp;Rows Removed by Filter: 15672</td>\n",
       "        </tr>\n",
       "        <tr>\n",
       "            <td>Planning Time: 0.256 ms</td>\n",
       "        </tr>\n",
       "        <tr>\n",
       "            <td>Execution Time: 26.406 ms</td>\n",
       "        </tr>\n",
       "    </tbody>\n",
       "</table>"
      ],
      "text/plain": [
       "+---------------------------------------------------------------------------------------------------------------------------------------------------------------------+\n",
       "|                                                                              QUERY PLAN                                                                             |\n",
       "+---------------------------------------------------------------------------------------------------------------------------------------------------------------------+\n",
       "|                                      Limit  (cost=5555.51..5555.52 rows=5 width=12) (actual time=24.424..26.343 rows=5 loops=1)                                     |\n",
       "|                                    ->  Sort  (cost=5555.51..5556.01 rows=200 width=12) (actual time=24.423..26.341 rows=5 loops=1)                                  |\n",
       "|                                                                          Sort Key: (count(*)) DESC                                                                  |\n",
       "|                                                                  Sort Method: top-N heapsort  Memory: 25kB                                                          |\n",
       "|                             ->  Finalize GroupAggregate  (cost=5526.18..5552.18 rows=200 width=12) (actual time=24.403..26.333 rows=16 loops=1)                     |\n",
       "|                                                   Group Key: (((unnest(string_to_array(yelp_user.elite, ','::text))))::integer)                                     |\n",
       "|                                      ->  Gather Merge  (cost=5526.18..5549.18 rows=200 width=12) (actual time=24.395..26.321 rows=32 loops=1)                       |\n",
       "|                                                                                    Workers Planned: 1                                                               |\n",
       "|                                                                                   Workers Launched: 1                                                               |\n",
       "|                                             ->  Sort  (cost=4526.17..4526.67 rows=200 width=12) (actual time=21.531..21.533 rows=16 loops=2)                        |\n",
       "|                                                          Sort Key: (((unnest(string_to_array(yelp_user.elite, ','::text))))::integer)                               |\n",
       "|                                                                              Sort Method: quicksort  Memory: 25kB                                                   |\n",
       "|                                                                        Worker 0:  Sort Method: quicksort  Memory: 25kB                                              |\n",
       "|                                       ->  Partial HashAggregate  (cost=4516.53..4518.53 rows=200 width=12) (actual time=21.505..21.509 rows=16 loops=2)             |\n",
       "|                                                             Group Key: ((unnest(string_to_array(yelp_user.elite, ','::text))))::integer                             |\n",
       "|                                                                                    Batches: 1  Memory Usage: 40kB                                                   |\n",
       "|                                                                              Worker 0:  Batches: 1  Memory Usage: 40kB                                              |\n",
       "|                                                  ->  Result  (cost=0.00..3377.58 rows=44660 width=4) (actual time=0.023..17.528 rows=18047 loops=2)                 |\n",
       "|                                                  ->  ProjectSet  (cost=0.00..2484.38 rows=44660 width=32) (actual time=0.022..14.122 rows=18047 loops=2)            |\n",
       "|                                             ->  Parallel Seq Scan on yelp_user  (cost=0.00..2216.42 rows=4466 width=7) (actual time=0.012..8.363 rows=3789 loops=2) |\n",
       "|                                                                  Filter: ((elite IS NOT NULL) AND (elite <> ''::text) AND (elite !~~ '%NaN%'::text))                |\n",
       "|                                                                                             Rows Removed by Filter: 15672                                           |\n",
       "|                                                                       Planning Time: 0.256 ms                                                                       |\n",
       "|                                                                      Execution Time: 26.406 ms                                                                      |\n",
       "+---------------------------------------------------------------------------------------------------------------------------------------------------------------------+"
      ]
     },
     "execution_count": 10,
     "metadata": {},
     "output_type": "execute_result"
    }
   ],
   "source": [
    "%%sql\n",
    "EXPLAIN ANALYZE\n",
    "WITH exploded_elite AS (\n",
    "    SELECT \n",
    "        UNNEST(STRING_TO_ARRAY(elite, ','))::INTEGER AS elite_year \n",
    "    FROM \n",
    "        yelp_user \n",
    "    WHERE \n",
    "        elite IS NOT NULL \n",
    "        AND elite != '' \n",
    "        AND elite NOT LIKE '%NaN%'  \n",
    ")\n",
    "\n",
    "SELECT \n",
    "    elite_year, \n",
    "    COUNT(*) AS user_count \n",
    "FROM \n",
    "    exploded_elite \n",
    "GROUP BY \n",
    "    elite_year \n",
    "ORDER BY \n",
    "    user_count DESC \n",
    "LIMIT 5;"
   ]
  },
  {
   "cell_type": "markdown",
   "metadata": {},
   "source": [
    "## Normalized Data"
   ]
  },
  {
   "cell_type": "code",
   "execution_count": 11,
   "metadata": {},
   "outputs": [
    {
     "data": {
      "text/html": [
       "<span style=\"None\">Running query in &#x27;postgresql://michellelin@localhost:5432/yelp&#x27;</span>"
      ],
      "text/plain": [
       "Running query in 'postgresql://michellelin@localhost:5432/yelp'"
      ]
     },
     "metadata": {},
     "output_type": "display_data"
    },
    {
     "data": {
      "text/html": [
       "<span style=\"color: green\">5 rows affected.</span>"
      ],
      "text/plain": [
       "5 rows affected."
      ]
     },
     "metadata": {},
     "output_type": "display_data"
    },
    {
     "data": {
      "text/html": [
       "<table>\n",
       "    <thead>\n",
       "        <tr>\n",
       "            <th>elite_year</th>\n",
       "            <th>user_count</th>\n",
       "        </tr>\n",
       "    </thead>\n",
       "    <tbody>\n",
       "        <tr>\n",
       "            <td>2019</td>\n",
       "            <td>3954</td>\n",
       "        </tr>\n",
       "        <tr>\n",
       "            <td>2021</td>\n",
       "            <td>3822</td>\n",
       "        </tr>\n",
       "        <tr>\n",
       "            <td>2018</td>\n",
       "            <td>3777</td>\n",
       "        </tr>\n",
       "        <tr>\n",
       "            <td>20</td>\n",
       "            <td>3601</td>\n",
       "        </tr>\n",
       "        <tr>\n",
       "            <td>2017</td>\n",
       "            <td>3416</td>\n",
       "        </tr>\n",
       "    </tbody>\n",
       "</table>"
      ],
      "text/plain": [
       "+------------+------------+\n",
       "| elite_year | user_count |\n",
       "+------------+------------+\n",
       "|    2019    |    3954    |\n",
       "|    2021    |    3822    |\n",
       "|    2018    |    3777    |\n",
       "|     20     |    3601    |\n",
       "|    2017    |    3416    |\n",
       "+------------+------------+"
      ]
     },
     "execution_count": 11,
     "metadata": {},
     "output_type": "execute_result"
    }
   ],
   "source": [
    "%%sql\n",
    "SELECT elite_year, COUNT(*) user_count\n",
    "FROM elite \n",
    "GROUP BY elite_year\n",
    "ORDER BY user_count DESC\n",
    "LIMIT 5;"
   ]
  },
  {
   "cell_type": "code",
   "execution_count": 12,
   "metadata": {},
   "outputs": [
    {
     "data": {
      "text/html": [
       "<span style=\"None\">Running query in &#x27;postgresql://michellelin@localhost:5432/yelp&#x27;</span>"
      ],
      "text/plain": [
       "Running query in 'postgresql://michellelin@localhost:5432/yelp'"
      ]
     },
     "metadata": {},
     "output_type": "display_data"
    },
    {
     "data": {
      "text/html": [
       "<span style=\"color: green\">10 rows affected.</span>"
      ],
      "text/plain": [
       "10 rows affected."
      ]
     },
     "metadata": {},
     "output_type": "display_data"
    },
    {
     "data": {
      "text/html": [
       "<table>\n",
       "    <thead>\n",
       "        <tr>\n",
       "            <th>QUERY PLAN</th>\n",
       "        </tr>\n",
       "    </thead>\n",
       "    <tbody>\n",
       "        <tr>\n",
       "            <td>Limit  (cost=726.82..726.83 rows=5 width=12) (actual time=10.378..10.380 rows=5 loops=1)</td>\n",
       "        </tr>\n",
       "        <tr>\n",
       "            <td>&nbsp;&nbsp;->  Sort  (cost=726.82..726.86 rows=16 width=12) (actual time=10.377..10.378 rows=5 loops=1)</td>\n",
       "        </tr>\n",
       "        <tr>\n",
       "            <td>&nbsp;&nbsp;&nbsp;&nbsp;&nbsp;&nbsp;&nbsp;&nbsp;Sort Key: (count(*)) DESC</td>\n",
       "        </tr>\n",
       "        <tr>\n",
       "            <td>&nbsp;&nbsp;&nbsp;&nbsp;&nbsp;&nbsp;&nbsp;&nbsp;Sort Method: top-N heapsort  Memory: 25kB</td>\n",
       "        </tr>\n",
       "        <tr>\n",
       "            <td>&nbsp;&nbsp;&nbsp;&nbsp;&nbsp;&nbsp;&nbsp;&nbsp;->  HashAggregate  (cost=726.39..726.55 rows=16 width=12) (actual time=10.363..10.366 rows=16 loops=1)</td>\n",
       "        </tr>\n",
       "        <tr>\n",
       "            <td>&nbsp;&nbsp;&nbsp;&nbsp;&nbsp;&nbsp;&nbsp;&nbsp;&nbsp;&nbsp;&nbsp;&nbsp;&nbsp;&nbsp;Group Key: elite_year</td>\n",
       "        </tr>\n",
       "        <tr>\n",
       "            <td>&nbsp;&nbsp;&nbsp;&nbsp;&nbsp;&nbsp;&nbsp;&nbsp;&nbsp;&nbsp;&nbsp;&nbsp;&nbsp;&nbsp;Batches: 1  Memory Usage: 24kB</td>\n",
       "        </tr>\n",
       "        <tr>\n",
       "            <td>&nbsp;&nbsp;&nbsp;&nbsp;&nbsp;&nbsp;&nbsp;&nbsp;&nbsp;&nbsp;&nbsp;&nbsp;&nbsp;&nbsp;->  Seq Scan on elite  (cost=0.00..563.93 rows=32493 width=4) (actual time=0.009..3.084 rows=32493 loops=1)</td>\n",
       "        </tr>\n",
       "        <tr>\n",
       "            <td>Planning Time: 0.078 ms</td>\n",
       "        </tr>\n",
       "        <tr>\n",
       "            <td>Execution Time: 10.428 ms</td>\n",
       "        </tr>\n",
       "    </tbody>\n",
       "</table>"
      ],
      "text/plain": [
       "+---------------------------------------------------------------------------------------------------------------------------+\n",
       "|                                                         QUERY PLAN                                                        |\n",
       "+---------------------------------------------------------------------------------------------------------------------------+\n",
       "|                  Limit  (cost=726.82..726.83 rows=5 width=12) (actual time=10.378..10.380 rows=5 loops=1)                 |\n",
       "|                 ->  Sort  (cost=726.82..726.86 rows=16 width=12) (actual time=10.377..10.378 rows=5 loops=1)              |\n",
       "|                                                     Sort Key: (count(*)) DESC                                             |\n",
       "|                                             Sort Method: top-N heapsort  Memory: 25kB                                     |\n",
       "|               ->  HashAggregate  (cost=726.39..726.55 rows=16 width=12) (actual time=10.363..10.366 rows=16 loops=1)      |\n",
       "|                                                          Group Key: elite_year                                            |\n",
       "|                                                      Batches: 1  Memory Usage: 24kB                                       |\n",
       "|               ->  Seq Scan on elite  (cost=0.00..563.93 rows=32493 width=4) (actual time=0.009..3.084 rows=32493 loops=1) |\n",
       "|                                                  Planning Time: 0.078 ms                                                  |\n",
       "|                                                 Execution Time: 10.428 ms                                                 |\n",
       "+---------------------------------------------------------------------------------------------------------------------------+"
      ]
     },
     "execution_count": 12,
     "metadata": {},
     "output_type": "execute_result"
    }
   ],
   "source": [
    "%%sql\n",
    "EXPLAIN ANALYZE\n",
    "SELECT elite_year, COUNT(*) user_count\n",
    "FROM elite \n",
    "GROUP BY elite_year\n",
    "ORDER BY user_count DESC\n",
    "LIMIT 5;"
   ]
  },
  {
   "cell_type": "markdown",
   "metadata": {},
   "source": [
    "# Query 3\n",
    "### Find businesses open in multiple states"
   ]
  },
  {
   "cell_type": "markdown",
   "metadata": {},
   "source": [
    "### Denormalized Data"
   ]
  },
  {
   "cell_type": "code",
   "execution_count": 13,
   "metadata": {},
   "outputs": [
    {
     "data": {
      "text/html": [
       "<span style=\"None\">Running query in &#x27;postgresql://michellelin@localhost:5432/yelp&#x27;</span>"
      ],
      "text/plain": [
       "Running query in 'postgresql://michellelin@localhost:5432/yelp'"
      ]
     },
     "metadata": {},
     "output_type": "display_data"
    },
    {
     "data": {
      "text/html": [
       "<span style=\"color: green\">32 rows affected.</span>"
      ],
      "text/plain": [
       "32 rows affected."
      ]
     },
     "metadata": {},
     "output_type": "display_data"
    },
    {
     "data": {
      "text/html": [
       "<table>\n",
       "    <thead>\n",
       "        <tr>\n",
       "            <th>name</th>\n",
       "        </tr>\n",
       "    </thead>\n",
       "    <tbody>\n",
       "        <tr>\n",
       "            <td>Firestone Complete Auto Care</td>\n",
       "        </tr>\n",
       "        <tr>\n",
       "            <td>Michaels</td>\n",
       "        </tr>\n",
       "        <tr>\n",
       "            <td>Planet Fitness</td>\n",
       "        </tr>\n",
       "        <tr>\n",
       "            <td>Culver's</td>\n",
       "        </tr>\n",
       "        <tr>\n",
       "            <td>Subway</td>\n",
       "        </tr>\n",
       "        <tr>\n",
       "            <td>Jack in the Box</td>\n",
       "        </tr>\n",
       "        <tr>\n",
       "            <td>Wendy's</td>\n",
       "        </tr>\n",
       "        <tr>\n",
       "            <td>Chipotle Mexican Grill</td>\n",
       "        </tr>\n",
       "        <tr>\n",
       "            <td>Lowe's Home Improvement</td>\n",
       "        </tr>\n",
       "        <tr>\n",
       "            <td>Midas</td>\n",
       "        </tr>\n",
       "        <tr>\n",
       "            <td>Wawa</td>\n",
       "        </tr>\n",
       "        <tr>\n",
       "            <td>CVS Pharmacy</td>\n",
       "        </tr>\n",
       "        <tr>\n",
       "            <td>Penn Station East Coast Subs</td>\n",
       "        </tr>\n",
       "        <tr>\n",
       "            <td>Discount Tire</td>\n",
       "        </tr>\n",
       "        <tr>\n",
       "            <td>Bath & Body Works</td>\n",
       "        </tr>\n",
       "        <tr>\n",
       "            <td>Dunkin'</td>\n",
       "        </tr>\n",
       "        <tr>\n",
       "            <td>Denny's</td>\n",
       "        </tr>\n",
       "        <tr>\n",
       "            <td>Domino's Pizza</td>\n",
       "        </tr>\n",
       "        <tr>\n",
       "            <td>Marco's Pizza</td>\n",
       "        </tr>\n",
       "        <tr>\n",
       "            <td>Burger King</td>\n",
       "        </tr>\n",
       "        <tr>\n",
       "            <td>Applebee's Grill + Bar</td>\n",
       "        </tr>\n",
       "        <tr>\n",
       "            <td>Fine Wine & Good Spirits</td>\n",
       "        </tr>\n",
       "        <tr>\n",
       "            <td>Jiffy Lube</td>\n",
       "        </tr>\n",
       "        <tr>\n",
       "            <td>AT&T Store</td>\n",
       "        </tr>\n",
       "        <tr>\n",
       "            <td>Taco Bell</td>\n",
       "        </tr>\n",
       "        <tr>\n",
       "            <td>Pep Boys</td>\n",
       "        </tr>\n",
       "        <tr>\n",
       "            <td>Hair Cuttery</td>\n",
       "        </tr>\n",
       "        <tr>\n",
       "            <td>Target</td>\n",
       "        </tr>\n",
       "        <tr>\n",
       "            <td>Starbucks</td>\n",
       "        </tr>\n",
       "        <tr>\n",
       "            <td>McDonald's</td>\n",
       "        </tr>\n",
       "    </tbody>\n",
       "</table>\n",
       "<span style=\"font-style:italic;text-align:center;\">Truncated to <a href=\"https://jupysql.ploomber.io/en/latest/api/configuration.html#displaylimit\">displaylimit</a> of 30.</span>"
      ],
      "text/plain": [
       "+------------------------------+\n",
       "|             name             |\n",
       "+------------------------------+\n",
       "| Firestone Complete Auto Care |\n",
       "|           Michaels           |\n",
       "|        Planet Fitness        |\n",
       "|           Culver's           |\n",
       "|            Subway            |\n",
       "|       Jack in the Box        |\n",
       "|           Wendy's            |\n",
       "|    Chipotle Mexican Grill    |\n",
       "|   Lowe's Home Improvement    |\n",
       "|            Midas             |\n",
       "|             Wawa             |\n",
       "|         CVS Pharmacy         |\n",
       "| Penn Station East Coast Subs |\n",
       "|        Discount Tire         |\n",
       "|      Bath & Body Works       |\n",
       "|           Dunkin'            |\n",
       "|           Denny's            |\n",
       "|        Domino's Pizza        |\n",
       "|        Marco's Pizza         |\n",
       "|         Burger King          |\n",
       "|    Applebee's Grill + Bar    |\n",
       "|   Fine Wine & Good Spirits   |\n",
       "|          Jiffy Lube          |\n",
       "|          AT&T Store          |\n",
       "|          Taco Bell           |\n",
       "|           Pep Boys           |\n",
       "|         Hair Cuttery         |\n",
       "|            Target            |\n",
       "|          Starbucks           |\n",
       "|          McDonald's          |\n",
       "+------------------------------+\n",
       "Truncated to displaylimit of 30."
      ]
     },
     "execution_count": 13,
     "metadata": {},
     "output_type": "execute_result"
    }
   ],
   "source": [
    "%%sql\n",
    "SELECT name\n",
    "FROM business \n",
    "GROUP BY name\n",
    "HAVING COUNT(state) > 1;"
   ]
  },
  {
   "cell_type": "code",
   "execution_count": 14,
   "metadata": {},
   "outputs": [
    {
     "data": {
      "text/html": [
       "<span style=\"None\">Running query in &#x27;postgresql://michellelin@localhost:5432/yelp&#x27;</span>"
      ],
      "text/plain": [
       "Running query in 'postgresql://michellelin@localhost:5432/yelp'"
      ]
     },
     "metadata": {},
     "output_type": "display_data"
    },
    {
     "data": {
      "text/html": [
       "<span style=\"color: green\">8 rows affected.</span>"
      ],
      "text/plain": [
       "8 rows affected."
      ]
     },
     "metadata": {},
     "output_type": "display_data"
    },
    {
     "data": {
      "text/html": [
       "<table>\n",
       "    <thead>\n",
       "        <tr>\n",
       "            <th>QUERY PLAN</th>\n",
       "        </tr>\n",
       "    </thead>\n",
       "    <tbody>\n",
       "        <tr>\n",
       "            <td>HashAggregate  (cost=103.00..114.86 rows=316 width=19) (actual time=1.138..1.247 rows=32 loops=1)</td>\n",
       "        </tr>\n",
       "        <tr>\n",
       "            <td>&nbsp;&nbsp;Group Key: name</td>\n",
       "        </tr>\n",
       "        <tr>\n",
       "            <td>&nbsp;&nbsp;Filter: (count(state) > 1)</td>\n",
       "        </tr>\n",
       "        <tr>\n",
       "            <td>&nbsp;&nbsp;Batches: 1  Memory Usage: 193kB</td>\n",
       "        </tr>\n",
       "        <tr>\n",
       "            <td>&nbsp;&nbsp;Rows Removed by Filter: 917</td>\n",
       "        </tr>\n",
       "        <tr>\n",
       "            <td>&nbsp;&nbsp;->  Seq Scan on business  (cost=0.00..98.00 rows=1000 width=22) (actual time=0.009..0.576 rows=1000 loops=1)</td>\n",
       "        </tr>\n",
       "        <tr>\n",
       "            <td>Planning Time: 0.085 ms</td>\n",
       "        </tr>\n",
       "        <tr>\n",
       "            <td>Execution Time: 1.295 ms</td>\n",
       "        </tr>\n",
       "    </tbody>\n",
       "</table>"
      ],
      "text/plain": [
       "+----------------------------------------------------------------------------------------------------------------+\n",
       "|                                                   QUERY PLAN                                                   |\n",
       "+----------------------------------------------------------------------------------------------------------------+\n",
       "|       HashAggregate  (cost=103.00..114.86 rows=316 width=19) (actual time=1.138..1.247 rows=32 loops=1)        |\n",
       "|                                                 Group Key: name                                                |\n",
       "|                                            Filter: (count(state) > 1)                                          |\n",
       "|                                         Batches: 1  Memory Usage: 193kB                                        |\n",
       "|                                           Rows Removed by Filter: 917                                          |\n",
       "|   ->  Seq Scan on business  (cost=0.00..98.00 rows=1000 width=22) (actual time=0.009..0.576 rows=1000 loops=1) |\n",
       "|                                            Planning Time: 0.085 ms                                             |\n",
       "|                                            Execution Time: 1.295 ms                                            |\n",
       "+----------------------------------------------------------------------------------------------------------------+"
      ]
     },
     "execution_count": 14,
     "metadata": {},
     "output_type": "execute_result"
    }
   ],
   "source": [
    "%%sql\n",
    "EXPLAIN ANALYZE\n",
    "SELECT name\n",
    "FROM business \n",
    "GROUP BY name\n",
    "HAVING COUNT(state) > 1;"
   ]
  },
  {
   "cell_type": "markdown",
   "metadata": {},
   "source": [
    "### Normalized Data"
   ]
  },
  {
   "cell_type": "code",
   "execution_count": 15,
   "metadata": {},
   "outputs": [
    {
     "data": {
      "text/html": [
       "<span style=\"None\">Running query in &#x27;postgresql://michellelin@localhost:5432/yelp&#x27;</span>"
      ],
      "text/plain": [
       "Running query in 'postgresql://michellelin@localhost:5432/yelp'"
      ]
     },
     "metadata": {},
     "output_type": "display_data"
    },
    {
     "data": {
      "text/html": [
       "<span style=\"color: green\">32 rows affected.</span>"
      ],
      "text/plain": [
       "32 rows affected."
      ]
     },
     "metadata": {},
     "output_type": "display_data"
    },
    {
     "data": {
      "text/html": [
       "<table>\n",
       "    <thead>\n",
       "        <tr>\n",
       "            <th>name</th>\n",
       "        </tr>\n",
       "    </thead>\n",
       "    <tbody>\n",
       "        <tr>\n",
       "            <td>Firestone Complete Auto Care</td>\n",
       "        </tr>\n",
       "        <tr>\n",
       "            <td>Michaels</td>\n",
       "        </tr>\n",
       "        <tr>\n",
       "            <td>Planet Fitness</td>\n",
       "        </tr>\n",
       "        <tr>\n",
       "            <td>Culver's</td>\n",
       "        </tr>\n",
       "        <tr>\n",
       "            <td>Subway</td>\n",
       "        </tr>\n",
       "        <tr>\n",
       "            <td>Jack in the Box</td>\n",
       "        </tr>\n",
       "        <tr>\n",
       "            <td>Wendy's</td>\n",
       "        </tr>\n",
       "        <tr>\n",
       "            <td>Chipotle Mexican Grill</td>\n",
       "        </tr>\n",
       "        <tr>\n",
       "            <td>Lowe's Home Improvement</td>\n",
       "        </tr>\n",
       "        <tr>\n",
       "            <td>Midas</td>\n",
       "        </tr>\n",
       "        <tr>\n",
       "            <td>Wawa</td>\n",
       "        </tr>\n",
       "        <tr>\n",
       "            <td>CVS Pharmacy</td>\n",
       "        </tr>\n",
       "        <tr>\n",
       "            <td>Penn Station East Coast Subs</td>\n",
       "        </tr>\n",
       "        <tr>\n",
       "            <td>Discount Tire</td>\n",
       "        </tr>\n",
       "        <tr>\n",
       "            <td>Bath & Body Works</td>\n",
       "        </tr>\n",
       "        <tr>\n",
       "            <td>Dunkin'</td>\n",
       "        </tr>\n",
       "        <tr>\n",
       "            <td>Denny's</td>\n",
       "        </tr>\n",
       "        <tr>\n",
       "            <td>Domino's Pizza</td>\n",
       "        </tr>\n",
       "        <tr>\n",
       "            <td>Marco's Pizza</td>\n",
       "        </tr>\n",
       "        <tr>\n",
       "            <td>Burger King</td>\n",
       "        </tr>\n",
       "        <tr>\n",
       "            <td>Applebee's Grill + Bar</td>\n",
       "        </tr>\n",
       "        <tr>\n",
       "            <td>Fine Wine & Good Spirits</td>\n",
       "        </tr>\n",
       "        <tr>\n",
       "            <td>Jiffy Lube</td>\n",
       "        </tr>\n",
       "        <tr>\n",
       "            <td>AT&T Store</td>\n",
       "        </tr>\n",
       "        <tr>\n",
       "            <td>Taco Bell</td>\n",
       "        </tr>\n",
       "        <tr>\n",
       "            <td>Pep Boys</td>\n",
       "        </tr>\n",
       "        <tr>\n",
       "            <td>Hair Cuttery</td>\n",
       "        </tr>\n",
       "        <tr>\n",
       "            <td>Target</td>\n",
       "        </tr>\n",
       "        <tr>\n",
       "            <td>Starbucks</td>\n",
       "        </tr>\n",
       "        <tr>\n",
       "            <td>McDonald's</td>\n",
       "        </tr>\n",
       "    </tbody>\n",
       "</table>\n",
       "<span style=\"font-style:italic;text-align:center;\">Truncated to <a href=\"https://jupysql.ploomber.io/en/latest/api/configuration.html#displaylimit\">displaylimit</a> of 30.</span>"
      ],
      "text/plain": [
       "+------------------------------+\n",
       "|             name             |\n",
       "+------------------------------+\n",
       "| Firestone Complete Auto Care |\n",
       "|           Michaels           |\n",
       "|        Planet Fitness        |\n",
       "|           Culver's           |\n",
       "|            Subway            |\n",
       "|       Jack in the Box        |\n",
       "|           Wendy's            |\n",
       "|    Chipotle Mexican Grill    |\n",
       "|   Lowe's Home Improvement    |\n",
       "|            Midas             |\n",
       "|             Wawa             |\n",
       "|         CVS Pharmacy         |\n",
       "| Penn Station East Coast Subs |\n",
       "|        Discount Tire         |\n",
       "|      Bath & Body Works       |\n",
       "|           Dunkin'            |\n",
       "|           Denny's            |\n",
       "|        Domino's Pizza        |\n",
       "|        Marco's Pizza         |\n",
       "|         Burger King          |\n",
       "|    Applebee's Grill + Bar    |\n",
       "|   Fine Wine & Good Spirits   |\n",
       "|          Jiffy Lube          |\n",
       "|          AT&T Store          |\n",
       "|          Taco Bell           |\n",
       "|           Pep Boys           |\n",
       "|         Hair Cuttery         |\n",
       "|            Target            |\n",
       "|          Starbucks           |\n",
       "|          McDonald's          |\n",
       "+------------------------------+\n",
       "Truncated to displaylimit of 30."
      ]
     },
     "execution_count": 15,
     "metadata": {},
     "output_type": "execute_result"
    }
   ],
   "source": [
    "%%sql\n",
    "SELECT name\n",
    "FROM nor_business b\n",
    "JOIN location l \n",
    "ON b.business_id = l.business_id\n",
    "GROUP BY name\n",
    "HAVING COUNT(state) > 1;"
   ]
  },
  {
   "cell_type": "code",
   "execution_count": 16,
   "metadata": {},
   "outputs": [
    {
     "data": {
      "text/html": [
       "<span style=\"None\">Running query in &#x27;postgresql://michellelin@localhost:5432/yelp&#x27;</span>"
      ],
      "text/plain": [
       "Running query in 'postgresql://michellelin@localhost:5432/yelp'"
      ]
     },
     "metadata": {},
     "output_type": "display_data"
    },
    {
     "data": {
      "text/html": [
       "<span style=\"color: green\">13 rows affected.</span>"
      ],
      "text/plain": [
       "13 rows affected."
      ]
     },
     "metadata": {},
     "output_type": "display_data"
    },
    {
     "data": {
      "text/html": [
       "<table>\n",
       "    <thead>\n",
       "        <tr>\n",
       "            <th>QUERY PLAN</th>\n",
       "        </tr>\n",
       "    </thead>\n",
       "    <tbody>\n",
       "        <tr>\n",
       "            <td>HashAggregate  (cost=134.14..146.00 rows=316 width=19) (actual time=4.309..4.528 rows=32 loops=1)</td>\n",
       "        </tr>\n",
       "        <tr>\n",
       "            <td>&nbsp;&nbsp;Group Key: b.name</td>\n",
       "        </tr>\n",
       "        <tr>\n",
       "            <td>&nbsp;&nbsp;Filter: (count(l.state) > 1)</td>\n",
       "        </tr>\n",
       "        <tr>\n",
       "            <td>&nbsp;&nbsp;Batches: 1  Memory Usage: 193kB</td>\n",
       "        </tr>\n",
       "        <tr>\n",
       "            <td>&nbsp;&nbsp;Rows Removed by Filter: 917</td>\n",
       "        </tr>\n",
       "        <tr>\n",
       "            <td>&nbsp;&nbsp;->  Hash Join  (cost=102.50..129.14 rows=1000 width=22) (actual time=1.744..3.477 rows=1000 loops=1)</td>\n",
       "        </tr>\n",
       "        <tr>\n",
       "            <td>&nbsp;&nbsp;&nbsp;&nbsp;&nbsp;&nbsp;&nbsp;&nbsp;Hash Cond: ((l.business_id)::text = (b.business_id)::text)</td>\n",
       "        </tr>\n",
       "        <tr>\n",
       "            <td>&nbsp;&nbsp;&nbsp;&nbsp;&nbsp;&nbsp;&nbsp;&nbsp;->  Seq Scan on location l  (cost=0.00..24.00 rows=1000 width=26) (actual time=0.020..0.859 rows=1000 loops=1)</td>\n",
       "        </tr>\n",
       "        <tr>\n",
       "            <td>&nbsp;&nbsp;&nbsp;&nbsp;&nbsp;&nbsp;&nbsp;&nbsp;->  Hash  (cost=90.00..90.00 rows=1000 width=42) (actual time=1.712..1.714 rows=1000 loops=1)</td>\n",
       "        </tr>\n",
       "        <tr>\n",
       "            <td>&nbsp;&nbsp;&nbsp;&nbsp;&nbsp;&nbsp;&nbsp;&nbsp;&nbsp;&nbsp;&nbsp;&nbsp;&nbsp;&nbsp;Buckets: 1024  Batches: 1  Memory Usage: 81kB</td>\n",
       "        </tr>\n",
       "        <tr>\n",
       "            <td>&nbsp;&nbsp;&nbsp;&nbsp;&nbsp;&nbsp;&nbsp;&nbsp;&nbsp;&nbsp;&nbsp;&nbsp;&nbsp;&nbsp;->  Seq Scan on nor_business b  (cost=0.00..90.00 rows=1000 width=42) (actual time=0.009..0.903 rows=1000 loops=1)</td>\n",
       "        </tr>\n",
       "        <tr>\n",
       "            <td>Planning Time: 0.204 ms</td>\n",
       "        </tr>\n",
       "        <tr>\n",
       "            <td>Execution Time: 4.622 ms</td>\n",
       "        </tr>\n",
       "    </tbody>\n",
       "</table>"
      ],
      "text/plain": [
       "+----------------------------------------------------------------------------------------------------------------------------------+\n",
       "|                                                            QUERY PLAN                                                            |\n",
       "+----------------------------------------------------------------------------------------------------------------------------------+\n",
       "|                HashAggregate  (cost=134.14..146.00 rows=316 width=19) (actual time=4.309..4.528 rows=32 loops=1)                 |\n",
       "|                                                         Group Key: b.name                                                        |\n",
       "|                                                    Filter: (count(l.state) > 1)                                                  |\n",
       "|                                                  Batches: 1  Memory Usage: 193kB                                                 |\n",
       "|                                                    Rows Removed by Filter: 917                                                   |\n",
       "|                ->  Hash Join  (cost=102.50..129.14 rows=1000 width=22) (actual time=1.744..3.477 rows=1000 loops=1)              |\n",
       "|                                        Hash Cond: ((l.business_id)::text = (b.business_id)::text)                                |\n",
       "|              ->  Seq Scan on location l  (cost=0.00..24.00 rows=1000 width=26) (actual time=0.020..0.859 rows=1000 loops=1)      |\n",
       "|                      ->  Hash  (cost=90.00..90.00 rows=1000 width=42) (actual time=1.712..1.714 rows=1000 loops=1)               |\n",
       "|                                                 Buckets: 1024  Batches: 1  Memory Usage: 81kB                                    |\n",
       "|               ->  Seq Scan on nor_business b  (cost=0.00..90.00 rows=1000 width=42) (actual time=0.009..0.903 rows=1000 loops=1) |\n",
       "|                                                     Planning Time: 0.204 ms                                                      |\n",
       "|                                                     Execution Time: 4.622 ms                                                     |\n",
       "+----------------------------------------------------------------------------------------------------------------------------------+"
      ]
     },
     "execution_count": 16,
     "metadata": {},
     "output_type": "execute_result"
    }
   ],
   "source": [
    "%%sql\n",
    "EXPLAIN ANALYZE\n",
    "SELECT name\n",
    "FROM nor_business b\n",
    "JOIN location l \n",
    "ON b.business_id = l.business_id\n",
    "GROUP BY name\n",
    "HAVING COUNT(state) > 1;"
   ]
  },
  {
   "cell_type": "markdown",
   "metadata": {},
   "source": [
    "# Query 4\n",
    "### Find the user that has the most number of friends?"
   ]
  },
  {
   "cell_type": "markdown",
   "metadata": {},
   "source": [
    "## Denormazlied Data"
   ]
  },
  {
   "cell_type": "code",
   "execution_count": 17,
   "metadata": {},
   "outputs": [
    {
     "data": {
      "text/html": [
       "<span style=\"None\">Running query in &#x27;postgresql://michellelin@localhost:5432/yelp&#x27;</span>"
      ],
      "text/plain": [
       "Running query in 'postgresql://michellelin@localhost:5432/yelp'"
      ]
     },
     "metadata": {},
     "output_type": "display_data"
    },
    {
     "data": {
      "text/html": [
       "<span style=\"color: green\">5 rows affected.</span>"
      ],
      "text/plain": [
       "5 rows affected."
      ]
     },
     "metadata": {},
     "output_type": "display_data"
    },
    {
     "data": {
      "text/html": [
       "<table>\n",
       "    <thead>\n",
       "        <tr>\n",
       "            <th>user_id</th>\n",
       "            <th>name</th>\n",
       "            <th>num_friends</th>\n",
       "        </tr>\n",
       "    </thead>\n",
       "    <tbody>\n",
       "        <tr>\n",
       "            <td>hizGc5W1tBHPghM5YKCAtg</td>\n",
       "            <td>Katie</td>\n",
       "            <td>9390</td>\n",
       "        </tr>\n",
       "        <tr>\n",
       "            <td>djxnI8Ux8ZYQJhiOQkrRhA</td>\n",
       "            <td>Abby</td>\n",
       "            <td>8858</td>\n",
       "        </tr>\n",
       "        <tr>\n",
       "            <td>JjXuiru1_ONzDkYVrHN0aw</td>\n",
       "            <td>Richard</td>\n",
       "            <td>7228</td>\n",
       "        </tr>\n",
       "        <tr>\n",
       "            <td>5MCBLBxr10NLUKZ4AboAMg</td>\n",
       "            <td>Colleen</td>\n",
       "            <td>7179</td>\n",
       "        </tr>\n",
       "        <tr>\n",
       "            <td>YttDgOC9AlM4HcAlDsbB2A</td>\n",
       "            <td>Phil</td>\n",
       "            <td>6941</td>\n",
       "        </tr>\n",
       "    </tbody>\n",
       "</table>"
      ],
      "text/plain": [
       "+------------------------+---------+-------------+\n",
       "|        user_id         |   name  | num_friends |\n",
       "+------------------------+---------+-------------+\n",
       "| hizGc5W1tBHPghM5YKCAtg |  Katie  |     9390    |\n",
       "| djxnI8Ux8ZYQJhiOQkrRhA |   Abby  |     8858    |\n",
       "| JjXuiru1_ONzDkYVrHN0aw | Richard |     7228    |\n",
       "| 5MCBLBxr10NLUKZ4AboAMg | Colleen |     7179    |\n",
       "| YttDgOC9AlM4HcAlDsbB2A |   Phil  |     6941    |\n",
       "+------------------------+---------+-------------+"
      ]
     },
     "execution_count": 17,
     "metadata": {},
     "output_type": "execute_result"
    }
   ],
   "source": [
    "%%sql\n",
    "SELECT \n",
    "    user_id, \n",
    "    name, \n",
    "    CARDINALITY(STRING_TO_ARRAY(friends, ',')) AS num_friends \n",
    "FROM \n",
    "    yelp_user \n",
    "ORDER BY \n",
    "    num_friends DESC \n",
    "LIMIT 5;\n"
   ]
  },
  {
   "cell_type": "code",
   "execution_count": 18,
   "metadata": {},
   "outputs": [
    {
     "data": {
      "text/html": [
       "<span style=\"None\">Running query in &#x27;postgresql://michellelin@localhost:5432/yelp&#x27;</span>"
      ],
      "text/plain": [
       "Running query in 'postgresql://michellelin@localhost:5432/yelp'"
      ]
     },
     "metadata": {},
     "output_type": "display_data"
    },
    {
     "data": {
      "text/html": [
       "<span style=\"color: green\">7 rows affected.</span>"
      ],
      "text/plain": [
       "7 rows affected."
      ]
     },
     "metadata": {},
     "output_type": "display_data"
    },
    {
     "data": {
      "text/html": [
       "<table>\n",
       "    <thead>\n",
       "        <tr>\n",
       "            <th>QUERY PLAN</th>\n",
       "        </tr>\n",
       "    </thead>\n",
       "    <tbody>\n",
       "        <tr>\n",
       "            <td>Limit  (cost=3103.28..3103.29 rows=5 width=33) (actual time=795.674..795.693 rows=5 loops=1)</td>\n",
       "        </tr>\n",
       "        <tr>\n",
       "            <td>&nbsp;&nbsp;->  Sort  (cost=3103.28..3200.58 rows=38921 width=33) (actual time=795.673..795.691 rows=5 loops=1)</td>\n",
       "        </tr>\n",
       "        <tr>\n",
       "            <td>&nbsp;&nbsp;&nbsp;&nbsp;&nbsp;&nbsp;&nbsp;&nbsp;Sort Key: (cardinality(string_to_array(friends, ','::text))) DESC</td>\n",
       "        </tr>\n",
       "        <tr>\n",
       "            <td>&nbsp;&nbsp;&nbsp;&nbsp;&nbsp;&nbsp;&nbsp;&nbsp;Sort Method: top-N heapsort  Memory: 25kB</td>\n",
       "        </tr>\n",
       "        <tr>\n",
       "            <td>&nbsp;&nbsp;&nbsp;&nbsp;&nbsp;&nbsp;&nbsp;&nbsp;->  Seq Scan on yelp_user  (cost=0.00..2456.82 rows=38921 width=33) (actual time=0.704..784.680 rows=38921 loops=1)</td>\n",
       "        </tr>\n",
       "        <tr>\n",
       "            <td>Planning Time: 0.374 ms</td>\n",
       "        </tr>\n",
       "        <tr>\n",
       "            <td>Execution Time: 795.723 ms</td>\n",
       "        </tr>\n",
       "    </tbody>\n",
       "</table>"
      ],
      "text/plain": [
       "+-----------------------------------------------------------------------------------------------------------------------------+\n",
       "|                                                          QUERY PLAN                                                         |\n",
       "+-----------------------------------------------------------------------------------------------------------------------------+\n",
       "|                 Limit  (cost=3103.28..3103.29 rows=5 width=33) (actual time=795.674..795.693 rows=5 loops=1)                |\n",
       "|              ->  Sort  (cost=3103.28..3200.58 rows=38921 width=33) (actual time=795.673..795.691 rows=5 loops=1)            |\n",
       "|                                  Sort Key: (cardinality(string_to_array(friends, ','::text))) DESC                          |\n",
       "|                                              Sort Method: top-N heapsort  Memory: 25kB                                      |\n",
       "|         ->  Seq Scan on yelp_user  (cost=0.00..2456.82 rows=38921 width=33) (actual time=0.704..784.680 rows=38921 loops=1) |\n",
       "|                                                   Planning Time: 0.374 ms                                                   |\n",
       "|                                                  Execution Time: 795.723 ms                                                 |\n",
       "+-----------------------------------------------------------------------------------------------------------------------------+"
      ]
     },
     "execution_count": 18,
     "metadata": {},
     "output_type": "execute_result"
    }
   ],
   "source": [
    "%%sql\n",
    "EXPLAIN ANALYZE\n",
    "SELECT \n",
    "    user_id, \n",
    "    name, \n",
    "    CARDINALITY(STRING_TO_ARRAY(friends, ',')) AS num_friends \n",
    "FROM \n",
    "    yelp_user \n",
    "ORDER BY \n",
    "    num_friends DESC \n",
    "LIMIT 5;"
   ]
  },
  {
   "cell_type": "markdown",
   "metadata": {},
   "source": [
    "## Normalized Data"
   ]
  },
  {
   "cell_type": "code",
   "execution_count": 19,
   "metadata": {},
   "outputs": [
    {
     "data": {
      "text/html": [
       "<span style=\"None\">Running query in &#x27;postgresql://michellelin@localhost:5432/yelp&#x27;</span>"
      ],
      "text/plain": [
       "Running query in 'postgresql://michellelin@localhost:5432/yelp'"
      ]
     },
     "metadata": {},
     "output_type": "display_data"
    },
    {
     "data": {
      "text/html": [
       "<span style=\"color: green\">5 rows affected.</span>"
      ],
      "text/plain": [
       "5 rows affected."
      ]
     },
     "metadata": {},
     "output_type": "display_data"
    },
    {
     "data": {
      "text/html": [
       "<table>\n",
       "    <thead>\n",
       "        <tr>\n",
       "            <th>user_id</th>\n",
       "            <th>num_friends</th>\n",
       "        </tr>\n",
       "    </thead>\n",
       "    <tbody>\n",
       "        <tr>\n",
       "            <td>hizGc5W1tBHPghM5YKCAtg</td>\n",
       "            <td>9390</td>\n",
       "        </tr>\n",
       "        <tr>\n",
       "            <td>djxnI8Ux8ZYQJhiOQkrRhA</td>\n",
       "            <td>8858</td>\n",
       "        </tr>\n",
       "        <tr>\n",
       "            <td>JjXuiru1_ONzDkYVrHN0aw</td>\n",
       "            <td>7228</td>\n",
       "        </tr>\n",
       "        <tr>\n",
       "            <td>5MCBLBxr10NLUKZ4AboAMg</td>\n",
       "            <td>7179</td>\n",
       "        </tr>\n",
       "        <tr>\n",
       "            <td>YttDgOC9AlM4HcAlDsbB2A</td>\n",
       "            <td>6941</td>\n",
       "        </tr>\n",
       "    </tbody>\n",
       "</table>"
      ],
      "text/plain": [
       "+------------------------+-------------+\n",
       "|        user_id         | num_friends |\n",
       "+------------------------+-------------+\n",
       "| hizGc5W1tBHPghM5YKCAtg |     9390    |\n",
       "| djxnI8Ux8ZYQJhiOQkrRhA |     8858    |\n",
       "| JjXuiru1_ONzDkYVrHN0aw |     7228    |\n",
       "| 5MCBLBxr10NLUKZ4AboAMg |     7179    |\n",
       "| YttDgOC9AlM4HcAlDsbB2A |     6941    |\n",
       "+------------------------+-------------+"
      ]
     },
     "execution_count": 19,
     "metadata": {},
     "output_type": "execute_result"
    }
   ],
   "source": [
    "%%sql\n",
    "SELECT user_id, COUNT(*) num_friends\n",
    "FROM friends \n",
    "GROUP BY user_id\n",
    "ORDER BY num_friends DESC\n",
    "LIMIT 5;"
   ]
  },
  {
   "cell_type": "code",
   "execution_count": 20,
   "metadata": {},
   "outputs": [
    {
     "data": {
      "text/html": [
       "<span style=\"None\">Running query in &#x27;postgresql://michellelin@localhost:5432/yelp&#x27;</span>"
      ],
      "text/plain": [
       "Running query in 'postgresql://michellelin@localhost:5432/yelp'"
      ]
     },
     "metadata": {},
     "output_type": "display_data"
    },
    {
     "data": {
      "text/html": [
       "<span style=\"color: green\">18 rows affected.</span>"
      ],
      "text/plain": [
       "18 rows affected."
      ]
     },
     "metadata": {},
     "output_type": "display_data"
    },
    {
     "data": {
      "text/html": [
       "<table>\n",
       "    <thead>\n",
       "        <tr>\n",
       "            <th>QUERY PLAN</th>\n",
       "        </tr>\n",
       "    </thead>\n",
       "    <tbody>\n",
       "        <tr>\n",
       "            <td>Limit  (cost=59389.93..59389.94 rows=5 width=31) (actual time=1169.483..1169.526 rows=5 loops=1)</td>\n",
       "        </tr>\n",
       "        <tr>\n",
       "            <td>&nbsp;&nbsp;->  Sort  (cost=59389.93..59421.23 rows=12520 width=31) (actual time=1169.481..1169.525 rows=5 loops=1)</td>\n",
       "        </tr>\n",
       "        <tr>\n",
       "            <td>&nbsp;&nbsp;&nbsp;&nbsp;&nbsp;&nbsp;&nbsp;&nbsp;Sort Key: (count(*)) DESC</td>\n",
       "        </tr>\n",
       "        <tr>\n",
       "            <td>&nbsp;&nbsp;&nbsp;&nbsp;&nbsp;&nbsp;&nbsp;&nbsp;Sort Method: top-N heapsort  Memory: 25kB</td>\n",
       "        </tr>\n",
       "        <tr>\n",
       "            <td>&nbsp;&nbsp;&nbsp;&nbsp;&nbsp;&nbsp;&nbsp;&nbsp;->  Finalize HashAggregate  (cost=59056.78..59181.98 rows=12520 width=31) (actual time=1161.287..1165.804 rows=27468 loops=1)</td>\n",
       "        </tr>\n",
       "        <tr>\n",
       "            <td>&nbsp;&nbsp;&nbsp;&nbsp;&nbsp;&nbsp;&nbsp;&nbsp;&nbsp;&nbsp;&nbsp;&nbsp;&nbsp;&nbsp;Group Key: user_id</td>\n",
       "        </tr>\n",
       "        <tr>\n",
       "            <td>&nbsp;&nbsp;&nbsp;&nbsp;&nbsp;&nbsp;&nbsp;&nbsp;&nbsp;&nbsp;&nbsp;&nbsp;&nbsp;&nbsp;Batches: 1  Memory Usage: 3857kB</td>\n",
       "        </tr>\n",
       "        <tr>\n",
       "            <td>&nbsp;&nbsp;&nbsp;&nbsp;&nbsp;&nbsp;&nbsp;&nbsp;&nbsp;&nbsp;&nbsp;&nbsp;&nbsp;&nbsp;->  Gather  (cost=56302.38..58931.58 rows=25040 width=31) (actual time=1142.185..1148.168 rows=29651 loops=1)</td>\n",
       "        </tr>\n",
       "        <tr>\n",
       "            <td>&nbsp;&nbsp;&nbsp;&nbsp;&nbsp;&nbsp;&nbsp;&nbsp;&nbsp;&nbsp;&nbsp;&nbsp;&nbsp;&nbsp;&nbsp;&nbsp;&nbsp;&nbsp;&nbsp;&nbsp;Workers Planned: 2</td>\n",
       "        </tr>\n",
       "        <tr>\n",
       "            <td>&nbsp;&nbsp;&nbsp;&nbsp;&nbsp;&nbsp;&nbsp;&nbsp;&nbsp;&nbsp;&nbsp;&nbsp;&nbsp;&nbsp;&nbsp;&nbsp;&nbsp;&nbsp;&nbsp;&nbsp;Workers Launched: 2</td>\n",
       "        </tr>\n",
       "        <tr>\n",
       "            <td>&nbsp;&nbsp;&nbsp;&nbsp;&nbsp;&nbsp;&nbsp;&nbsp;&nbsp;&nbsp;&nbsp;&nbsp;&nbsp;&nbsp;&nbsp;&nbsp;&nbsp;&nbsp;&nbsp;&nbsp;->  Partial HashAggregate  (cost=55302.38..55427.58 rows=12520 width=31) (actual time=1136.342..1138.502 rows=9884 loops=3)</td>\n",
       "        </tr>\n",
       "        <tr>\n",
       "            <td>&nbsp;&nbsp;&nbsp;&nbsp;&nbsp;&nbsp;&nbsp;&nbsp;&nbsp;&nbsp;&nbsp;&nbsp;&nbsp;&nbsp;&nbsp;&nbsp;&nbsp;&nbsp;&nbsp;&nbsp;&nbsp;&nbsp;&nbsp;&nbsp;&nbsp;&nbsp;Group Key: user_id</td>\n",
       "        </tr>\n",
       "        <tr>\n",
       "            <td>&nbsp;&nbsp;&nbsp;&nbsp;&nbsp;&nbsp;&nbsp;&nbsp;&nbsp;&nbsp;&nbsp;&nbsp;&nbsp;&nbsp;&nbsp;&nbsp;&nbsp;&nbsp;&nbsp;&nbsp;&nbsp;&nbsp;&nbsp;&nbsp;&nbsp;&nbsp;Batches: 1  Memory Usage: 1681kB</td>\n",
       "        </tr>\n",
       "        <tr>\n",
       "            <td>&nbsp;&nbsp;&nbsp;&nbsp;&nbsp;&nbsp;&nbsp;&nbsp;&nbsp;&nbsp;&nbsp;&nbsp;&nbsp;&nbsp;&nbsp;&nbsp;&nbsp;&nbsp;&nbsp;&nbsp;&nbsp;&nbsp;&nbsp;&nbsp;&nbsp;&nbsp;Worker 0:  Batches: 1  Memory Usage: 1681kB</td>\n",
       "        </tr>\n",
       "        <tr>\n",
       "            <td>&nbsp;&nbsp;&nbsp;&nbsp;&nbsp;&nbsp;&nbsp;&nbsp;&nbsp;&nbsp;&nbsp;&nbsp;&nbsp;&nbsp;&nbsp;&nbsp;&nbsp;&nbsp;&nbsp;&nbsp;&nbsp;&nbsp;&nbsp;&nbsp;&nbsp;&nbsp;Worker 1:  Batches: 1  Memory Usage: 1681kB</td>\n",
       "        </tr>\n",
       "        <tr>\n",
       "            <td>&nbsp;&nbsp;&nbsp;&nbsp;&nbsp;&nbsp;&nbsp;&nbsp;&nbsp;&nbsp;&nbsp;&nbsp;&nbsp;&nbsp;&nbsp;&nbsp;&nbsp;&nbsp;&nbsp;&nbsp;&nbsp;&nbsp;&nbsp;&nbsp;&nbsp;&nbsp;->  Parallel Seq Scan on friends  (cost=0.00..47914.92 rows=1477492 width=23) (actual time=1.078..763.835 rows=1181983 loops=3)</td>\n",
       "        </tr>\n",
       "        <tr>\n",
       "            <td>Planning Time: 0.130 ms</td>\n",
       "        </tr>\n",
       "        <tr>\n",
       "            <td>Execution Time: 1170.023 ms</td>\n",
       "        </tr>\n",
       "    </tbody>\n",
       "</table>"
      ],
      "text/plain": [
       "+-----------------------------------------------------------------------------------------------------------------------------------------------------------+\n",
       "|                                                                         QUERY PLAN                                                                        |\n",
       "+-----------------------------------------------------------------------------------------------------------------------------------------------------------+\n",
       "|                              Limit  (cost=59389.93..59389.94 rows=5 width=31) (actual time=1169.483..1169.526 rows=5 loops=1)                             |\n",
       "|                           ->  Sort  (cost=59389.93..59421.23 rows=12520 width=31) (actual time=1169.481..1169.525 rows=5 loops=1)                         |\n",
       "|                                                                     Sort Key: (count(*)) DESC                                                             |\n",
       "|                                                             Sort Method: top-N heapsort  Memory: 25kB                                                     |\n",
       "|                   ->  Finalize HashAggregate  (cost=59056.78..59181.98 rows=12520 width=31) (actual time=1161.287..1165.804 rows=27468 loops=1)           |\n",
       "|                                                                            Group Key: user_id                                                             |\n",
       "|                                                                     Batches: 1  Memory Usage: 3857kB                                                      |\n",
       "|                              ->  Gather  (cost=56302.38..58931.58 rows=25040 width=31) (actual time=1142.185..1148.168 rows=29651 loops=1)                |\n",
       "|                                                                               Workers Planned: 2                                                          |\n",
       "|                                                                              Workers Launched: 2                                                          |\n",
       "|                          ->  Partial HashAggregate  (cost=55302.38..55427.58 rows=12520 width=31) (actual time=1136.342..1138.502 rows=9884 loops=3)      |\n",
       "|                                                                                  Group Key: user_id                                                       |\n",
       "|                                                                           Batches: 1  Memory Usage: 1681kB                                                |\n",
       "|                                                                     Worker 0:  Batches: 1  Memory Usage: 1681kB                                           |\n",
       "|                                                                     Worker 1:  Batches: 1  Memory Usage: 1681kB                                           |\n",
       "|                           ->  Parallel Seq Scan on friends  (cost=0.00..47914.92 rows=1477492 width=23) (actual time=1.078..763.835 rows=1181983 loops=3) |\n",
       "|                                                                  Planning Time: 0.130 ms                                                                  |\n",
       "|                                                                Execution Time: 1170.023 ms                                                                |\n",
       "+-----------------------------------------------------------------------------------------------------------------------------------------------------------+"
      ]
     },
     "execution_count": 20,
     "metadata": {},
     "output_type": "execute_result"
    }
   ],
   "source": [
    "%%sql\n",
    "EXPLAIN ANALYZE\n",
    "SELECT user_id, COUNT(*) num_friends\n",
    "FROM friends \n",
    "GROUP BY user_id\n",
    "ORDER BY num_friends DESC\n",
    "LIMIT 5;"
   ]
  },
  {
   "cell_type": "markdown",
   "metadata": {},
   "source": []
  }
 ],
 "metadata": {
  "kernelspec": {
   "display_name": "base",
   "language": "python",
   "name": "python3"
  },
  "language_info": {
   "codemirror_mode": {
    "name": "ipython",
    "version": 3
   },
   "file_extension": ".py",
   "mimetype": "text/x-python",
   "name": "python",
   "nbconvert_exporter": "python",
   "pygments_lexer": "ipython3",
   "version": "3.9.12"
  }
 },
 "nbformat": 4,
 "nbformat_minor": 2
}
