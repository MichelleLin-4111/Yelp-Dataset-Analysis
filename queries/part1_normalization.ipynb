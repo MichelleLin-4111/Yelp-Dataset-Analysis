{
 "cells": [
  {
   "cell_type": "code",
   "execution_count": 17,
   "metadata": {},
   "outputs": [],
   "source": [
    "import psycopg"
   ]
  },
  {
   "cell_type": "code",
   "execution_count": 18,
   "metadata": {},
   "outputs": [],
   "source": [
    "%reload_ext sql"
   ]
  },
  {
   "cell_type": "code",
   "execution_count": 19,
   "metadata": {},
   "outputs": [],
   "source": [
    "%sql postgresql://michellelin@localhost:5432/yelp"
   ]
  },
  {
   "cell_type": "code",
   "execution_count": 30,
   "metadata": {},
   "outputs": [],
   "source": [
    "%config SqlMagic.displaylimit = 30"
   ]
  },
  {
   "cell_type": "markdown",
   "metadata": {},
   "source": [
    "# Query 1\n",
    "#### What are the top 5 cities with the most 5-star business?"
   ]
  },
  {
   "cell_type": "markdown",
   "metadata": {},
   "source": [
    "## Denormalized Data"
   ]
  },
  {
   "cell_type": "code",
   "execution_count": 21,
   "metadata": {},
   "outputs": [
    {
     "data": {
      "text/html": [
       "<span style=\"None\">Running query in &#x27;postgresql://michellelin@localhost:5432/yelp&#x27;</span>"
      ],
      "text/plain": [
       "Running query in 'postgresql://michellelin@localhost:5432/yelp'"
      ]
     },
     "metadata": {},
     "output_type": "display_data"
    },
    {
     "data": {
      "text/html": [
       "<span style=\"color: green\">5 rows affected.</span>"
      ],
      "text/plain": [
       "5 rows affected."
      ]
     },
     "metadata": {},
     "output_type": "display_data"
    },
    {
     "data": {
      "text/html": [
       "<table>\n",
       "    <thead>\n",
       "        <tr>\n",
       "            <th>city</th>\n",
       "            <th>state</th>\n",
       "            <th>five_star_count</th>\n",
       "        </tr>\n",
       "    </thead>\n",
       "    <tbody>\n",
       "        <tr>\n",
       "            <td>Santa Barbara</td>\n",
       "            <td>CA</td>\n",
       "            <td>9</td>\n",
       "        </tr>\n",
       "        <tr>\n",
       "            <td>Reno</td>\n",
       "            <td>NV</td>\n",
       "            <td>7</td>\n",
       "        </tr>\n",
       "        <tr>\n",
       "            <td>Tucson</td>\n",
       "            <td>AZ</td>\n",
       "            <td>6</td>\n",
       "        </tr>\n",
       "        <tr>\n",
       "            <td>Tampa</td>\n",
       "            <td>FL</td>\n",
       "            <td>5</td>\n",
       "        </tr>\n",
       "        <tr>\n",
       "            <td>Philadelphia</td>\n",
       "            <td>PA</td>\n",
       "            <td>5</td>\n",
       "        </tr>\n",
       "    </tbody>\n",
       "</table>"
      ],
      "text/plain": [
       "+---------------+-------+-----------------+\n",
       "|      city     | state | five_star_count |\n",
       "+---------------+-------+-----------------+\n",
       "| Santa Barbara |   CA  |        9        |\n",
       "|      Reno     |   NV  |        7        |\n",
       "|     Tucson    |   AZ  |        6        |\n",
       "|     Tampa     |   FL  |        5        |\n",
       "|  Philadelphia |   PA  |        5        |\n",
       "+---------------+-------+-----------------+"
      ]
     },
     "execution_count": 21,
     "metadata": {},
     "output_type": "execute_result"
    }
   ],
   "source": [
    "%%sql\n",
    "SELECT city, state, COUNT(*) five_star_count\n",
    "FROM business \n",
    "WHERE stars = 5\n",
    "GROUP BY city, state\n",
    "ORDER BY five_star_count DESC\n",
    "LIMIT 5;"
   ]
  },
  {
   "cell_type": "code",
   "execution_count": 22,
   "metadata": {},
   "outputs": [
    {
     "data": {
      "text/html": [
       "<span style=\"None\">Running query in &#x27;postgresql://michellelin@localhost:5432/yelp&#x27;</span>"
      ],
      "text/plain": [
       "Running query in 'postgresql://michellelin@localhost:5432/yelp'"
      ]
     },
     "metadata": {},
     "output_type": "display_data"
    },
    {
     "data": {
      "text/html": [
       "<span style=\"color: green\">12 rows affected.</span>"
      ],
      "text/plain": [
       "12 rows affected."
      ]
     },
     "metadata": {},
     "output_type": "display_data"
    },
    {
     "data": {
      "text/html": [
       "<table>\n",
       "    <thead>\n",
       "        <tr>\n",
       "            <th>QUERY PLAN</th>\n",
       "        </tr>\n",
       "    </thead>\n",
       "    <tbody>\n",
       "        <tr>\n",
       "            <td>Limit  (cost=102.70..102.71 rows=5 width=21) (actual time=1.069..1.070 rows=5 loops=1)</td>\n",
       "        </tr>\n",
       "        <tr>\n",
       "            <td>&nbsp;&nbsp;->  Sort  (cost=102.70..102.92 rows=90 width=21) (actual time=1.068..1.068 rows=5 loops=1)</td>\n",
       "        </tr>\n",
       "        <tr>\n",
       "            <td>&nbsp;&nbsp;&nbsp;&nbsp;&nbsp;&nbsp;&nbsp;&nbsp;Sort Key: (count(*)) DESC</td>\n",
       "        </tr>\n",
       "        <tr>\n",
       "            <td>&nbsp;&nbsp;&nbsp;&nbsp;&nbsp;&nbsp;&nbsp;&nbsp;Sort Method: top-N heapsort  Memory: 25kB</td>\n",
       "        </tr>\n",
       "        <tr>\n",
       "            <td>&nbsp;&nbsp;&nbsp;&nbsp;&nbsp;&nbsp;&nbsp;&nbsp;->  HashAggregate  (cost=100.30..101.20 rows=90 width=21) (actual time=1.037..1.049 rows=56 loops=1)</td>\n",
       "        </tr>\n",
       "        <tr>\n",
       "            <td>&nbsp;&nbsp;&nbsp;&nbsp;&nbsp;&nbsp;&nbsp;&nbsp;&nbsp;&nbsp;&nbsp;&nbsp;&nbsp;&nbsp;Group Key: city, state</td>\n",
       "        </tr>\n",
       "        <tr>\n",
       "            <td>&nbsp;&nbsp;&nbsp;&nbsp;&nbsp;&nbsp;&nbsp;&nbsp;&nbsp;&nbsp;&nbsp;&nbsp;&nbsp;&nbsp;Batches: 1  Memory Usage: 24kB</td>\n",
       "        </tr>\n",
       "        <tr>\n",
       "            <td>&nbsp;&nbsp;&nbsp;&nbsp;&nbsp;&nbsp;&nbsp;&nbsp;&nbsp;&nbsp;&nbsp;&nbsp;&nbsp;&nbsp;->  Seq Scan on business  (cost=0.00..99.50 rows=107 width=13) (actual time=0.009..0.983 rows=107 loops=1)</td>\n",
       "        </tr>\n",
       "        <tr>\n",
       "            <td>&nbsp;&nbsp;&nbsp;&nbsp;&nbsp;&nbsp;&nbsp;&nbsp;&nbsp;&nbsp;&nbsp;&nbsp;&nbsp;&nbsp;&nbsp;&nbsp;&nbsp;&nbsp;&nbsp;&nbsp;Filter: (stars = '5'::numeric)</td>\n",
       "        </tr>\n",
       "        <tr>\n",
       "            <td>&nbsp;&nbsp;&nbsp;&nbsp;&nbsp;&nbsp;&nbsp;&nbsp;&nbsp;&nbsp;&nbsp;&nbsp;&nbsp;&nbsp;&nbsp;&nbsp;&nbsp;&nbsp;&nbsp;&nbsp;Rows Removed by Filter: 893</td>\n",
       "        </tr>\n",
       "        <tr>\n",
       "            <td>Planning Time: 0.267 ms</td>\n",
       "        </tr>\n",
       "        <tr>\n",
       "            <td>Execution Time: 1.107 ms</td>\n",
       "        </tr>\n",
       "    </tbody>\n",
       "</table>"
      ],
      "text/plain": [
       "+--------------------------------------------------------------------------------------------------------------------------+\n",
       "|                                                        QUERY PLAN                                                        |\n",
       "+--------------------------------------------------------------------------------------------------------------------------+\n",
       "|                  Limit  (cost=102.70..102.71 rows=5 width=21) (actual time=1.069..1.070 rows=5 loops=1)                  |\n",
       "|                 ->  Sort  (cost=102.70..102.92 rows=90 width=21) (actual time=1.068..1.068 rows=5 loops=1)               |\n",
       "|                                                    Sort Key: (count(*)) DESC                                             |\n",
       "|                                            Sort Method: top-N heapsort  Memory: 25kB                                     |\n",
       "|               ->  HashAggregate  (cost=100.30..101.20 rows=90 width=21) (actual time=1.037..1.049 rows=56 loops=1)       |\n",
       "|                                                         Group Key: city, state                                           |\n",
       "|                                                     Batches: 1  Memory Usage: 24kB                                       |\n",
       "|               ->  Seq Scan on business  (cost=0.00..99.50 rows=107 width=13) (actual time=0.009..0.983 rows=107 loops=1) |\n",
       "|                                                        Filter: (stars = '5'::numeric)                                    |\n",
       "|                                                         Rows Removed by Filter: 893                                      |\n",
       "|                                                 Planning Time: 0.267 ms                                                  |\n",
       "|                                                 Execution Time: 1.107 ms                                                 |\n",
       "+--------------------------------------------------------------------------------------------------------------------------+"
      ]
     },
     "execution_count": 22,
     "metadata": {},
     "output_type": "execute_result"
    }
   ],
   "source": [
    "%%sql \n",
    "EXPLAIN ANALYZE \n",
    "SELECT city, state, COUNT(*) five_star_count\n",
    "FROM business \n",
    "WHERE stars = 5\n",
    "GROUP BY city, state\n",
    "ORDER BY five_star_count DESC\n",
    "LIMIT 5;"
   ]
  },
  {
   "cell_type": "markdown",
   "metadata": {},
   "source": [
    "## Normalized Data"
   ]
  },
  {
   "cell_type": "code",
   "execution_count": 23,
   "metadata": {},
   "outputs": [
    {
     "data": {
      "text/html": [
       "<span style=\"None\">Running query in &#x27;postgresql://michellelin@localhost:5432/yelp&#x27;</span>"
      ],
      "text/plain": [
       "Running query in 'postgresql://michellelin@localhost:5432/yelp'"
      ]
     },
     "metadata": {},
     "output_type": "display_data"
    },
    {
     "data": {
      "text/html": [
       "<span style=\"color: green\">5 rows affected.</span>"
      ],
      "text/plain": [
       "5 rows affected."
      ]
     },
     "metadata": {},
     "output_type": "display_data"
    },
    {
     "data": {
      "text/html": [
       "<table>\n",
       "    <thead>\n",
       "        <tr>\n",
       "            <th>city</th>\n",
       "            <th>state</th>\n",
       "            <th>five_star_count</th>\n",
       "        </tr>\n",
       "    </thead>\n",
       "    <tbody>\n",
       "        <tr>\n",
       "            <td>Santa Barbara</td>\n",
       "            <td>CA</td>\n",
       "            <td>9</td>\n",
       "        </tr>\n",
       "        <tr>\n",
       "            <td>Reno</td>\n",
       "            <td>NV</td>\n",
       "            <td>7</td>\n",
       "        </tr>\n",
       "        <tr>\n",
       "            <td>Tucson</td>\n",
       "            <td>AZ</td>\n",
       "            <td>6</td>\n",
       "        </tr>\n",
       "        <tr>\n",
       "            <td>Tampa</td>\n",
       "            <td>FL</td>\n",
       "            <td>5</td>\n",
       "        </tr>\n",
       "        <tr>\n",
       "            <td>Philadelphia</td>\n",
       "            <td>PA</td>\n",
       "            <td>5</td>\n",
       "        </tr>\n",
       "    </tbody>\n",
       "</table>"
      ],
      "text/plain": [
       "+---------------+-------+-----------------+\n",
       "|      city     | state | five_star_count |\n",
       "+---------------+-------+-----------------+\n",
       "| Santa Barbara |   CA  |        9        |\n",
       "|      Reno     |   NV  |        7        |\n",
       "|     Tucson    |   AZ  |        6        |\n",
       "|     Tampa     |   FL  |        5        |\n",
       "|  Philadelphia |   PA  |        5        |\n",
       "+---------------+-------+-----------------+"
      ]
     },
     "execution_count": 23,
     "metadata": {},
     "output_type": "execute_result"
    }
   ],
   "source": [
    "%%sql\n",
    "SELECT city, state, COUNT(*) five_star_count\n",
    "FROM nor_business b\n",
    "JOIN location l\n",
    "ON b.business_id = l.business_id\n",
    "WHERE stars = 5 \n",
    "GROUP BY city, state\n",
    "ORDER BY five_star_count DESC\n",
    "LIMIT 5;"
   ]
  },
  {
   "cell_type": "code",
   "execution_count": 24,
   "metadata": {},
   "outputs": [
    {
     "data": {
      "text/html": [
       "<span style=\"None\">Running query in &#x27;postgresql://michellelin@localhost:5432/yelp&#x27;</span>"
      ],
      "text/plain": [
       "Running query in 'postgresql://michellelin@localhost:5432/yelp'"
      ]
     },
     "metadata": {},
     "output_type": "display_data"
    },
    {
     "data": {
      "text/html": [
       "<span style=\"color: green\">17 rows affected.</span>"
      ],
      "text/plain": [
       "17 rows affected."
      ]
     },
     "metadata": {},
     "output_type": "display_data"
    },
    {
     "data": {
      "text/html": [
       "<table>\n",
       "    <thead>\n",
       "        <tr>\n",
       "            <th>QUERY PLAN</th>\n",
       "        </tr>\n",
       "    </thead>\n",
       "    <tbody>\n",
       "        <tr>\n",
       "            <td>Limit  (cost=124.12..124.14 rows=5 width=21) (actual time=1.563..1.565 rows=5 loops=1)</td>\n",
       "        </tr>\n",
       "        <tr>\n",
       "            <td>&nbsp;&nbsp;->  Sort  (cost=124.12..124.39 rows=107 width=21) (actual time=1.551..1.553 rows=5 loops=1)</td>\n",
       "        </tr>\n",
       "        <tr>\n",
       "            <td>&nbsp;&nbsp;&nbsp;&nbsp;&nbsp;&nbsp;&nbsp;&nbsp;Sort Key: (count(*)) DESC</td>\n",
       "        </tr>\n",
       "        <tr>\n",
       "            <td>&nbsp;&nbsp;&nbsp;&nbsp;&nbsp;&nbsp;&nbsp;&nbsp;Sort Method: top-N heapsort  Memory: 25kB</td>\n",
       "        </tr>\n",
       "        <tr>\n",
       "            <td>&nbsp;&nbsp;&nbsp;&nbsp;&nbsp;&nbsp;&nbsp;&nbsp;->  HashAggregate  (cost=121.28..122.35 rows=107 width=21) (actual time=1.506..1.517 rows=56 loops=1)</td>\n",
       "        </tr>\n",
       "        <tr>\n",
       "            <td>&nbsp;&nbsp;&nbsp;&nbsp;&nbsp;&nbsp;&nbsp;&nbsp;&nbsp;&nbsp;&nbsp;&nbsp;&nbsp;&nbsp;Group Key: l.city, l.state</td>\n",
       "        </tr>\n",
       "        <tr>\n",
       "            <td>&nbsp;&nbsp;&nbsp;&nbsp;&nbsp;&nbsp;&nbsp;&nbsp;&nbsp;&nbsp;&nbsp;&nbsp;&nbsp;&nbsp;Batches: 1  Memory Usage: 24kB</td>\n",
       "        </tr>\n",
       "        <tr>\n",
       "            <td>&nbsp;&nbsp;&nbsp;&nbsp;&nbsp;&nbsp;&nbsp;&nbsp;&nbsp;&nbsp;&nbsp;&nbsp;&nbsp;&nbsp;->  Hash Join  (cost=93.84..120.47 rows=107 width=13) (actual time=1.083..1.460 rows=107 loops=1)</td>\n",
       "        </tr>\n",
       "        <tr>\n",
       "            <td>&nbsp;&nbsp;&nbsp;&nbsp;&nbsp;&nbsp;&nbsp;&nbsp;&nbsp;&nbsp;&nbsp;&nbsp;&nbsp;&nbsp;&nbsp;&nbsp;&nbsp;&nbsp;&nbsp;&nbsp;Hash Cond: ((l.business_id)::text = (b.business_id)::text)</td>\n",
       "        </tr>\n",
       "        <tr>\n",
       "            <td>&nbsp;&nbsp;&nbsp;&nbsp;&nbsp;&nbsp;&nbsp;&nbsp;&nbsp;&nbsp;&nbsp;&nbsp;&nbsp;&nbsp;&nbsp;&nbsp;&nbsp;&nbsp;&nbsp;&nbsp;->  Seq Scan on location l  (cost=0.00..24.00 rows=1000 width=36) (actual time=0.021..0.165 rows=1000 loops=1)</td>\n",
       "        </tr>\n",
       "        <tr>\n",
       "            <td>&nbsp;&nbsp;&nbsp;&nbsp;&nbsp;&nbsp;&nbsp;&nbsp;&nbsp;&nbsp;&nbsp;&nbsp;&nbsp;&nbsp;&nbsp;&nbsp;&nbsp;&nbsp;&nbsp;&nbsp;->  Hash  (cost=92.50..92.50 rows=107 width=23) (actual time=1.055..1.055 rows=107 loops=1)</td>\n",
       "        </tr>\n",
       "        <tr>\n",
       "            <td>&nbsp;&nbsp;&nbsp;&nbsp;&nbsp;&nbsp;&nbsp;&nbsp;&nbsp;&nbsp;&nbsp;&nbsp;&nbsp;&nbsp;&nbsp;&nbsp;&nbsp;&nbsp;&nbsp;&nbsp;&nbsp;&nbsp;&nbsp;&nbsp;&nbsp;&nbsp;Buckets: 1024  Batches: 1  Memory Usage: 14kB</td>\n",
       "        </tr>\n",
       "        <tr>\n",
       "            <td>&nbsp;&nbsp;&nbsp;&nbsp;&nbsp;&nbsp;&nbsp;&nbsp;&nbsp;&nbsp;&nbsp;&nbsp;&nbsp;&nbsp;&nbsp;&nbsp;&nbsp;&nbsp;&nbsp;&nbsp;&nbsp;&nbsp;&nbsp;&nbsp;&nbsp;&nbsp;->  Seq Scan on nor_business b  (cost=0.00..92.50 rows=107 width=23) (actual time=0.013..1.009 rows=107 loops=1)</td>\n",
       "        </tr>\n",
       "        <tr>\n",
       "            <td>&nbsp;&nbsp;&nbsp;&nbsp;&nbsp;&nbsp;&nbsp;&nbsp;&nbsp;&nbsp;&nbsp;&nbsp;&nbsp;&nbsp;&nbsp;&nbsp;&nbsp;&nbsp;&nbsp;&nbsp;&nbsp;&nbsp;&nbsp;&nbsp;&nbsp;&nbsp;&nbsp;&nbsp;&nbsp;&nbsp;&nbsp;&nbsp;Filter: (stars = '5'::numeric)</td>\n",
       "        </tr>\n",
       "        <tr>\n",
       "            <td>&nbsp;&nbsp;&nbsp;&nbsp;&nbsp;&nbsp;&nbsp;&nbsp;&nbsp;&nbsp;&nbsp;&nbsp;&nbsp;&nbsp;&nbsp;&nbsp;&nbsp;&nbsp;&nbsp;&nbsp;&nbsp;&nbsp;&nbsp;&nbsp;&nbsp;&nbsp;&nbsp;&nbsp;&nbsp;&nbsp;&nbsp;&nbsp;Rows Removed by Filter: 893</td>\n",
       "        </tr>\n",
       "        <tr>\n",
       "            <td>Planning Time: 0.654 ms</td>\n",
       "        </tr>\n",
       "        <tr>\n",
       "            <td>Execution Time: 1.679 ms</td>\n",
       "        </tr>\n",
       "    </tbody>\n",
       "</table>"
      ],
      "text/plain": [
       "+--------------------------------------------------------------------------------------------------------------------------------------------+\n",
       "|                                                                 QUERY PLAN                                                                 |\n",
       "+--------------------------------------------------------------------------------------------------------------------------------------------+\n",
       "|                           Limit  (cost=124.12..124.14 rows=5 width=21) (actual time=1.563..1.565 rows=5 loops=1)                           |\n",
       "|                         ->  Sort  (cost=124.12..124.39 rows=107 width=21) (actual time=1.551..1.553 rows=5 loops=1)                        |\n",
       "|                                                             Sort Key: (count(*)) DESC                                                      |\n",
       "|                                                     Sort Method: top-N heapsort  Memory: 25kB                                              |\n",
       "|                       ->  HashAggregate  (cost=121.28..122.35 rows=107 width=21) (actual time=1.506..1.517 rows=56 loops=1)                |\n",
       "|                                                                Group Key: l.city, l.state                                                  |\n",
       "|                                                              Batches: 1  Memory Usage: 24kB                                                |\n",
       "|                            ->  Hash Join  (cost=93.84..120.47 rows=107 width=13) (actual time=1.083..1.460 rows=107 loops=1)               |\n",
       "|                                                   Hash Cond: ((l.business_id)::text = (b.business_id)::text)                               |\n",
       "|                         ->  Seq Scan on location l  (cost=0.00..24.00 rows=1000 width=36) (actual time=0.021..0.165 rows=1000 loops=1)     |\n",
       "|                                  ->  Hash  (cost=92.50..92.50 rows=107 width=23) (actual time=1.055..1.055 rows=107 loops=1)               |\n",
       "|                                                            Buckets: 1024  Batches: 1  Memory Usage: 14kB                                   |\n",
       "|                           ->  Seq Scan on nor_business b  (cost=0.00..92.50 rows=107 width=23) (actual time=0.013..1.009 rows=107 loops=1) |\n",
       "|                                                                       Filter: (stars = '5'::numeric)                                       |\n",
       "|                                                                        Rows Removed by Filter: 893                                         |\n",
       "|                                                          Planning Time: 0.654 ms                                                           |\n",
       "|                                                          Execution Time: 1.679 ms                                                          |\n",
       "+--------------------------------------------------------------------------------------------------------------------------------------------+"
      ]
     },
     "execution_count": 24,
     "metadata": {},
     "output_type": "execute_result"
    }
   ],
   "source": [
    "%%sql \n",
    "EXPLAIN ANALYZE \n",
    "SELECT city, state, COUNT(*) five_star_count\n",
    "FROM nor_business b\n",
    "JOIN location l\n",
    "ON b.business_id = l.business_id\n",
    "WHERE stars = 5 \n",
    "GROUP BY city, state\n",
    "ORDER BY five_star_count DESC\n",
    "LIMIT 5;"
   ]
  },
  {
   "cell_type": "markdown",
   "metadata": {},
   "source": [
    "# Query 2\n",
    "### Which years had the most elite users?"
   ]
  },
  {
   "cell_type": "markdown",
   "metadata": {},
   "source": [
    "## Denormalized Data"
   ]
  },
  {
   "cell_type": "code",
   "execution_count": 28,
   "metadata": {},
   "outputs": [
    {
     "data": {
      "text/html": [
       "<span style=\"None\">Running query in &#x27;postgresql://michellelin@localhost:5432/yelp&#x27;</span>"
      ],
      "text/plain": [
       "Running query in 'postgresql://michellelin@localhost:5432/yelp'"
      ]
     },
     "metadata": {},
     "output_type": "display_data"
    },
    {
     "data": {
      "text/html": [
       "<span style=\"color: green\">5 rows affected.</span>"
      ],
      "text/plain": [
       "5 rows affected."
      ]
     },
     "metadata": {},
     "output_type": "display_data"
    },
    {
     "data": {
      "text/html": [
       "<table>\n",
       "    <thead>\n",
       "        <tr>\n",
       "            <th>elite_year</th>\n",
       "            <th>user_count</th>\n",
       "        </tr>\n",
       "    </thead>\n",
       "    <tbody>\n",
       "        <tr>\n",
       "            <td>20</td>\n",
       "            <td>7936</td>\n",
       "        </tr>\n",
       "        <tr>\n",
       "            <td>2019</td>\n",
       "            <td>4387</td>\n",
       "        </tr>\n",
       "        <tr>\n",
       "            <td>2018</td>\n",
       "            <td>4198</td>\n",
       "        </tr>\n",
       "        <tr>\n",
       "            <td>2021</td>\n",
       "            <td>4171</td>\n",
       "        </tr>\n",
       "        <tr>\n",
       "            <td>2017</td>\n",
       "            <td>3763</td>\n",
       "        </tr>\n",
       "    </tbody>\n",
       "</table>"
      ],
      "text/plain": [
       "+------------+------------+\n",
       "| elite_year | user_count |\n",
       "+------------+------------+\n",
       "|     20     |    7936    |\n",
       "|    2019    |    4387    |\n",
       "|    2018    |    4198    |\n",
       "|    2021    |    4171    |\n",
       "|    2017    |    3763    |\n",
       "+------------+------------+"
      ]
     },
     "execution_count": 28,
     "metadata": {},
     "output_type": "execute_result"
    }
   ],
   "source": [
    "%%sql\n",
    "WITH exploded_elite AS (\n",
    "    SELECT \n",
    "        UNNEST(STRING_TO_ARRAY(elite, ','))::INTEGER AS elite_year \n",
    "    FROM \n",
    "        yelp_user \n",
    "    WHERE \n",
    "        elite IS NOT NULL \n",
    "        AND elite != '' \n",
    "        AND elite NOT LIKE '%NaN%' \n",
    ")\n",
    "\n",
    "SELECT \n",
    "    elite_year, \n",
    "    COUNT(*) AS user_count \n",
    "FROM \n",
    "    exploded_elite \n",
    "GROUP BY \n",
    "    elite_year \n",
    "ORDER BY \n",
    "    user_count DESC \n",
    "LIMIT 5;\n"
   ]
  },
  {
   "cell_type": "code",
   "execution_count": 31,
   "metadata": {},
   "outputs": [
    {
     "data": {
      "text/html": [
       "<span style=\"None\">Running query in &#x27;postgresql://michellelin@localhost:5432/yelp&#x27;</span>"
      ],
      "text/plain": [
       "Running query in 'postgresql://michellelin@localhost:5432/yelp'"
      ]
     },
     "metadata": {},
     "output_type": "display_data"
    },
    {
     "data": {
      "text/html": [
       "<span style=\"color: green\">24 rows affected.</span>"
      ],
      "text/plain": [
       "24 rows affected."
      ]
     },
     "metadata": {},
     "output_type": "display_data"
    },
    {
     "data": {
      "text/html": [
       "<table>\n",
       "    <thead>\n",
       "        <tr>\n",
       "            <th>QUERY PLAN</th>\n",
       "        </tr>\n",
       "    </thead>\n",
       "    <tbody>\n",
       "        <tr>\n",
       "            <td>Limit  (cost=5877.88..5877.89 rows=5 width=12) (actual time=28.643..29.898 rows=5 loops=1)</td>\n",
       "        </tr>\n",
       "        <tr>\n",
       "            <td>&nbsp;&nbsp;->  Sort  (cost=5877.88..5878.38 rows=200 width=12) (actual time=28.642..29.897 rows=5 loops=1)</td>\n",
       "        </tr>\n",
       "        <tr>\n",
       "            <td>&nbsp;&nbsp;&nbsp;&nbsp;&nbsp;&nbsp;&nbsp;&nbsp;Sort Key: (count(*)) DESC</td>\n",
       "        </tr>\n",
       "        <tr>\n",
       "            <td>&nbsp;&nbsp;&nbsp;&nbsp;&nbsp;&nbsp;&nbsp;&nbsp;Sort Method: top-N heapsort  Memory: 25kB</td>\n",
       "        </tr>\n",
       "        <tr>\n",
       "            <td>&nbsp;&nbsp;&nbsp;&nbsp;&nbsp;&nbsp;&nbsp;&nbsp;->  Finalize GroupAggregate  (cost=5848.55..5874.55 rows=200 width=12) (actual time=28.619..29.881 rows=16 loops=1)</td>\n",
       "        </tr>\n",
       "        <tr>\n",
       "            <td>&nbsp;&nbsp;&nbsp;&nbsp;&nbsp;&nbsp;&nbsp;&nbsp;&nbsp;&nbsp;&nbsp;&nbsp;&nbsp;&nbsp;Group Key: (((unnest(string_to_array(yelp_user.elite, ','::text))))::integer)</td>\n",
       "        </tr>\n",
       "        <tr>\n",
       "            <td>&nbsp;&nbsp;&nbsp;&nbsp;&nbsp;&nbsp;&nbsp;&nbsp;&nbsp;&nbsp;&nbsp;&nbsp;&nbsp;&nbsp;->  Gather Merge  (cost=5848.55..5871.55 rows=200 width=12) (actual time=28.615..29.873 rows=32 loops=1)</td>\n",
       "        </tr>\n",
       "        <tr>\n",
       "            <td>&nbsp;&nbsp;&nbsp;&nbsp;&nbsp;&nbsp;&nbsp;&nbsp;&nbsp;&nbsp;&nbsp;&nbsp;&nbsp;&nbsp;&nbsp;&nbsp;&nbsp;&nbsp;&nbsp;&nbsp;Workers Planned: 1</td>\n",
       "        </tr>\n",
       "        <tr>\n",
       "            <td>&nbsp;&nbsp;&nbsp;&nbsp;&nbsp;&nbsp;&nbsp;&nbsp;&nbsp;&nbsp;&nbsp;&nbsp;&nbsp;&nbsp;&nbsp;&nbsp;&nbsp;&nbsp;&nbsp;&nbsp;Workers Launched: 1</td>\n",
       "        </tr>\n",
       "        <tr>\n",
       "            <td>&nbsp;&nbsp;&nbsp;&nbsp;&nbsp;&nbsp;&nbsp;&nbsp;&nbsp;&nbsp;&nbsp;&nbsp;&nbsp;&nbsp;&nbsp;&nbsp;&nbsp;&nbsp;&nbsp;&nbsp;->  Sort  (cost=4848.54..4849.04 rows=200 width=12) (actual time=24.205..24.206 rows=16 loops=2)</td>\n",
       "        </tr>\n",
       "        <tr>\n",
       "            <td>&nbsp;&nbsp;&nbsp;&nbsp;&nbsp;&nbsp;&nbsp;&nbsp;&nbsp;&nbsp;&nbsp;&nbsp;&nbsp;&nbsp;&nbsp;&nbsp;&nbsp;&nbsp;&nbsp;&nbsp;&nbsp;&nbsp;&nbsp;&nbsp;&nbsp;&nbsp;Sort Key: (((unnest(string_to_array(yelp_user.elite, ','::text))))::integer)</td>\n",
       "        </tr>\n",
       "        <tr>\n",
       "            <td>&nbsp;&nbsp;&nbsp;&nbsp;&nbsp;&nbsp;&nbsp;&nbsp;&nbsp;&nbsp;&nbsp;&nbsp;&nbsp;&nbsp;&nbsp;&nbsp;&nbsp;&nbsp;&nbsp;&nbsp;&nbsp;&nbsp;&nbsp;&nbsp;&nbsp;&nbsp;Sort Method: quicksort  Memory: 25kB</td>\n",
       "        </tr>\n",
       "        <tr>\n",
       "            <td>&nbsp;&nbsp;&nbsp;&nbsp;&nbsp;&nbsp;&nbsp;&nbsp;&nbsp;&nbsp;&nbsp;&nbsp;&nbsp;&nbsp;&nbsp;&nbsp;&nbsp;&nbsp;&nbsp;&nbsp;&nbsp;&nbsp;&nbsp;&nbsp;&nbsp;&nbsp;Worker 0:  Sort Method: quicksort  Memory: 25kB</td>\n",
       "        </tr>\n",
       "        <tr>\n",
       "            <td>&nbsp;&nbsp;&nbsp;&nbsp;&nbsp;&nbsp;&nbsp;&nbsp;&nbsp;&nbsp;&nbsp;&nbsp;&nbsp;&nbsp;&nbsp;&nbsp;&nbsp;&nbsp;&nbsp;&nbsp;&nbsp;&nbsp;&nbsp;&nbsp;&nbsp;&nbsp;->  Partial HashAggregate  (cost=4838.90..4840.90 rows=200 width=12) (actual time=24.175..24.178 rows=16 loops=2)</td>\n",
       "        </tr>\n",
       "        <tr>\n",
       "            <td>&nbsp;&nbsp;&nbsp;&nbsp;&nbsp;&nbsp;&nbsp;&nbsp;&nbsp;&nbsp;&nbsp;&nbsp;&nbsp;&nbsp;&nbsp;&nbsp;&nbsp;&nbsp;&nbsp;&nbsp;&nbsp;&nbsp;&nbsp;&nbsp;&nbsp;&nbsp;&nbsp;&nbsp;&nbsp;&nbsp;&nbsp;&nbsp;Group Key: ((unnest(string_to_array(yelp_user.elite, ','::text))))::integer</td>\n",
       "        </tr>\n",
       "        <tr>\n",
       "            <td>&nbsp;&nbsp;&nbsp;&nbsp;&nbsp;&nbsp;&nbsp;&nbsp;&nbsp;&nbsp;&nbsp;&nbsp;&nbsp;&nbsp;&nbsp;&nbsp;&nbsp;&nbsp;&nbsp;&nbsp;&nbsp;&nbsp;&nbsp;&nbsp;&nbsp;&nbsp;&nbsp;&nbsp;&nbsp;&nbsp;&nbsp;&nbsp;Batches: 1  Memory Usage: 40kB</td>\n",
       "        </tr>\n",
       "        <tr>\n",
       "            <td>&nbsp;&nbsp;&nbsp;&nbsp;&nbsp;&nbsp;&nbsp;&nbsp;&nbsp;&nbsp;&nbsp;&nbsp;&nbsp;&nbsp;&nbsp;&nbsp;&nbsp;&nbsp;&nbsp;&nbsp;&nbsp;&nbsp;&nbsp;&nbsp;&nbsp;&nbsp;&nbsp;&nbsp;&nbsp;&nbsp;&nbsp;&nbsp;Worker 0:  Batches: 1  Memory Usage: 40kB</td>\n",
       "        </tr>\n",
       "        <tr>\n",
       "            <td>&nbsp;&nbsp;&nbsp;&nbsp;&nbsp;&nbsp;&nbsp;&nbsp;&nbsp;&nbsp;&nbsp;&nbsp;&nbsp;&nbsp;&nbsp;&nbsp;&nbsp;&nbsp;&nbsp;&nbsp;&nbsp;&nbsp;&nbsp;&nbsp;&nbsp;&nbsp;&nbsp;&nbsp;&nbsp;&nbsp;&nbsp;&nbsp;->  Result  (cost=0.00..3646.10 rows=46780 width=4) (actual time=0.041..20.254 rows=19084 loops=2)</td>\n",
       "        </tr>\n",
       "        <tr>\n",
       "            <td>&nbsp;&nbsp;&nbsp;&nbsp;&nbsp;&nbsp;&nbsp;&nbsp;&nbsp;&nbsp;&nbsp;&nbsp;&nbsp;&nbsp;&nbsp;&nbsp;&nbsp;&nbsp;&nbsp;&nbsp;&nbsp;&nbsp;&nbsp;&nbsp;&nbsp;&nbsp;&nbsp;&nbsp;&nbsp;&nbsp;&nbsp;&nbsp;&nbsp;&nbsp;&nbsp;&nbsp;&nbsp;&nbsp;->  ProjectSet  (cost=0.00..2710.50 rows=46780 width=32) (actual time=0.039..16.870 rows=19084 loops=2)</td>\n",
       "        </tr>\n",
       "        <tr>\n",
       "            <td>&nbsp;&nbsp;&nbsp;&nbsp;&nbsp;&nbsp;&nbsp;&nbsp;&nbsp;&nbsp;&nbsp;&nbsp;&nbsp;&nbsp;&nbsp;&nbsp;&nbsp;&nbsp;&nbsp;&nbsp;&nbsp;&nbsp;&nbsp;&nbsp;&nbsp;&nbsp;&nbsp;&nbsp;&nbsp;&nbsp;&nbsp;&nbsp;&nbsp;&nbsp;&nbsp;&nbsp;&nbsp;&nbsp;&nbsp;&nbsp;&nbsp;&nbsp;&nbsp;&nbsp;->  Parallel Seq Scan on yelp_user  (cost=0.00..2429.82 rows=4678 width=7) (actual time=0.029..11.164 rows=4020 loops=2)</td>\n",
       "        </tr>\n",
       "        <tr>\n",
       "            <td>&nbsp;&nbsp;&nbsp;&nbsp;&nbsp;&nbsp;&nbsp;&nbsp;&nbsp;&nbsp;&nbsp;&nbsp;&nbsp;&nbsp;&nbsp;&nbsp;&nbsp;&nbsp;&nbsp;&nbsp;&nbsp;&nbsp;&nbsp;&nbsp;&nbsp;&nbsp;&nbsp;&nbsp;&nbsp;&nbsp;&nbsp;&nbsp;&nbsp;&nbsp;&nbsp;&nbsp;&nbsp;&nbsp;&nbsp;&nbsp;&nbsp;&nbsp;&nbsp;&nbsp;&nbsp;&nbsp;&nbsp;&nbsp;&nbsp;&nbsp;Filter: ((elite IS NOT NULL) AND (elite <> ''::text) AND (elite !~~ '%NaN%'::text))</td>\n",
       "        </tr>\n",
       "        <tr>\n",
       "            <td>&nbsp;&nbsp;&nbsp;&nbsp;&nbsp;&nbsp;&nbsp;&nbsp;&nbsp;&nbsp;&nbsp;&nbsp;&nbsp;&nbsp;&nbsp;&nbsp;&nbsp;&nbsp;&nbsp;&nbsp;&nbsp;&nbsp;&nbsp;&nbsp;&nbsp;&nbsp;&nbsp;&nbsp;&nbsp;&nbsp;&nbsp;&nbsp;&nbsp;&nbsp;&nbsp;&nbsp;&nbsp;&nbsp;&nbsp;&nbsp;&nbsp;&nbsp;&nbsp;&nbsp;&nbsp;&nbsp;&nbsp;&nbsp;&nbsp;&nbsp;Rows Removed by Filter: 17276</td>\n",
       "        </tr>\n",
       "        <tr>\n",
       "            <td>Planning Time: 3.531 ms</td>\n",
       "        </tr>\n",
       "        <tr>\n",
       "            <td>Execution Time: 30.005 ms</td>\n",
       "        </tr>\n",
       "    </tbody>\n",
       "</table>"
      ],
      "text/plain": [
       "+----------------------------------------------------------------------------------------------------------------------------------------------------------------------+\n",
       "|                                                                              QUERY PLAN                                                                              |\n",
       "+----------------------------------------------------------------------------------------------------------------------------------------------------------------------+\n",
       "|                                      Limit  (cost=5877.88..5877.89 rows=5 width=12) (actual time=28.643..29.898 rows=5 loops=1)                                      |\n",
       "|                                    ->  Sort  (cost=5877.88..5878.38 rows=200 width=12) (actual time=28.642..29.897 rows=5 loops=1)                                   |\n",
       "|                                                                          Sort Key: (count(*)) DESC                                                                   |\n",
       "|                                                                  Sort Method: top-N heapsort  Memory: 25kB                                                           |\n",
       "|                             ->  Finalize GroupAggregate  (cost=5848.55..5874.55 rows=200 width=12) (actual time=28.619..29.881 rows=16 loops=1)                      |\n",
       "|                                                   Group Key: (((unnest(string_to_array(yelp_user.elite, ','::text))))::integer)                                      |\n",
       "|                                      ->  Gather Merge  (cost=5848.55..5871.55 rows=200 width=12) (actual time=28.615..29.873 rows=32 loops=1)                        |\n",
       "|                                                                                    Workers Planned: 1                                                                |\n",
       "|                                                                                   Workers Launched: 1                                                                |\n",
       "|                                             ->  Sort  (cost=4848.54..4849.04 rows=200 width=12) (actual time=24.205..24.206 rows=16 loops=2)                         |\n",
       "|                                                          Sort Key: (((unnest(string_to_array(yelp_user.elite, ','::text))))::integer)                                |\n",
       "|                                                                              Sort Method: quicksort  Memory: 25kB                                                    |\n",
       "|                                                                        Worker 0:  Sort Method: quicksort  Memory: 25kB                                               |\n",
       "|                                       ->  Partial HashAggregate  (cost=4838.90..4840.90 rows=200 width=12) (actual time=24.175..24.178 rows=16 loops=2)              |\n",
       "|                                                             Group Key: ((unnest(string_to_array(yelp_user.elite, ','::text))))::integer                              |\n",
       "|                                                                                    Batches: 1  Memory Usage: 40kB                                                    |\n",
       "|                                                                              Worker 0:  Batches: 1  Memory Usage: 40kB                                               |\n",
       "|                                                  ->  Result  (cost=0.00..3646.10 rows=46780 width=4) (actual time=0.041..20.254 rows=19084 loops=2)                  |\n",
       "|                                                  ->  ProjectSet  (cost=0.00..2710.50 rows=46780 width=32) (actual time=0.039..16.870 rows=19084 loops=2)             |\n",
       "|                                             ->  Parallel Seq Scan on yelp_user  (cost=0.00..2429.82 rows=4678 width=7) (actual time=0.029..11.164 rows=4020 loops=2) |\n",
       "|                                                                  Filter: ((elite IS NOT NULL) AND (elite <> ''::text) AND (elite !~~ '%NaN%'::text))                 |\n",
       "|                                                                                             Rows Removed by Filter: 17276                                            |\n",
       "|                                                                       Planning Time: 3.531 ms                                                                        |\n",
       "|                                                                      Execution Time: 30.005 ms                                                                       |\n",
       "+----------------------------------------------------------------------------------------------------------------------------------------------------------------------+"
      ]
     },
     "execution_count": 31,
     "metadata": {},
     "output_type": "execute_result"
    }
   ],
   "source": [
    "%%sql\n",
    "EXPLAIN ANALYZE\n",
    "WITH exploded_elite AS (\n",
    "    SELECT \n",
    "        UNNEST(STRING_TO_ARRAY(elite, ','))::INTEGER AS elite_year \n",
    "    FROM \n",
    "        yelp_user \n",
    "    WHERE \n",
    "        elite IS NOT NULL \n",
    "        AND elite != '' \n",
    "        AND elite NOT LIKE '%NaN%'  \n",
    ")\n",
    "\n",
    "SELECT \n",
    "    elite_year, \n",
    "    COUNT(*) AS user_count \n",
    "FROM \n",
    "    exploded_elite \n",
    "GROUP BY \n",
    "    elite_year \n",
    "ORDER BY \n",
    "    user_count DESC \n",
    "LIMIT 5;"
   ]
  },
  {
   "cell_type": "markdown",
   "metadata": {},
   "source": [
    "## Normalized Data"
   ]
  },
  {
   "cell_type": "code",
   "execution_count": 34,
   "metadata": {},
   "outputs": [
    {
     "data": {
      "text/html": [
       "<span style=\"None\">Running query in &#x27;postgresql://michellelin@localhost:5432/yelp&#x27;</span>"
      ],
      "text/plain": [
       "Running query in 'postgresql://michellelin@localhost:5432/yelp'"
      ]
     },
     "metadata": {},
     "output_type": "display_data"
    },
    {
     "data": {
      "text/html": [
       "<span style=\"color: green\">5 rows affected.</span>"
      ],
      "text/plain": [
       "5 rows affected."
      ]
     },
     "metadata": {},
     "output_type": "display_data"
    },
    {
     "data": {
      "text/html": [
       "<table>\n",
       "    <thead>\n",
       "        <tr>\n",
       "            <th>elite_year</th>\n",
       "            <th>user_count</th>\n",
       "        </tr>\n",
       "    </thead>\n",
       "    <tbody>\n",
       "        <tr>\n",
       "            <td>2019</td>\n",
       "            <td>4387</td>\n",
       "        </tr>\n",
       "        <tr>\n",
       "            <td>2018</td>\n",
       "            <td>4198</td>\n",
       "        </tr>\n",
       "        <tr>\n",
       "            <td>2021</td>\n",
       "            <td>4171</td>\n",
       "        </tr>\n",
       "        <tr>\n",
       "            <td>20</td>\n",
       "            <td>3968</td>\n",
       "        </tr>\n",
       "        <tr>\n",
       "            <td>2017</td>\n",
       "            <td>3763</td>\n",
       "        </tr>\n",
       "    </tbody>\n",
       "</table>"
      ],
      "text/plain": [
       "+------------+------------+\n",
       "| elite_year | user_count |\n",
       "+------------+------------+\n",
       "|    2019    |    4387    |\n",
       "|    2018    |    4198    |\n",
       "|    2021    |    4171    |\n",
       "|     20     |    3968    |\n",
       "|    2017    |    3763    |\n",
       "+------------+------------+"
      ]
     },
     "execution_count": 34,
     "metadata": {},
     "output_type": "execute_result"
    }
   ],
   "source": [
    "%%sql\n",
    "SELECT elite_year, COUNT(*) user_count\n",
    "FROM elite \n",
    "GROUP BY elite_year\n",
    "ORDER BY user_count DESC\n",
    "LIMIT 5;"
   ]
  },
  {
   "cell_type": "code",
   "execution_count": 35,
   "metadata": {},
   "outputs": [
    {
     "data": {
      "text/html": [
       "<span style=\"None\">Running query in &#x27;postgresql://michellelin@localhost:5432/yelp&#x27;</span>"
      ],
      "text/plain": [
       "Running query in 'postgresql://michellelin@localhost:5432/yelp'"
      ]
     },
     "metadata": {},
     "output_type": "display_data"
    },
    {
     "data": {
      "text/html": [
       "<span style=\"color: green\">10 rows affected.</span>"
      ],
      "text/plain": [
       "10 rows affected."
      ]
     },
     "metadata": {},
     "output_type": "display_data"
    },
    {
     "data": {
      "text/html": [
       "<table>\n",
       "    <thead>\n",
       "        <tr>\n",
       "            <th>QUERY PLAN</th>\n",
       "        </tr>\n",
       "    </thead>\n",
       "    <tbody>\n",
       "        <tr>\n",
       "            <td>Limit  (cost=765.41..765.42 rows=5 width=12) (actual time=19.547..19.549 rows=5 loops=1)</td>\n",
       "        </tr>\n",
       "        <tr>\n",
       "            <td>&nbsp;&nbsp;->  Sort  (cost=765.41..765.45 rows=16 width=12) (actual time=19.546..19.547 rows=5 loops=1)</td>\n",
       "        </tr>\n",
       "        <tr>\n",
       "            <td>&nbsp;&nbsp;&nbsp;&nbsp;&nbsp;&nbsp;&nbsp;&nbsp;Sort Key: (count(*)) DESC</td>\n",
       "        </tr>\n",
       "        <tr>\n",
       "            <td>&nbsp;&nbsp;&nbsp;&nbsp;&nbsp;&nbsp;&nbsp;&nbsp;Sort Method: top-N heapsort  Memory: 25kB</td>\n",
       "        </tr>\n",
       "        <tr>\n",
       "            <td>&nbsp;&nbsp;&nbsp;&nbsp;&nbsp;&nbsp;&nbsp;&nbsp;->  HashAggregate  (cost=764.98..765.14 rows=16 width=12) (actual time=19.510..19.514 rows=16 loops=1)</td>\n",
       "        </tr>\n",
       "        <tr>\n",
       "            <td>&nbsp;&nbsp;&nbsp;&nbsp;&nbsp;&nbsp;&nbsp;&nbsp;&nbsp;&nbsp;&nbsp;&nbsp;&nbsp;&nbsp;Group Key: elite_year</td>\n",
       "        </tr>\n",
       "        <tr>\n",
       "            <td>&nbsp;&nbsp;&nbsp;&nbsp;&nbsp;&nbsp;&nbsp;&nbsp;&nbsp;&nbsp;&nbsp;&nbsp;&nbsp;&nbsp;Batches: 1  Memory Usage: 24kB</td>\n",
       "        </tr>\n",
       "        <tr>\n",
       "            <td>&nbsp;&nbsp;&nbsp;&nbsp;&nbsp;&nbsp;&nbsp;&nbsp;&nbsp;&nbsp;&nbsp;&nbsp;&nbsp;&nbsp;->  Seq Scan on elite  (cost=0.00..593.99 rows=34199 width=4) (actual time=0.045..9.467 rows=34199 loops=1)</td>\n",
       "        </tr>\n",
       "        <tr>\n",
       "            <td>Planning Time: 0.499 ms</td>\n",
       "        </tr>\n",
       "        <tr>\n",
       "            <td>Execution Time: 19.718 ms</td>\n",
       "        </tr>\n",
       "    </tbody>\n",
       "</table>"
      ],
      "text/plain": [
       "+---------------------------------------------------------------------------------------------------------------------------+\n",
       "|                                                         QUERY PLAN                                                        |\n",
       "+---------------------------------------------------------------------------------------------------------------------------+\n",
       "|                  Limit  (cost=765.41..765.42 rows=5 width=12) (actual time=19.547..19.549 rows=5 loops=1)                 |\n",
       "|                 ->  Sort  (cost=765.41..765.45 rows=16 width=12) (actual time=19.546..19.547 rows=5 loops=1)              |\n",
       "|                                                     Sort Key: (count(*)) DESC                                             |\n",
       "|                                             Sort Method: top-N heapsort  Memory: 25kB                                     |\n",
       "|               ->  HashAggregate  (cost=764.98..765.14 rows=16 width=12) (actual time=19.510..19.514 rows=16 loops=1)      |\n",
       "|                                                          Group Key: elite_year                                            |\n",
       "|                                                      Batches: 1  Memory Usage: 24kB                                       |\n",
       "|               ->  Seq Scan on elite  (cost=0.00..593.99 rows=34199 width=4) (actual time=0.045..9.467 rows=34199 loops=1) |\n",
       "|                                                  Planning Time: 0.499 ms                                                  |\n",
       "|                                                 Execution Time: 19.718 ms                                                 |\n",
       "+---------------------------------------------------------------------------------------------------------------------------+"
      ]
     },
     "execution_count": 35,
     "metadata": {},
     "output_type": "execute_result"
    }
   ],
   "source": [
    "%%sql\n",
    "EXPLAIN ANALYZE\n",
    "SELECT elite_year, COUNT(*) user_count\n",
    "FROM elite \n",
    "GROUP BY elite_year\n",
    "ORDER BY user_count DESC\n",
    "LIMIT 5;"
   ]
  },
  {
   "cell_type": "markdown",
   "metadata": {},
   "source": [
    "# Query 3\n",
    "### Find businesses open in multiple states"
   ]
  },
  {
   "cell_type": "markdown",
   "metadata": {},
   "source": [
    "### Denormalized Data"
   ]
  },
  {
   "cell_type": "code",
   "execution_count": 42,
   "metadata": {},
   "outputs": [
    {
     "data": {
      "text/html": [
       "<span style=\"None\">Running query in &#x27;postgresql://michellelin@localhost:5432/yelp&#x27;</span>"
      ],
      "text/plain": [
       "Running query in 'postgresql://michellelin@localhost:5432/yelp'"
      ]
     },
     "metadata": {},
     "output_type": "display_data"
    },
    {
     "data": {
      "text/html": [
       "<span style=\"color: green\">27 rows affected.</span>"
      ],
      "text/plain": [
       "27 rows affected."
      ]
     },
     "metadata": {},
     "output_type": "display_data"
    },
    {
     "data": {
      "text/html": [
       "<table>\n",
       "    <thead>\n",
       "        <tr>\n",
       "            <th>name</th>\n",
       "        </tr>\n",
       "    </thead>\n",
       "    <tbody>\n",
       "        <tr>\n",
       "            <td>Forever 21</td>\n",
       "        </tr>\n",
       "        <tr>\n",
       "            <td>Pet Valu</td>\n",
       "        </tr>\n",
       "        <tr>\n",
       "            <td>Great Basin Federal Credit Union</td>\n",
       "        </tr>\n",
       "        <tr>\n",
       "            <td>CVS Pharmacy</td>\n",
       "        </tr>\n",
       "        <tr>\n",
       "            <td>Tim Hortons</td>\n",
       "        </tr>\n",
       "        <tr>\n",
       "            <td>Sprouts Farmers Market</td>\n",
       "        </tr>\n",
       "        <tr>\n",
       "            <td>Dairy Queen Grill & Chill</td>\n",
       "        </tr>\n",
       "        <tr>\n",
       "            <td>QDOBA Mexican Eats</td>\n",
       "        </tr>\n",
       "        <tr>\n",
       "            <td>Pizza Hut</td>\n",
       "        </tr>\n",
       "        <tr>\n",
       "            <td>Dunkin'</td>\n",
       "        </tr>\n",
       "        <tr>\n",
       "            <td>KFC</td>\n",
       "        </tr>\n",
       "        <tr>\n",
       "            <td>The UPS Store</td>\n",
       "        </tr>\n",
       "        <tr>\n",
       "            <td>Domino's Pizza</td>\n",
       "        </tr>\n",
       "        <tr>\n",
       "            <td>Rite Aid</td>\n",
       "        </tr>\n",
       "        <tr>\n",
       "            <td>Edible Arrangements</td>\n",
       "        </tr>\n",
       "        <tr>\n",
       "            <td>Burger King</td>\n",
       "        </tr>\n",
       "        <tr>\n",
       "            <td>Applebee's Grill + Bar</td>\n",
       "        </tr>\n",
       "        <tr>\n",
       "            <td>Petco</td>\n",
       "        </tr>\n",
       "        <tr>\n",
       "            <td>Lion's Choice</td>\n",
       "        </tr>\n",
       "        <tr>\n",
       "            <td>Papa John's Pizza</td>\n",
       "        </tr>\n",
       "        <tr>\n",
       "            <td>Red Robin Gourmet Burgers and Brews</td>\n",
       "        </tr>\n",
       "        <tr>\n",
       "            <td>Taco Bell</td>\n",
       "        </tr>\n",
       "        <tr>\n",
       "            <td>IHOP</td>\n",
       "        </tr>\n",
       "        <tr>\n",
       "            <td>Starbucks</td>\n",
       "        </tr>\n",
       "        <tr>\n",
       "            <td>McDonald's</td>\n",
       "        </tr>\n",
       "        <tr>\n",
       "            <td>Sonic Drive-In</td>\n",
       "        </tr>\n",
       "        <tr>\n",
       "            <td>Walgreens</td>\n",
       "        </tr>\n",
       "    </tbody>\n",
       "</table>"
      ],
      "text/plain": [
       "+-------------------------------------+\n",
       "|                 name                |\n",
       "+-------------------------------------+\n",
       "|              Forever 21             |\n",
       "|               Pet Valu              |\n",
       "|   Great Basin Federal Credit Union  |\n",
       "|             CVS Pharmacy            |\n",
       "|             Tim Hortons             |\n",
       "|        Sprouts Farmers Market       |\n",
       "|      Dairy Queen Grill & Chill      |\n",
       "|          QDOBA Mexican Eats         |\n",
       "|              Pizza Hut              |\n",
       "|               Dunkin'               |\n",
       "|                 KFC                 |\n",
       "|            The UPS Store            |\n",
       "|            Domino's Pizza           |\n",
       "|               Rite Aid              |\n",
       "|         Edible Arrangements         |\n",
       "|             Burger King             |\n",
       "|        Applebee's Grill + Bar       |\n",
       "|                Petco                |\n",
       "|            Lion's Choice            |\n",
       "|          Papa John's Pizza          |\n",
       "| Red Robin Gourmet Burgers and Brews |\n",
       "|              Taco Bell              |\n",
       "|                 IHOP                |\n",
       "|              Starbucks              |\n",
       "|              McDonald's             |\n",
       "|            Sonic Drive-In           |\n",
       "|              Walgreens              |\n",
       "+-------------------------------------+"
      ]
     },
     "execution_count": 42,
     "metadata": {},
     "output_type": "execute_result"
    }
   ],
   "source": [
    "%%sql\n",
    "SELECT name\n",
    "FROM business \n",
    "GROUP BY name\n",
    "HAVING COUNT(state) > 1;"
   ]
  },
  {
   "cell_type": "code",
   "execution_count": 43,
   "metadata": {},
   "outputs": [
    {
     "data": {
      "text/html": [
       "<span style=\"None\">Running query in &#x27;postgresql://michellelin@localhost:5432/yelp&#x27;</span>"
      ],
      "text/plain": [
       "Running query in 'postgresql://michellelin@localhost:5432/yelp'"
      ]
     },
     "metadata": {},
     "output_type": "display_data"
    },
    {
     "data": {
      "text/html": [
       "<span style=\"color: green\">8 rows affected.</span>"
      ],
      "text/plain": [
       "8 rows affected."
      ]
     },
     "metadata": {},
     "output_type": "display_data"
    },
    {
     "data": {
      "text/html": [
       "<table>\n",
       "    <thead>\n",
       "        <tr>\n",
       "            <th>QUERY PLAN</th>\n",
       "        </tr>\n",
       "    </thead>\n",
       "    <tbody>\n",
       "        <tr>\n",
       "            <td>HashAggregate  (cost=102.00..113.96 rows=319 width=19) (actual time=6.011..6.138 rows=27 loops=1)</td>\n",
       "        </tr>\n",
       "        <tr>\n",
       "            <td>&nbsp;&nbsp;Group Key: name</td>\n",
       "        </tr>\n",
       "        <tr>\n",
       "            <td>&nbsp;&nbsp;Filter: (count(state) > 1)</td>\n",
       "        </tr>\n",
       "        <tr>\n",
       "            <td>&nbsp;&nbsp;Batches: 1  Memory Usage: 193kB</td>\n",
       "        </tr>\n",
       "        <tr>\n",
       "            <td>&nbsp;&nbsp;Rows Removed by Filter: 930</td>\n",
       "        </tr>\n",
       "        <tr>\n",
       "            <td>&nbsp;&nbsp;->  Seq Scan on business  (cost=0.00..97.00 rows=1000 width=22) (actual time=0.324..4.623 rows=1000 loops=1)</td>\n",
       "        </tr>\n",
       "        <tr>\n",
       "            <td>Planning Time: 0.899 ms</td>\n",
       "        </tr>\n",
       "        <tr>\n",
       "            <td>Execution Time: 7.183 ms</td>\n",
       "        </tr>\n",
       "    </tbody>\n",
       "</table>"
      ],
      "text/plain": [
       "+----------------------------------------------------------------------------------------------------------------+\n",
       "|                                                   QUERY PLAN                                                   |\n",
       "+----------------------------------------------------------------------------------------------------------------+\n",
       "|       HashAggregate  (cost=102.00..113.96 rows=319 width=19) (actual time=6.011..6.138 rows=27 loops=1)        |\n",
       "|                                                 Group Key: name                                                |\n",
       "|                                            Filter: (count(state) > 1)                                          |\n",
       "|                                         Batches: 1  Memory Usage: 193kB                                        |\n",
       "|                                           Rows Removed by Filter: 930                                          |\n",
       "|   ->  Seq Scan on business  (cost=0.00..97.00 rows=1000 width=22) (actual time=0.324..4.623 rows=1000 loops=1) |\n",
       "|                                            Planning Time: 0.899 ms                                             |\n",
       "|                                            Execution Time: 7.183 ms                                            |\n",
       "+----------------------------------------------------------------------------------------------------------------+"
      ]
     },
     "execution_count": 43,
     "metadata": {},
     "output_type": "execute_result"
    }
   ],
   "source": [
    "%%sql\n",
    "EXPLAIN ANALYZE\n",
    "SELECT name\n",
    "FROM business \n",
    "GROUP BY name\n",
    "HAVING COUNT(state) > 1;"
   ]
  },
  {
   "cell_type": "markdown",
   "metadata": {},
   "source": [
    "### Normalized Data"
   ]
  },
  {
   "cell_type": "code",
   "execution_count": 46,
   "metadata": {},
   "outputs": [
    {
     "data": {
      "text/html": [
       "<span style=\"None\">Running query in &#x27;postgresql://michellelin@localhost:5432/yelp&#x27;</span>"
      ],
      "text/plain": [
       "Running query in 'postgresql://michellelin@localhost:5432/yelp'"
      ]
     },
     "metadata": {},
     "output_type": "display_data"
    },
    {
     "data": {
      "text/html": [
       "<span style=\"color: green\">27 rows affected.</span>"
      ],
      "text/plain": [
       "27 rows affected."
      ]
     },
     "metadata": {},
     "output_type": "display_data"
    },
    {
     "data": {
      "text/html": [
       "<table>\n",
       "    <thead>\n",
       "        <tr>\n",
       "            <th>name</th>\n",
       "        </tr>\n",
       "    </thead>\n",
       "    <tbody>\n",
       "        <tr>\n",
       "            <td>Forever 21</td>\n",
       "        </tr>\n",
       "        <tr>\n",
       "            <td>Pet Valu</td>\n",
       "        </tr>\n",
       "        <tr>\n",
       "            <td>Great Basin Federal Credit Union</td>\n",
       "        </tr>\n",
       "        <tr>\n",
       "            <td>CVS Pharmacy</td>\n",
       "        </tr>\n",
       "        <tr>\n",
       "            <td>Tim Hortons</td>\n",
       "        </tr>\n",
       "        <tr>\n",
       "            <td>Sprouts Farmers Market</td>\n",
       "        </tr>\n",
       "        <tr>\n",
       "            <td>Dairy Queen Grill & Chill</td>\n",
       "        </tr>\n",
       "        <tr>\n",
       "            <td>QDOBA Mexican Eats</td>\n",
       "        </tr>\n",
       "        <tr>\n",
       "            <td>Pizza Hut</td>\n",
       "        </tr>\n",
       "        <tr>\n",
       "            <td>Dunkin'</td>\n",
       "        </tr>\n",
       "        <tr>\n",
       "            <td>KFC</td>\n",
       "        </tr>\n",
       "        <tr>\n",
       "            <td>The UPS Store</td>\n",
       "        </tr>\n",
       "        <tr>\n",
       "            <td>Domino's Pizza</td>\n",
       "        </tr>\n",
       "        <tr>\n",
       "            <td>Rite Aid</td>\n",
       "        </tr>\n",
       "        <tr>\n",
       "            <td>Edible Arrangements</td>\n",
       "        </tr>\n",
       "        <tr>\n",
       "            <td>Burger King</td>\n",
       "        </tr>\n",
       "        <tr>\n",
       "            <td>Applebee's Grill + Bar</td>\n",
       "        </tr>\n",
       "        <tr>\n",
       "            <td>Petco</td>\n",
       "        </tr>\n",
       "        <tr>\n",
       "            <td>Lion's Choice</td>\n",
       "        </tr>\n",
       "        <tr>\n",
       "            <td>Papa John's Pizza</td>\n",
       "        </tr>\n",
       "        <tr>\n",
       "            <td>Red Robin Gourmet Burgers and Brews</td>\n",
       "        </tr>\n",
       "        <tr>\n",
       "            <td>Taco Bell</td>\n",
       "        </tr>\n",
       "        <tr>\n",
       "            <td>IHOP</td>\n",
       "        </tr>\n",
       "        <tr>\n",
       "            <td>Starbucks</td>\n",
       "        </tr>\n",
       "        <tr>\n",
       "            <td>McDonald's</td>\n",
       "        </tr>\n",
       "        <tr>\n",
       "            <td>Sonic Drive-In</td>\n",
       "        </tr>\n",
       "        <tr>\n",
       "            <td>Walgreens</td>\n",
       "        </tr>\n",
       "    </tbody>\n",
       "</table>"
      ],
      "text/plain": [
       "+-------------------------------------+\n",
       "|                 name                |\n",
       "+-------------------------------------+\n",
       "|              Forever 21             |\n",
       "|               Pet Valu              |\n",
       "|   Great Basin Federal Credit Union  |\n",
       "|             CVS Pharmacy            |\n",
       "|             Tim Hortons             |\n",
       "|        Sprouts Farmers Market       |\n",
       "|      Dairy Queen Grill & Chill      |\n",
       "|          QDOBA Mexican Eats         |\n",
       "|              Pizza Hut              |\n",
       "|               Dunkin'               |\n",
       "|                 KFC                 |\n",
       "|            The UPS Store            |\n",
       "|            Domino's Pizza           |\n",
       "|               Rite Aid              |\n",
       "|         Edible Arrangements         |\n",
       "|             Burger King             |\n",
       "|        Applebee's Grill + Bar       |\n",
       "|                Petco                |\n",
       "|            Lion's Choice            |\n",
       "|          Papa John's Pizza          |\n",
       "| Red Robin Gourmet Burgers and Brews |\n",
       "|              Taco Bell              |\n",
       "|                 IHOP                |\n",
       "|              Starbucks              |\n",
       "|              McDonald's             |\n",
       "|            Sonic Drive-In           |\n",
       "|              Walgreens              |\n",
       "+-------------------------------------+"
      ]
     },
     "execution_count": 46,
     "metadata": {},
     "output_type": "execute_result"
    }
   ],
   "source": [
    "%%sql\n",
    "SELECT name\n",
    "FROM nor_business b\n",
    "JOIN location l \n",
    "ON b.business_id = l.business_id\n",
    "GROUP BY name\n",
    "HAVING COUNT(state) > 1;"
   ]
  },
  {
   "cell_type": "code",
   "execution_count": 47,
   "metadata": {},
   "outputs": [
    {
     "data": {
      "text/html": [
       "<span style=\"None\">Running query in &#x27;postgresql://michellelin@localhost:5432/yelp&#x27;</span>"
      ],
      "text/plain": [
       "Running query in 'postgresql://michellelin@localhost:5432/yelp'"
      ]
     },
     "metadata": {},
     "output_type": "display_data"
    },
    {
     "data": {
      "text/html": [
       "<span style=\"color: green\">13 rows affected.</span>"
      ],
      "text/plain": [
       "13 rows affected."
      ]
     },
     "metadata": {},
     "output_type": "display_data"
    },
    {
     "data": {
      "text/html": [
       "<table>\n",
       "    <thead>\n",
       "        <tr>\n",
       "            <th>QUERY PLAN</th>\n",
       "        </tr>\n",
       "    </thead>\n",
       "    <tbody>\n",
       "        <tr>\n",
       "            <td>HashAggregate  (cost=134.14..146.10 rows=319 width=19) (actual time=7.332..7.442 rows=27 loops=1)</td>\n",
       "        </tr>\n",
       "        <tr>\n",
       "            <td>&nbsp;&nbsp;Group Key: b.name</td>\n",
       "        </tr>\n",
       "        <tr>\n",
       "            <td>&nbsp;&nbsp;Filter: (count(l.state) > 1)</td>\n",
       "        </tr>\n",
       "        <tr>\n",
       "            <td>&nbsp;&nbsp;Batches: 1  Memory Usage: 193kB</td>\n",
       "        </tr>\n",
       "        <tr>\n",
       "            <td>&nbsp;&nbsp;Rows Removed by Filter: 930</td>\n",
       "        </tr>\n",
       "        <tr>\n",
       "            <td>&nbsp;&nbsp;->  Hash Join  (cost=102.50..129.14 rows=1000 width=22) (actual time=5.624..6.212 rows=1000 loops=1)</td>\n",
       "        </tr>\n",
       "        <tr>\n",
       "            <td>&nbsp;&nbsp;&nbsp;&nbsp;&nbsp;&nbsp;&nbsp;&nbsp;Hash Cond: ((l.business_id)::text = (b.business_id)::text)</td>\n",
       "        </tr>\n",
       "        <tr>\n",
       "            <td>&nbsp;&nbsp;&nbsp;&nbsp;&nbsp;&nbsp;&nbsp;&nbsp;->  Seq Scan on location l  (cost=0.00..24.00 rows=1000 width=26) (actual time=2.685..2.839 rows=1000 loops=1)</td>\n",
       "        </tr>\n",
       "        <tr>\n",
       "            <td>&nbsp;&nbsp;&nbsp;&nbsp;&nbsp;&nbsp;&nbsp;&nbsp;->  Hash  (cost=90.00..90.00 rows=1000 width=42) (actual time=2.824..2.824 rows=1000 loops=1)</td>\n",
       "        </tr>\n",
       "        <tr>\n",
       "            <td>&nbsp;&nbsp;&nbsp;&nbsp;&nbsp;&nbsp;&nbsp;&nbsp;&nbsp;&nbsp;&nbsp;&nbsp;&nbsp;&nbsp;Buckets: 1024  Batches: 1  Memory Usage: 82kB</td>\n",
       "        </tr>\n",
       "        <tr>\n",
       "            <td>&nbsp;&nbsp;&nbsp;&nbsp;&nbsp;&nbsp;&nbsp;&nbsp;&nbsp;&nbsp;&nbsp;&nbsp;&nbsp;&nbsp;->  Seq Scan on nor_business b  (cost=0.00..90.00 rows=1000 width=42) (actual time=0.040..2.053 rows=1000 loops=1)</td>\n",
       "        </tr>\n",
       "        <tr>\n",
       "            <td>Planning Time: 1.292 ms</td>\n",
       "        </tr>\n",
       "        <tr>\n",
       "            <td>Execution Time: 9.148 ms</td>\n",
       "        </tr>\n",
       "    </tbody>\n",
       "</table>"
      ],
      "text/plain": [
       "+----------------------------------------------------------------------------------------------------------------------------------+\n",
       "|                                                            QUERY PLAN                                                            |\n",
       "+----------------------------------------------------------------------------------------------------------------------------------+\n",
       "|                HashAggregate  (cost=134.14..146.10 rows=319 width=19) (actual time=7.332..7.442 rows=27 loops=1)                 |\n",
       "|                                                         Group Key: b.name                                                        |\n",
       "|                                                    Filter: (count(l.state) > 1)                                                  |\n",
       "|                                                  Batches: 1  Memory Usage: 193kB                                                 |\n",
       "|                                                    Rows Removed by Filter: 930                                                   |\n",
       "|                ->  Hash Join  (cost=102.50..129.14 rows=1000 width=22) (actual time=5.624..6.212 rows=1000 loops=1)              |\n",
       "|                                        Hash Cond: ((l.business_id)::text = (b.business_id)::text)                                |\n",
       "|              ->  Seq Scan on location l  (cost=0.00..24.00 rows=1000 width=26) (actual time=2.685..2.839 rows=1000 loops=1)      |\n",
       "|                      ->  Hash  (cost=90.00..90.00 rows=1000 width=42) (actual time=2.824..2.824 rows=1000 loops=1)               |\n",
       "|                                                 Buckets: 1024  Batches: 1  Memory Usage: 82kB                                    |\n",
       "|               ->  Seq Scan on nor_business b  (cost=0.00..90.00 rows=1000 width=42) (actual time=0.040..2.053 rows=1000 loops=1) |\n",
       "|                                                     Planning Time: 1.292 ms                                                      |\n",
       "|                                                     Execution Time: 9.148 ms                                                     |\n",
       "+----------------------------------------------------------------------------------------------------------------------------------+"
      ]
     },
     "execution_count": 47,
     "metadata": {},
     "output_type": "execute_result"
    }
   ],
   "source": [
    "%%sql\n",
    "EXPLAIN ANALYZE\n",
    "SELECT name\n",
    "FROM nor_business b\n",
    "JOIN location l \n",
    "ON b.business_id = l.business_id\n",
    "GROUP BY name\n",
    "HAVING COUNT(state) > 1;"
   ]
  },
  {
   "cell_type": "markdown",
   "metadata": {},
   "source": [
    "# Query 4\n",
    "### Find the user that has the most number of friends?"
   ]
  },
  {
   "cell_type": "markdown",
   "metadata": {},
   "source": [
    "## Denormazlied Data"
   ]
  },
  {
   "cell_type": "code",
   "execution_count": 50,
   "metadata": {},
   "outputs": [
    {
     "data": {
      "text/html": [
       "<span style=\"None\">Running query in &#x27;postgresql://michellelin@localhost:5432/yelp&#x27;</span>"
      ],
      "text/plain": [
       "Running query in 'postgresql://michellelin@localhost:5432/yelp'"
      ]
     },
     "metadata": {},
     "output_type": "display_data"
    },
    {
     "data": {
      "text/html": [
       "<span style=\"color: green\">5 rows affected.</span>"
      ],
      "text/plain": [
       "5 rows affected."
      ]
     },
     "metadata": {},
     "output_type": "display_data"
    },
    {
     "data": {
      "text/html": [
       "<table>\n",
       "    <thead>\n",
       "        <tr>\n",
       "            <th>user_id</th>\n",
       "            <th>name</th>\n",
       "            <th>num_friends</th>\n",
       "        </tr>\n",
       "    </thead>\n",
       "    <tbody>\n",
       "        <tr>\n",
       "            <td>Oi1qbcz2m2SnwUeztGYcnQ</td>\n",
       "            <td>Steven</td>\n",
       "            <td>10072</td>\n",
       "        </tr>\n",
       "        <tr>\n",
       "            <td>djxnI8Ux8ZYQJhiOQkrRhA</td>\n",
       "            <td>Abby</td>\n",
       "            <td>8858</td>\n",
       "        </tr>\n",
       "        <tr>\n",
       "            <td>MeDuKsZcnI3IU2g7OlV-hQ</td>\n",
       "            <td>Frank</td>\n",
       "            <td>7945</td>\n",
       "        </tr>\n",
       "        <tr>\n",
       "            <td>UsXqCXRZwSCSw0AT7y1uBg</td>\n",
       "            <td>Carl</td>\n",
       "            <td>7413</td>\n",
       "        </tr>\n",
       "        <tr>\n",
       "            <td>QiciohgD8N6vCty4vGL3pQ</td>\n",
       "            <td>Emily</td>\n",
       "            <td>7048</td>\n",
       "        </tr>\n",
       "    </tbody>\n",
       "</table>"
      ],
      "text/plain": [
       "+------------------------+--------+-------------+\n",
       "|        user_id         |  name  | num_friends |\n",
       "+------------------------+--------+-------------+\n",
       "| Oi1qbcz2m2SnwUeztGYcnQ | Steven |    10072    |\n",
       "| djxnI8Ux8ZYQJhiOQkrRhA |  Abby  |     8858    |\n",
       "| MeDuKsZcnI3IU2g7OlV-hQ | Frank  |     7945    |\n",
       "| UsXqCXRZwSCSw0AT7y1uBg |  Carl  |     7413    |\n",
       "| QiciohgD8N6vCty4vGL3pQ | Emily  |     7048    |\n",
       "+------------------------+--------+-------------+"
      ]
     },
     "execution_count": 50,
     "metadata": {},
     "output_type": "execute_result"
    }
   ],
   "source": [
    "%%sql\n",
    "SELECT \n",
    "    user_id, \n",
    "    name, \n",
    "    CARDINALITY(STRING_TO_ARRAY(friends, ',')) AS num_friends \n",
    "FROM \n",
    "    yelp_user \n",
    "ORDER BY \n",
    "    num_friends DESC \n",
    "LIMIT 5;\n"
   ]
  },
  {
   "cell_type": "code",
   "execution_count": 51,
   "metadata": {},
   "outputs": [
    {
     "data": {
      "text/html": [
       "<span style=\"None\">Running query in &#x27;postgresql://michellelin@localhost:5432/yelp&#x27;</span>"
      ],
      "text/plain": [
       "Running query in 'postgresql://michellelin@localhost:5432/yelp'"
      ]
     },
     "metadata": {},
     "output_type": "display_data"
    },
    {
     "data": {
      "text/html": [
       "<span style=\"color: green\">7 rows affected.</span>"
      ],
      "text/plain": [
       "7 rows affected."
      ]
     },
     "metadata": {},
     "output_type": "display_data"
    },
    {
     "data": {
      "text/html": [
       "<table>\n",
       "    <thead>\n",
       "        <tr>\n",
       "            <th>QUERY PLAN</th>\n",
       "        </tr>\n",
       "    </thead>\n",
       "    <tbody>\n",
       "        <tr>\n",
       "            <td>Limit  (cost=3400.35..3400.36 rows=5 width=33) (actual time=583.745..583.746 rows=5 loops=1)</td>\n",
       "        </tr>\n",
       "        <tr>\n",
       "            <td>&nbsp;&nbsp;->  Sort  (cost=3400.35..3506.83 rows=42593 width=33) (actual time=583.744..583.745 rows=5 loops=1)</td>\n",
       "        </tr>\n",
       "        <tr>\n",
       "            <td>&nbsp;&nbsp;&nbsp;&nbsp;&nbsp;&nbsp;&nbsp;&nbsp;Sort Key: (cardinality(string_to_array(friends, ','::text))) DESC</td>\n",
       "        </tr>\n",
       "        <tr>\n",
       "            <td>&nbsp;&nbsp;&nbsp;&nbsp;&nbsp;&nbsp;&nbsp;&nbsp;Sort Method: top-N heapsort  Memory: 25kB</td>\n",
       "        </tr>\n",
       "        <tr>\n",
       "            <td>&nbsp;&nbsp;&nbsp;&nbsp;&nbsp;&nbsp;&nbsp;&nbsp;->  Seq Scan on yelp_user  (cost=0.00..2692.89 rows=42593 width=33) (actual time=2.448..576.911 rows=42593 loops=1)</td>\n",
       "        </tr>\n",
       "        <tr>\n",
       "            <td>Planning Time: 0.197 ms</td>\n",
       "        </tr>\n",
       "        <tr>\n",
       "            <td>Execution Time: 583.976 ms</td>\n",
       "        </tr>\n",
       "    </tbody>\n",
       "</table>"
      ],
      "text/plain": [
       "+-----------------------------------------------------------------------------------------------------------------------------+\n",
       "|                                                          QUERY PLAN                                                         |\n",
       "+-----------------------------------------------------------------------------------------------------------------------------+\n",
       "|                 Limit  (cost=3400.35..3400.36 rows=5 width=33) (actual time=583.745..583.746 rows=5 loops=1)                |\n",
       "|              ->  Sort  (cost=3400.35..3506.83 rows=42593 width=33) (actual time=583.744..583.745 rows=5 loops=1)            |\n",
       "|                                  Sort Key: (cardinality(string_to_array(friends, ','::text))) DESC                          |\n",
       "|                                              Sort Method: top-N heapsort  Memory: 25kB                                      |\n",
       "|         ->  Seq Scan on yelp_user  (cost=0.00..2692.89 rows=42593 width=33) (actual time=2.448..576.911 rows=42593 loops=1) |\n",
       "|                                                   Planning Time: 0.197 ms                                                   |\n",
       "|                                                  Execution Time: 583.976 ms                                                 |\n",
       "+-----------------------------------------------------------------------------------------------------------------------------+"
      ]
     },
     "execution_count": 51,
     "metadata": {},
     "output_type": "execute_result"
    }
   ],
   "source": [
    "%%sql\n",
    "EXPLAIN ANALYZE\n",
    "SELECT \n",
    "    user_id, \n",
    "    name, \n",
    "    CARDINALITY(STRING_TO_ARRAY(friends, ',')) AS num_friends \n",
    "FROM \n",
    "    yelp_user \n",
    "ORDER BY \n",
    "    num_friends DESC \n",
    "LIMIT 5;"
   ]
  },
  {
   "cell_type": "markdown",
   "metadata": {},
   "source": [
    "## Normalized Data"
   ]
  },
  {
   "cell_type": "code",
   "execution_count": 52,
   "metadata": {},
   "outputs": [
    {
     "data": {
      "text/html": [
       "<span style=\"None\">Running query in &#x27;postgresql://michellelin@localhost:5432/yelp&#x27;</span>"
      ],
      "text/plain": [
       "Running query in 'postgresql://michellelin@localhost:5432/yelp'"
      ]
     },
     "metadata": {},
     "output_type": "display_data"
    },
    {
     "data": {
      "text/html": [
       "<span style=\"color: green\">5 rows affected.</span>"
      ],
      "text/plain": [
       "5 rows affected."
      ]
     },
     "metadata": {},
     "output_type": "display_data"
    },
    {
     "data": {
      "text/html": [
       "<table>\n",
       "    <thead>\n",
       "        <tr>\n",
       "            <th>user_id</th>\n",
       "            <th>num_friends</th>\n",
       "        </tr>\n",
       "    </thead>\n",
       "    <tbody>\n",
       "        <tr>\n",
       "            <td>Oi1qbcz2m2SnwUeztGYcnQ</td>\n",
       "            <td>10072</td>\n",
       "        </tr>\n",
       "        <tr>\n",
       "            <td>djxnI8Ux8ZYQJhiOQkrRhA</td>\n",
       "            <td>8858</td>\n",
       "        </tr>\n",
       "        <tr>\n",
       "            <td>MeDuKsZcnI3IU2g7OlV-hQ</td>\n",
       "            <td>7945</td>\n",
       "        </tr>\n",
       "        <tr>\n",
       "            <td>UsXqCXRZwSCSw0AT7y1uBg</td>\n",
       "            <td>7413</td>\n",
       "        </tr>\n",
       "        <tr>\n",
       "            <td>QiciohgD8N6vCty4vGL3pQ</td>\n",
       "            <td>7048</td>\n",
       "        </tr>\n",
       "    </tbody>\n",
       "</table>"
      ],
      "text/plain": [
       "+------------------------+-------------+\n",
       "|        user_id         | num_friends |\n",
       "+------------------------+-------------+\n",
       "| Oi1qbcz2m2SnwUeztGYcnQ |    10072    |\n",
       "| djxnI8Ux8ZYQJhiOQkrRhA |     8858    |\n",
       "| MeDuKsZcnI3IU2g7OlV-hQ |     7945    |\n",
       "| UsXqCXRZwSCSw0AT7y1uBg |     7413    |\n",
       "| QiciohgD8N6vCty4vGL3pQ |     7048    |\n",
       "+------------------------+-------------+"
      ]
     },
     "execution_count": 52,
     "metadata": {},
     "output_type": "execute_result"
    }
   ],
   "source": [
    "%%sql\n",
    "SELECT user_id, COUNT(*) num_friends\n",
    "FROM friends \n",
    "GROUP BY user_id\n",
    "ORDER BY num_friends DESC\n",
    "LIMIT 5;"
   ]
  },
  {
   "cell_type": "code",
   "execution_count": 53,
   "metadata": {},
   "outputs": [
    {
     "data": {
      "text/html": [
       "<span style=\"None\">Running query in &#x27;postgresql://michellelin@localhost:5432/yelp&#x27;</span>"
      ],
      "text/plain": [
       "Running query in 'postgresql://michellelin@localhost:5432/yelp'"
      ]
     },
     "metadata": {},
     "output_type": "display_data"
    },
    {
     "data": {
      "text/html": [
       "<span style=\"color: green\">18 rows affected.</span>"
      ],
      "text/plain": [
       "18 rows affected."
      ]
     },
     "metadata": {},
     "output_type": "display_data"
    },
    {
     "data": {
      "text/html": [
       "<table>\n",
       "    <thead>\n",
       "        <tr>\n",
       "            <th>QUERY PLAN</th>\n",
       "        </tr>\n",
       "    </thead>\n",
       "    <tbody>\n",
       "        <tr>\n",
       "            <td>Limit  (cost=62992.92..62992.93 rows=5 width=31) (actual time=1012.822..1012.853 rows=5 loops=1)</td>\n",
       "        </tr>\n",
       "        <tr>\n",
       "            <td>&nbsp;&nbsp;->  Sort  (cost=62992.92..63026.60 rows=13471 width=31) (actual time=1012.821..1012.852 rows=5 loops=1)</td>\n",
       "        </tr>\n",
       "        <tr>\n",
       "            <td>&nbsp;&nbsp;&nbsp;&nbsp;&nbsp;&nbsp;&nbsp;&nbsp;Sort Key: (count(*)) DESC</td>\n",
       "        </tr>\n",
       "        <tr>\n",
       "            <td>&nbsp;&nbsp;&nbsp;&nbsp;&nbsp;&nbsp;&nbsp;&nbsp;Sort Method: top-N heapsort  Memory: 25kB</td>\n",
       "        </tr>\n",
       "        <tr>\n",
       "            <td>&nbsp;&nbsp;&nbsp;&nbsp;&nbsp;&nbsp;&nbsp;&nbsp;->  Finalize HashAggregate  (cost=62634.46..62769.17 rows=13471 width=31) (actual time=1005.569..1010.302 rows=29918 loops=1)</td>\n",
       "        </tr>\n",
       "        <tr>\n",
       "            <td>&nbsp;&nbsp;&nbsp;&nbsp;&nbsp;&nbsp;&nbsp;&nbsp;&nbsp;&nbsp;&nbsp;&nbsp;&nbsp;&nbsp;Group Key: user_id</td>\n",
       "        </tr>\n",
       "        <tr>\n",
       "            <td>&nbsp;&nbsp;&nbsp;&nbsp;&nbsp;&nbsp;&nbsp;&nbsp;&nbsp;&nbsp;&nbsp;&nbsp;&nbsp;&nbsp;Batches: 5  Memory Usage: 4657kB  Disk Usage: 224kB</td>\n",
       "        </tr>\n",
       "        <tr>\n",
       "            <td>&nbsp;&nbsp;&nbsp;&nbsp;&nbsp;&nbsp;&nbsp;&nbsp;&nbsp;&nbsp;&nbsp;&nbsp;&nbsp;&nbsp;->  Gather  (cost=59670.84..62499.75 rows=26942 width=31) (actual time=992.837..996.129 rows=31275 loops=1)</td>\n",
       "        </tr>\n",
       "        <tr>\n",
       "            <td>&nbsp;&nbsp;&nbsp;&nbsp;&nbsp;&nbsp;&nbsp;&nbsp;&nbsp;&nbsp;&nbsp;&nbsp;&nbsp;&nbsp;&nbsp;&nbsp;&nbsp;&nbsp;&nbsp;&nbsp;Workers Planned: 2</td>\n",
       "        </tr>\n",
       "        <tr>\n",
       "            <td>&nbsp;&nbsp;&nbsp;&nbsp;&nbsp;&nbsp;&nbsp;&nbsp;&nbsp;&nbsp;&nbsp;&nbsp;&nbsp;&nbsp;&nbsp;&nbsp;&nbsp;&nbsp;&nbsp;&nbsp;Workers Launched: 2</td>\n",
       "        </tr>\n",
       "        <tr>\n",
       "            <td>&nbsp;&nbsp;&nbsp;&nbsp;&nbsp;&nbsp;&nbsp;&nbsp;&nbsp;&nbsp;&nbsp;&nbsp;&nbsp;&nbsp;&nbsp;&nbsp;&nbsp;&nbsp;&nbsp;&nbsp;->  Partial HashAggregate  (cost=58670.84..58805.55 rows=13471 width=31) (actual time=988.055..989.045 rows=10425 loops=3)</td>\n",
       "        </tr>\n",
       "        <tr>\n",
       "            <td>&nbsp;&nbsp;&nbsp;&nbsp;&nbsp;&nbsp;&nbsp;&nbsp;&nbsp;&nbsp;&nbsp;&nbsp;&nbsp;&nbsp;&nbsp;&nbsp;&nbsp;&nbsp;&nbsp;&nbsp;&nbsp;&nbsp;&nbsp;&nbsp;&nbsp;&nbsp;Group Key: user_id</td>\n",
       "        </tr>\n",
       "        <tr>\n",
       "            <td>&nbsp;&nbsp;&nbsp;&nbsp;&nbsp;&nbsp;&nbsp;&nbsp;&nbsp;&nbsp;&nbsp;&nbsp;&nbsp;&nbsp;&nbsp;&nbsp;&nbsp;&nbsp;&nbsp;&nbsp;&nbsp;&nbsp;&nbsp;&nbsp;&nbsp;&nbsp;Batches: 1  Memory Usage: 1681kB</td>\n",
       "        </tr>\n",
       "        <tr>\n",
       "            <td>&nbsp;&nbsp;&nbsp;&nbsp;&nbsp;&nbsp;&nbsp;&nbsp;&nbsp;&nbsp;&nbsp;&nbsp;&nbsp;&nbsp;&nbsp;&nbsp;&nbsp;&nbsp;&nbsp;&nbsp;&nbsp;&nbsp;&nbsp;&nbsp;&nbsp;&nbsp;Worker 0:  Batches: 1  Memory Usage: 1681kB</td>\n",
       "        </tr>\n",
       "        <tr>\n",
       "            <td>&nbsp;&nbsp;&nbsp;&nbsp;&nbsp;&nbsp;&nbsp;&nbsp;&nbsp;&nbsp;&nbsp;&nbsp;&nbsp;&nbsp;&nbsp;&nbsp;&nbsp;&nbsp;&nbsp;&nbsp;&nbsp;&nbsp;&nbsp;&nbsp;&nbsp;&nbsp;Worker 1:  Batches: 1  Memory Usage: 1681kB</td>\n",
       "        </tr>\n",
       "        <tr>\n",
       "            <td>&nbsp;&nbsp;&nbsp;&nbsp;&nbsp;&nbsp;&nbsp;&nbsp;&nbsp;&nbsp;&nbsp;&nbsp;&nbsp;&nbsp;&nbsp;&nbsp;&nbsp;&nbsp;&nbsp;&nbsp;&nbsp;&nbsp;&nbsp;&nbsp;&nbsp;&nbsp;->  Parallel Seq Scan on friends  (cost=0.00..50833.56 rows=1567456 width=23) (actual time=0.158..788.590 rows=1253971 loops=3)</td>\n",
       "        </tr>\n",
       "        <tr>\n",
       "            <td>Planning Time: 0.331 ms</td>\n",
       "        </tr>\n",
       "        <tr>\n",
       "            <td>Execution Time: 1014.170 ms</td>\n",
       "        </tr>\n",
       "    </tbody>\n",
       "</table>"
      ],
      "text/plain": [
       "+-----------------------------------------------------------------------------------------------------------------------------------------------------------+\n",
       "|                                                                         QUERY PLAN                                                                        |\n",
       "+-----------------------------------------------------------------------------------------------------------------------------------------------------------+\n",
       "|                              Limit  (cost=62992.92..62992.93 rows=5 width=31) (actual time=1012.822..1012.853 rows=5 loops=1)                             |\n",
       "|                           ->  Sort  (cost=62992.92..63026.60 rows=13471 width=31) (actual time=1012.821..1012.852 rows=5 loops=1)                         |\n",
       "|                                                                     Sort Key: (count(*)) DESC                                                             |\n",
       "|                                                             Sort Method: top-N heapsort  Memory: 25kB                                                     |\n",
       "|                   ->  Finalize HashAggregate  (cost=62634.46..62769.17 rows=13471 width=31) (actual time=1005.569..1010.302 rows=29918 loops=1)           |\n",
       "|                                                                            Group Key: user_id                                                             |\n",
       "|                                                           Batches: 5  Memory Usage: 4657kB  Disk Usage: 224kB                                             |\n",
       "|                               ->  Gather  (cost=59670.84..62499.75 rows=26942 width=31) (actual time=992.837..996.129 rows=31275 loops=1)                 |\n",
       "|                                                                               Workers Planned: 2                                                          |\n",
       "|                                                                              Workers Launched: 2                                                          |\n",
       "|                           ->  Partial HashAggregate  (cost=58670.84..58805.55 rows=13471 width=31) (actual time=988.055..989.045 rows=10425 loops=3)      |\n",
       "|                                                                                  Group Key: user_id                                                       |\n",
       "|                                                                           Batches: 1  Memory Usage: 1681kB                                                |\n",
       "|                                                                     Worker 0:  Batches: 1  Memory Usage: 1681kB                                           |\n",
       "|                                                                     Worker 1:  Batches: 1  Memory Usage: 1681kB                                           |\n",
       "|                           ->  Parallel Seq Scan on friends  (cost=0.00..50833.56 rows=1567456 width=23) (actual time=0.158..788.590 rows=1253971 loops=3) |\n",
       "|                                                                  Planning Time: 0.331 ms                                                                  |\n",
       "|                                                                Execution Time: 1014.170 ms                                                                |\n",
       "+-----------------------------------------------------------------------------------------------------------------------------------------------------------+"
      ]
     },
     "execution_count": 53,
     "metadata": {},
     "output_type": "execute_result"
    }
   ],
   "source": [
    "%%sql\n",
    "EXPLAIN ANALYZE\n",
    "SELECT user_id, COUNT(*) num_friends\n",
    "FROM friends \n",
    "GROUP BY user_id\n",
    "ORDER BY num_friends DESC\n",
    "LIMIT 5;"
   ]
  },
  {
   "cell_type": "markdown",
   "metadata": {},
   "source": []
  }
 ],
 "metadata": {
  "kernelspec": {
   "display_name": "base",
   "language": "python",
   "name": "python3"
  },
  "language_info": {
   "codemirror_mode": {
    "name": "ipython",
    "version": 3
   },
   "file_extension": ".py",
   "mimetype": "text/x-python",
   "name": "python",
   "nbconvert_exporter": "python",
   "pygments_lexer": "ipython3",
   "version": "3.9.12"
  }
 },
 "nbformat": 4,
 "nbformat_minor": 2
}
