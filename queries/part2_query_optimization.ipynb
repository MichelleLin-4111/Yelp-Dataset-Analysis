{
 "cells": [
  {
   "cell_type": "code",
   "execution_count": 2,
   "metadata": {},
   "outputs": [],
   "source": [
    "import psycopg"
   ]
  },
  {
   "cell_type": "code",
   "execution_count": 3,
   "metadata": {},
   "outputs": [],
   "source": [
    "%reload_ext sql"
   ]
  },
  {
   "cell_type": "code",
   "execution_count": 4,
   "metadata": {},
   "outputs": [],
   "source": [
    "%sql postgresql://michellelin@localhost:5432/yelp"
   ]
  },
  {
   "cell_type": "code",
   "execution_count": 5,
   "metadata": {},
   "outputs": [],
   "source": [
    "%config SqlMagic.displaylimit = 30"
   ]
  },
  {
   "cell_type": "markdown",
   "metadata": {},
   "source": [
    "# Views\n",
    "### What the top 5 cities with the most 5-star businesses?"
   ]
  },
  {
   "cell_type": "markdown",
   "metadata": {},
   "source": [
    "### Without any views"
   ]
  },
  {
   "cell_type": "code",
   "execution_count": 10,
   "metadata": {},
   "outputs": [
    {
     "data": {
      "text/html": [
       "<span style=\"None\">Running query in &#x27;postgresql://michellelin@localhost:5432/yelp&#x27;</span>"
      ],
      "text/plain": [
       "Running query in 'postgresql://michellelin@localhost:5432/yelp'"
      ]
     },
     "metadata": {},
     "output_type": "display_data"
    },
    {
     "data": {
      "text/html": [
       "<span style=\"color: green\">5 rows affected.</span>"
      ],
      "text/plain": [
       "5 rows affected."
      ]
     },
     "metadata": {},
     "output_type": "display_data"
    },
    {
     "data": {
      "text/html": [
       "<table>\n",
       "    <thead>\n",
       "        <tr>\n",
       "            <th>city</th>\n",
       "            <th>state</th>\n",
       "            <th>five_star_count</th>\n",
       "        </tr>\n",
       "    </thead>\n",
       "    <tbody>\n",
       "        <tr>\n",
       "            <td>Santa Barbara</td>\n",
       "            <td>CA</td>\n",
       "            <td>9</td>\n",
       "        </tr>\n",
       "        <tr>\n",
       "            <td>Reno</td>\n",
       "            <td>NV</td>\n",
       "            <td>7</td>\n",
       "        </tr>\n",
       "        <tr>\n",
       "            <td>Tucson</td>\n",
       "            <td>AZ</td>\n",
       "            <td>6</td>\n",
       "        </tr>\n",
       "        <tr>\n",
       "            <td>Tampa</td>\n",
       "            <td>FL</td>\n",
       "            <td>5</td>\n",
       "        </tr>\n",
       "        <tr>\n",
       "            <td>Philadelphia</td>\n",
       "            <td>PA</td>\n",
       "            <td>5</td>\n",
       "        </tr>\n",
       "    </tbody>\n",
       "</table>"
      ],
      "text/plain": [
       "+---------------+-------+-----------------+\n",
       "|      city     | state | five_star_count |\n",
       "+---------------+-------+-----------------+\n",
       "| Santa Barbara |   CA  |        9        |\n",
       "|      Reno     |   NV  |        7        |\n",
       "|     Tucson    |   AZ  |        6        |\n",
       "|     Tampa     |   FL  |        5        |\n",
       "|  Philadelphia |   PA  |        5        |\n",
       "+---------------+-------+-----------------+"
      ]
     },
     "execution_count": 10,
     "metadata": {},
     "output_type": "execute_result"
    }
   ],
   "source": [
    "%%sql\n",
    "SELECT city, state, COUNT(*) AS five_star_count\n",
    "FROM business\n",
    "WHERE stars = 5\n",
    "GROUP BY city, state\n",
    "ORDER BY five_star_count DESC\n",
    "LIMIT 5;"
   ]
  },
  {
   "cell_type": "code",
   "execution_count": 11,
   "metadata": {},
   "outputs": [
    {
     "data": {
      "text/html": [
       "<span style=\"None\">Running query in &#x27;postgresql://michellelin@localhost:5432/yelp&#x27;</span>"
      ],
      "text/plain": [
       "Running query in 'postgresql://michellelin@localhost:5432/yelp'"
      ]
     },
     "metadata": {},
     "output_type": "display_data"
    },
    {
     "data": {
      "text/html": [
       "<span style=\"color: green\">12 rows affected.</span>"
      ],
      "text/plain": [
       "12 rows affected."
      ]
     },
     "metadata": {},
     "output_type": "display_data"
    },
    {
     "data": {
      "text/html": [
       "<table>\n",
       "    <thead>\n",
       "        <tr>\n",
       "            <th>QUERY PLAN</th>\n",
       "        </tr>\n",
       "    </thead>\n",
       "    <tbody>\n",
       "        <tr>\n",
       "            <td>Limit  (cost=102.70..102.71 rows=5 width=21) (actual time=8.379..8.381 rows=5 loops=1)</td>\n",
       "        </tr>\n",
       "        <tr>\n",
       "            <td>&nbsp;&nbsp;->  Sort  (cost=102.70..102.92 rows=90 width=21) (actual time=8.378..8.379 rows=5 loops=1)</td>\n",
       "        </tr>\n",
       "        <tr>\n",
       "            <td>&nbsp;&nbsp;&nbsp;&nbsp;&nbsp;&nbsp;&nbsp;&nbsp;Sort Key: (count(*)) DESC</td>\n",
       "        </tr>\n",
       "        <tr>\n",
       "            <td>&nbsp;&nbsp;&nbsp;&nbsp;&nbsp;&nbsp;&nbsp;&nbsp;Sort Method: top-N heapsort  Memory: 25kB</td>\n",
       "        </tr>\n",
       "        <tr>\n",
       "            <td>&nbsp;&nbsp;&nbsp;&nbsp;&nbsp;&nbsp;&nbsp;&nbsp;->  HashAggregate  (cost=100.30..101.20 rows=90 width=21) (actual time=8.323..8.337 rows=56 loops=1)</td>\n",
       "        </tr>\n",
       "        <tr>\n",
       "            <td>&nbsp;&nbsp;&nbsp;&nbsp;&nbsp;&nbsp;&nbsp;&nbsp;&nbsp;&nbsp;&nbsp;&nbsp;&nbsp;&nbsp;Group Key: city, state</td>\n",
       "        </tr>\n",
       "        <tr>\n",
       "            <td>&nbsp;&nbsp;&nbsp;&nbsp;&nbsp;&nbsp;&nbsp;&nbsp;&nbsp;&nbsp;&nbsp;&nbsp;&nbsp;&nbsp;Batches: 1  Memory Usage: 24kB</td>\n",
       "        </tr>\n",
       "        <tr>\n",
       "            <td>&nbsp;&nbsp;&nbsp;&nbsp;&nbsp;&nbsp;&nbsp;&nbsp;&nbsp;&nbsp;&nbsp;&nbsp;&nbsp;&nbsp;->  Seq Scan on business  (cost=0.00..99.50 rows=107 width=13) (actual time=0.058..8.162 rows=107 loops=1)</td>\n",
       "        </tr>\n",
       "        <tr>\n",
       "            <td>&nbsp;&nbsp;&nbsp;&nbsp;&nbsp;&nbsp;&nbsp;&nbsp;&nbsp;&nbsp;&nbsp;&nbsp;&nbsp;&nbsp;&nbsp;&nbsp;&nbsp;&nbsp;&nbsp;&nbsp;Filter: (stars = '5'::numeric)</td>\n",
       "        </tr>\n",
       "        <tr>\n",
       "            <td>&nbsp;&nbsp;&nbsp;&nbsp;&nbsp;&nbsp;&nbsp;&nbsp;&nbsp;&nbsp;&nbsp;&nbsp;&nbsp;&nbsp;&nbsp;&nbsp;&nbsp;&nbsp;&nbsp;&nbsp;Rows Removed by Filter: 893</td>\n",
       "        </tr>\n",
       "        <tr>\n",
       "            <td>Planning Time: 0.303 ms</td>\n",
       "        </tr>\n",
       "        <tr>\n",
       "            <td>Execution Time: 8.486 ms</td>\n",
       "        </tr>\n",
       "    </tbody>\n",
       "</table>"
      ],
      "text/plain": [
       "+--------------------------------------------------------------------------------------------------------------------------+\n",
       "|                                                        QUERY PLAN                                                        |\n",
       "+--------------------------------------------------------------------------------------------------------------------------+\n",
       "|                  Limit  (cost=102.70..102.71 rows=5 width=21) (actual time=8.379..8.381 rows=5 loops=1)                  |\n",
       "|                 ->  Sort  (cost=102.70..102.92 rows=90 width=21) (actual time=8.378..8.379 rows=5 loops=1)               |\n",
       "|                                                    Sort Key: (count(*)) DESC                                             |\n",
       "|                                            Sort Method: top-N heapsort  Memory: 25kB                                     |\n",
       "|               ->  HashAggregate  (cost=100.30..101.20 rows=90 width=21) (actual time=8.323..8.337 rows=56 loops=1)       |\n",
       "|                                                         Group Key: city, state                                           |\n",
       "|                                                     Batches: 1  Memory Usage: 24kB                                       |\n",
       "|               ->  Seq Scan on business  (cost=0.00..99.50 rows=107 width=13) (actual time=0.058..8.162 rows=107 loops=1) |\n",
       "|                                                        Filter: (stars = '5'::numeric)                                    |\n",
       "|                                                         Rows Removed by Filter: 893                                      |\n",
       "|                                                 Planning Time: 0.303 ms                                                  |\n",
       "|                                                 Execution Time: 8.486 ms                                                 |\n",
       "+--------------------------------------------------------------------------------------------------------------------------+"
      ]
     },
     "execution_count": 11,
     "metadata": {},
     "output_type": "execute_result"
    }
   ],
   "source": [
    "%%sql\n",
    "EXPLAIN ANALYZE\n",
    "SELECT city, state, COUNT(*) AS five_star_count\n",
    "FROM business\n",
    "WHERE stars = 5\n",
    "GROUP BY city, state\n",
    "ORDER BY five_star_count DESC\n",
    "LIMIT 5;"
   ]
  },
  {
   "cell_type": "markdown",
   "metadata": {},
   "source": [
    "### Optimization with Materialized View"
   ]
  },
  {
   "cell_type": "code",
   "execution_count": 19,
   "metadata": {},
   "outputs": [
    {
     "data": {
      "text/html": [
       "<span style=\"None\">Running query in &#x27;postgresql://michellelin@localhost:5432/yelp&#x27;</span>"
      ],
      "text/plain": [
       "Running query in 'postgresql://michellelin@localhost:5432/yelp'"
      ]
     },
     "metadata": {},
     "output_type": "display_data"
    },
    {
     "data": {
      "text/html": [
       "<span style=\"color: green\">107 rows affected.</span>"
      ],
      "text/plain": [
       "107 rows affected."
      ]
     },
     "metadata": {},
     "output_type": "display_data"
    },
    {
     "data": {
      "text/html": [
       "<span style=\"color: green\">5 rows affected.</span>"
      ],
      "text/plain": [
       "5 rows affected."
      ]
     },
     "metadata": {},
     "output_type": "display_data"
    },
    {
     "data": {
      "text/html": [
       "<table>\n",
       "    <thead>\n",
       "        <tr>\n",
       "            <th>city</th>\n",
       "            <th>five_star_count</th>\n",
       "        </tr>\n",
       "    </thead>\n",
       "    <tbody>\n",
       "        <tr>\n",
       "            <td>Santa Barbara</td>\n",
       "            <td>9</td>\n",
       "        </tr>\n",
       "        <tr>\n",
       "            <td>Reno</td>\n",
       "            <td>7</td>\n",
       "        </tr>\n",
       "        <tr>\n",
       "            <td>Tucson</td>\n",
       "            <td>6</td>\n",
       "        </tr>\n",
       "        <tr>\n",
       "            <td>Tampa</td>\n",
       "            <td>5</td>\n",
       "        </tr>\n",
       "        <tr>\n",
       "            <td>Philadelphia</td>\n",
       "            <td>5</td>\n",
       "        </tr>\n",
       "    </tbody>\n",
       "</table>"
      ],
      "text/plain": [
       "+---------------+-----------------+\n",
       "|      city     | five_star_count |\n",
       "+---------------+-----------------+\n",
       "| Santa Barbara |        9        |\n",
       "|      Reno     |        7        |\n",
       "|     Tucson    |        6        |\n",
       "|     Tampa     |        5        |\n",
       "|  Philadelphia |        5        |\n",
       "+---------------+-----------------+"
      ]
     },
     "execution_count": 19,
     "metadata": {},
     "output_type": "execute_result"
    }
   ],
   "source": [
    "%%sql\n",
    "-- Create a materialized view to store all 5 stars businesses\n",
    "DROP MATERIALIZED VIEW IF EXISTS five_stars;\n",
    "CREATE MATERIALIZED VIEW five_stars AS \n",
    "SELECT *\n",
    "FROM business\n",
    "WHERE stars = 5;\n",
    "\n",
    "-- Get the cities with the most 5 stars businesses\n",
    "SELECT city, COUNT(*) five_star_count\n",
    "FROM five_stars \n",
    "GROUP BY city, state\n",
    "ORDER BY five_star_count DESC\n",
    "LIMIT 5;"
   ]
  },
  {
   "cell_type": "code",
   "execution_count": 18,
   "metadata": {},
   "outputs": [
    {
     "data": {
      "text/html": [
       "<span style=\"None\">Running query in &#x27;postgresql://michellelin@localhost:5432/yelp&#x27;</span>"
      ],
      "text/plain": [
       "Running query in 'postgresql://michellelin@localhost:5432/yelp'"
      ]
     },
     "metadata": {},
     "output_type": "display_data"
    },
    {
     "data": {
      "text/html": [
       "<span style=\"color: green\">107 rows affected.</span>"
      ],
      "text/plain": [
       "107 rows affected."
      ]
     },
     "metadata": {},
     "output_type": "display_data"
    },
    {
     "data": {
      "text/html": [
       "<span style=\"color: green\">10 rows affected.</span>"
      ],
      "text/plain": [
       "10 rows affected."
      ]
     },
     "metadata": {},
     "output_type": "display_data"
    },
    {
     "data": {
      "text/html": [
       "<table>\n",
       "    <thead>\n",
       "        <tr>\n",
       "            <th>QUERY PLAN</th>\n",
       "        </tr>\n",
       "    </thead>\n",
       "    <tbody>\n",
       "        <tr>\n",
       "            <td>Limit  (cost=17.94..17.95 rows=5 width=52) (actual time=0.183..0.185 rows=5 loops=1)</td>\n",
       "        </tr>\n",
       "        <tr>\n",
       "            <td>&nbsp;&nbsp;->  Sort  (cost=17.94..18.39 rows=180 width=52) (actual time=0.182..0.183 rows=5 loops=1)</td>\n",
       "        </tr>\n",
       "        <tr>\n",
       "            <td>&nbsp;&nbsp;&nbsp;&nbsp;&nbsp;&nbsp;&nbsp;&nbsp;Sort Key: (count(*)) DESC</td>\n",
       "        </tr>\n",
       "        <tr>\n",
       "            <td>&nbsp;&nbsp;&nbsp;&nbsp;&nbsp;&nbsp;&nbsp;&nbsp;Sort Method: top-N heapsort  Memory: 25kB</td>\n",
       "        </tr>\n",
       "        <tr>\n",
       "            <td>&nbsp;&nbsp;&nbsp;&nbsp;&nbsp;&nbsp;&nbsp;&nbsp;->  HashAggregate  (cost=13.15..14.95 rows=180 width=52) (actual time=0.137..0.151 rows=56 loops=1)</td>\n",
       "        </tr>\n",
       "        <tr>\n",
       "            <td>&nbsp;&nbsp;&nbsp;&nbsp;&nbsp;&nbsp;&nbsp;&nbsp;&nbsp;&nbsp;&nbsp;&nbsp;&nbsp;&nbsp;Group Key: city, state</td>\n",
       "        </tr>\n",
       "        <tr>\n",
       "            <td>&nbsp;&nbsp;&nbsp;&nbsp;&nbsp;&nbsp;&nbsp;&nbsp;&nbsp;&nbsp;&nbsp;&nbsp;&nbsp;&nbsp;Batches: 1  Memory Usage: 40kB</td>\n",
       "        </tr>\n",
       "        <tr>\n",
       "            <td>&nbsp;&nbsp;&nbsp;&nbsp;&nbsp;&nbsp;&nbsp;&nbsp;&nbsp;&nbsp;&nbsp;&nbsp;&nbsp;&nbsp;->  Seq Scan on five_stars  (cost=0.00..11.80 rows=180 width=44) (actual time=0.007..0.038 rows=107 loops=1)</td>\n",
       "        </tr>\n",
       "        <tr>\n",
       "            <td>Planning Time: 0.280 ms</td>\n",
       "        </tr>\n",
       "        <tr>\n",
       "            <td>Execution Time: 0.225 ms</td>\n",
       "        </tr>\n",
       "    </tbody>\n",
       "</table>"
      ],
      "text/plain": [
       "+----------------------------------------------------------------------------------------------------------------------------+\n",
       "|                                                         QUERY PLAN                                                         |\n",
       "+----------------------------------------------------------------------------------------------------------------------------+\n",
       "|                    Limit  (cost=17.94..17.95 rows=5 width=52) (actual time=0.183..0.185 rows=5 loops=1)                    |\n",
       "|                  ->  Sort  (cost=17.94..18.39 rows=180 width=52) (actual time=0.182..0.183 rows=5 loops=1)                 |\n",
       "|                                                     Sort Key: (count(*)) DESC                                              |\n",
       "|                                             Sort Method: top-N heapsort  Memory: 25kB                                      |\n",
       "|                ->  HashAggregate  (cost=13.15..14.95 rows=180 width=52) (actual time=0.137..0.151 rows=56 loops=1)         |\n",
       "|                                                          Group Key: city, state                                            |\n",
       "|                                                      Batches: 1  Memory Usage: 40kB                                        |\n",
       "|               ->  Seq Scan on five_stars  (cost=0.00..11.80 rows=180 width=44) (actual time=0.007..0.038 rows=107 loops=1) |\n",
       "|                                                  Planning Time: 0.280 ms                                                   |\n",
       "|                                                  Execution Time: 0.225 ms                                                  |\n",
       "+----------------------------------------------------------------------------------------------------------------------------+"
      ]
     },
     "execution_count": 18,
     "metadata": {},
     "output_type": "execute_result"
    }
   ],
   "source": [
    "%%sql\n",
    "DROP MATERIALIZED VIEW IF EXISTS five_stars;\n",
    "CREATE MATERIALIZED VIEW five_stars AS \n",
    "SELECT *\n",
    "FROM business\n",
    "WHERE stars = 5;\n",
    "\n",
    "EXPLAIN ANALYZE\n",
    "SELECT city, COUNT(*) five_star_count\n",
    "FROM five_stars \n",
    "GROUP BY city, state\n",
    "ORDER BY five_star_count DESC\n",
    "LIMIT 5;"
   ]
  },
  {
   "cell_type": "markdown",
   "metadata": {},
   "source": [
    "### Optimization with Virtual View"
   ]
  },
  {
   "cell_type": "code",
   "execution_count": 23,
   "metadata": {},
   "outputs": [
    {
     "data": {
      "text/html": [
       "<span style=\"None\">Running query in &#x27;postgresql://michellelin@localhost:5432/yelp&#x27;</span>"
      ],
      "text/plain": [
       "Running query in 'postgresql://michellelin@localhost:5432/yelp'"
      ]
     },
     "metadata": {},
     "output_type": "display_data"
    },
    {
     "data": {
      "text/html": [
       "<span style=\"color: green\">5 rows affected.</span>"
      ],
      "text/plain": [
       "5 rows affected."
      ]
     },
     "metadata": {},
     "output_type": "display_data"
    },
    {
     "data": {
      "text/html": [
       "<table>\n",
       "    <thead>\n",
       "        <tr>\n",
       "            <th>city</th>\n",
       "            <th>five_star_count</th>\n",
       "        </tr>\n",
       "    </thead>\n",
       "    <tbody>\n",
       "        <tr>\n",
       "            <td>Santa Barbara</td>\n",
       "            <td>9</td>\n",
       "        </tr>\n",
       "        <tr>\n",
       "            <td>Reno</td>\n",
       "            <td>7</td>\n",
       "        </tr>\n",
       "        <tr>\n",
       "            <td>Tucson</td>\n",
       "            <td>6</td>\n",
       "        </tr>\n",
       "        <tr>\n",
       "            <td>Tampa</td>\n",
       "            <td>5</td>\n",
       "        </tr>\n",
       "        <tr>\n",
       "            <td>Philadelphia</td>\n",
       "            <td>5</td>\n",
       "        </tr>\n",
       "    </tbody>\n",
       "</table>"
      ],
      "text/plain": [
       "+---------------+-----------------+\n",
       "|      city     | five_star_count |\n",
       "+---------------+-----------------+\n",
       "| Santa Barbara |        9        |\n",
       "|      Reno     |        7        |\n",
       "|     Tucson    |        6        |\n",
       "|     Tampa     |        5        |\n",
       "|  Philadelphia |        5        |\n",
       "+---------------+-----------------+"
      ]
     },
     "execution_count": 23,
     "metadata": {},
     "output_type": "execute_result"
    }
   ],
   "source": [
    "%%sql\n",
    "-- Create a virtual view to store all 5 stars businesses\n",
    "DROP VIEW IF EXISTS five_stars_view;\n",
    "CREATE VIEW five_stars_view AS \n",
    "SELECT *\n",
    "FROM business\n",
    "WHERE stars = 5;\n",
    "\n",
    "-- Get the cities with the most 5 stars businesses\n",
    "SELECT city, COUNT(*) five_star_count\n",
    "FROM five_stars_view \n",
    "GROUP BY city, state\n",
    "ORDER BY five_star_count DESC\n",
    "LIMIT 5;"
   ]
  },
  {
   "cell_type": "code",
   "execution_count": 24,
   "metadata": {},
   "outputs": [
    {
     "data": {
      "text/html": [
       "<span style=\"None\">Running query in &#x27;postgresql://michellelin@localhost:5432/yelp&#x27;</span>"
      ],
      "text/plain": [
       "Running query in 'postgresql://michellelin@localhost:5432/yelp'"
      ]
     },
     "metadata": {},
     "output_type": "display_data"
    },
    {
     "data": {
      "text/html": [
       "<span style=\"color: green\">12 rows affected.</span>"
      ],
      "text/plain": [
       "12 rows affected."
      ]
     },
     "metadata": {},
     "output_type": "display_data"
    },
    {
     "data": {
      "text/html": [
       "<table>\n",
       "    <thead>\n",
       "        <tr>\n",
       "            <th>QUERY PLAN</th>\n",
       "        </tr>\n",
       "    </thead>\n",
       "    <tbody>\n",
       "        <tr>\n",
       "            <td>Limit  (cost=102.70..102.71 rows=5 width=21) (actual time=0.718..0.719 rows=5 loops=1)</td>\n",
       "        </tr>\n",
       "        <tr>\n",
       "            <td>&nbsp;&nbsp;->  Sort  (cost=102.70..102.92 rows=90 width=21) (actual time=0.716..0.717 rows=5 loops=1)</td>\n",
       "        </tr>\n",
       "        <tr>\n",
       "            <td>&nbsp;&nbsp;&nbsp;&nbsp;&nbsp;&nbsp;&nbsp;&nbsp;Sort Key: (count(*)) DESC</td>\n",
       "        </tr>\n",
       "        <tr>\n",
       "            <td>&nbsp;&nbsp;&nbsp;&nbsp;&nbsp;&nbsp;&nbsp;&nbsp;Sort Method: top-N heapsort  Memory: 25kB</td>\n",
       "        </tr>\n",
       "        <tr>\n",
       "            <td>&nbsp;&nbsp;&nbsp;&nbsp;&nbsp;&nbsp;&nbsp;&nbsp;->  HashAggregate  (cost=100.30..101.20 rows=90 width=21) (actual time=0.679..0.690 rows=56 loops=1)</td>\n",
       "        </tr>\n",
       "        <tr>\n",
       "            <td>&nbsp;&nbsp;&nbsp;&nbsp;&nbsp;&nbsp;&nbsp;&nbsp;&nbsp;&nbsp;&nbsp;&nbsp;&nbsp;&nbsp;Group Key: business.city, business.state</td>\n",
       "        </tr>\n",
       "        <tr>\n",
       "            <td>&nbsp;&nbsp;&nbsp;&nbsp;&nbsp;&nbsp;&nbsp;&nbsp;&nbsp;&nbsp;&nbsp;&nbsp;&nbsp;&nbsp;Batches: 1  Memory Usage: 24kB</td>\n",
       "        </tr>\n",
       "        <tr>\n",
       "            <td>&nbsp;&nbsp;&nbsp;&nbsp;&nbsp;&nbsp;&nbsp;&nbsp;&nbsp;&nbsp;&nbsp;&nbsp;&nbsp;&nbsp;->  Seq Scan on business  (cost=0.00..99.50 rows=107 width=13) (actual time=0.016..0.622 rows=107 loops=1)</td>\n",
       "        </tr>\n",
       "        <tr>\n",
       "            <td>&nbsp;&nbsp;&nbsp;&nbsp;&nbsp;&nbsp;&nbsp;&nbsp;&nbsp;&nbsp;&nbsp;&nbsp;&nbsp;&nbsp;&nbsp;&nbsp;&nbsp;&nbsp;&nbsp;&nbsp;Filter: (stars = '5'::numeric)</td>\n",
       "        </tr>\n",
       "        <tr>\n",
       "            <td>&nbsp;&nbsp;&nbsp;&nbsp;&nbsp;&nbsp;&nbsp;&nbsp;&nbsp;&nbsp;&nbsp;&nbsp;&nbsp;&nbsp;&nbsp;&nbsp;&nbsp;&nbsp;&nbsp;&nbsp;Rows Removed by Filter: 893</td>\n",
       "        </tr>\n",
       "        <tr>\n",
       "            <td>Planning Time: 0.517 ms</td>\n",
       "        </tr>\n",
       "        <tr>\n",
       "            <td>Execution Time: 0.915 ms</td>\n",
       "        </tr>\n",
       "    </tbody>\n",
       "</table>"
      ],
      "text/plain": [
       "+--------------------------------------------------------------------------------------------------------------------------+\n",
       "|                                                        QUERY PLAN                                                        |\n",
       "+--------------------------------------------------------------------------------------------------------------------------+\n",
       "|                  Limit  (cost=102.70..102.71 rows=5 width=21) (actual time=0.718..0.719 rows=5 loops=1)                  |\n",
       "|                 ->  Sort  (cost=102.70..102.92 rows=90 width=21) (actual time=0.716..0.717 rows=5 loops=1)               |\n",
       "|                                                    Sort Key: (count(*)) DESC                                             |\n",
       "|                                            Sort Method: top-N heapsort  Memory: 25kB                                     |\n",
       "|               ->  HashAggregate  (cost=100.30..101.20 rows=90 width=21) (actual time=0.679..0.690 rows=56 loops=1)       |\n",
       "|                                                Group Key: business.city, business.state                                  |\n",
       "|                                                     Batches: 1  Memory Usage: 24kB                                       |\n",
       "|               ->  Seq Scan on business  (cost=0.00..99.50 rows=107 width=13) (actual time=0.016..0.622 rows=107 loops=1) |\n",
       "|                                                        Filter: (stars = '5'::numeric)                                    |\n",
       "|                                                         Rows Removed by Filter: 893                                      |\n",
       "|                                                 Planning Time: 0.517 ms                                                  |\n",
       "|                                                 Execution Time: 0.915 ms                                                 |\n",
       "+--------------------------------------------------------------------------------------------------------------------------+"
      ]
     },
     "execution_count": 24,
     "metadata": {},
     "output_type": "execute_result"
    }
   ],
   "source": [
    "%%sql\n",
    "-- Create a virtual view to store all 5 stars businesses\n",
    "DROP VIEW IF EXISTS five_starS_view;\n",
    "CREATE VIEW five_stars_view AS \n",
    "SELECT *\n",
    "FROM business\n",
    "WHERE stars = 5;\n",
    "\n",
    "-- Get the cities with the most 5 stars businesses\n",
    "EXPLAIN ANALYZE\n",
    "SELECT city, COUNT(*) five_star_count\n",
    "FROM five_stars_view \n",
    "GROUP BY city, state\n",
    "ORDER BY five_star_count DESC\n",
    "LIMIT 5;"
   ]
  },
  {
   "cell_type": "markdown",
   "metadata": {},
   "source": [
    "### Optimization with CTE"
   ]
  },
  {
   "cell_type": "code",
   "execution_count": 25,
   "metadata": {},
   "outputs": [
    {
     "data": {
      "text/html": [
       "<span style=\"None\">Running query in &#x27;postgresql://michellelin@localhost:5432/yelp&#x27;</span>"
      ],
      "text/plain": [
       "Running query in 'postgresql://michellelin@localhost:5432/yelp'"
      ]
     },
     "metadata": {},
     "output_type": "display_data"
    },
    {
     "data": {
      "text/html": [
       "<span style=\"color: green\">5 rows affected.</span>"
      ],
      "text/plain": [
       "5 rows affected."
      ]
     },
     "metadata": {},
     "output_type": "display_data"
    },
    {
     "data": {
      "text/html": [
       "<table>\n",
       "    <thead>\n",
       "        <tr>\n",
       "            <th>city</th>\n",
       "            <th>five_star_count</th>\n",
       "        </tr>\n",
       "    </thead>\n",
       "    <tbody>\n",
       "        <tr>\n",
       "            <td>Santa Barbara</td>\n",
       "            <td>9</td>\n",
       "        </tr>\n",
       "        <tr>\n",
       "            <td>Reno</td>\n",
       "            <td>7</td>\n",
       "        </tr>\n",
       "        <tr>\n",
       "            <td>Tucson</td>\n",
       "            <td>6</td>\n",
       "        </tr>\n",
       "        <tr>\n",
       "            <td>Tampa</td>\n",
       "            <td>5</td>\n",
       "        </tr>\n",
       "        <tr>\n",
       "            <td>Philadelphia</td>\n",
       "            <td>5</td>\n",
       "        </tr>\n",
       "    </tbody>\n",
       "</table>"
      ],
      "text/plain": [
       "+---------------+-----------------+\n",
       "|      city     | five_star_count |\n",
       "+---------------+-----------------+\n",
       "| Santa Barbara |        9        |\n",
       "|      Reno     |        7        |\n",
       "|     Tucson    |        6        |\n",
       "|     Tampa     |        5        |\n",
       "|  Philadelphia |        5        |\n",
       "+---------------+-----------------+"
      ]
     },
     "execution_count": 25,
     "metadata": {},
     "output_type": "execute_result"
    }
   ],
   "source": [
    "%%sql\n",
    "WITH five_stars_cte AS (\n",
    "SELECT *\n",
    "FROM business\n",
    "WHERE stars = 5\n",
    ")\n",
    "\n",
    "SELECT city, COUNT(*) five_star_count\n",
    "FROM five_stars_cte\n",
    "GROUP BY city, state\n",
    "ORDER BY five_star_count DESC\n",
    "LIMIT 5;"
   ]
  },
  {
   "cell_type": "code",
   "execution_count": 27,
   "metadata": {},
   "outputs": [
    {
     "data": {
      "text/html": [
       "<span style=\"None\">Running query in &#x27;postgresql://michellelin@localhost:5432/yelp&#x27;</span>"
      ],
      "text/plain": [
       "Running query in 'postgresql://michellelin@localhost:5432/yelp'"
      ]
     },
     "metadata": {},
     "output_type": "display_data"
    },
    {
     "data": {
      "text/html": [
       "<span style=\"color: green\">12 rows affected.</span>"
      ],
      "text/plain": [
       "12 rows affected."
      ]
     },
     "metadata": {},
     "output_type": "display_data"
    },
    {
     "data": {
      "text/html": [
       "<table>\n",
       "    <thead>\n",
       "        <tr>\n",
       "            <th>QUERY PLAN</th>\n",
       "        </tr>\n",
       "    </thead>\n",
       "    <tbody>\n",
       "        <tr>\n",
       "            <td>Limit  (cost=102.70..102.71 rows=5 width=21) (actual time=8.916..8.918 rows=5 loops=1)</td>\n",
       "        </tr>\n",
       "        <tr>\n",
       "            <td>&nbsp;&nbsp;->  Sort  (cost=102.70..102.92 rows=90 width=21) (actual time=8.914..8.916 rows=5 loops=1)</td>\n",
       "        </tr>\n",
       "        <tr>\n",
       "            <td>&nbsp;&nbsp;&nbsp;&nbsp;&nbsp;&nbsp;&nbsp;&nbsp;Sort Key: (count(*)) DESC</td>\n",
       "        </tr>\n",
       "        <tr>\n",
       "            <td>&nbsp;&nbsp;&nbsp;&nbsp;&nbsp;&nbsp;&nbsp;&nbsp;Sort Method: top-N heapsort  Memory: 25kB</td>\n",
       "        </tr>\n",
       "        <tr>\n",
       "            <td>&nbsp;&nbsp;&nbsp;&nbsp;&nbsp;&nbsp;&nbsp;&nbsp;->  HashAggregate  (cost=100.30..101.20 rows=90 width=21) (actual time=8.865..8.878 rows=56 loops=1)</td>\n",
       "        </tr>\n",
       "        <tr>\n",
       "            <td>&nbsp;&nbsp;&nbsp;&nbsp;&nbsp;&nbsp;&nbsp;&nbsp;&nbsp;&nbsp;&nbsp;&nbsp;&nbsp;&nbsp;Group Key: business.city, business.state</td>\n",
       "        </tr>\n",
       "        <tr>\n",
       "            <td>&nbsp;&nbsp;&nbsp;&nbsp;&nbsp;&nbsp;&nbsp;&nbsp;&nbsp;&nbsp;&nbsp;&nbsp;&nbsp;&nbsp;Batches: 1  Memory Usage: 24kB</td>\n",
       "        </tr>\n",
       "        <tr>\n",
       "            <td>&nbsp;&nbsp;&nbsp;&nbsp;&nbsp;&nbsp;&nbsp;&nbsp;&nbsp;&nbsp;&nbsp;&nbsp;&nbsp;&nbsp;->  Seq Scan on business  (cost=0.00..99.50 rows=107 width=13) (actual time=0.033..8.789 rows=107 loops=1)</td>\n",
       "        </tr>\n",
       "        <tr>\n",
       "            <td>&nbsp;&nbsp;&nbsp;&nbsp;&nbsp;&nbsp;&nbsp;&nbsp;&nbsp;&nbsp;&nbsp;&nbsp;&nbsp;&nbsp;&nbsp;&nbsp;&nbsp;&nbsp;&nbsp;&nbsp;Filter: (stars = '5'::numeric)</td>\n",
       "        </tr>\n",
       "        <tr>\n",
       "            <td>&nbsp;&nbsp;&nbsp;&nbsp;&nbsp;&nbsp;&nbsp;&nbsp;&nbsp;&nbsp;&nbsp;&nbsp;&nbsp;&nbsp;&nbsp;&nbsp;&nbsp;&nbsp;&nbsp;&nbsp;Rows Removed by Filter: 893</td>\n",
       "        </tr>\n",
       "        <tr>\n",
       "            <td>Planning Time: 1.719 ms</td>\n",
       "        </tr>\n",
       "        <tr>\n",
       "            <td>Execution Time: 9.018 ms</td>\n",
       "        </tr>\n",
       "    </tbody>\n",
       "</table>"
      ],
      "text/plain": [
       "+--------------------------------------------------------------------------------------------------------------------------+\n",
       "|                                                        QUERY PLAN                                                        |\n",
       "+--------------------------------------------------------------------------------------------------------------------------+\n",
       "|                  Limit  (cost=102.70..102.71 rows=5 width=21) (actual time=8.916..8.918 rows=5 loops=1)                  |\n",
       "|                 ->  Sort  (cost=102.70..102.92 rows=90 width=21) (actual time=8.914..8.916 rows=5 loops=1)               |\n",
       "|                                                    Sort Key: (count(*)) DESC                                             |\n",
       "|                                            Sort Method: top-N heapsort  Memory: 25kB                                     |\n",
       "|               ->  HashAggregate  (cost=100.30..101.20 rows=90 width=21) (actual time=8.865..8.878 rows=56 loops=1)       |\n",
       "|                                                Group Key: business.city, business.state                                  |\n",
       "|                                                     Batches: 1  Memory Usage: 24kB                                       |\n",
       "|               ->  Seq Scan on business  (cost=0.00..99.50 rows=107 width=13) (actual time=0.033..8.789 rows=107 loops=1) |\n",
       "|                                                        Filter: (stars = '5'::numeric)                                    |\n",
       "|                                                         Rows Removed by Filter: 893                                      |\n",
       "|                                                 Planning Time: 1.719 ms                                                  |\n",
       "|                                                 Execution Time: 9.018 ms                                                 |\n",
       "+--------------------------------------------------------------------------------------------------------------------------+"
      ]
     },
     "execution_count": 27,
     "metadata": {},
     "output_type": "execute_result"
    }
   ],
   "source": [
    "%%sql\n",
    "EXPLAIN ANALYZE\n",
    "WITH five_stars_cte AS (\n",
    "SELECT *\n",
    "FROM business\n",
    "WHERE stars = 5\n",
    ")\n",
    "\n",
    "SELECT city, COUNT(*) five_star_count\n",
    "FROM five_stars_cte\n",
    "GROUP BY city, state\n",
    "ORDER BY five_star_count DESC\n",
    "LIMIT 5;"
   ]
  },
  {
   "cell_type": "markdown",
   "metadata": {},
   "source": [
    "# Predicate Pushdown\n",
    "### Which users have written the most reviews in 2021?"
   ]
  },
  {
   "cell_type": "markdown",
   "metadata": {},
   "source": [
    "### Without Predicate Pushdown"
   ]
  },
  {
   "cell_type": "code",
   "execution_count": 34,
   "metadata": {},
   "outputs": [
    {
     "data": {
      "text/html": [
       "<span style=\"None\">Running query in &#x27;postgresql://michellelin@localhost:5432/yelp&#x27;</span>"
      ],
      "text/plain": [
       "Running query in 'postgresql://michellelin@localhost:5432/yelp'"
      ]
     },
     "metadata": {},
     "output_type": "display_data"
    },
    {
     "data": {
      "text/html": [
       "<span style=\"color: green\">10 rows affected.</span>"
      ],
      "text/plain": [
       "10 rows affected."
      ]
     },
     "metadata": {},
     "output_type": "display_data"
    },
    {
     "data": {
      "text/html": [
       "<table>\n",
       "    <thead>\n",
       "        <tr>\n",
       "            <th>user_id</th>\n",
       "            <th>name</th>\n",
       "            <th>review_count</th>\n",
       "        </tr>\n",
       "    </thead>\n",
       "    <tbody>\n",
       "        <tr>\n",
       "            <td>R7NM7vIyUfSTXvMsw7jNTA</td>\n",
       "            <td>Marshall</td>\n",
       "            <td>10</td>\n",
       "        </tr>\n",
       "        <tr>\n",
       "            <td>hj6bHxcTRCPVhanRL5neGA</td>\n",
       "            <td>Hanna</td>\n",
       "            <td>6</td>\n",
       "        </tr>\n",
       "        <tr>\n",
       "            <td>xalgcjscRLNPuyaAeKNThA</td>\n",
       "            <td>Tank</td>\n",
       "            <td>4</td>\n",
       "        </tr>\n",
       "        <tr>\n",
       "            <td>S_VUtqoT9eHYrcb4qTVdIw</td>\n",
       "            <td>Brittany</td>\n",
       "            <td>4</td>\n",
       "        </tr>\n",
       "        <tr>\n",
       "            <td>i_DR3vdE73nVm2GlMbGpGA</td>\n",
       "            <td>Nate</td>\n",
       "            <td>4</td>\n",
       "        </tr>\n",
       "        <tr>\n",
       "            <td>ghr6YPp-X1HGHmXMJdTS9w</td>\n",
       "            <td>Fatima</td>\n",
       "            <td>4</td>\n",
       "        </tr>\n",
       "        <tr>\n",
       "            <td>R9IJ1Byr27n6wXj3QvJ2Lg</td>\n",
       "            <td>Amy OO</td>\n",
       "            <td>3</td>\n",
       "        </tr>\n",
       "        <tr>\n",
       "            <td>fwAbL-qLPrRBBbTJPHnkjg</td>\n",
       "            <td>William</td>\n",
       "            <td>3</td>\n",
       "        </tr>\n",
       "        <tr>\n",
       "            <td>nJFyLXf3evkomGjP0bd4uw</td>\n",
       "            <td>David</td>\n",
       "            <td>3</td>\n",
       "        </tr>\n",
       "        <tr>\n",
       "            <td>nkNf0Kf52j7vLBWCJo40Gg</td>\n",
       "            <td>E</td>\n",
       "            <td>3</td>\n",
       "        </tr>\n",
       "    </tbody>\n",
       "</table>"
      ],
      "text/plain": [
       "+------------------------+----------+--------------+\n",
       "|        user_id         |   name   | review_count |\n",
       "+------------------------+----------+--------------+\n",
       "| R7NM7vIyUfSTXvMsw7jNTA | Marshall |      10      |\n",
       "| hj6bHxcTRCPVhanRL5neGA |  Hanna   |      6       |\n",
       "| xalgcjscRLNPuyaAeKNThA |   Tank   |      4       |\n",
       "| S_VUtqoT9eHYrcb4qTVdIw | Brittany |      4       |\n",
       "| i_DR3vdE73nVm2GlMbGpGA |   Nate   |      4       |\n",
       "| ghr6YPp-X1HGHmXMJdTS9w |  Fatima  |      4       |\n",
       "| R9IJ1Byr27n6wXj3QvJ2Lg |  Amy OO  |      3       |\n",
       "| fwAbL-qLPrRBBbTJPHnkjg | William  |      3       |\n",
       "| nJFyLXf3evkomGjP0bd4uw |  David   |      3       |\n",
       "| nkNf0Kf52j7vLBWCJo40Gg |    E     |      3       |\n",
       "+------------------------+----------+--------------+"
      ]
     },
     "execution_count": 34,
     "metadata": {},
     "output_type": "execute_result"
    }
   ],
   "source": [
    "%%sql\n",
    "SELECT u.user_id, u.name, COUNT(r.review_id) review_count \n",
    "FROM yelp_user u \n",
    "JOIN review r \n",
    "ON u.user_id = r.user_id \n",
    "WHERE r.date BETWEEN '2021-01-01' AND '2021-12-31' \n",
    "GROUP BY u.user_id, u.name \n",
    "ORDER BY review_count DESC \n",
    "LIMIT 10;"
   ]
  },
  {
   "cell_type": "code",
   "execution_count": 40,
   "metadata": {},
   "outputs": [
    {
     "data": {
      "text/html": [
       "<span style=\"None\">Running query in &#x27;postgresql://michellelin@localhost:5432/yelp&#x27;</span>"
      ],
      "text/plain": [
       "Running query in 'postgresql://michellelin@localhost:5432/yelp'"
      ]
     },
     "metadata": {},
     "output_type": "display_data"
    },
    {
     "data": {
      "text/html": [
       "<span style=\"color: green\">17 rows affected.</span>"
      ],
      "text/plain": [
       "17 rows affected."
      ]
     },
     "metadata": {},
     "output_type": "display_data"
    },
    {
     "data": {
      "text/html": [
       "<table>\n",
       "    <thead>\n",
       "        <tr>\n",
       "            <th>QUERY PLAN</th>\n",
       "        </tr>\n",
       "    </thead>\n",
       "    <tbody>\n",
       "        <tr>\n",
       "            <td>Limit  (cost=7754.35..7754.37 rows=10 width=37) (actual time=116.146..116.149 rows=10 loops=1)</td>\n",
       "        </tr>\n",
       "        <tr>\n",
       "            <td>&nbsp;&nbsp;->  Sort  (cost=7754.35..7764.60 rows=4100 width=37) (actual time=116.144..116.147 rows=10 loops=1)</td>\n",
       "        </tr>\n",
       "        <tr>\n",
       "            <td>&nbsp;&nbsp;&nbsp;&nbsp;&nbsp;&nbsp;&nbsp;&nbsp;Sort Key: (count(r.review_id)) DESC</td>\n",
       "        </tr>\n",
       "        <tr>\n",
       "            <td>&nbsp;&nbsp;&nbsp;&nbsp;&nbsp;&nbsp;&nbsp;&nbsp;Sort Method: top-N heapsort  Memory: 25kB</td>\n",
       "        </tr>\n",
       "        <tr>\n",
       "            <td>&nbsp;&nbsp;&nbsp;&nbsp;&nbsp;&nbsp;&nbsp;&nbsp;->  HashAggregate  (cost=7624.75..7665.75 rows=4100 width=37) (actual time=114.544..115.409 rows=3905 loops=1)</td>\n",
       "        </tr>\n",
       "        <tr>\n",
       "            <td>&nbsp;&nbsp;&nbsp;&nbsp;&nbsp;&nbsp;&nbsp;&nbsp;&nbsp;&nbsp;&nbsp;&nbsp;&nbsp;&nbsp;Group Key: u.user_id</td>\n",
       "        </tr>\n",
       "        <tr>\n",
       "            <td>&nbsp;&nbsp;&nbsp;&nbsp;&nbsp;&nbsp;&nbsp;&nbsp;&nbsp;&nbsp;&nbsp;&nbsp;&nbsp;&nbsp;Batches: 1  Memory Usage: 721kB</td>\n",
       "        </tr>\n",
       "        <tr>\n",
       "            <td>&nbsp;&nbsp;&nbsp;&nbsp;&nbsp;&nbsp;&nbsp;&nbsp;&nbsp;&nbsp;&nbsp;&nbsp;&nbsp;&nbsp;->  Hash Join  (cost=3012.34..7604.25 rows=4100 width=52) (actual time=53.612..110.315 rows=4064 loops=1)</td>\n",
       "        </tr>\n",
       "        <tr>\n",
       "            <td>&nbsp;&nbsp;&nbsp;&nbsp;&nbsp;&nbsp;&nbsp;&nbsp;&nbsp;&nbsp;&nbsp;&nbsp;&nbsp;&nbsp;&nbsp;&nbsp;&nbsp;&nbsp;&nbsp;&nbsp;Hash Cond: ((r.user_id)::text = (u.user_id)::text)</td>\n",
       "        </tr>\n",
       "        <tr>\n",
       "            <td>&nbsp;&nbsp;&nbsp;&nbsp;&nbsp;&nbsp;&nbsp;&nbsp;&nbsp;&nbsp;&nbsp;&nbsp;&nbsp;&nbsp;&nbsp;&nbsp;&nbsp;&nbsp;&nbsp;&nbsp;->  Seq Scan on review r  (cost=0.00..4581.15 rows=4100 width=46) (actual time=5.808..59.386 rows=4064 loops=1)</td>\n",
       "        </tr>\n",
       "        <tr>\n",
       "            <td>&nbsp;&nbsp;&nbsp;&nbsp;&nbsp;&nbsp;&nbsp;&nbsp;&nbsp;&nbsp;&nbsp;&nbsp;&nbsp;&nbsp;&nbsp;&nbsp;&nbsp;&nbsp;&nbsp;&nbsp;&nbsp;&nbsp;&nbsp;&nbsp;&nbsp;&nbsp;Filter: ((date >= '2021-01-01'::date) AND (date <= '2021-12-31'::date))</td>\n",
       "        </tr>\n",
       "        <tr>\n",
       "            <td>&nbsp;&nbsp;&nbsp;&nbsp;&nbsp;&nbsp;&nbsp;&nbsp;&nbsp;&nbsp;&nbsp;&nbsp;&nbsp;&nbsp;&nbsp;&nbsp;&nbsp;&nbsp;&nbsp;&nbsp;&nbsp;&nbsp;&nbsp;&nbsp;&nbsp;&nbsp;Rows Removed by Filter: 44679</td>\n",
       "        </tr>\n",
       "        <tr>\n",
       "            <td>&nbsp;&nbsp;&nbsp;&nbsp;&nbsp;&nbsp;&nbsp;&nbsp;&nbsp;&nbsp;&nbsp;&nbsp;&nbsp;&nbsp;&nbsp;&nbsp;&nbsp;&nbsp;&nbsp;&nbsp;->  Hash  (cost=2479.93..2479.93 rows=42593 width=29) (actual time=47.492..47.492 rows=42593 loops=1)</td>\n",
       "        </tr>\n",
       "        <tr>\n",
       "            <td>&nbsp;&nbsp;&nbsp;&nbsp;&nbsp;&nbsp;&nbsp;&nbsp;&nbsp;&nbsp;&nbsp;&nbsp;&nbsp;&nbsp;&nbsp;&nbsp;&nbsp;&nbsp;&nbsp;&nbsp;&nbsp;&nbsp;&nbsp;&nbsp;&nbsp;&nbsp;Buckets: 65536  Batches: 1  Memory Usage: 3064kB</td>\n",
       "        </tr>\n",
       "        <tr>\n",
       "            <td>&nbsp;&nbsp;&nbsp;&nbsp;&nbsp;&nbsp;&nbsp;&nbsp;&nbsp;&nbsp;&nbsp;&nbsp;&nbsp;&nbsp;&nbsp;&nbsp;&nbsp;&nbsp;&nbsp;&nbsp;&nbsp;&nbsp;&nbsp;&nbsp;&nbsp;&nbsp;->  Seq Scan on yelp_user u  (cost=0.00..2479.93 rows=42593 width=29) (actual time=0.042..26.772 rows=42593 loops=1)</td>\n",
       "        </tr>\n",
       "        <tr>\n",
       "            <td>Planning Time: 0.751 ms</td>\n",
       "        </tr>\n",
       "        <tr>\n",
       "            <td>Execution Time: 116.548 ms</td>\n",
       "        </tr>\n",
       "    </tbody>\n",
       "</table>"
      ],
      "text/plain": [
       "+------------------------------------------------------------------------------------------------------------------------------------------------+\n",
       "|                                                                   QUERY PLAN                                                                   |\n",
       "+------------------------------------------------------------------------------------------------------------------------------------------------+\n",
       "|                         Limit  (cost=7754.35..7754.37 rows=10 width=37) (actual time=116.146..116.149 rows=10 loops=1)                         |\n",
       "|                       ->  Sort  (cost=7754.35..7764.60 rows=4100 width=37) (actual time=116.144..116.147 rows=10 loops=1)                      |\n",
       "|                                                          Sort Key: (count(r.review_id)) DESC                                                   |\n",
       "|                                                       Sort Method: top-N heapsort  Memory: 25kB                                                |\n",
       "|                     ->  HashAggregate  (cost=7624.75..7665.75 rows=4100 width=37) (actual time=114.544..115.409 rows=3905 loops=1)             |\n",
       "|                                                                     Group Key: u.user_id                                                       |\n",
       "|                                                               Batches: 1  Memory Usage: 721kB                                                  |\n",
       "|                          ->  Hash Join  (cost=3012.34..7604.25 rows=4100 width=52) (actual time=53.612..110.315 rows=4064 loops=1)             |\n",
       "|                                                         Hash Cond: ((r.user_id)::text = (u.user_id)::text)                                     |\n",
       "|                          ->  Seq Scan on review r  (cost=0.00..4581.15 rows=4100 width=46) (actual time=5.808..59.386 rows=4064 loops=1)       |\n",
       "|                                                 Filter: ((date >= '2021-01-01'::date) AND (date <= '2021-12-31'::date))                        |\n",
       "|                                                                      Rows Removed by Filter: 44679                                             |\n",
       "|                               ->  Hash  (cost=2479.93..2479.93 rows=42593 width=29) (actual time=47.492..47.492 rows=42593 loops=1)            |\n",
       "|                                                             Buckets: 65536  Batches: 1  Memory Usage: 3064kB                                   |\n",
       "|                           ->  Seq Scan on yelp_user u  (cost=0.00..2479.93 rows=42593 width=29) (actual time=0.042..26.772 rows=42593 loops=1) |\n",
       "|                                                            Planning Time: 0.751 ms                                                             |\n",
       "|                                                           Execution Time: 116.548 ms                                                           |\n",
       "+------------------------------------------------------------------------------------------------------------------------------------------------+"
      ]
     },
     "execution_count": 40,
     "metadata": {},
     "output_type": "execute_result"
    }
   ],
   "source": [
    "%%sql\n",
    "EXPLAIN ANALYZE\n",
    "SELECT u.user_id, u.name, COUNT(r.review_id) review_count \n",
    "FROM yelp_user u \n",
    "JOIN review r \n",
    "ON u.user_id = r.user_id \n",
    "WHERE r.date BETWEEN '2021-01-01' AND '2021-12-31' \n",
    "GROUP BY u.user_id, u.name \n",
    "ORDER BY review_count DESC \n",
    "LIMIT 10;"
   ]
  },
  {
   "cell_type": "markdown",
   "metadata": {},
   "source": [
    "### With Predicate Pushdown"
   ]
  },
  {
   "cell_type": "code",
   "execution_count": 37,
   "metadata": {},
   "outputs": [
    {
     "data": {
      "text/html": [
       "<span style=\"None\">Running query in &#x27;postgresql://michellelin@localhost:5432/yelp&#x27;</span>"
      ],
      "text/plain": [
       "Running query in 'postgresql://michellelin@localhost:5432/yelp'"
      ]
     },
     "metadata": {},
     "output_type": "display_data"
    },
    {
     "data": {
      "text/html": [
       "<span style=\"color: green\">10 rows affected.</span>"
      ],
      "text/plain": [
       "10 rows affected."
      ]
     },
     "metadata": {},
     "output_type": "display_data"
    },
    {
     "data": {
      "text/html": [
       "<table>\n",
       "    <thead>\n",
       "        <tr>\n",
       "            <th>user_id</th>\n",
       "            <th>name</th>\n",
       "            <th>review_count</th>\n",
       "        </tr>\n",
       "    </thead>\n",
       "    <tbody>\n",
       "        <tr>\n",
       "            <td>R7NM7vIyUfSTXvMsw7jNTA</td>\n",
       "            <td>Marshall</td>\n",
       "            <td>10</td>\n",
       "        </tr>\n",
       "        <tr>\n",
       "            <td>hj6bHxcTRCPVhanRL5neGA</td>\n",
       "            <td>Hanna</td>\n",
       "            <td>6</td>\n",
       "        </tr>\n",
       "        <tr>\n",
       "            <td>xalgcjscRLNPuyaAeKNThA</td>\n",
       "            <td>Tank</td>\n",
       "            <td>4</td>\n",
       "        </tr>\n",
       "        <tr>\n",
       "            <td>S_VUtqoT9eHYrcb4qTVdIw</td>\n",
       "            <td>Brittany</td>\n",
       "            <td>4</td>\n",
       "        </tr>\n",
       "        <tr>\n",
       "            <td>i_DR3vdE73nVm2GlMbGpGA</td>\n",
       "            <td>Nate</td>\n",
       "            <td>4</td>\n",
       "        </tr>\n",
       "        <tr>\n",
       "            <td>ghr6YPp-X1HGHmXMJdTS9w</td>\n",
       "            <td>Fatima</td>\n",
       "            <td>4</td>\n",
       "        </tr>\n",
       "        <tr>\n",
       "            <td>R9IJ1Byr27n6wXj3QvJ2Lg</td>\n",
       "            <td>Amy OO</td>\n",
       "            <td>3</td>\n",
       "        </tr>\n",
       "        <tr>\n",
       "            <td>fwAbL-qLPrRBBbTJPHnkjg</td>\n",
       "            <td>William</td>\n",
       "            <td>3</td>\n",
       "        </tr>\n",
       "        <tr>\n",
       "            <td>nJFyLXf3evkomGjP0bd4uw</td>\n",
       "            <td>David</td>\n",
       "            <td>3</td>\n",
       "        </tr>\n",
       "        <tr>\n",
       "            <td>nkNf0Kf52j7vLBWCJo40Gg</td>\n",
       "            <td>E</td>\n",
       "            <td>3</td>\n",
       "        </tr>\n",
       "    </tbody>\n",
       "</table>"
      ],
      "text/plain": [
       "+------------------------+----------+--------------+\n",
       "|        user_id         |   name   | review_count |\n",
       "+------------------------+----------+--------------+\n",
       "| R7NM7vIyUfSTXvMsw7jNTA | Marshall |      10      |\n",
       "| hj6bHxcTRCPVhanRL5neGA |  Hanna   |      6       |\n",
       "| xalgcjscRLNPuyaAeKNThA |   Tank   |      4       |\n",
       "| S_VUtqoT9eHYrcb4qTVdIw | Brittany |      4       |\n",
       "| i_DR3vdE73nVm2GlMbGpGA |   Nate   |      4       |\n",
       "| ghr6YPp-X1HGHmXMJdTS9w |  Fatima  |      4       |\n",
       "| R9IJ1Byr27n6wXj3QvJ2Lg |  Amy OO  |      3       |\n",
       "| fwAbL-qLPrRBBbTJPHnkjg | William  |      3       |\n",
       "| nJFyLXf3evkomGjP0bd4uw |  David   |      3       |\n",
       "| nkNf0Kf52j7vLBWCJo40Gg |    E     |      3       |\n",
       "+------------------------+----------+--------------+"
      ]
     },
     "execution_count": 37,
     "metadata": {},
     "output_type": "execute_result"
    }
   ],
   "source": [
    "%%sql\n",
    "SELECT u.user_id, u.name, COUNT(r.review_id) review_count \n",
    "FROM (SELECT * FROM review WHERE date BETWEEN '2021-01-01' AND '2021-12-31' ) r \n",
    "JOIN yelp_user u \n",
    "ON u.user_id = r.user_id \n",
    "GROUP BY u.user_id, u.name \n",
    "ORDER BY review_count DESC \n",
    "LIMIT 10;"
   ]
  },
  {
   "cell_type": "code",
   "execution_count": 41,
   "metadata": {},
   "outputs": [
    {
     "data": {
      "text/html": [
       "<span style=\"None\">Running query in &#x27;postgresql://michellelin@localhost:5432/yelp&#x27;</span>"
      ],
      "text/plain": [
       "Running query in 'postgresql://michellelin@localhost:5432/yelp'"
      ]
     },
     "metadata": {},
     "output_type": "display_data"
    },
    {
     "data": {
      "text/html": [
       "<span style=\"color: green\">17 rows affected.</span>"
      ],
      "text/plain": [
       "17 rows affected."
      ]
     },
     "metadata": {},
     "output_type": "display_data"
    },
    {
     "data": {
      "text/html": [
       "<table>\n",
       "    <thead>\n",
       "        <tr>\n",
       "            <th>QUERY PLAN</th>\n",
       "        </tr>\n",
       "    </thead>\n",
       "    <tbody>\n",
       "        <tr>\n",
       "            <td>Limit  (cost=7754.35..7754.37 rows=10 width=37) (actual time=74.222..74.225 rows=10 loops=1)</td>\n",
       "        </tr>\n",
       "        <tr>\n",
       "            <td>&nbsp;&nbsp;->  Sort  (cost=7754.35..7764.60 rows=4100 width=37) (actual time=74.221..74.222 rows=10 loops=1)</td>\n",
       "        </tr>\n",
       "        <tr>\n",
       "            <td>&nbsp;&nbsp;&nbsp;&nbsp;&nbsp;&nbsp;&nbsp;&nbsp;Sort Key: (count(review.review_id)) DESC</td>\n",
       "        </tr>\n",
       "        <tr>\n",
       "            <td>&nbsp;&nbsp;&nbsp;&nbsp;&nbsp;&nbsp;&nbsp;&nbsp;Sort Method: top-N heapsort  Memory: 25kB</td>\n",
       "        </tr>\n",
       "        <tr>\n",
       "            <td>&nbsp;&nbsp;&nbsp;&nbsp;&nbsp;&nbsp;&nbsp;&nbsp;->  HashAggregate  (cost=7624.75..7665.75 rows=4100 width=37) (actual time=72.992..73.572 rows=3905 loops=1)</td>\n",
       "        </tr>\n",
       "        <tr>\n",
       "            <td>&nbsp;&nbsp;&nbsp;&nbsp;&nbsp;&nbsp;&nbsp;&nbsp;&nbsp;&nbsp;&nbsp;&nbsp;&nbsp;&nbsp;Group Key: u.user_id</td>\n",
       "        </tr>\n",
       "        <tr>\n",
       "            <td>&nbsp;&nbsp;&nbsp;&nbsp;&nbsp;&nbsp;&nbsp;&nbsp;&nbsp;&nbsp;&nbsp;&nbsp;&nbsp;&nbsp;Batches: 1  Memory Usage: 721kB</td>\n",
       "        </tr>\n",
       "        <tr>\n",
       "            <td>&nbsp;&nbsp;&nbsp;&nbsp;&nbsp;&nbsp;&nbsp;&nbsp;&nbsp;&nbsp;&nbsp;&nbsp;&nbsp;&nbsp;->  Hash Join  (cost=3012.34..7604.25 rows=4100 width=52) (actual time=39.091..71.276 rows=4064 loops=1)</td>\n",
       "        </tr>\n",
       "        <tr>\n",
       "            <td>&nbsp;&nbsp;&nbsp;&nbsp;&nbsp;&nbsp;&nbsp;&nbsp;&nbsp;&nbsp;&nbsp;&nbsp;&nbsp;&nbsp;&nbsp;&nbsp;&nbsp;&nbsp;&nbsp;&nbsp;Hash Cond: ((review.user_id)::text = (u.user_id)::text)</td>\n",
       "        </tr>\n",
       "        <tr>\n",
       "            <td>&nbsp;&nbsp;&nbsp;&nbsp;&nbsp;&nbsp;&nbsp;&nbsp;&nbsp;&nbsp;&nbsp;&nbsp;&nbsp;&nbsp;&nbsp;&nbsp;&nbsp;&nbsp;&nbsp;&nbsp;->  Seq Scan on review  (cost=0.00..4581.15 rows=4100 width=46) (actual time=3.014..33.076 rows=4064 loops=1)</td>\n",
       "        </tr>\n",
       "        <tr>\n",
       "            <td>&nbsp;&nbsp;&nbsp;&nbsp;&nbsp;&nbsp;&nbsp;&nbsp;&nbsp;&nbsp;&nbsp;&nbsp;&nbsp;&nbsp;&nbsp;&nbsp;&nbsp;&nbsp;&nbsp;&nbsp;&nbsp;&nbsp;&nbsp;&nbsp;&nbsp;&nbsp;Filter: ((date >= '2021-01-01'::date) AND (date <= '2021-12-31'::date))</td>\n",
       "        </tr>\n",
       "        <tr>\n",
       "            <td>&nbsp;&nbsp;&nbsp;&nbsp;&nbsp;&nbsp;&nbsp;&nbsp;&nbsp;&nbsp;&nbsp;&nbsp;&nbsp;&nbsp;&nbsp;&nbsp;&nbsp;&nbsp;&nbsp;&nbsp;&nbsp;&nbsp;&nbsp;&nbsp;&nbsp;&nbsp;Rows Removed by Filter: 44679</td>\n",
       "        </tr>\n",
       "        <tr>\n",
       "            <td>&nbsp;&nbsp;&nbsp;&nbsp;&nbsp;&nbsp;&nbsp;&nbsp;&nbsp;&nbsp;&nbsp;&nbsp;&nbsp;&nbsp;&nbsp;&nbsp;&nbsp;&nbsp;&nbsp;&nbsp;->  Hash  (cost=2479.93..2479.93 rows=42593 width=29) (actual time=35.818..35.818 rows=42593 loops=1)</td>\n",
       "        </tr>\n",
       "        <tr>\n",
       "            <td>&nbsp;&nbsp;&nbsp;&nbsp;&nbsp;&nbsp;&nbsp;&nbsp;&nbsp;&nbsp;&nbsp;&nbsp;&nbsp;&nbsp;&nbsp;&nbsp;&nbsp;&nbsp;&nbsp;&nbsp;&nbsp;&nbsp;&nbsp;&nbsp;&nbsp;&nbsp;Buckets: 65536  Batches: 1  Memory Usage: 3064kB</td>\n",
       "        </tr>\n",
       "        <tr>\n",
       "            <td>&nbsp;&nbsp;&nbsp;&nbsp;&nbsp;&nbsp;&nbsp;&nbsp;&nbsp;&nbsp;&nbsp;&nbsp;&nbsp;&nbsp;&nbsp;&nbsp;&nbsp;&nbsp;&nbsp;&nbsp;&nbsp;&nbsp;&nbsp;&nbsp;&nbsp;&nbsp;->  Seq Scan on yelp_user u  (cost=0.00..2479.93 rows=42593 width=29) (actual time=0.029..18.121 rows=42593 loops=1)</td>\n",
       "        </tr>\n",
       "        <tr>\n",
       "            <td>Planning Time: 2.865 ms</td>\n",
       "        </tr>\n",
       "        <tr>\n",
       "            <td>Execution Time: 76.009 ms</td>\n",
       "        </tr>\n",
       "    </tbody>\n",
       "</table>"
      ],
      "text/plain": [
       "+------------------------------------------------------------------------------------------------------------------------------------------------+\n",
       "|                                                                   QUERY PLAN                                                                   |\n",
       "+------------------------------------------------------------------------------------------------------------------------------------------------+\n",
       "|                          Limit  (cost=7754.35..7754.37 rows=10 width=37) (actual time=74.222..74.225 rows=10 loops=1)                          |\n",
       "|                        ->  Sort  (cost=7754.35..7764.60 rows=4100 width=37) (actual time=74.221..74.222 rows=10 loops=1)                       |\n",
       "|                                                        Sort Key: (count(review.review_id)) DESC                                                |\n",
       "|                                                       Sort Method: top-N heapsort  Memory: 25kB                                                |\n",
       "|                      ->  HashAggregate  (cost=7624.75..7665.75 rows=4100 width=37) (actual time=72.992..73.572 rows=3905 loops=1)              |\n",
       "|                                                                     Group Key: u.user_id                                                       |\n",
       "|                                                               Batches: 1  Memory Usage: 721kB                                                  |\n",
       "|                           ->  Hash Join  (cost=3012.34..7604.25 rows=4100 width=52) (actual time=39.091..71.276 rows=4064 loops=1)             |\n",
       "|                                                      Hash Cond: ((review.user_id)::text = (u.user_id)::text)                                   |\n",
       "|                           ->  Seq Scan on review  (cost=0.00..4581.15 rows=4100 width=46) (actual time=3.014..33.076 rows=4064 loops=1)        |\n",
       "|                                                 Filter: ((date >= '2021-01-01'::date) AND (date <= '2021-12-31'::date))                        |\n",
       "|                                                                      Rows Removed by Filter: 44679                                             |\n",
       "|                               ->  Hash  (cost=2479.93..2479.93 rows=42593 width=29) (actual time=35.818..35.818 rows=42593 loops=1)            |\n",
       "|                                                             Buckets: 65536  Batches: 1  Memory Usage: 3064kB                                   |\n",
       "|                           ->  Seq Scan on yelp_user u  (cost=0.00..2479.93 rows=42593 width=29) (actual time=0.029..18.121 rows=42593 loops=1) |\n",
       "|                                                            Planning Time: 2.865 ms                                                             |\n",
       "|                                                           Execution Time: 76.009 ms                                                            |\n",
       "+------------------------------------------------------------------------------------------------------------------------------------------------+"
      ]
     },
     "execution_count": 41,
     "metadata": {},
     "output_type": "execute_result"
    }
   ],
   "source": [
    "%%sql\n",
    "EXPLAIN ANALYZE\n",
    "SELECT u.user_id, u.name, COUNT(r.review_id) review_count \n",
    "FROM (SELECT * FROM review WHERE date BETWEEN '2021-01-01' AND '2021-12-31' ) r \n",
    "JOIN yelp_user u \n",
    "ON u.user_id = r.user_id \n",
    "GROUP BY u.user_id, u.name \n",
    "ORDER BY review_count DESC \n",
    "LIMIT 10;"
   ]
  },
  {
   "cell_type": "markdown",
   "metadata": {},
   "source": [
    "# Indexes\n",
    "### "
   ]
  },
  {
   "cell_type": "markdown",
   "metadata": {},
   "source": []
  }
 ],
 "metadata": {
  "kernelspec": {
   "display_name": "base",
   "language": "python",
   "name": "python3"
  },
  "language_info": {
   "codemirror_mode": {
    "name": "ipython",
    "version": 3
   },
   "file_extension": ".py",
   "mimetype": "text/x-python",
   "name": "python",
   "nbconvert_exporter": "python",
   "pygments_lexer": "ipython3",
   "version": "3.9.12"
  }
 },
 "nbformat": 4,
 "nbformat_minor": 2
}
