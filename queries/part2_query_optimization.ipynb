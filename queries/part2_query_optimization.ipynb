{
 "cells": [
  {
   "cell_type": "code",
   "execution_count": 2,
   "metadata": {},
   "outputs": [],
   "source": [
    "import psycopg"
   ]
  },
  {
   "cell_type": "code",
   "execution_count": 3,
   "metadata": {},
   "outputs": [],
   "source": [
    "%reload_ext sql"
   ]
  },
  {
   "cell_type": "code",
   "execution_count": 4,
   "metadata": {},
   "outputs": [],
   "source": [
    "%sql postgresql://michellelin@localhost:5432/yelp"
   ]
  },
  {
   "cell_type": "code",
   "execution_count": 5,
   "metadata": {},
   "outputs": [],
   "source": [
    "%config SqlMagic.displaylimit = 30"
   ]
  },
  {
   "cell_type": "markdown",
   "metadata": {},
   "source": [
    "# Query 1 \n",
    "### Most Reviewed Businesses in Each City"
   ]
  },
  {
   "cell_type": "code",
   "execution_count": 6,
   "metadata": {},
   "outputs": [
    {
     "ename": "SyntaxError",
     "evalue": "invalid syntax (2819850461.py, line 1)",
     "output_type": "error",
     "traceback": [
      "\u001b[0;36m  Input \u001b[0;32mIn [6]\u001b[0;36m\u001b[0m\n\u001b[0;31m    -- Option 1: For denormalized 'business' table\u001b[0m\n\u001b[0m              ^\u001b[0m\n\u001b[0;31mSyntaxError\u001b[0m\u001b[0;31m:\u001b[0m invalid syntax\n"
     ]
    }
   ],
   "source": [
    "-- Option 1: For denormalized 'business' table\n",
    "WITH ranked_businesses AS (\n",
    "    SELECT \n",
    "        city, \n",
    "        state, \n",
    "        business_id, \n",
    "        name, \n",
    "        review_count, \n",
    "        ROW_NUMBER() OVER (PARTITION BY city, state ORDER BY review_count DESC) AS rank \n",
    "    FROM \n",
    "        business\n",
    ")\n",
    "SELECT \n",
    "    city, \n",
    "    state, \n",
    "    business_id, \n",
    "    name, \n",
    "    review_count \n",
    "FROM \n",
    "    ranked_businesses \n",
    "WHERE \n",
    "    rank = 1 \n",
    "ORDER BY \n",
    "    review_count DESC \n",
    "LIMIT 10;\n",
    "\n",
    "-- Option 2: For normalized 'nor_business' and 'location' tables\n",
    "WITH ranked_businesses AS (\n",
    "    SELECT \n",
    "        loc.city, \n",
    "        loc.state, \n",
    "        nb.business_id, \n",
    "        nb.name, \n",
    "        nb.review_count, \n",
    "        ROW_NUMBER() OVER (PARTITION BY loc.city, loc.state ORDER BY nb.review_count DESC) AS rank \n",
    "    FROM \n",
    "        nor_business nb \n",
    "    JOIN \n",
    "        location loc ON nb.business_id = loc.business_id \n",
    ")\n",
    "SELECT \n",
    "    city, \n",
    "    state, \n",
    "    business_id, \n",
    "    name, \n",
    "    review_count \n",
    "FROM \n",
    "    ranked_businesses \n",
    "WHERE \n",
    "    rank = 1 \n",
    "ORDER BY \n",
    "    review_count DESC \n",
    "LIMIT 10;\n"
   ]
  },
  {
   "cell_type": "code",
   "execution_count": null,
   "metadata": {},
   "outputs": [],
   "source": [
    "s"
   ]
  }
 ],
 "metadata": {
  "kernelspec": {
   "display_name": "base",
   "language": "python",
   "name": "python3"
  },
  "language_info": {
   "codemirror_mode": {
    "name": "ipython",
    "version": 3
   },
   "file_extension": ".py",
   "mimetype": "text/x-python",
   "name": "python",
   "nbconvert_exporter": "python",
   "pygments_lexer": "ipython3",
   "version": "3.9.12"
  }
 },
 "nbformat": 4,
 "nbformat_minor": 2
}
