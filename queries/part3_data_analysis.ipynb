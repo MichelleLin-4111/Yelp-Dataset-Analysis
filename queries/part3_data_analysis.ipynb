{
 "cells": [
  {
   "cell_type": "code",
   "execution_count": 1,
   "metadata": {},
   "outputs": [],
   "source": [
    "import psycopg"
   ]
  },
  {
   "cell_type": "code",
   "execution_count": 2,
   "metadata": {},
   "outputs": [],
   "source": [
    "%reload_ext sql"
   ]
  },
  {
   "cell_type": "code",
   "execution_count": 3,
   "metadata": {},
   "outputs": [],
   "source": [
    "%sql postgresql://michellelin@localhost:5432/yelp"
   ]
  },
  {
   "cell_type": "code",
   "execution_count": 4,
   "metadata": {},
   "outputs": [],
   "source": [
    "%config SqlMagic.displaylimit = 30"
   ]
  },
  {
   "cell_type": "markdown",
   "metadata": {},
   "source": [
    "# Restaurant Recommendations!"
   ]
  },
  {
   "cell_type": "markdown",
   "metadata": {},
   "source": [
    "### Top 10 businesses with the most 5-star reviews"
   ]
  },
  {
   "cell_type": "code",
   "execution_count": 5,
   "metadata": {},
   "outputs": [
    {
     "data": {
      "text/html": [
       "<span style=\"None\">Running query in &#x27;postgresql://michellelin@localhost:5432/yelp&#x27;</span>"
      ],
      "text/plain": [
       "Running query in 'postgresql://michellelin@localhost:5432/yelp'"
      ]
     },
     "metadata": {},
     "output_type": "display_data"
    },
    {
     "data": {
      "text/html": [
       "<span style=\"color: green\">10 rows affected.</span>"
      ],
      "text/plain": [
       "10 rows affected."
      ]
     },
     "metadata": {},
     "output_type": "display_data"
    },
    {
     "data": {
      "text/html": [
       "<table>\n",
       "    <thead>\n",
       "        <tr>\n",
       "            <th>name</th>\n",
       "            <th>five_star_count</th>\n",
       "        </tr>\n",
       "    </thead>\n",
       "    <tbody>\n",
       "        <tr>\n",
       "            <td>Chef Ron's Gumbo Stop</td>\n",
       "            <td>944</td>\n",
       "        </tr>\n",
       "        <tr>\n",
       "            <td>The Black Sheep</td>\n",
       "            <td>693</td>\n",
       "        </tr>\n",
       "        <tr>\n",
       "            <td>Tokyo Sushi</td>\n",
       "            <td>468</td>\n",
       "        </tr>\n",
       "        <tr>\n",
       "            <td>Daisy Dukes - French Quarter</td>\n",
       "            <td>456</td>\n",
       "        </tr>\n",
       "        <tr>\n",
       "            <td>The Company Burger</td>\n",
       "            <td>339</td>\n",
       "        </tr>\n",
       "        <tr>\n",
       "            <td>Poke King</td>\n",
       "            <td>294</td>\n",
       "        </tr>\n",
       "        <tr>\n",
       "            <td>Spice 28</td>\n",
       "            <td>290</td>\n",
       "        </tr>\n",
       "        <tr>\n",
       "            <td>Pepperfire Hot Chicken</td>\n",
       "            <td>258</td>\n",
       "        </tr>\n",
       "        <tr>\n",
       "            <td>Pad Thai</td>\n",
       "            <td>246</td>\n",
       "        </tr>\n",
       "        <tr>\n",
       "            <td>Slice Pizzeria</td>\n",
       "            <td>239</td>\n",
       "        </tr>\n",
       "    </tbody>\n",
       "</table>"
      ],
      "text/plain": [
       "+------------------------------+-----------------+\n",
       "|             name             | five_star_count |\n",
       "+------------------------------+-----------------+\n",
       "|    Chef Ron's Gumbo Stop     |       944       |\n",
       "|       The Black Sheep        |       693       |\n",
       "|         Tokyo Sushi          |       468       |\n",
       "| Daisy Dukes - French Quarter |       456       |\n",
       "|      The Company Burger      |       339       |\n",
       "|          Poke King           |       294       |\n",
       "|           Spice 28           |       290       |\n",
       "|    Pepperfire Hot Chicken    |       258       |\n",
       "|           Pad Thai           |       246       |\n",
       "|        Slice Pizzeria        |       239       |\n",
       "+------------------------------+-----------------+"
      ]
     },
     "execution_count": 5,
     "metadata": {},
     "output_type": "execute_result"
    }
   ],
   "source": [
    "%%sql\n",
    "WITH five_star_reviews AS (\n",
    "    SELECT \n",
    "        business_id, \n",
    "        COUNT(review_id) AS five_star_count \n",
    "    FROM review \n",
    "    WHERE stars = 5 \n",
    "    GROUP BY business_id\n",
    ")\n",
    "SELECT name, five_star_count\n",
    "FROM five_star_reviews f\n",
    "JOIN business b\n",
    "ON f.business_id = b.business_id\n",
    "ORDER BY five_star_count DESC\n",
    "LIMIT 10;\n"
   ]
  },
  {
   "cell_type": "markdown",
   "metadata": {},
   "source": [
    "###  Top 3 businesses in each state"
   ]
  },
  {
   "cell_type": "code",
   "execution_count": 17,
   "metadata": {},
   "outputs": [
    {
     "data": {
      "text/html": [
       "<span style=\"None\">Running query in &#x27;postgresql://michellelin@localhost:5432/yelp&#x27;</span>"
      ],
      "text/plain": [
       "Running query in 'postgresql://michellelin@localhost:5432/yelp'"
      ]
     },
     "metadata": {},
     "output_type": "display_data"
    },
    {
     "data": {
      "text/html": [
       "<span style=\"color: green\">42 rows affected.</span>"
      ],
      "text/plain": [
       "42 rows affected."
      ]
     },
     "metadata": {},
     "output_type": "display_data"
    },
    {
     "data": {
      "text/html": [
       "<table>\n",
       "    <thead>\n",
       "        <tr>\n",
       "            <th>business_id</th>\n",
       "            <th>name</th>\n",
       "            <th>state</th>\n",
       "            <th>review_count</th>\n",
       "            <th>rank</th>\n",
       "        </tr>\n",
       "    </thead>\n",
       "    <tbody>\n",
       "        <tr>\n",
       "            <td>O4grjToHwGSIlbSHjQ1dQQ</td>\n",
       "            <td>Under the High Wheel</td>\n",
       "            <td>AB</td>\n",
       "            <td>122</td>\n",
       "            <td>1</td>\n",
       "        </tr>\n",
       "        <tr>\n",
       "            <td>lZJ7UL3SaqgPsItQnnykKA</td>\n",
       "            <td>Café Linnea</td>\n",
       "            <td>AB</td>\n",
       "            <td>103</td>\n",
       "            <td>2</td>\n",
       "        </tr>\n",
       "        <tr>\n",
       "            <td>SVFt22qfFNML2lOl_7g5WA</td>\n",
       "            <td>I Love Sushi</td>\n",
       "            <td>AB</td>\n",
       "            <td>70</td>\n",
       "            <td>3</td>\n",
       "        </tr>\n",
       "        <tr>\n",
       "            <td>pnZQOGEV-Ru6vHIYaUuQBw</td>\n",
       "            <td>Miss Saigon</td>\n",
       "            <td>AZ</td>\n",
       "            <td>237</td>\n",
       "            <td>1</td>\n",
       "        </tr>\n",
       "        <tr>\n",
       "            <td>lqSJkyNSE1yPeux4PoR-pg</td>\n",
       "            <td>Arizona Aquatic Gardens</td>\n",
       "            <td>AZ</td>\n",
       "            <td>206</td>\n",
       "            <td>2</td>\n",
       "        </tr>\n",
       "        <tr>\n",
       "            <td>juL8ovMlnjkXNACxZ8HLAQ</td>\n",
       "            <td>Sam Levitz Furniture</td>\n",
       "            <td>AZ</td>\n",
       "            <td>186</td>\n",
       "            <td>3</td>\n",
       "        </tr>\n",
       "        <tr>\n",
       "            <td>8Vo6LN9gqULhXzoxj5k6kQ</td>\n",
       "            <td>The Black Sheep</td>\n",
       "            <td>CA</td>\n",
       "            <td>983</td>\n",
       "            <td>1</td>\n",
       "        </tr>\n",
       "        <tr>\n",
       "            <td>yEmEDomLUofVtbZoUeFV5g</td>\n",
       "            <td>The Daily Grind Coffee & Tea Station</td>\n",
       "            <td>CA</td>\n",
       "            <td>312</td>\n",
       "            <td>2</td>\n",
       "        </tr>\n",
       "        <tr>\n",
       "            <td>6E9KjyDAdL_vDQCWwhj_KA</td>\n",
       "            <td>Crushcakes & Cafe</td>\n",
       "            <td>CA</td>\n",
       "            <td>264</td>\n",
       "            <td>3</td>\n",
       "        </tr>\n",
       "        <tr>\n",
       "            <td>bbm5_njEZyw68E7UUY0xgQ</td>\n",
       "            <td>Red Robin Gourmet Burgers and Brews</td>\n",
       "            <td>DE</td>\n",
       "            <td>86</td>\n",
       "            <td>1</td>\n",
       "        </tr>\n",
       "        <tr>\n",
       "            <td>iXemjTj5TOByT1-cNTSaDw</td>\n",
       "            <td>PureBread Deli</td>\n",
       "            <td>DE</td>\n",
       "            <td>64</td>\n",
       "            <td>2</td>\n",
       "        </tr>\n",
       "        <tr>\n",
       "            <td>47IVPsHZAA0soPvidEnNbw</td>\n",
       "            <td>Pickles & Chip's</td>\n",
       "            <td>DE</td>\n",
       "            <td>46</td>\n",
       "            <td>3</td>\n",
       "        </tr>\n",
       "        <tr>\n",
       "            <td>_sJJWbW9hACKCR5fIhbqcg</td>\n",
       "            <td>Frog Pond</td>\n",
       "            <td>FL</td>\n",
       "            <td>418</td>\n",
       "            <td>1</td>\n",
       "        </tr>\n",
       "        <tr>\n",
       "            <td>isRg8RrE1iIv1ks27A1FuA</td>\n",
       "            <td>Wood Fired Pizza Wine Bar</td>\n",
       "            <td>FL</td>\n",
       "            <td>329</td>\n",
       "            <td>2</td>\n",
       "        </tr>\n",
       "        <tr>\n",
       "            <td>1KwwJvCwwjdtlgeuxoMhsQ</td>\n",
       "            <td>Carmel Kitchen & Wine Bar</td>\n",
       "            <td>FL</td>\n",
       "            <td>285</td>\n",
       "            <td>3</td>\n",
       "        </tr>\n",
       "        <tr>\n",
       "            <td>Ww9FIzWJTwiN6Vlh_RdoNA</td>\n",
       "            <td>Cucina Di Paolo</td>\n",
       "            <td>ID</td>\n",
       "            <td>208</td>\n",
       "            <td>1</td>\n",
       "        </tr>\n",
       "        <tr>\n",
       "            <td>e8rmWzn0xD34dslXQ3pj5w</td>\n",
       "            <td>Magnificent Garden</td>\n",
       "            <td>ID</td>\n",
       "            <td>116</td>\n",
       "            <td>2</td>\n",
       "        </tr>\n",
       "        <tr>\n",
       "            <td>ONlmxkw9jwZytY2IDZIINQ</td>\n",
       "            <td>Sweet Sensation Donuts</td>\n",
       "            <td>ID</td>\n",
       "            <td>99</td>\n",
       "            <td>3</td>\n",
       "        </tr>\n",
       "        <tr>\n",
       "            <td>WnRFkzFpX4GjJjMCxhdncA</td>\n",
       "            <td>White Castle</td>\n",
       "            <td>IL</td>\n",
       "            <td>28</td>\n",
       "            <td>1</td>\n",
       "        </tr>\n",
       "        <tr>\n",
       "            <td>nrZ2IbBsKRDduM8ghOgwvQ</td>\n",
       "            <td>Golden Corral Family Steakhouse</td>\n",
       "            <td>IL</td>\n",
       "            <td>27</td>\n",
       "            <td>2</td>\n",
       "        </tr>\n",
       "        <tr>\n",
       "            <td>B9IjPjtyVtyoedhE2BbImw</td>\n",
       "            <td>Nailhaus</td>\n",
       "            <td>IL</td>\n",
       "            <td>21</td>\n",
       "            <td>3</td>\n",
       "        </tr>\n",
       "        <tr>\n",
       "            <td>L6LiIjKsMcxguEGnr5ilqQ</td>\n",
       "            <td>Spoke & Steele</td>\n",
       "            <td>IN</td>\n",
       "            <td>360</td>\n",
       "            <td>1</td>\n",
       "        </tr>\n",
       "        <tr>\n",
       "            <td>ePeffa0b95s4Y677PtwO9w</td>\n",
       "            <td>ClusterTruck</td>\n",
       "            <td>IN</td>\n",
       "            <td>311</td>\n",
       "            <td>2</td>\n",
       "        </tr>\n",
       "        <tr>\n",
       "            <td>_zdARZbZNr4k8AD-SJDCgg</td>\n",
       "            <td>Pearings Cafe + Frozen Yogurt</td>\n",
       "            <td>IN</td>\n",
       "            <td>253</td>\n",
       "            <td>3</td>\n",
       "        </tr>\n",
       "        <tr>\n",
       "            <td>3WU1ZobAqXQ07xYoKE2Vyg</td>\n",
       "            <td>Daisy Dukes - French Quarter</td>\n",
       "            <td>LA</td>\n",
       "            <td>1437</td>\n",
       "            <td>1</td>\n",
       "        </tr>\n",
       "        <tr>\n",
       "            <td>bp5Mk2d0qofUeF5uLauIbg</td>\n",
       "            <td>Chef Ron's Gumbo Stop</td>\n",
       "            <td>LA</td>\n",
       "            <td>1350</td>\n",
       "            <td>2</td>\n",
       "        </tr>\n",
       "        <tr>\n",
       "            <td>q6hWVlVeiCgMgM22wt1wfw</td>\n",
       "            <td>The Company Burger</td>\n",
       "            <td>LA</td>\n",
       "            <td>748</td>\n",
       "            <td>3</td>\n",
       "        </tr>\n",
       "        <tr>\n",
       "            <td>kpl3H_sgfTm-tH3Aa-ML7g</td>\n",
       "            <td>Benton Park Café & Coffee Bar</td>\n",
       "            <td>MO</td>\n",
       "            <td>533</td>\n",
       "            <td>1</td>\n",
       "        </tr>\n",
       "        <tr>\n",
       "            <td>4oe5dLfE283zx0aw6BHKTA</td>\n",
       "            <td>Dressel's Public House</td>\n",
       "            <td>MO</td>\n",
       "            <td>398</td>\n",
       "            <td>2</td>\n",
       "        </tr>\n",
       "        <tr>\n",
       "            <td>Mgaxy0pJAlhAjdNivhu82A</td>\n",
       "            <td>Pad Thai</td>\n",
       "            <td>MO</td>\n",
       "            <td>343</td>\n",
       "            <td>3</td>\n",
       "        </tr>\n",
       "    </tbody>\n",
       "</table>\n",
       "<span style=\"font-style:italic;text-align:center;\">Truncated to <a href=\"https://jupysql.ploomber.io/en/latest/api/configuration.html#displaylimit\">displaylimit</a> of 30.</span>"
      ],
      "text/plain": [
       "+------------------------+--------------------------------------+-------+--------------+------+\n",
       "|      business_id       |                 name                 | state | review_count | rank |\n",
       "+------------------------+--------------------------------------+-------+--------------+------+\n",
       "| O4grjToHwGSIlbSHjQ1dQQ |         Under the High Wheel         |   AB  |     122      |  1   |\n",
       "| lZJ7UL3SaqgPsItQnnykKA |             Café Linnea              |   AB  |     103      |  2   |\n",
       "| SVFt22qfFNML2lOl_7g5WA |             I Love Sushi             |   AB  |      70      |  3   |\n",
       "| pnZQOGEV-Ru6vHIYaUuQBw |             Miss Saigon              |   AZ  |     237      |  1   |\n",
       "| lqSJkyNSE1yPeux4PoR-pg |       Arizona Aquatic Gardens        |   AZ  |     206      |  2   |\n",
       "| juL8ovMlnjkXNACxZ8HLAQ |         Sam Levitz Furniture         |   AZ  |     186      |  3   |\n",
       "| 8Vo6LN9gqULhXzoxj5k6kQ |           The Black Sheep            |   CA  |     983      |  1   |\n",
       "| yEmEDomLUofVtbZoUeFV5g | The Daily Grind Coffee & Tea Station |   CA  |     312      |  2   |\n",
       "| 6E9KjyDAdL_vDQCWwhj_KA |          Crushcakes & Cafe           |   CA  |     264      |  3   |\n",
       "| bbm5_njEZyw68E7UUY0xgQ | Red Robin Gourmet Burgers and Brews  |   DE  |      86      |  1   |\n",
       "| iXemjTj5TOByT1-cNTSaDw |            PureBread Deli            |   DE  |      64      |  2   |\n",
       "| 47IVPsHZAA0soPvidEnNbw |           Pickles & Chip's           |   DE  |      46      |  3   |\n",
       "| _sJJWbW9hACKCR5fIhbqcg |              Frog Pond               |   FL  |     418      |  1   |\n",
       "| isRg8RrE1iIv1ks27A1FuA |      Wood Fired Pizza Wine Bar       |   FL  |     329      |  2   |\n",
       "| 1KwwJvCwwjdtlgeuxoMhsQ |      Carmel Kitchen & Wine Bar       |   FL  |     285      |  3   |\n",
       "| Ww9FIzWJTwiN6Vlh_RdoNA |           Cucina Di Paolo            |   ID  |     208      |  1   |\n",
       "| e8rmWzn0xD34dslXQ3pj5w |          Magnificent Garden          |   ID  |     116      |  2   |\n",
       "| ONlmxkw9jwZytY2IDZIINQ |        Sweet Sensation Donuts        |   ID  |      99      |  3   |\n",
       "| WnRFkzFpX4GjJjMCxhdncA |             White Castle             |   IL  |      28      |  1   |\n",
       "| nrZ2IbBsKRDduM8ghOgwvQ |   Golden Corral Family Steakhouse    |   IL  |      27      |  2   |\n",
       "| B9IjPjtyVtyoedhE2BbImw |               Nailhaus               |   IL  |      21      |  3   |\n",
       "| L6LiIjKsMcxguEGnr5ilqQ |            Spoke & Steele            |   IN  |     360      |  1   |\n",
       "| ePeffa0b95s4Y677PtwO9w |             ClusterTruck             |   IN  |     311      |  2   |\n",
       "| _zdARZbZNr4k8AD-SJDCgg |    Pearings Cafe + Frozen Yogurt     |   IN  |     253      |  3   |\n",
       "| 3WU1ZobAqXQ07xYoKE2Vyg |     Daisy Dukes - French Quarter     |   LA  |     1437     |  1   |\n",
       "| bp5Mk2d0qofUeF5uLauIbg |        Chef Ron's Gumbo Stop         |   LA  |     1350     |  2   |\n",
       "| q6hWVlVeiCgMgM22wt1wfw |          The Company Burger          |   LA  |     748      |  3   |\n",
       "| kpl3H_sgfTm-tH3Aa-ML7g |    Benton Park Café & Coffee Bar     |   MO  |     533      |  1   |\n",
       "| 4oe5dLfE283zx0aw6BHKTA |        Dressel's Public House        |   MO  |     398      |  2   |\n",
       "| Mgaxy0pJAlhAjdNivhu82A |               Pad Thai               |   MO  |     343      |  3   |\n",
       "+------------------------+--------------------------------------+-------+--------------+------+\n",
       "Truncated to displaylimit of 30."
      ]
     },
     "execution_count": 17,
     "metadata": {},
     "output_type": "execute_result"
    }
   ],
   "source": [
    "%%sql\n",
    "WITH ranked_businesses AS (\n",
    "    SELECT \n",
    "        business_id, \n",
    "        name, \n",
    "        state, \n",
    "        review_count, \n",
    "        RANK() OVER (PARTITION BY state ORDER BY review_count DESC) AS rank\n",
    "    FROM business\n",
    ")\n",
    "SELECT *\n",
    "FROM ranked_businesses\n",
    "WHERE rank <= 3;\n"
   ]
  },
  {
   "cell_type": "markdown",
   "metadata": {},
   "source": [
    "### How many users leave reviews for the same business multiple times?"
   ]
  },
  {
   "cell_type": "code",
   "execution_count": 23,
   "metadata": {},
   "outputs": [
    {
     "data": {
      "text/html": [
       "<span style=\"None\">Running query in &#x27;postgresql://michellelin@localhost:5432/yelp&#x27;</span>"
      ],
      "text/plain": [
       "Running query in 'postgresql://michellelin@localhost:5432/yelp'"
      ]
     },
     "metadata": {},
     "output_type": "display_data"
    },
    {
     "data": {
      "text/html": [
       "<span style=\"color: green\">10 rows affected.</span>"
      ],
      "text/plain": [
       "10 rows affected."
      ]
     },
     "metadata": {},
     "output_type": "display_data"
    },
    {
     "data": {
      "text/html": [
       "<table>\n",
       "    <thead>\n",
       "        <tr>\n",
       "            <th>user_id</th>\n",
       "            <th>review_count</th>\n",
       "            <th>name</th>\n",
       "            <th>state</th>\n",
       "        </tr>\n",
       "    </thead>\n",
       "    <tbody>\n",
       "        <tr>\n",
       "            <td>o14c28vxH5AomMc8rPIgnA</td>\n",
       "            <td>16</td>\n",
       "            <td>The Cat Practice</td>\n",
       "            <td>LA</td>\n",
       "        </tr>\n",
       "        <tr>\n",
       "            <td>R7NM7vIyUfSTXvMsw7jNTA</td>\n",
       "            <td>7</td>\n",
       "            <td>Bach's Greenhouse Cactus Nursery</td>\n",
       "            <td>AZ</td>\n",
       "        </tr>\n",
       "        <tr>\n",
       "            <td>pO8_YbBpkZ3F1WnC-nsWWw</td>\n",
       "            <td>6</td>\n",
       "            <td>Napoleon Blonde</td>\n",
       "            <td>CA</td>\n",
       "        </tr>\n",
       "        <tr>\n",
       "            <td>Yj4SpqG0OJxbg8L1Qsrlsw</td>\n",
       "            <td>6</td>\n",
       "            <td>Yellowbelly</td>\n",
       "            <td>MO</td>\n",
       "        </tr>\n",
       "        <tr>\n",
       "            <td>B1OVDsstzC_RaESmtd1oWQ</td>\n",
       "            <td>6</td>\n",
       "            <td>Tokyo Sushi</td>\n",
       "            <td>NV</td>\n",
       "        </tr>\n",
       "        <tr>\n",
       "            <td>Yj4SpqG0OJxbg8L1Qsrlsw</td>\n",
       "            <td>6</td>\n",
       "            <td>Dressel's Public House</td>\n",
       "            <td>MO</td>\n",
       "        </tr>\n",
       "        <tr>\n",
       "            <td>UMh9KhqlScXlkuYq8HQT4Q</td>\n",
       "            <td>6</td>\n",
       "            <td>Chopstick House</td>\n",
       "            <td>TN</td>\n",
       "        </tr>\n",
       "        <tr>\n",
       "            <td>daBNJmXVo5LwmL5zTqf6Mw</td>\n",
       "            <td>5</td>\n",
       "            <td>Burger Monger</td>\n",
       "            <td>FL</td>\n",
       "        </tr>\n",
       "        <tr>\n",
       "            <td>GVtX02uGPXPV4H-X5gyFkg</td>\n",
       "            <td>5</td>\n",
       "            <td>Carmel Kitchen & Wine Bar</td>\n",
       "            <td>FL</td>\n",
       "        </tr>\n",
       "        <tr>\n",
       "            <td>dgGUKdOh2a01OwLw1qgfDw</td>\n",
       "            <td>5</td>\n",
       "            <td>Opry Mills</td>\n",
       "            <td>TN</td>\n",
       "        </tr>\n",
       "    </tbody>\n",
       "</table>"
      ],
      "text/plain": [
       "+------------------------+--------------+----------------------------------+-------+\n",
       "|        user_id         | review_count |               name               | state |\n",
       "+------------------------+--------------+----------------------------------+-------+\n",
       "| o14c28vxH5AomMc8rPIgnA |      16      |         The Cat Practice         |   LA  |\n",
       "| R7NM7vIyUfSTXvMsw7jNTA |      7       | Bach's Greenhouse Cactus Nursery |   AZ  |\n",
       "| pO8_YbBpkZ3F1WnC-nsWWw |      6       |         Napoleon Blonde          |   CA  |\n",
       "| Yj4SpqG0OJxbg8L1Qsrlsw |      6       |           Yellowbelly            |   MO  |\n",
       "| B1OVDsstzC_RaESmtd1oWQ |      6       |           Tokyo Sushi            |   NV  |\n",
       "| Yj4SpqG0OJxbg8L1Qsrlsw |      6       |      Dressel's Public House      |   MO  |\n",
       "| UMh9KhqlScXlkuYq8HQT4Q |      6       |         Chopstick House          |   TN  |\n",
       "| daBNJmXVo5LwmL5zTqf6Mw |      5       |          Burger Monger           |   FL  |\n",
       "| GVtX02uGPXPV4H-X5gyFkg |      5       |    Carmel Kitchen & Wine Bar     |   FL  |\n",
       "| dgGUKdOh2a01OwLw1qgfDw |      5       |            Opry Mills            |   TN  |\n",
       "+------------------------+--------------+----------------------------------+-------+"
      ]
     },
     "execution_count": 23,
     "metadata": {},
     "output_type": "execute_result"
    }
   ],
   "source": [
    "%%sql\n",
    "WITH repeat_customers AS (\n",
    "    SELECT \n",
    "        user_id, \n",
    "        business_id, \n",
    "        COUNT(review_id) AS review_count \n",
    "    FROM review \n",
    "    GROUP BY user_id, business_id \n",
    "    HAVING COUNT(review_id) > 1\n",
    ")\n",
    "SELECT user_id, rc.review_count, name, state\n",
    "FROM repeat_customers rc\n",
    "JOIN business b \n",
    "ON rc.business_id = b.business_id\n",
    "ORDER BY rc.review_count DESC \n",
    "LIMIT 10;\n"
   ]
  },
  {
   "cell_type": "markdown",
   "metadata": {},
   "source": [
    "###  Top 10 best restaurants for weekends"
   ]
  },
  {
   "cell_type": "code",
   "execution_count": 15,
   "metadata": {},
   "outputs": [
    {
     "data": {
      "text/html": [
       "<span style=\"None\">Running query in &#x27;postgresql://michellelin@localhost:5432/yelp&#x27;</span>"
      ],
      "text/plain": [
       "Running query in 'postgresql://michellelin@localhost:5432/yelp'"
      ]
     },
     "metadata": {},
     "output_type": "display_data"
    },
    {
     "data": {
      "text/html": [
       "<span style=\"color: green\">10 rows affected.</span>"
      ],
      "text/plain": [
       "10 rows affected."
      ]
     },
     "metadata": {},
     "output_type": "display_data"
    },
    {
     "data": {
      "text/html": [
       "<table>\n",
       "    <thead>\n",
       "        <tr>\n",
       "            <th>business_id</th>\n",
       "            <th>weekend_reviews</th>\n",
       "            <th>name</th>\n",
       "            <th>state</th>\n",
       "            <th>city</th>\n",
       "        </tr>\n",
       "    </thead>\n",
       "    <tbody>\n",
       "        <tr>\n",
       "            <td>bp5Mk2d0qofUeF5uLauIbg</td>\n",
       "            <td>430</td>\n",
       "            <td>Chef Ron's Gumbo Stop</td>\n",
       "            <td>LA</td>\n",
       "            <td>Metairie</td>\n",
       "        </tr>\n",
       "        <tr>\n",
       "            <td>3WU1ZobAqXQ07xYoKE2Vyg</td>\n",
       "            <td>402</td>\n",
       "            <td>Daisy Dukes - French Quarter</td>\n",
       "            <td>LA</td>\n",
       "            <td>New Orleans</td>\n",
       "        </tr>\n",
       "        <tr>\n",
       "            <td>8Vo6LN9gqULhXzoxj5k6kQ</td>\n",
       "            <td>274</td>\n",
       "            <td>The Black Sheep</td>\n",
       "            <td>CA</td>\n",
       "            <td>Santa Barbara</td>\n",
       "        </tr>\n",
       "        <tr>\n",
       "            <td>3FPi2yKCIh0Hh3iBg8faYA</td>\n",
       "            <td>237</td>\n",
       "            <td>Tokyo Sushi</td>\n",
       "            <td>NV</td>\n",
       "            <td>Reno</td>\n",
       "        </tr>\n",
       "        <tr>\n",
       "            <td>-1B9pP_CrRBJYPICE5WbRA</td>\n",
       "            <td>234</td>\n",
       "            <td>Spice 28</td>\n",
       "            <td>PA</td>\n",
       "            <td>Philadelphia</td>\n",
       "        </tr>\n",
       "        <tr>\n",
       "            <td>q6hWVlVeiCgMgM22wt1wfw</td>\n",
       "            <td>208</td>\n",
       "            <td>The Company Burger</td>\n",
       "            <td>LA</td>\n",
       "            <td>New Orleans</td>\n",
       "        </tr>\n",
       "        <tr>\n",
       "            <td>XeogL9kqQxKEO42ZEqMbvg</td>\n",
       "            <td>193</td>\n",
       "            <td>Pepperfire Hot Chicken</td>\n",
       "            <td>TN</td>\n",
       "            <td>Nashville</td>\n",
       "        </tr>\n",
       "        <tr>\n",
       "            <td>0S3TvsmbCeOZ9UitnpRd1A</td>\n",
       "            <td>151</td>\n",
       "            <td>Dim Sum House</td>\n",
       "            <td>PA</td>\n",
       "            <td>Philadelphia</td>\n",
       "        </tr>\n",
       "        <tr>\n",
       "            <td>kpl3H_sgfTm-tH3Aa-ML7g</td>\n",
       "            <td>137</td>\n",
       "            <td>Benton Park Café & Coffee Bar</td>\n",
       "            <td>MO</td>\n",
       "            <td>Saint Louis</td>\n",
       "        </tr>\n",
       "        <tr>\n",
       "            <td>vxLV9tci88Hsr1G01uleag</td>\n",
       "            <td>133</td>\n",
       "            <td>Slice Pizzeria</td>\n",
       "            <td>LA</td>\n",
       "            <td>New Orleans</td>\n",
       "        </tr>\n",
       "    </tbody>\n",
       "</table>"
      ],
      "text/plain": [
       "+------------------------+-----------------+-------------------------------+-------+---------------+\n",
       "|      business_id       | weekend_reviews |              name             | state |      city     |\n",
       "+------------------------+-----------------+-------------------------------+-------+---------------+\n",
       "| bp5Mk2d0qofUeF5uLauIbg |       430       |     Chef Ron's Gumbo Stop     |   LA  |    Metairie   |\n",
       "| 3WU1ZobAqXQ07xYoKE2Vyg |       402       |  Daisy Dukes - French Quarter |   LA  |  New Orleans  |\n",
       "| 8Vo6LN9gqULhXzoxj5k6kQ |       274       |        The Black Sheep        |   CA  | Santa Barbara |\n",
       "| 3FPi2yKCIh0Hh3iBg8faYA |       237       |          Tokyo Sushi          |   NV  |      Reno     |\n",
       "| -1B9pP_CrRBJYPICE5WbRA |       234       |            Spice 28           |   PA  |  Philadelphia |\n",
       "| q6hWVlVeiCgMgM22wt1wfw |       208       |       The Company Burger      |   LA  |  New Orleans  |\n",
       "| XeogL9kqQxKEO42ZEqMbvg |       193       |     Pepperfire Hot Chicken    |   TN  |   Nashville   |\n",
       "| 0S3TvsmbCeOZ9UitnpRd1A |       151       |         Dim Sum House         |   PA  |  Philadelphia |\n",
       "| kpl3H_sgfTm-tH3Aa-ML7g |       137       | Benton Park Café & Coffee Bar |   MO  |  Saint Louis  |\n",
       "| vxLV9tci88Hsr1G01uleag |       133       |         Slice Pizzeria        |   LA  |  New Orleans  |\n",
       "+------------------------+-----------------+-------------------------------+-------+---------------+"
      ]
     },
     "execution_count": 15,
     "metadata": {},
     "output_type": "execute_result"
    }
   ],
   "source": [
    "%%sql\n",
    "WITH weekend_best AS (\n",
    "SELECT \n",
    "    business_id, \n",
    "    COUNT(review_id) AS weekend_reviews\n",
    "FROM review\n",
    "WHERE EXTRACT(DOW FROM date) IN (5, 6) \n",
    "GROUP BY business_id\n",
    ")\n",
    "SELECT wb.*, name, state, city\n",
    "FROM weekend_best wb\n",
    "JOIN business b\n",
    "ON wb.business_id = b.business_id\n",
    "ORDER BY weekend_reviews DESC \n",
    "LIMIT 10\n",
    ";\n"
   ]
  },
  {
   "cell_type": "markdown",
   "metadata": {},
   "source": [
    "# Yelp Reviews Analysis"
   ]
  },
  {
   "cell_type": "markdown",
   "metadata": {},
   "source": [
    "### Positive vs. Negative Sentiments Over Time\n",
    "Are users generally leaving more positive or negative reviews over time?"
   ]
  },
  {
   "cell_type": "code",
   "execution_count": 16,
   "metadata": {},
   "outputs": [
    {
     "data": {
      "text/html": [
       "<span style=\"None\">Running query in &#x27;postgresql://michellelin@localhost:5432/yelp&#x27;</span>"
      ],
      "text/plain": [
       "Running query in 'postgresql://michellelin@localhost:5432/yelp'"
      ]
     },
     "metadata": {},
     "output_type": "display_data"
    },
    {
     "data": {
      "text/html": [
       "<span style=\"color: green\">18 rows affected.</span>"
      ],
      "text/plain": [
       "18 rows affected."
      ]
     },
     "metadata": {},
     "output_type": "display_data"
    },
    {
     "data": {
      "text/html": [
       "<table>\n",
       "    <thead>\n",
       "        <tr>\n",
       "            <th>review_year</th>\n",
       "            <th>positive_reviews</th>\n",
       "            <th>negative_reviews</th>\n",
       "        </tr>\n",
       "    </thead>\n",
       "    <tbody>\n",
       "        <tr>\n",
       "            <td>2005-01-01 00:00:00-08:00</td>\n",
       "            <td>0</td>\n",
       "            <td>1</td>\n",
       "        </tr>\n",
       "        <tr>\n",
       "            <td>2006-01-01 00:00:00-08:00</td>\n",
       "            <td>18</td>\n",
       "            <td>1</td>\n",
       "        </tr>\n",
       "        <tr>\n",
       "            <td>2007-01-01 00:00:00-08:00</td>\n",
       "            <td>52</td>\n",
       "            <td>11</td>\n",
       "        </tr>\n",
       "        <tr>\n",
       "            <td>2008-01-01 00:00:00-08:00</td>\n",
       "            <td>181</td>\n",
       "            <td>51</td>\n",
       "        </tr>\n",
       "        <tr>\n",
       "            <td>2009-01-01 00:00:00-08:00</td>\n",
       "            <td>286</td>\n",
       "            <td>92</td>\n",
       "        </tr>\n",
       "        <tr>\n",
       "            <td>2010-01-01 00:00:00-08:00</td>\n",
       "            <td>533</td>\n",
       "            <td>132</td>\n",
       "        </tr>\n",
       "        <tr>\n",
       "            <td>2011-01-01 00:00:00-08:00</td>\n",
       "            <td>950</td>\n",
       "            <td>292</td>\n",
       "        </tr>\n",
       "        <tr>\n",
       "            <td>2012-01-01 00:00:00-08:00</td>\n",
       "            <td>1321</td>\n",
       "            <td>366</td>\n",
       "        </tr>\n",
       "        <tr>\n",
       "            <td>2013-01-01 00:00:00-08:00</td>\n",
       "            <td>1784</td>\n",
       "            <td>580</td>\n",
       "        </tr>\n",
       "        <tr>\n",
       "            <td>2014-01-01 00:00:00-08:00</td>\n",
       "            <td>2443</td>\n",
       "            <td>716</td>\n",
       "        </tr>\n",
       "        <tr>\n",
       "            <td>2015-01-01 00:00:00-08:00</td>\n",
       "            <td>3286</td>\n",
       "            <td>1075</td>\n",
       "        </tr>\n",
       "        <tr>\n",
       "            <td>2016-01-01 00:00:00-08:00</td>\n",
       "            <td>3722</td>\n",
       "            <td>1120</td>\n",
       "        </tr>\n",
       "        <tr>\n",
       "            <td>2017-01-01 00:00:00-08:00</td>\n",
       "            <td>4093</td>\n",
       "            <td>1325</td>\n",
       "        </tr>\n",
       "        <tr>\n",
       "            <td>2018-01-01 00:00:00-08:00</td>\n",
       "            <td>4440</td>\n",
       "            <td>1497</td>\n",
       "        </tr>\n",
       "        <tr>\n",
       "            <td>2019-01-01 00:00:00-08:00</td>\n",
       "            <td>4278</td>\n",
       "            <td>1568</td>\n",
       "        </tr>\n",
       "        <tr>\n",
       "            <td>2020-01-01 00:00:00-08:00</td>\n",
       "            <td>2689</td>\n",
       "            <td>1019</td>\n",
       "        </tr>\n",
       "        <tr>\n",
       "            <td>2021-01-01 00:00:00-08:00</td>\n",
       "            <td>2658</td>\n",
       "            <td>1126</td>\n",
       "        </tr>\n",
       "        <tr>\n",
       "            <td>2022-01-01 00:00:00-08:00</td>\n",
       "            <td>151</td>\n",
       "            <td>72</td>\n",
       "        </tr>\n",
       "    </tbody>\n",
       "</table>"
      ],
      "text/plain": [
       "+---------------------------+------------------+------------------+\n",
       "|        review_year        | positive_reviews | negative_reviews |\n",
       "+---------------------------+------------------+------------------+\n",
       "| 2005-01-01 00:00:00-08:00 |        0         |        1         |\n",
       "| 2006-01-01 00:00:00-08:00 |        18        |        1         |\n",
       "| 2007-01-01 00:00:00-08:00 |        52        |        11        |\n",
       "| 2008-01-01 00:00:00-08:00 |       181        |        51        |\n",
       "| 2009-01-01 00:00:00-08:00 |       286        |        92        |\n",
       "| 2010-01-01 00:00:00-08:00 |       533        |       132        |\n",
       "| 2011-01-01 00:00:00-08:00 |       950        |       292        |\n",
       "| 2012-01-01 00:00:00-08:00 |       1321       |       366        |\n",
       "| 2013-01-01 00:00:00-08:00 |       1784       |       580        |\n",
       "| 2014-01-01 00:00:00-08:00 |       2443       |       716        |\n",
       "| 2015-01-01 00:00:00-08:00 |       3286       |       1075       |\n",
       "| 2016-01-01 00:00:00-08:00 |       3722       |       1120       |\n",
       "| 2017-01-01 00:00:00-08:00 |       4093       |       1325       |\n",
       "| 2018-01-01 00:00:00-08:00 |       4440       |       1497       |\n",
       "| 2019-01-01 00:00:00-08:00 |       4278       |       1568       |\n",
       "| 2020-01-01 00:00:00-08:00 |       2689       |       1019       |\n",
       "| 2021-01-01 00:00:00-08:00 |       2658       |       1126       |\n",
       "| 2022-01-01 00:00:00-08:00 |       151        |        72        |\n",
       "+---------------------------+------------------+------------------+"
      ]
     },
     "execution_count": 16,
     "metadata": {},
     "output_type": "execute_result"
    }
   ],
   "source": [
    "%%sql\n",
    "SELECT \n",
    "    DATE_TRUNC('year', date) AS review_year,\n",
    "    SUM(CASE WHEN stars >= 4 THEN 1 ELSE 0 END) AS positive_reviews,\n",
    "    SUM(CASE WHEN stars <= 2 THEN 1 ELSE 0 END) AS negative_reviews\n",
    "FROM review\n",
    "GROUP BY review_year\n",
    "ORDER BY review_year;"
   ]
  },
  {
   "cell_type": "markdown",
   "metadata": {},
   "source": [
    "### Most loved and most critized business\n",
    "Which businesses receive the most positive and negative reviews?"
   ]
  },
  {
   "cell_type": "code",
   "execution_count": 19,
   "metadata": {},
   "outputs": [
    {
     "data": {
      "text/html": [
       "<span style=\"None\">Running query in &#x27;postgresql://michellelin@localhost:5432/yelp&#x27;</span>"
      ],
      "text/plain": [
       "Running query in 'postgresql://michellelin@localhost:5432/yelp'"
      ]
     },
     "metadata": {},
     "output_type": "display_data"
    },
    {
     "data": {
      "text/html": [
       "<span style=\"color: green\">10 rows affected.</span>"
      ],
      "text/plain": [
       "10 rows affected."
      ]
     },
     "metadata": {},
     "output_type": "display_data"
    },
    {
     "data": {
      "text/html": [
       "<table>\n",
       "    <thead>\n",
       "        <tr>\n",
       "            <th>business_id</th>\n",
       "            <th>positive_reviews</th>\n",
       "            <th>negative_reviews</th>\n",
       "            <th>name</th>\n",
       "        </tr>\n",
       "    </thead>\n",
       "    <tbody>\n",
       "        <tr>\n",
       "            <td>bp5Mk2d0qofUeF5uLauIbg</td>\n",
       "            <td>1191</td>\n",
       "            <td>101</td>\n",
       "            <td>Chef Ron's Gumbo Stop</td>\n",
       "        </tr>\n",
       "        <tr>\n",
       "            <td>3WU1ZobAqXQ07xYoKE2Vyg</td>\n",
       "            <td>894</td>\n",
       "            <td>314</td>\n",
       "            <td>Daisy Dukes - French Quarter</td>\n",
       "        </tr>\n",
       "        <tr>\n",
       "            <td>8Vo6LN9gqULhXzoxj5k6kQ</td>\n",
       "            <td>849</td>\n",
       "            <td>93</td>\n",
       "            <td>The Black Sheep</td>\n",
       "        </tr>\n",
       "        <tr>\n",
       "            <td>3FPi2yKCIh0Hh3iBg8faYA</td>\n",
       "            <td>634</td>\n",
       "            <td>174</td>\n",
       "            <td>Tokyo Sushi</td>\n",
       "        </tr>\n",
       "        <tr>\n",
       "            <td>-1B9pP_CrRBJYPICE5WbRA</td>\n",
       "            <td>593</td>\n",
       "            <td>128</td>\n",
       "            <td>Spice 28</td>\n",
       "        </tr>\n",
       "        <tr>\n",
       "            <td>q6hWVlVeiCgMgM22wt1wfw</td>\n",
       "            <td>576</td>\n",
       "            <td>85</td>\n",
       "            <td>The Company Burger</td>\n",
       "        </tr>\n",
       "        <tr>\n",
       "            <td>XeogL9kqQxKEO42ZEqMbvg</td>\n",
       "            <td>479</td>\n",
       "            <td>83</td>\n",
       "            <td>Pepperfire Hot Chicken</td>\n",
       "        </tr>\n",
       "        <tr>\n",
       "            <td>vxLV9tci88Hsr1G01uleag</td>\n",
       "            <td>404</td>\n",
       "            <td>87</td>\n",
       "            <td>Slice Pizzeria</td>\n",
       "        </tr>\n",
       "        <tr>\n",
       "            <td>kpl3H_sgfTm-tH3Aa-ML7g</td>\n",
       "            <td>392</td>\n",
       "            <td>89</td>\n",
       "            <td>Benton Park Café & Coffee Bar</td>\n",
       "        </tr>\n",
       "        <tr>\n",
       "            <td>0S3TvsmbCeOZ9UitnpRd1A</td>\n",
       "            <td>386</td>\n",
       "            <td>77</td>\n",
       "            <td>Dim Sum House</td>\n",
       "        </tr>\n",
       "    </tbody>\n",
       "</table>"
      ],
      "text/plain": [
       "+------------------------+------------------+------------------+-------------------------------+\n",
       "|      business_id       | positive_reviews | negative_reviews |              name             |\n",
       "+------------------------+------------------+------------------+-------------------------------+\n",
       "| bp5Mk2d0qofUeF5uLauIbg |       1191       |       101        |     Chef Ron's Gumbo Stop     |\n",
       "| 3WU1ZobAqXQ07xYoKE2Vyg |       894        |       314        |  Daisy Dukes - French Quarter |\n",
       "| 8Vo6LN9gqULhXzoxj5k6kQ |       849        |        93        |        The Black Sheep        |\n",
       "| 3FPi2yKCIh0Hh3iBg8faYA |       634        |       174        |          Tokyo Sushi          |\n",
       "| -1B9pP_CrRBJYPICE5WbRA |       593        |       128        |            Spice 28           |\n",
       "| q6hWVlVeiCgMgM22wt1wfw |       576        |        85        |       The Company Burger      |\n",
       "| XeogL9kqQxKEO42ZEqMbvg |       479        |        83        |     Pepperfire Hot Chicken    |\n",
       "| vxLV9tci88Hsr1G01uleag |       404        |        87        |         Slice Pizzeria        |\n",
       "| kpl3H_sgfTm-tH3Aa-ML7g |       392        |        89        | Benton Park Café & Coffee Bar |\n",
       "| 0S3TvsmbCeOZ9UitnpRd1A |       386        |        77        |         Dim Sum House         |\n",
       "+------------------------+------------------+------------------+-------------------------------+"
      ]
     },
     "execution_count": 19,
     "metadata": {},
     "output_type": "execute_result"
    }
   ],
   "source": [
    "%%sql\n",
    "WITH love_critized AS (\n",
    "SELECT \n",
    "    business_id, \n",
    "    SUM(CASE WHEN stars >= 4 THEN 1 ELSE 0 END) AS positive_reviews,\n",
    "    SUM(CASE WHEN stars <= 2 THEN 1 ELSE 0 END) AS negative_reviews\n",
    "FROM review\n",
    "GROUP BY business_id\n",
    ")\n",
    "\n",
    "SELECT lc.*, name\n",
    "FROM love_critized lc\n",
    "JOIN business b\n",
    "ON lc.business_id = b.business_id\n",
    "ORDER BY positive_reviews DESC \n",
    "LIMIT 10;"
   ]
  },
  {
   "cell_type": "markdown",
   "metadata": {},
   "source": []
  },
  {
   "cell_type": "markdown",
   "metadata": {},
   "source": [
    "### Impact of review length on ratings\n",
    "Do longer reviews tend to be more positive or negative?"
   ]
  },
  {
   "cell_type": "code",
   "execution_count": 23,
   "metadata": {},
   "outputs": [
    {
     "data": {
      "text/html": [
       "<span style=\"None\">Running query in &#x27;postgresql://michellelin@localhost:5432/yelp&#x27;</span>"
      ],
      "text/plain": [
       "Running query in 'postgresql://michellelin@localhost:5432/yelp'"
      ]
     },
     "metadata": {},
     "output_type": "display_data"
    },
    {
     "data": {
      "text/html": [
       "<span style=\"color: green\">5 rows affected.</span>"
      ],
      "text/plain": [
       "5 rows affected."
      ]
     },
     "metadata": {},
     "output_type": "display_data"
    },
    {
     "data": {
      "text/html": [
       "<table>\n",
       "    <thead>\n",
       "        <tr>\n",
       "            <th>stars</th>\n",
       "            <th>avg_review_length</th>\n",
       "        </tr>\n",
       "    </thead>\n",
       "    <tbody>\n",
       "        <tr>\n",
       "            <td>5</td>\n",
       "            <td>453.2566289552766484</td>\n",
       "        </tr>\n",
       "        <tr>\n",
       "            <td>4</td>\n",
       "            <td>570.3787657209710442</td>\n",
       "        </tr>\n",
       "        <tr>\n",
       "            <td>3</td>\n",
       "            <td>645.3111757374324886</td>\n",
       "        </tr>\n",
       "        <tr>\n",
       "            <td>2</td>\n",
       "            <td>697.4688981868898187</td>\n",
       "        </tr>\n",
       "        <tr>\n",
       "            <td>1</td>\n",
       "            <td>717.3744469768065424</td>\n",
       "        </tr>\n",
       "    </tbody>\n",
       "</table>"
      ],
      "text/plain": [
       "+-------+----------------------+\n",
       "| stars |  avg_review_length   |\n",
       "+-------+----------------------+\n",
       "|   5   | 453.2566289552766484 |\n",
       "|   4   | 570.3787657209710442 |\n",
       "|   3   | 645.3111757374324886 |\n",
       "|   2   | 697.4688981868898187 |\n",
       "|   1   | 717.3744469768065424 |\n",
       "+-------+----------------------+"
      ]
     },
     "execution_count": 23,
     "metadata": {},
     "output_type": "execute_result"
    }
   ],
   "source": [
    "%%sql\n",
    "SELECT \n",
    "    stars,\n",
    "    AVG(LENGTH(text)) AS avg_review_length\n",
    "FROM review\n",
    "GROUP BY stars\n",
    "ORDER BY stars DESC;\n"
   ]
  },
  {
   "cell_type": "code",
   "execution_count": null,
   "metadata": {},
   "outputs": [],
   "source": []
  }
 ],
 "metadata": {
  "kernelspec": {
   "display_name": "base",
   "language": "python",
   "name": "python3"
  },
  "language_info": {
   "codemirror_mode": {
    "name": "ipython",
    "version": 3
   },
   "file_extension": ".py",
   "mimetype": "text/x-python",
   "name": "python",
   "nbconvert_exporter": "python",
   "pygments_lexer": "ipython3",
   "version": "3.9.12"
  }
 },
 "nbformat": 4,
 "nbformat_minor": 2
}
