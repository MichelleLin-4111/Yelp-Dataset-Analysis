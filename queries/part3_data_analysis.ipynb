{
 "cells": [
  {
   "cell_type": "code",
   "execution_count": 27,
   "metadata": {},
   "outputs": [],
   "source": [
    "import psycopg"
   ]
  },
  {
   "cell_type": "code",
   "execution_count": 28,
   "metadata": {},
   "outputs": [],
   "source": [
    "%reload_ext sql"
   ]
  },
  {
   "cell_type": "code",
   "execution_count": 29,
   "metadata": {},
   "outputs": [],
   "source": [
    "%sql postgresql://michellelin@localhost:5432/yelp"
   ]
  },
  {
   "cell_type": "code",
   "execution_count": 30,
   "metadata": {},
   "outputs": [],
   "source": [
    "%config SqlMagic.displaylimit = 30"
   ]
  },
  {
   "cell_type": "markdown",
   "metadata": {},
   "source": [
    "# Restaurant Recommendations!"
   ]
  },
  {
   "cell_type": "markdown",
   "metadata": {},
   "source": [
    "### Top 10 businesses with the most 5-star reviews"
   ]
  },
  {
   "cell_type": "code",
   "execution_count": 31,
   "metadata": {},
   "outputs": [
    {
     "data": {
      "text/html": [
       "<span style=\"None\">Running query in &#x27;postgresql://michellelin@localhost:5432/yelp&#x27;</span>"
      ],
      "text/plain": [
       "Running query in 'postgresql://michellelin@localhost:5432/yelp'"
      ]
     },
     "metadata": {},
     "output_type": "display_data"
    },
    {
     "data": {
      "text/html": [
       "<span style=\"color: green\">10 rows affected.</span>"
      ],
      "text/plain": [
       "10 rows affected."
      ]
     },
     "metadata": {},
     "output_type": "display_data"
    },
    {
     "data": {
      "text/html": [
       "<table>\n",
       "    <thead>\n",
       "        <tr>\n",
       "            <th>name</th>\n",
       "            <th>five_star_count</th>\n",
       "        </tr>\n",
       "    </thead>\n",
       "    <tbody>\n",
       "        <tr>\n",
       "            <td>Sampan</td>\n",
       "            <td>943</td>\n",
       "        </tr>\n",
       "        <tr>\n",
       "            <td>Peacemaker Lobster and Crab</td>\n",
       "            <td>450</td>\n",
       "        </tr>\n",
       "        <tr>\n",
       "            <td>Pizza Delicious</td>\n",
       "            <td>387</td>\n",
       "        </tr>\n",
       "        <tr>\n",
       "            <td>Rocco's Little Chicago</td>\n",
       "            <td>335</td>\n",
       "        </tr>\n",
       "        <tr>\n",
       "            <td>Taco Bus</td>\n",
       "            <td>315</td>\n",
       "        </tr>\n",
       "        <tr>\n",
       "            <td>Joey K's Restaurant & Bar</td>\n",
       "            <td>315</td>\n",
       "        </tr>\n",
       "        <tr>\n",
       "            <td>Poco & Mom's</td>\n",
       "            <td>300</td>\n",
       "        </tr>\n",
       "        <tr>\n",
       "            <td>Beau & Mo's Italian Eating House</td>\n",
       "            <td>237</td>\n",
       "        </tr>\n",
       "        <tr>\n",
       "            <td>Bourbon Street Blues & Boogie Bar</td>\n",
       "            <td>232</td>\n",
       "        </tr>\n",
       "        <tr>\n",
       "            <td>East Bistro - The Mediterranean Eatery</td>\n",
       "            <td>217</td>\n",
       "        </tr>\n",
       "    </tbody>\n",
       "</table>"
      ],
      "text/plain": [
       "+----------------------------------------+-----------------+\n",
       "|                  name                  | five_star_count |\n",
       "+----------------------------------------+-----------------+\n",
       "|                 Sampan                 |       943       |\n",
       "|      Peacemaker Lobster and Crab       |       450       |\n",
       "|            Pizza Delicious             |       387       |\n",
       "|         Rocco's Little Chicago         |       335       |\n",
       "|                Taco Bus                |       315       |\n",
       "|       Joey K's Restaurant & Bar        |       315       |\n",
       "|              Poco & Mom's              |       300       |\n",
       "|    Beau & Mo's Italian Eating House    |       237       |\n",
       "|   Bourbon Street Blues & Boogie Bar    |       232       |\n",
       "| East Bistro - The Mediterranean Eatery |       217       |\n",
       "+----------------------------------------+-----------------+"
      ]
     },
     "execution_count": 31,
     "metadata": {},
     "output_type": "execute_result"
    }
   ],
   "source": [
    "%%sql\n",
    "WITH five_star_reviews AS (\n",
    "    SELECT \n",
    "        business_id, \n",
    "        COUNT(review_id) AS five_star_count \n",
    "    FROM review \n",
    "    WHERE stars = 5 \n",
    "    GROUP BY business_id\n",
    ")\n",
    "SELECT name, five_star_count\n",
    "FROM five_star_reviews f\n",
    "JOIN business b\n",
    "ON f.business_id = b.business_id\n",
    "ORDER BY five_star_count DESC\n",
    "LIMIT 10;\n"
   ]
  },
  {
   "cell_type": "markdown",
   "metadata": {},
   "source": [
    "###  Top 3 businesses in each state"
   ]
  },
  {
   "cell_type": "code",
   "execution_count": 32,
   "metadata": {},
   "outputs": [
    {
     "data": {
      "text/html": [
       "<span style=\"None\">Running query in &#x27;postgresql://michellelin@localhost:5432/yelp&#x27;</span>"
      ],
      "text/plain": [
       "Running query in 'postgresql://michellelin@localhost:5432/yelp'"
      ]
     },
     "metadata": {},
     "output_type": "display_data"
    },
    {
     "data": {
      "text/html": [
       "<span style=\"color: green\">42 rows affected.</span>"
      ],
      "text/plain": [
       "42 rows affected."
      ]
     },
     "metadata": {},
     "output_type": "display_data"
    },
    {
     "data": {
      "text/html": [
       "<table>\n",
       "    <thead>\n",
       "        <tr>\n",
       "            <th>business_id</th>\n",
       "            <th>name</th>\n",
       "            <th>state</th>\n",
       "            <th>review_count</th>\n",
       "            <th>rank</th>\n",
       "        </tr>\n",
       "    </thead>\n",
       "    <tbody>\n",
       "        <tr>\n",
       "            <td>8wjRidyw7pqepAf5MncA-g</td>\n",
       "            <td>Tokiwa Ramen</td>\n",
       "            <td>AB</td>\n",
       "            <td>109</td>\n",
       "            <td>1</td>\n",
       "        </tr>\n",
       "        <tr>\n",
       "            <td>WhG8ilHPeqPq9k6vTiiHbg</td>\n",
       "            <td>Five Guys</td>\n",
       "            <td>AB</td>\n",
       "            <td>57</td>\n",
       "            <td>2</td>\n",
       "        </tr>\n",
       "        <tr>\n",
       "            <td>qKt9X3OIG4vBnjQ9YokQhg</td>\n",
       "            <td>Red Robin Gourmet Burgers and Brews</td>\n",
       "            <td>AB</td>\n",
       "            <td>56</td>\n",
       "            <td>3</td>\n",
       "        </tr>\n",
       "        <tr>\n",
       "            <td>9zlIJ7Q5W4AENjpGgaNSsQ</td>\n",
       "            <td>Rocco's Little Chicago</td>\n",
       "            <td>AZ</td>\n",
       "            <td>613</td>\n",
       "            <td>1</td>\n",
       "        </tr>\n",
       "        <tr>\n",
       "            <td>xNd_x23g7wiGAjmm5HXfPA</td>\n",
       "            <td>Poco & Mom's</td>\n",
       "            <td>AZ</td>\n",
       "            <td>500</td>\n",
       "            <td>2</td>\n",
       "        </tr>\n",
       "        <tr>\n",
       "            <td>iBnj2wBO5-3moZ7corhp-w</td>\n",
       "            <td>Hotel Congress</td>\n",
       "            <td>AZ</td>\n",
       "            <td>378</td>\n",
       "            <td>3</td>\n",
       "        </tr>\n",
       "        <tr>\n",
       "            <td>q-1ICFSqs2MwDGfe5tX-SQ</td>\n",
       "            <td>Yellow Belly</td>\n",
       "            <td>CA</td>\n",
       "            <td>337</td>\n",
       "            <td>1</td>\n",
       "        </tr>\n",
       "        <tr>\n",
       "            <td>MAIfD4kJDCydgoD1l2b_vw</td>\n",
       "            <td>Corks n' Crowns</td>\n",
       "            <td>CA</td>\n",
       "            <td>276</td>\n",
       "            <td>2</td>\n",
       "        </tr>\n",
       "        <tr>\n",
       "            <td>_W9lITxMHNInaS2Lv2XoUw</td>\n",
       "            <td>Casa Del Mar Inn</td>\n",
       "            <td>CA</td>\n",
       "            <td>194</td>\n",
       "            <td>3</td>\n",
       "        </tr>\n",
       "        <tr>\n",
       "            <td>hFMud7XDefdWM1d-p1B2dQ</td>\n",
       "            <td>Bahama Breeze</td>\n",
       "            <td>DE</td>\n",
       "            <td>215</td>\n",
       "            <td>1</td>\n",
       "        </tr>\n",
       "        <tr>\n",
       "            <td>aqLHq0LCuqgVVjcsjeyTbA</td>\n",
       "            <td>TGI Fridays</td>\n",
       "            <td>DE</td>\n",
       "            <td>68</td>\n",
       "            <td>2</td>\n",
       "        </tr>\n",
       "        <tr>\n",
       "            <td>1Ye_elsSB-XjKgWAHDwPbw</td>\n",
       "            <td>Applebee's Grill + Bar</td>\n",
       "            <td>DE</td>\n",
       "            <td>35</td>\n",
       "            <td>3</td>\n",
       "        </tr>\n",
       "        <tr>\n",
       "            <td>yb2vAoH3E-R11yWmnT570w</td>\n",
       "            <td>Taco Bus</td>\n",
       "            <td>FL</td>\n",
       "            <td>875</td>\n",
       "            <td>1</td>\n",
       "        </tr>\n",
       "        <tr>\n",
       "            <td>wtVJXrChHTjcaisSpzGCVw</td>\n",
       "            <td>Beau & Mo's Italian Eating House</td>\n",
       "            <td>FL</td>\n",
       "            <td>357</td>\n",
       "            <td>2</td>\n",
       "        </tr>\n",
       "        <tr>\n",
       "            <td>-J0RIXNexJDV-mOAyhUJIQ</td>\n",
       "            <td>Fox Rent A Car</td>\n",
       "            <td>FL</td>\n",
       "            <td>340</td>\n",
       "            <td>3</td>\n",
       "        </tr>\n",
       "        <tr>\n",
       "            <td>o1XFkEB34jUry4Vk_L1xdg</td>\n",
       "            <td>Joe's Crab Shack</td>\n",
       "            <td>ID</td>\n",
       "            <td>141</td>\n",
       "            <td>1</td>\n",
       "        </tr>\n",
       "        <tr>\n",
       "            <td>ApAvwIhX9uNT9C9wVMMdQg</td>\n",
       "            <td>Pinnacle Sports Bar & Grill</td>\n",
       "            <td>ID</td>\n",
       "            <td>98</td>\n",
       "            <td>2</td>\n",
       "        </tr>\n",
       "        <tr>\n",
       "            <td>DgaaiJq0ji-Wyx7yYLUVwQ</td>\n",
       "            <td>Chili's</td>\n",
       "            <td>ID</td>\n",
       "            <td>51</td>\n",
       "            <td>3</td>\n",
       "        </tr>\n",
       "        <tr>\n",
       "            <td>PUDDBW0MfpSFI2XEMv_g3Q</td>\n",
       "            <td>Bobby's Frozen Custard</td>\n",
       "            <td>IL</td>\n",
       "            <td>134</td>\n",
       "            <td>1</td>\n",
       "        </tr>\n",
       "        <tr>\n",
       "            <td>2ptjkvLvDmD3zzEXzM3tsQ</td>\n",
       "            <td>El Gordito</td>\n",
       "            <td>IL</td>\n",
       "            <td>105</td>\n",
       "            <td>2</td>\n",
       "        </tr>\n",
       "        <tr>\n",
       "            <td>KOOutUHYJWJKsC71JKHV5Q</td>\n",
       "            <td>County Seat Cafe</td>\n",
       "            <td>IL</td>\n",
       "            <td>40</td>\n",
       "            <td>3</td>\n",
       "        </tr>\n",
       "        <tr>\n",
       "            <td>jeiV-bDLPmo0AhBZGF8v4w</td>\n",
       "            <td>Leonardo's Mexican Food</td>\n",
       "            <td>IN</td>\n",
       "            <td>199</td>\n",
       "            <td>1</td>\n",
       "        </tr>\n",
       "        <tr>\n",
       "            <td>LHaG-Sg8crReTPNW33pauQ</td>\n",
       "            <td>Prime 47</td>\n",
       "            <td>IN</td>\n",
       "            <td>193</td>\n",
       "            <td>2</td>\n",
       "        </tr>\n",
       "        <tr>\n",
       "            <td>TLHXESckY-p2Zi5byT-4LQ</td>\n",
       "            <td>Mellow Mushroom Carmel</td>\n",
       "            <td>IN</td>\n",
       "            <td>178</td>\n",
       "            <td>3</td>\n",
       "        </tr>\n",
       "        <tr>\n",
       "            <td>BuQGsltd3B4L_HRCP2jpTQ</td>\n",
       "            <td>Joey K's Restaurant & Bar</td>\n",
       "            <td>LA</td>\n",
       "            <td>725</td>\n",
       "            <td>1</td>\n",
       "        </tr>\n",
       "        <tr>\n",
       "            <td>wVrJOXjRrPKIfZbNnrl3ow</td>\n",
       "            <td>Pizza Delicious</td>\n",
       "            <td>LA</td>\n",
       "            <td>678</td>\n",
       "            <td>2</td>\n",
       "        </tr>\n",
       "        <tr>\n",
       "            <td>HhR2Lw4DxN_XKQZHG_TImQ</td>\n",
       "            <td>Gumbo POT</td>\n",
       "            <td>LA</td>\n",
       "            <td>408</td>\n",
       "            <td>3</td>\n",
       "        </tr>\n",
       "        <tr>\n",
       "            <td>L-VNs3YquPGKVsXl2Ze-Yg</td>\n",
       "            <td>Peacemaker Lobster and Crab</td>\n",
       "            <td>MO</td>\n",
       "            <td>822</td>\n",
       "            <td>1</td>\n",
       "        </tr>\n",
       "        <tr>\n",
       "            <td>4uZUHjSonatwt-02yqJp6w</td>\n",
       "            <td>Olive Street Cafe</td>\n",
       "            <td>MO</td>\n",
       "            <td>289</td>\n",
       "            <td>2</td>\n",
       "        </tr>\n",
       "        <tr>\n",
       "            <td>sikefl5Nj00MNQ1OUyCEcg</td>\n",
       "            <td>Carl's Drive In</td>\n",
       "            <td>MO</td>\n",
       "            <td>265</td>\n",
       "            <td>3</td>\n",
       "        </tr>\n",
       "    </tbody>\n",
       "</table>\n",
       "<span style=\"font-style:italic;text-align:center;\">Truncated to <a href=\"https://jupysql.ploomber.io/en/latest/api/configuration.html#displaylimit\">displaylimit</a> of 30.</span>"
      ],
      "text/plain": [
       "+------------------------+-------------------------------------+-------+--------------+------+\n",
       "|      business_id       |                 name                | state | review_count | rank |\n",
       "+------------------------+-------------------------------------+-------+--------------+------+\n",
       "| 8wjRidyw7pqepAf5MncA-g |             Tokiwa Ramen            |   AB  |     109      |  1   |\n",
       "| WhG8ilHPeqPq9k6vTiiHbg |              Five Guys              |   AB  |      57      |  2   |\n",
       "| qKt9X3OIG4vBnjQ9YokQhg | Red Robin Gourmet Burgers and Brews |   AB  |      56      |  3   |\n",
       "| 9zlIJ7Q5W4AENjpGgaNSsQ |        Rocco's Little Chicago       |   AZ  |     613      |  1   |\n",
       "| xNd_x23g7wiGAjmm5HXfPA |             Poco & Mom's            |   AZ  |     500      |  2   |\n",
       "| iBnj2wBO5-3moZ7corhp-w |            Hotel Congress           |   AZ  |     378      |  3   |\n",
       "| q-1ICFSqs2MwDGfe5tX-SQ |             Yellow Belly            |   CA  |     337      |  1   |\n",
       "| MAIfD4kJDCydgoD1l2b_vw |           Corks n' Crowns           |   CA  |     276      |  2   |\n",
       "| _W9lITxMHNInaS2Lv2XoUw |           Casa Del Mar Inn          |   CA  |     194      |  3   |\n",
       "| hFMud7XDefdWM1d-p1B2dQ |            Bahama Breeze            |   DE  |     215      |  1   |\n",
       "| aqLHq0LCuqgVVjcsjeyTbA |             TGI Fridays             |   DE  |      68      |  2   |\n",
       "| 1Ye_elsSB-XjKgWAHDwPbw |        Applebee's Grill + Bar       |   DE  |      35      |  3   |\n",
       "| yb2vAoH3E-R11yWmnT570w |               Taco Bus              |   FL  |     875      |  1   |\n",
       "| wtVJXrChHTjcaisSpzGCVw |   Beau & Mo's Italian Eating House  |   FL  |     357      |  2   |\n",
       "| -J0RIXNexJDV-mOAyhUJIQ |            Fox Rent A Car           |   FL  |     340      |  3   |\n",
       "| o1XFkEB34jUry4Vk_L1xdg |           Joe's Crab Shack          |   ID  |     141      |  1   |\n",
       "| ApAvwIhX9uNT9C9wVMMdQg |     Pinnacle Sports Bar & Grill     |   ID  |      98      |  2   |\n",
       "| DgaaiJq0ji-Wyx7yYLUVwQ |               Chili's               |   ID  |      51      |  3   |\n",
       "| PUDDBW0MfpSFI2XEMv_g3Q |        Bobby's Frozen Custard       |   IL  |     134      |  1   |\n",
       "| 2ptjkvLvDmD3zzEXzM3tsQ |              El Gordito             |   IL  |     105      |  2   |\n",
       "| KOOutUHYJWJKsC71JKHV5Q |           County Seat Cafe          |   IL  |      40      |  3   |\n",
       "| jeiV-bDLPmo0AhBZGF8v4w |       Leonardo's Mexican Food       |   IN  |     199      |  1   |\n",
       "| LHaG-Sg8crReTPNW33pauQ |               Prime 47              |   IN  |     193      |  2   |\n",
       "| TLHXESckY-p2Zi5byT-4LQ |        Mellow Mushroom Carmel       |   IN  |     178      |  3   |\n",
       "| BuQGsltd3B4L_HRCP2jpTQ |      Joey K's Restaurant & Bar      |   LA  |     725      |  1   |\n",
       "| wVrJOXjRrPKIfZbNnrl3ow |           Pizza Delicious           |   LA  |     678      |  2   |\n",
       "| HhR2Lw4DxN_XKQZHG_TImQ |              Gumbo POT              |   LA  |     408      |  3   |\n",
       "| L-VNs3YquPGKVsXl2Ze-Yg |     Peacemaker Lobster and Crab     |   MO  |     822      |  1   |\n",
       "| 4uZUHjSonatwt-02yqJp6w |          Olive Street Cafe          |   MO  |     289      |  2   |\n",
       "| sikefl5Nj00MNQ1OUyCEcg |           Carl's Drive In           |   MO  |     265      |  3   |\n",
       "+------------------------+-------------------------------------+-------+--------------+------+\n",
       "Truncated to displaylimit of 30."
      ]
     },
     "execution_count": 32,
     "metadata": {},
     "output_type": "execute_result"
    }
   ],
   "source": [
    "%%sql\n",
    "WITH ranked_businesses AS (\n",
    "    SELECT \n",
    "        business_id, \n",
    "        name, \n",
    "        state, \n",
    "        review_count, \n",
    "        RANK() OVER (PARTITION BY state ORDER BY review_count DESC) AS rank\n",
    "    FROM business\n",
    ")\n",
    "SELECT *\n",
    "FROM ranked_businesses\n",
    "WHERE rank <= 3;\n"
   ]
  },
  {
   "cell_type": "markdown",
   "metadata": {},
   "source": [
    "### How many users leave reviews for the same business multiple times?"
   ]
  },
  {
   "cell_type": "code",
   "execution_count": 33,
   "metadata": {},
   "outputs": [
    {
     "data": {
      "text/html": [
       "<span style=\"None\">Running query in &#x27;postgresql://michellelin@localhost:5432/yelp&#x27;</span>"
      ],
      "text/plain": [
       "Running query in 'postgresql://michellelin@localhost:5432/yelp'"
      ]
     },
     "metadata": {},
     "output_type": "display_data"
    },
    {
     "data": {
      "text/html": [
       "<span style=\"color: green\">10 rows affected.</span>"
      ],
      "text/plain": [
       "10 rows affected."
      ]
     },
     "metadata": {},
     "output_type": "display_data"
    },
    {
     "data": {
      "text/html": [
       "<table>\n",
       "    <thead>\n",
       "        <tr>\n",
       "            <th>user_id</th>\n",
       "            <th>review_count</th>\n",
       "            <th>name</th>\n",
       "            <th>state</th>\n",
       "        </tr>\n",
       "    </thead>\n",
       "    <tbody>\n",
       "        <tr>\n",
       "            <td>zGy0MLbvBurMXTYAlyia5w</td>\n",
       "            <td>6</td>\n",
       "            <td>Discount Tire</td>\n",
       "            <td>AZ</td>\n",
       "        </tr>\n",
       "        <tr>\n",
       "            <td>OeMDHEXQcsq0ZGhk9Ta7qg</td>\n",
       "            <td>6</td>\n",
       "            <td>Miller's Ale House</td>\n",
       "            <td>PA</td>\n",
       "        </tr>\n",
       "        <tr>\n",
       "            <td>gF9BKX9fuTPQL-EFvSok2Q</td>\n",
       "            <td>6</td>\n",
       "            <td>Bahama Breeze</td>\n",
       "            <td>DE</td>\n",
       "        </tr>\n",
       "        <tr>\n",
       "            <td>MjlAbTDND2FOlQI0ySfR2w</td>\n",
       "            <td>5</td>\n",
       "            <td>Jet's Pizza</td>\n",
       "            <td>TN</td>\n",
       "        </tr>\n",
       "        <tr>\n",
       "            <td>F-PV6KT9M0yV9as_qQLfIw</td>\n",
       "            <td>5</td>\n",
       "            <td>Smashburger</td>\n",
       "            <td>MO</td>\n",
       "        </tr>\n",
       "        <tr>\n",
       "            <td>9E097uOiJYGgbnHpp-eP3w</td>\n",
       "            <td>4</td>\n",
       "            <td>Reno Tahoe Window Cleaning</td>\n",
       "            <td>NV</td>\n",
       "        </tr>\n",
       "        <tr>\n",
       "            <td>0YI3p9o-ntRgRaPWpfa22Q</td>\n",
       "            <td>4</td>\n",
       "            <td>Lowe's Home Improvement</td>\n",
       "            <td>IN</td>\n",
       "        </tr>\n",
       "        <tr>\n",
       "            <td>CfX4sTIFFNaRchNswqhVfg</td>\n",
       "            <td>4</td>\n",
       "            <td>Pizza Delicious</td>\n",
       "            <td>LA</td>\n",
       "        </tr>\n",
       "        <tr>\n",
       "            <td>7Wyq4GK7z_GXqtIzNYwi9g</td>\n",
       "            <td>4</td>\n",
       "            <td>Rocco's Little Chicago</td>\n",
       "            <td>AZ</td>\n",
       "        </tr>\n",
       "        <tr>\n",
       "            <td>8PM1bB2ZpytEtpQGo2hGkA</td>\n",
       "            <td>4</td>\n",
       "            <td>McDonald's</td>\n",
       "            <td>MO</td>\n",
       "        </tr>\n",
       "    </tbody>\n",
       "</table>"
      ],
      "text/plain": [
       "+------------------------+--------------+----------------------------+-------+\n",
       "|        user_id         | review_count |            name            | state |\n",
       "+------------------------+--------------+----------------------------+-------+\n",
       "| zGy0MLbvBurMXTYAlyia5w |      6       |       Discount Tire        |   AZ  |\n",
       "| OeMDHEXQcsq0ZGhk9Ta7qg |      6       |     Miller's Ale House     |   PA  |\n",
       "| gF9BKX9fuTPQL-EFvSok2Q |      6       |       Bahama Breeze        |   DE  |\n",
       "| MjlAbTDND2FOlQI0ySfR2w |      5       |        Jet's Pizza         |   TN  |\n",
       "| F-PV6KT9M0yV9as_qQLfIw |      5       |        Smashburger         |   MO  |\n",
       "| 9E097uOiJYGgbnHpp-eP3w |      4       | Reno Tahoe Window Cleaning |   NV  |\n",
       "| 0YI3p9o-ntRgRaPWpfa22Q |      4       |  Lowe's Home Improvement   |   IN  |\n",
       "| CfX4sTIFFNaRchNswqhVfg |      4       |      Pizza Delicious       |   LA  |\n",
       "| 7Wyq4GK7z_GXqtIzNYwi9g |      4       |   Rocco's Little Chicago   |   AZ  |\n",
       "| 8PM1bB2ZpytEtpQGo2hGkA |      4       |         McDonald's         |   MO  |\n",
       "+------------------------+--------------+----------------------------+-------+"
      ]
     },
     "execution_count": 33,
     "metadata": {},
     "output_type": "execute_result"
    }
   ],
   "source": [
    "%%sql\n",
    "WITH repeat_customers AS (\n",
    "    SELECT \n",
    "        user_id, \n",
    "        business_id, \n",
    "        COUNT(review_id) AS review_count \n",
    "    FROM review \n",
    "    GROUP BY user_id, business_id \n",
    "    HAVING COUNT(review_id) > 1\n",
    ")\n",
    "SELECT user_id, rc.review_count, name, state\n",
    "FROM repeat_customers rc\n",
    "JOIN business b \n",
    "ON rc.business_id = b.business_id\n",
    "ORDER BY rc.review_count DESC \n",
    "LIMIT 10;\n"
   ]
  },
  {
   "cell_type": "markdown",
   "metadata": {},
   "source": [
    "###  Top 10 best restaurants for weekends"
   ]
  },
  {
   "cell_type": "code",
   "execution_count": 34,
   "metadata": {},
   "outputs": [
    {
     "data": {
      "text/html": [
       "<span style=\"None\">Running query in &#x27;postgresql://michellelin@localhost:5432/yelp&#x27;</span>"
      ],
      "text/plain": [
       "Running query in 'postgresql://michellelin@localhost:5432/yelp'"
      ]
     },
     "metadata": {},
     "output_type": "display_data"
    },
    {
     "data": {
      "text/html": [
       "<span style=\"color: green\">10 rows affected.</span>"
      ],
      "text/plain": [
       "10 rows affected."
      ]
     },
     "metadata": {},
     "output_type": "display_data"
    },
    {
     "data": {
      "text/html": [
       "<table>\n",
       "    <thead>\n",
       "        <tr>\n",
       "            <th>business_id</th>\n",
       "            <th>weekend_reviews</th>\n",
       "            <th>name</th>\n",
       "            <th>state</th>\n",
       "            <th>city</th>\n",
       "        </tr>\n",
       "    </thead>\n",
       "    <tbody>\n",
       "        <tr>\n",
       "            <td>kZ1q0K13tFYG_ZJrVvsJHA</td>\n",
       "            <td>577</td>\n",
       "            <td>Sampan</td>\n",
       "            <td>PA</td>\n",
       "            <td>Philadelphia</td>\n",
       "        </tr>\n",
       "        <tr>\n",
       "            <td>wVrJOXjRrPKIfZbNnrl3ow</td>\n",
       "            <td>242</td>\n",
       "            <td>Pizza Delicious</td>\n",
       "            <td>LA</td>\n",
       "            <td>New Orleans</td>\n",
       "        </tr>\n",
       "        <tr>\n",
       "            <td>BuQGsltd3B4L_HRCP2jpTQ</td>\n",
       "            <td>239</td>\n",
       "            <td>Joey K's Restaurant & Bar</td>\n",
       "            <td>LA</td>\n",
       "            <td>New Orleans</td>\n",
       "        </tr>\n",
       "        <tr>\n",
       "            <td>yb2vAoH3E-R11yWmnT570w</td>\n",
       "            <td>239</td>\n",
       "            <td>Taco Bus</td>\n",
       "            <td>FL</td>\n",
       "            <td>Tampa</td>\n",
       "        </tr>\n",
       "        <tr>\n",
       "            <td>L-VNs3YquPGKVsXl2Ze-Yg</td>\n",
       "            <td>238</td>\n",
       "            <td>Peacemaker Lobster and Crab</td>\n",
       "            <td>MO</td>\n",
       "            <td>Saint Louis</td>\n",
       "        </tr>\n",
       "        <tr>\n",
       "            <td>pG3BViWKznBrEPlbV9wxPA</td>\n",
       "            <td>210</td>\n",
       "            <td>Bar Louie - Nashville</td>\n",
       "            <td>TN</td>\n",
       "            <td>Nashville</td>\n",
       "        </tr>\n",
       "        <tr>\n",
       "            <td>9zlIJ7Q5W4AENjpGgaNSsQ</td>\n",
       "            <td>195</td>\n",
       "            <td>Rocco's Little Chicago</td>\n",
       "            <td>AZ</td>\n",
       "            <td>Tucson</td>\n",
       "        </tr>\n",
       "        <tr>\n",
       "            <td>xNd_x23g7wiGAjmm5HXfPA</td>\n",
       "            <td>153</td>\n",
       "            <td>Poco & Mom's</td>\n",
       "            <td>AZ</td>\n",
       "            <td>Tucson</td>\n",
       "        </tr>\n",
       "        <tr>\n",
       "            <td>wtVJXrChHTjcaisSpzGCVw</td>\n",
       "            <td>137</td>\n",
       "            <td>Beau & Mo's Italian Eating House</td>\n",
       "            <td>FL</td>\n",
       "            <td>Saint Petersburg</td>\n",
       "        </tr>\n",
       "        <tr>\n",
       "            <td>HhR2Lw4DxN_XKQZHG_TImQ</td>\n",
       "            <td>117</td>\n",
       "            <td>Gumbo POT</td>\n",
       "            <td>LA</td>\n",
       "            <td>New Orleans</td>\n",
       "        </tr>\n",
       "    </tbody>\n",
       "</table>"
      ],
      "text/plain": [
       "+------------------------+-----------------+----------------------------------+-------+------------------+\n",
       "|      business_id       | weekend_reviews |               name               | state |       city       |\n",
       "+------------------------+-----------------+----------------------------------+-------+------------------+\n",
       "| kZ1q0K13tFYG_ZJrVvsJHA |       577       |              Sampan              |   PA  |   Philadelphia   |\n",
       "| wVrJOXjRrPKIfZbNnrl3ow |       242       |         Pizza Delicious          |   LA  |   New Orleans    |\n",
       "| BuQGsltd3B4L_HRCP2jpTQ |       239       |    Joey K's Restaurant & Bar     |   LA  |   New Orleans    |\n",
       "| yb2vAoH3E-R11yWmnT570w |       239       |             Taco Bus             |   FL  |      Tampa       |\n",
       "| L-VNs3YquPGKVsXl2Ze-Yg |       238       |   Peacemaker Lobster and Crab    |   MO  |   Saint Louis    |\n",
       "| pG3BViWKznBrEPlbV9wxPA |       210       |      Bar Louie - Nashville       |   TN  |    Nashville     |\n",
       "| 9zlIJ7Q5W4AENjpGgaNSsQ |       195       |      Rocco's Little Chicago      |   AZ  |      Tucson      |\n",
       "| xNd_x23g7wiGAjmm5HXfPA |       153       |           Poco & Mom's           |   AZ  |      Tucson      |\n",
       "| wtVJXrChHTjcaisSpzGCVw |       137       | Beau & Mo's Italian Eating House |   FL  | Saint Petersburg |\n",
       "| HhR2Lw4DxN_XKQZHG_TImQ |       117       |            Gumbo POT             |   LA  |   New Orleans    |\n",
       "+------------------------+-----------------+----------------------------------+-------+------------------+"
      ]
     },
     "execution_count": 34,
     "metadata": {},
     "output_type": "execute_result"
    }
   ],
   "source": [
    "%%sql\n",
    "WITH weekend_best AS (\n",
    "SELECT \n",
    "    business_id, \n",
    "    COUNT(review_id) AS weekend_reviews\n",
    "FROM review\n",
    "WHERE EXTRACT(DOW FROM date) IN (5, 6) \n",
    "GROUP BY business_id\n",
    ")\n",
    "SELECT wb.*, name, state, city\n",
    "FROM weekend_best wb\n",
    "JOIN business b\n",
    "ON wb.business_id = b.business_id\n",
    "ORDER BY weekend_reviews DESC \n",
    "LIMIT 10\n",
    ";\n"
   ]
  },
  {
   "cell_type": "markdown",
   "metadata": {},
   "source": [
    "# Yelp Reviews Analysis"
   ]
  },
  {
   "cell_type": "markdown",
   "metadata": {},
   "source": [
    "### Positive vs. Negative Sentiments Over Time\n",
    "Are users generally leaving more positive or negative reviews over time?"
   ]
  },
  {
   "cell_type": "code",
   "execution_count": 35,
   "metadata": {},
   "outputs": [
    {
     "data": {
      "text/html": [
       "<span style=\"None\">Running query in &#x27;postgresql://michellelin@localhost:5432/yelp&#x27;</span>"
      ],
      "text/plain": [
       "Running query in 'postgresql://michellelin@localhost:5432/yelp'"
      ]
     },
     "metadata": {},
     "output_type": "display_data"
    },
    {
     "data": {
      "text/html": [
       "<span style=\"color: green\">18 rows affected.</span>"
      ],
      "text/plain": [
       "18 rows affected."
      ]
     },
     "metadata": {},
     "output_type": "display_data"
    },
    {
     "data": {
      "text/html": [
       "<table>\n",
       "    <thead>\n",
       "        <tr>\n",
       "            <th>review_year</th>\n",
       "            <th>positive_reviews</th>\n",
       "            <th>negative_reviews</th>\n",
       "        </tr>\n",
       "    </thead>\n",
       "    <tbody>\n",
       "        <tr>\n",
       "            <td>2005-01-01 00:00:00-08:00</td>\n",
       "            <td>8</td>\n",
       "            <td>1</td>\n",
       "        </tr>\n",
       "        <tr>\n",
       "            <td>2006-01-01 00:00:00-08:00</td>\n",
       "            <td>18</td>\n",
       "            <td>2</td>\n",
       "        </tr>\n",
       "        <tr>\n",
       "            <td>2007-01-01 00:00:00-08:00</td>\n",
       "            <td>83</td>\n",
       "            <td>18</td>\n",
       "        </tr>\n",
       "        <tr>\n",
       "            <td>2008-01-01 00:00:00-08:00</td>\n",
       "            <td>219</td>\n",
       "            <td>56</td>\n",
       "        </tr>\n",
       "        <tr>\n",
       "            <td>2009-01-01 00:00:00-08:00</td>\n",
       "            <td>310</td>\n",
       "            <td>86</td>\n",
       "        </tr>\n",
       "        <tr>\n",
       "            <td>2010-01-01 00:00:00-08:00</td>\n",
       "            <td>653</td>\n",
       "            <td>178</td>\n",
       "        </tr>\n",
       "        <tr>\n",
       "            <td>2011-01-01 00:00:00-08:00</td>\n",
       "            <td>1195</td>\n",
       "            <td>340</td>\n",
       "        </tr>\n",
       "        <tr>\n",
       "            <td>2012-01-01 00:00:00-08:00</td>\n",
       "            <td>1423</td>\n",
       "            <td>472</td>\n",
       "        </tr>\n",
       "        <tr>\n",
       "            <td>2013-01-01 00:00:00-08:00</td>\n",
       "            <td>1810</td>\n",
       "            <td>642</td>\n",
       "        </tr>\n",
       "        <tr>\n",
       "            <td>2014-01-01 00:00:00-08:00</td>\n",
       "            <td>2481</td>\n",
       "            <td>900</td>\n",
       "        </tr>\n",
       "        <tr>\n",
       "            <td>2015-01-01 00:00:00-08:00</td>\n",
       "            <td>3083</td>\n",
       "            <td>1148</td>\n",
       "        </tr>\n",
       "        <tr>\n",
       "            <td>2016-01-01 00:00:00-08:00</td>\n",
       "            <td>3034</td>\n",
       "            <td>1306</td>\n",
       "        </tr>\n",
       "        <tr>\n",
       "            <td>2017-01-01 00:00:00-08:00</td>\n",
       "            <td>3186</td>\n",
       "            <td>1267</td>\n",
       "        </tr>\n",
       "        <tr>\n",
       "            <td>2018-01-01 00:00:00-08:00</td>\n",
       "            <td>3484</td>\n",
       "            <td>1365</td>\n",
       "        </tr>\n",
       "        <tr>\n",
       "            <td>2019-01-01 00:00:00-08:00</td>\n",
       "            <td>3480</td>\n",
       "            <td>1392</td>\n",
       "        </tr>\n",
       "        <tr>\n",
       "            <td>2020-01-01 00:00:00-08:00</td>\n",
       "            <td>2069</td>\n",
       "            <td>867</td>\n",
       "        </tr>\n",
       "        <tr>\n",
       "            <td>2021-01-01 00:00:00-08:00</td>\n",
       "            <td>2397</td>\n",
       "            <td>1076</td>\n",
       "        </tr>\n",
       "        <tr>\n",
       "            <td>2022-01-01 00:00:00-08:00</td>\n",
       "            <td>135</td>\n",
       "            <td>59</td>\n",
       "        </tr>\n",
       "    </tbody>\n",
       "</table>"
      ],
      "text/plain": [
       "+---------------------------+------------------+------------------+\n",
       "|        review_year        | positive_reviews | negative_reviews |\n",
       "+---------------------------+------------------+------------------+\n",
       "| 2005-01-01 00:00:00-08:00 |        8         |        1         |\n",
       "| 2006-01-01 00:00:00-08:00 |        18        |        2         |\n",
       "| 2007-01-01 00:00:00-08:00 |        83        |        18        |\n",
       "| 2008-01-01 00:00:00-08:00 |       219        |        56        |\n",
       "| 2009-01-01 00:00:00-08:00 |       310        |        86        |\n",
       "| 2010-01-01 00:00:00-08:00 |       653        |       178        |\n",
       "| 2011-01-01 00:00:00-08:00 |       1195       |       340        |\n",
       "| 2012-01-01 00:00:00-08:00 |       1423       |       472        |\n",
       "| 2013-01-01 00:00:00-08:00 |       1810       |       642        |\n",
       "| 2014-01-01 00:00:00-08:00 |       2481       |       900        |\n",
       "| 2015-01-01 00:00:00-08:00 |       3083       |       1148       |\n",
       "| 2016-01-01 00:00:00-08:00 |       3034       |       1306       |\n",
       "| 2017-01-01 00:00:00-08:00 |       3186       |       1267       |\n",
       "| 2018-01-01 00:00:00-08:00 |       3484       |       1365       |\n",
       "| 2019-01-01 00:00:00-08:00 |       3480       |       1392       |\n",
       "| 2020-01-01 00:00:00-08:00 |       2069       |       867        |\n",
       "| 2021-01-01 00:00:00-08:00 |       2397       |       1076       |\n",
       "| 2022-01-01 00:00:00-08:00 |       135        |        59        |\n",
       "+---------------------------+------------------+------------------+"
      ]
     },
     "execution_count": 35,
     "metadata": {},
     "output_type": "execute_result"
    }
   ],
   "source": [
    "%%sql\n",
    "SELECT \n",
    "    DATE_TRUNC('year', date) AS review_year,\n",
    "    SUM(CASE WHEN stars >= 4 THEN 1 ELSE 0 END) AS positive_reviews,\n",
    "    SUM(CASE WHEN stars <= 2 THEN 1 ELSE 0 END) AS negative_reviews\n",
    "FROM review\n",
    "GROUP BY review_year\n",
    "ORDER BY review_year;"
   ]
  },
  {
   "cell_type": "markdown",
   "metadata": {},
   "source": [
    "### Most loved and most critized business\n",
    "Which businesses receive the most positive and negative reviews?"
   ]
  },
  {
   "cell_type": "code",
   "execution_count": 36,
   "metadata": {},
   "outputs": [
    {
     "data": {
      "text/html": [
       "<span style=\"None\">Running query in &#x27;postgresql://michellelin@localhost:5432/yelp&#x27;</span>"
      ],
      "text/plain": [
       "Running query in 'postgresql://michellelin@localhost:5432/yelp'"
      ]
     },
     "metadata": {},
     "output_type": "display_data"
    },
    {
     "data": {
      "text/html": [
       "<span style=\"color: green\">10 rows affected.</span>"
      ],
      "text/plain": [
       "10 rows affected."
      ]
     },
     "metadata": {},
     "output_type": "display_data"
    },
    {
     "data": {
      "text/html": [
       "<table>\n",
       "    <thead>\n",
       "        <tr>\n",
       "            <th>business_id</th>\n",
       "            <th>positive_reviews</th>\n",
       "            <th>negative_reviews</th>\n",
       "            <th>name</th>\n",
       "        </tr>\n",
       "    </thead>\n",
       "    <tbody>\n",
       "        <tr>\n",
       "            <td>kZ1q0K13tFYG_ZJrVvsJHA</td>\n",
       "            <td>1629</td>\n",
       "            <td>227</td>\n",
       "            <td>Sampan</td>\n",
       "        </tr>\n",
       "        <tr>\n",
       "            <td>L-VNs3YquPGKVsXl2Ze-Yg</td>\n",
       "            <td>652</td>\n",
       "            <td>91</td>\n",
       "            <td>Peacemaker Lobster and Crab</td>\n",
       "        </tr>\n",
       "        <tr>\n",
       "            <td>yb2vAoH3E-R11yWmnT570w</td>\n",
       "            <td>596</td>\n",
       "            <td>204</td>\n",
       "            <td>Taco Bus</td>\n",
       "        </tr>\n",
       "        <tr>\n",
       "            <td>wVrJOXjRrPKIfZbNnrl3ow</td>\n",
       "            <td>571</td>\n",
       "            <td>65</td>\n",
       "            <td>Pizza Delicious</td>\n",
       "        </tr>\n",
       "        <tr>\n",
       "            <td>BuQGsltd3B4L_HRCP2jpTQ</td>\n",
       "            <td>548</td>\n",
       "            <td>102</td>\n",
       "            <td>Joey K's Restaurant & Bar</td>\n",
       "        </tr>\n",
       "        <tr>\n",
       "            <td>9zlIJ7Q5W4AENjpGgaNSsQ</td>\n",
       "            <td>506</td>\n",
       "            <td>92</td>\n",
       "            <td>Rocco's Little Chicago</td>\n",
       "        </tr>\n",
       "        <tr>\n",
       "            <td>xNd_x23g7wiGAjmm5HXfPA</td>\n",
       "            <td>428</td>\n",
       "            <td>54</td>\n",
       "            <td>Poco & Mom's</td>\n",
       "        </tr>\n",
       "        <tr>\n",
       "            <td>O_l8AIlR2RJvNPq4CDMbtQ</td>\n",
       "            <td>348</td>\n",
       "            <td>50</td>\n",
       "            <td>Bourbon Street Blues & Boogie Bar</td>\n",
       "        </tr>\n",
       "        <tr>\n",
       "            <td>nF5QByCz21MY0KLtSoB5KA</td>\n",
       "            <td>294</td>\n",
       "            <td>62</td>\n",
       "            <td>Penrose Diner</td>\n",
       "        </tr>\n",
       "        <tr>\n",
       "            <td>q-1ICFSqs2MwDGfe5tX-SQ</td>\n",
       "            <td>288</td>\n",
       "            <td>37</td>\n",
       "            <td>Yellow Belly</td>\n",
       "        </tr>\n",
       "    </tbody>\n",
       "</table>"
      ],
      "text/plain": [
       "+------------------------+------------------+------------------+-----------------------------------+\n",
       "|      business_id       | positive_reviews | negative_reviews |                name               |\n",
       "+------------------------+------------------+------------------+-----------------------------------+\n",
       "| kZ1q0K13tFYG_ZJrVvsJHA |       1629       |       227        |               Sampan              |\n",
       "| L-VNs3YquPGKVsXl2Ze-Yg |       652        |        91        |    Peacemaker Lobster and Crab    |\n",
       "| yb2vAoH3E-R11yWmnT570w |       596        |       204        |              Taco Bus             |\n",
       "| wVrJOXjRrPKIfZbNnrl3ow |       571        |        65        |          Pizza Delicious          |\n",
       "| BuQGsltd3B4L_HRCP2jpTQ |       548        |       102        |     Joey K's Restaurant & Bar     |\n",
       "| 9zlIJ7Q5W4AENjpGgaNSsQ |       506        |        92        |       Rocco's Little Chicago      |\n",
       "| xNd_x23g7wiGAjmm5HXfPA |       428        |        54        |            Poco & Mom's           |\n",
       "| O_l8AIlR2RJvNPq4CDMbtQ |       348        |        50        | Bourbon Street Blues & Boogie Bar |\n",
       "| nF5QByCz21MY0KLtSoB5KA |       294        |        62        |           Penrose Diner           |\n",
       "| q-1ICFSqs2MwDGfe5tX-SQ |       288        |        37        |            Yellow Belly           |\n",
       "+------------------------+------------------+------------------+-----------------------------------+"
      ]
     },
     "execution_count": 36,
     "metadata": {},
     "output_type": "execute_result"
    }
   ],
   "source": [
    "%%sql\n",
    "WITH love_critized AS (\n",
    "SELECT \n",
    "    business_id, \n",
    "    SUM(CASE WHEN stars >= 4 THEN 1 ELSE 0 END) AS positive_reviews,\n",
    "    SUM(CASE WHEN stars <= 2 THEN 1 ELSE 0 END) AS negative_reviews\n",
    "FROM review\n",
    "GROUP BY business_id\n",
    ")\n",
    "\n",
    "SELECT lc.*, name\n",
    "FROM love_critized lc\n",
    "JOIN business b\n",
    "ON lc.business_id = b.business_id\n",
    "ORDER BY positive_reviews DESC \n",
    "LIMIT 10;"
   ]
  },
  {
   "cell_type": "markdown",
   "metadata": {},
   "source": []
  },
  {
   "cell_type": "markdown",
   "metadata": {},
   "source": [
    "### Impact of review length on ratings\n",
    "Do longer reviews tend to be more positive or negative?"
   ]
  },
  {
   "cell_type": "code",
   "execution_count": 37,
   "metadata": {},
   "outputs": [
    {
     "data": {
      "text/html": [
       "<span style=\"None\">Running query in &#x27;postgresql://michellelin@localhost:5432/yelp&#x27;</span>"
      ],
      "text/plain": [
       "Running query in 'postgresql://michellelin@localhost:5432/yelp'"
      ]
     },
     "metadata": {},
     "output_type": "display_data"
    },
    {
     "data": {
      "text/html": [
       "<span style=\"color: green\">5 rows affected.</span>"
      ],
      "text/plain": [
       "5 rows affected."
      ]
     },
     "metadata": {},
     "output_type": "display_data"
    },
    {
     "data": {
      "text/html": [
       "<table>\n",
       "    <thead>\n",
       "        <tr>\n",
       "            <th>stars</th>\n",
       "            <th>avg_review_length</th>\n",
       "        </tr>\n",
       "    </thead>\n",
       "    <tbody>\n",
       "        <tr>\n",
       "            <td>5</td>\n",
       "            <td>474.2123287671232877</td>\n",
       "        </tr>\n",
       "        <tr>\n",
       "            <td>4</td>\n",
       "            <td>585.3131313131313131</td>\n",
       "        </tr>\n",
       "        <tr>\n",
       "            <td>3</td>\n",
       "            <td>679.1481733605627411</td>\n",
       "        </tr>\n",
       "        <tr>\n",
       "            <td>2</td>\n",
       "            <td>718.6142738128297695</td>\n",
       "        </tr>\n",
       "        <tr>\n",
       "            <td>1</td>\n",
       "            <td>716.2167942962767362</td>\n",
       "        </tr>\n",
       "    </tbody>\n",
       "</table>"
      ],
      "text/plain": [
       "+-------+----------------------+\n",
       "| stars |  avg_review_length   |\n",
       "+-------+----------------------+\n",
       "|   5   | 474.2123287671232877 |\n",
       "|   4   | 585.3131313131313131 |\n",
       "|   3   | 679.1481733605627411 |\n",
       "|   2   | 718.6142738128297695 |\n",
       "|   1   | 716.2167942962767362 |\n",
       "+-------+----------------------+"
      ]
     },
     "execution_count": 37,
     "metadata": {},
     "output_type": "execute_result"
    }
   ],
   "source": [
    "%%sql\n",
    "SELECT \n",
    "    stars,\n",
    "    AVG(LENGTH(text)) AS avg_review_length\n",
    "FROM review\n",
    "GROUP BY stars\n",
    "ORDER BY stars DESC;\n"
   ]
  },
  {
   "cell_type": "code",
   "execution_count": null,
   "metadata": {},
   "outputs": [],
   "source": []
  }
 ],
 "metadata": {
  "kernelspec": {
   "display_name": "base",
   "language": "python",
   "name": "python3"
  },
  "language_info": {
   "codemirror_mode": {
    "name": "ipython",
    "version": 3
   },
   "file_extension": ".py",
   "mimetype": "text/x-python",
   "name": "python",
   "nbconvert_exporter": "python",
   "pygments_lexer": "ipython3",
   "version": "3.9.12"
  }
 },
 "nbformat": 4,
 "nbformat_minor": 2
}
